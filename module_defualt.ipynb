{
 "cells": [
  {
   "cell_type": "code",
   "execution_count": 2,
   "metadata": {},
   "outputs": [],
   "source": [
    "import os\n",
    "import pandas as pd\n",
    "import numpy as np"
   ]
  },
  {
   "cell_type": "code",
   "execution_count": 4,
   "metadata": {},
   "outputs": [
    {
     "data": {
      "text/plain": "['seaborn_viz.ipynb', '.ipynb_checkpoints', 'tytorial.ipynb', '.vscode']"
     },
     "execution_count": 4,
     "metadata": {},
     "output_type": "execute_result"
    }
   ],
   "source": [
    "# import와 from의 차이\n",
    "\n",
    "# import os : os의 모듈을 불러오는것\n",
    "# from os import * : os모듈로부터 모두 import하는 것\n",
    "\n",
    "# 모듈이란 .py인 파이썬 스크립트 파일을 의미하며, 모듈이 모여서 패키지가 됨.\n",
    "\n",
    "# import만 사용하면 모듈안의 함수를 사용할 때, 모듈명.함수()로 사용하고, from을 사용하면 바로 함수명()을 사용할 수 있음.\n",
    "# 즉, import는 파이썬 파일자체를 들고오기 때문에 이후 코딩할때 모듈명과 함수를 같이 써줘야 함.\n",
    "# 반면에 from은 파이썬파일 내 특정 함수를 import로 들고오기 때문에 이후 코딩 시 함수명으로 사용 가능. "
   ]
  },
  {
   "cell_type": "code",
   "execution_count": 10,
   "metadata": {},
   "outputs": [
    {
     "data": {
      "text/plain": "['seaborn_viz.ipynb', '.ipynb_checkpoints', 'tytorial.ipynb', '.vscode']"
     },
     "execution_count": 10,
     "metadata": {},
     "output_type": "execute_result"
    }
   ],
   "source": [
    "import os \n",
    "os.listdir()"
   ]
  },
  {
   "cell_type": "code",
   "execution_count": 9,
   "metadata": {},
   "outputs": [
    {
     "data": {
      "text/plain": "['seaborn_viz.ipynb', '.ipynb_checkpoints', 'tytorial.ipynb', '.vscode']"
     },
     "execution_count": 9,
     "metadata": {},
     "output_type": "execute_result"
    }
   ],
   "source": [
    "from os import *\n",
    "listdir()"
   ]
  },
  {
   "cell_type": "code",
   "execution_count": 11,
   "metadata": {},
   "outputs": [
    {
     "data": {
      "text/plain": "['seaborn_viz.ipynb', '.ipynb_checkpoints', 'tytorial.ipynb', '.vscode']"
     },
     "execution_count": 11,
     "metadata": {},
     "output_type": "execute_result"
    }
   ],
   "source": [
    "from os import listdir\n",
    "listdir()"
   ]
  },
  {
   "cell_type": "code",
   "execution_count": 13,
   "metadata": {},
   "outputs": [
    {
     "data": {
      "text/plain": "['calibration',\n 'cluster',\n 'covariance',\n 'cross_decomposition',\n 'datasets',\n 'decomposition',\n 'dummy',\n 'ensemble',\n 'exceptions',\n 'experimental',\n 'externals',\n 'feature_extraction',\n 'feature_selection',\n 'gaussian_process',\n 'inspection',\n 'isotonic',\n 'kernel_approximation',\n 'kernel_ridge',\n 'linear_model',\n 'manifold',\n 'metrics',\n 'mixture',\n 'model_selection',\n 'multiclass',\n 'multioutput',\n 'naive_bayes',\n 'neighbors',\n 'neural_network',\n 'pipeline',\n 'preprocessing',\n 'random_projection',\n 'semi_supervised',\n 'svm',\n 'tree',\n 'discriminant_analysis',\n 'impute',\n 'compose',\n 'clone',\n 'get_config',\n 'set_config',\n 'config_context',\n 'show_versions']"
     },
     "execution_count": 13,
     "metadata": {},
     "output_type": "execute_result"
    }
   ],
   "source": [
    "# 모듈리스트 확인\n",
    "import sklearn\n",
    "sklearn.__all__"
   ]
  },
  {
   "cell_type": "code",
   "execution_count": null,
   "metadata": {},
   "outputs": [],
   "source": []
  }
 ],
 "metadata": {
  "kernelspec": {
   "display_name": "Python 3 (ipykernel)",
   "name": "python3"
  },
  "language_info": {
   "codemirror_mode": {
    "name": "ipython",
    "version": 3
   },
   "file_extension": ".py",
   "mimetype": "text/x-python",
   "name": "python",
   "nbconvert_exporter": "python",
   "pygments_lexer": "ipython3",
   "version": "3.8.12"
  },
  "orig_nbformat": 2
 },
 "nbformat": 4,
 "nbformat_minor": 2
}