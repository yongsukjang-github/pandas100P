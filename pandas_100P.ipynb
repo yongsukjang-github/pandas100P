{
 "cells": [
  {
   "cell_type": "code",
   "execution_count": 9,
   "metadata": {},
   "outputs": [],
   "source": [
    "import pandas as pd\n",
    "import numpy as np"
   ]
  },
  {
   "cell_type": "code",
   "execution_count": 2,
   "metadata": {},
   "outputs": [],
   "source": [
    "# Q1. 데이터를 로드하라. 데이터는 \\t을 기준으로 구분되어있다.\n",
    "DataUrl = 'https://raw.githubusercontent.com/Datamanim/pandas/main/lol.csv'\n",
    "df = pd.read_csv(DataUrl,sep='\\t')"
   ]
  },
  {
   "cell_type": "code",
   "execution_count": 4,
   "metadata": {},
   "outputs": [
    {
     "data": {
      "text/plain": "pandas.core.frame.DataFrame"
     },
     "execution_count": 4,
     "metadata": {},
     "output_type": "execute_result"
    }
   ],
   "source": [
    "type(df)"
   ]
  },
  {
   "cell_type": "code",
   "execution_count": 5,
   "metadata": {},
   "outputs": [
    {
     "data": {
      "text/html": "<div>\n<style scoped>\n    .dataframe tbody tr th:only-of-type {\n        vertical-align: middle;\n    }\n\n    .dataframe tbody tr th {\n        vertical-align: top;\n    }\n\n    .dataframe thead th {\n        text-align: right;\n    }\n</style>\n<table border=\"1\" class=\"dataframe\">\n  <thead>\n    <tr style=\"text-align: right;\">\n      <th></th>\n      <th>gameId</th>\n      <th>creationTime</th>\n      <th>gameDuration</th>\n      <th>seasonId</th>\n      <th>winner</th>\n      <th>firstBlood</th>\n      <th>firstTower</th>\n      <th>firstInhibitor</th>\n      <th>firstBaron</th>\n      <th>firstDragon</th>\n      <th>...</th>\n      <th>t2_towerKills</th>\n      <th>t2_inhibitorKills</th>\n      <th>t2_baronKills</th>\n      <th>t2_dragonKills</th>\n      <th>t2_riftHeraldKills</th>\n      <th>t2_ban1</th>\n      <th>t2_ban2</th>\n      <th>t2_ban3</th>\n      <th>t2_ban4</th>\n      <th>t2_ban5</th>\n    </tr>\n  </thead>\n  <tbody>\n    <tr>\n      <th>0</th>\n      <td>3326086514</td>\n      <td>1504279457970</td>\n      <td>1949</td>\n      <td>9</td>\n      <td>1</td>\n      <td>2</td>\n      <td>1</td>\n      <td>1</td>\n      <td>1</td>\n      <td>1</td>\n      <td>...</td>\n      <td>5</td>\n      <td>0</td>\n      <td>0</td>\n      <td>1</td>\n      <td>1</td>\n      <td>114</td>\n      <td>67</td>\n      <td>43</td>\n      <td>16</td>\n      <td>51</td>\n    </tr>\n    <tr>\n      <th>1</th>\n      <td>3229566029</td>\n      <td>1497848803862</td>\n      <td>1851</td>\n      <td>9</td>\n      <td>1</td>\n      <td>1</td>\n      <td>1</td>\n      <td>1</td>\n      <td>0</td>\n      <td>1</td>\n      <td>...</td>\n      <td>2</td>\n      <td>0</td>\n      <td>0</td>\n      <td>0</td>\n      <td>0</td>\n      <td>11</td>\n      <td>67</td>\n      <td>238</td>\n      <td>51</td>\n      <td>420</td>\n    </tr>\n    <tr>\n      <th>2</th>\n      <td>3327363504</td>\n      <td>1504360103310</td>\n      <td>1493</td>\n      <td>9</td>\n      <td>1</td>\n      <td>2</td>\n      <td>1</td>\n      <td>1</td>\n      <td>1</td>\n      <td>2</td>\n      <td>...</td>\n      <td>2</td>\n      <td>0</td>\n      <td>0</td>\n      <td>1</td>\n      <td>0</td>\n      <td>157</td>\n      <td>238</td>\n      <td>121</td>\n      <td>57</td>\n      <td>28</td>\n    </tr>\n    <tr>\n      <th>3</th>\n      <td>3326856598</td>\n      <td>1504348503996</td>\n      <td>1758</td>\n      <td>9</td>\n      <td>1</td>\n      <td>1</td>\n      <td>1</td>\n      <td>1</td>\n      <td>1</td>\n      <td>1</td>\n      <td>...</td>\n      <td>0</td>\n      <td>0</td>\n      <td>0</td>\n      <td>0</td>\n      <td>0</td>\n      <td>164</td>\n      <td>18</td>\n      <td>141</td>\n      <td>40</td>\n      <td>51</td>\n    </tr>\n    <tr>\n      <th>4</th>\n      <td>3330080762</td>\n      <td>1504554410899</td>\n      <td>2094</td>\n      <td>9</td>\n      <td>1</td>\n      <td>2</td>\n      <td>1</td>\n      <td>1</td>\n      <td>1</td>\n      <td>1</td>\n      <td>...</td>\n      <td>3</td>\n      <td>0</td>\n      <td>0</td>\n      <td>1</td>\n      <td>0</td>\n      <td>86</td>\n      <td>11</td>\n      <td>201</td>\n      <td>122</td>\n      <td>18</td>\n    </tr>\n  </tbody>\n</table>\n<p>5 rows × 61 columns</p>\n</div>",
      "text/plain": "       gameId   creationTime  gameDuration  seasonId  winner  firstBlood  \\\n0  3326086514  1504279457970          1949         9       1           2   \n1  3229566029  1497848803862          1851         9       1           1   \n2  3327363504  1504360103310          1493         9       1           2   \n3  3326856598  1504348503996          1758         9       1           1   \n4  3330080762  1504554410899          2094         9       1           2   \n\n   firstTower  firstInhibitor  firstBaron  firstDragon  ...  t2_towerKills  \\\n0           1               1           1            1  ...              5   \n1           1               1           0            1  ...              2   \n2           1               1           1            2  ...              2   \n3           1               1           1            1  ...              0   \n4           1               1           1            1  ...              3   \n\n   t2_inhibitorKills  t2_baronKills  t2_dragonKills  t2_riftHeraldKills  \\\n0                  0              0               1                   1   \n1                  0              0               0                   0   \n2                  0              0               1                   0   \n3                  0              0               0                   0   \n4                  0              0               1                   0   \n\n   t2_ban1  t2_ban2  t2_ban3  t2_ban4  t2_ban5  \n0      114       67       43       16       51  \n1       11       67      238       51      420  \n2      157      238      121       57       28  \n3      164       18      141       40       51  \n4       86       11      201      122       18  \n\n[5 rows x 61 columns]"
     },
     "execution_count": 5,
     "metadata": {},
     "output_type": "execute_result"
    }
   ],
   "source": [
    "# Q2. 데이터의 상위 5개 행을 출력하라\n",
    "df.head()"
   ]
  },
  {
   "cell_type": "code",
   "execution_count": 18,
   "metadata": {},
   "outputs": [
    {
     "name": "stdout",
     "output_type": "stream",
     "text": [
      "행 :  51490\n",
      "열 :  61\n"
     ]
    }
   ],
   "source": [
    "# Q3. 데이터의 행과 열의 갯수를 파악하라\n",
    "print('행 : ',df.shape[0])\n",
    "print('열 : ',df.shape[1])"
   ]
  },
  {
   "cell_type": "code",
   "execution_count": 20,
   "metadata": {},
   "outputs": [
    {
     "name": "stdout",
     "output_type": "stream",
     "text": [
      "Index(['gameId', 'creationTime', 'gameDuration', 'seasonId', 'winner',\n",
      "       'firstBlood', 'firstTower', 'firstInhibitor', 'firstBaron',\n",
      "       'firstDragon', 'firstRiftHerald', 't1_champ1id', 't1_champ1_sum1',\n",
      "       't1_champ1_sum2', 't1_champ2id', 't1_champ2_sum1', 't1_champ2_sum2',\n",
      "       't1_champ3id', 't1_champ3_sum1', 't1_champ3_sum2', 't1_champ4id',\n",
      "       't1_champ4_sum1', 't1_champ4_sum2', 't1_champ5id', 't1_champ5_sum1',\n",
      "       't1_champ5_sum2', 't1_towerKills', 't1_inhibitorKills', 't1_baronKills',\n",
      "       't1_dragonKills', 't1_riftHeraldKills', 't1_ban1', 't1_ban2', 't1_ban3',\n",
      "       't1_ban4', 't1_ban5', 't2_champ1id', 't2_champ1_sum1', 't2_champ1_sum2',\n",
      "       't2_champ2id', 't2_champ2_sum1', 't2_champ2_sum2', 't2_champ3id',\n",
      "       't2_champ3_sum1', 't2_champ3_sum2', 't2_champ4id', 't2_champ4_sum1',\n",
      "       't2_champ4_sum2', 't2_champ5id', 't2_champ5_sum1', 't2_champ5_sum2',\n",
      "       't2_towerKills', 't2_inhibitorKills', 't2_baronKills', 't2_dragonKills',\n",
      "       't2_riftHeraldKills', 't2_ban1', 't2_ban2', 't2_ban3', 't2_ban4',\n",
      "       't2_ban5'],\n",
      "      dtype='object')\n"
     ]
    }
   ],
   "source": [
    "# Q4. 전체 컬럼을 출력하라\n",
    "print(df.columns)"
   ]
  },
  {
   "cell_type": "code",
   "execution_count": 21,
   "metadata": {},
   "outputs": [
    {
     "name": "stdout",
     "output_type": "stream",
     "text": [
      "firstBlood\n"
     ]
    }
   ],
   "source": [
    "# Q5. 6번째 컬럼명을 출력하라\n",
    "print(df.columns[5])"
   ]
  },
  {
   "cell_type": "code",
   "execution_count": 29,
   "metadata": {},
   "outputs": [
    {
     "data": {
      "text/plain": "dtype('int64')"
     },
     "execution_count": 29,
     "metadata": {},
     "output_type": "execute_result"
    }
   ],
   "source": [
    "# Q6. 6번째 컬럼의 데이터 타입을 확인하라\n",
    "df.iloc[:,5].dtype"
   ]
  },
  {
   "cell_type": "code",
   "execution_count": 30,
   "metadata": {},
   "outputs": [
    {
     "data": {
      "text/plain": "RangeIndex(start=0, stop=51490, step=1)"
     },
     "execution_count": 30,
     "metadata": {},
     "output_type": "execute_result"
    }
   ],
   "source": [
    "# Q7. 데이터셋의 인덱스 구성은 어떤가\n",
    "df.index"
   ]
  },
  {
   "cell_type": "code",
   "execution_count": 33,
   "metadata": {},
   "outputs": [
    {
     "data": {
      "text/plain": "2"
     },
     "execution_count": 33,
     "metadata": {},
     "output_type": "execute_result"
    }
   ],
   "source": [
    "# Q8. 6번째 컬럼의 3번째 값은 무엇인가?\n",
    "df.iloc[2,5]"
   ]
  },
  {
   "cell_type": "code",
   "execution_count": 34,
   "metadata": {},
   "outputs": [],
   "source": [
    "# Q9. 데이터를 로드하라. 컬럼이 한글이기에 적절한 처리해줘야함\n",
    "# 제주 날씨,인구에 따른 교통량데이터 \n",
    "DataUrl = 'https://raw.githubusercontent.com/Datamanim/pandas/main/Jeju.csv'\n",
    "df = pd.read_csv(DataUrl,encoding='euc-kr')"
   ]
  },
  {
   "cell_type": "code",
   "execution_count": 36,
   "metadata": {},
   "outputs": [
    {
     "data": {
      "text/html": "<div>\n<style scoped>\n    .dataframe tbody tr th:only-of-type {\n        vertical-align: middle;\n    }\n\n    .dataframe tbody tr th {\n        vertical-align: top;\n    }\n\n    .dataframe thead th {\n        text-align: right;\n    }\n</style>\n<table border=\"1\" class=\"dataframe\">\n  <thead>\n    <tr style=\"text-align: right;\">\n      <th></th>\n      <th>id</th>\n      <th>일자</th>\n      <th>시도명</th>\n      <th>읍면동명</th>\n      <th>거주인구</th>\n      <th>근무인구</th>\n      <th>방문인구</th>\n      <th>총 유동인구</th>\n      <th>평균 속도</th>\n      <th>평균 소요 시간</th>\n      <th>평균 기온</th>\n      <th>일강수량</th>\n      <th>평균 풍속</th>\n    </tr>\n  </thead>\n  <tbody>\n    <tr>\n      <th>9618</th>\n      <td>32066</td>\n      <td>2020-04-30</td>\n      <td>제주시</td>\n      <td>도두동</td>\n      <td>28397.481</td>\n      <td>3144.895</td>\n      <td>84052.697</td>\n      <td>115595.073</td>\n      <td>41.053</td>\n      <td>29.421</td>\n      <td>20.3</td>\n      <td>0.0</td>\n      <td>3.0</td>\n    </tr>\n    <tr>\n      <th>9619</th>\n      <td>32067</td>\n      <td>2020-04-30</td>\n      <td>서귀포시</td>\n      <td>안덕면</td>\n      <td>348037.846</td>\n      <td>29106.286</td>\n      <td>251129.660</td>\n      <td>628273.792</td>\n      <td>46.595</td>\n      <td>49.189</td>\n      <td>17.6</td>\n      <td>0.0</td>\n      <td>3.5</td>\n    </tr>\n    <tr>\n      <th>9620</th>\n      <td>32068</td>\n      <td>2020-04-30</td>\n      <td>제주시</td>\n      <td>연동</td>\n      <td>1010643.372</td>\n      <td>65673.477</td>\n      <td>447622.068</td>\n      <td>1523938.917</td>\n      <td>40.863</td>\n      <td>27.765</td>\n      <td>14.1</td>\n      <td>0.0</td>\n      <td>4.8</td>\n    </tr>\n  </tbody>\n</table>\n</div>",
      "text/plain": "         id          일자   시도명 읍면동명         거주인구       근무인구        방문인구  \\\n9618  32066  2020-04-30   제주시  도두동    28397.481   3144.895   84052.697   \n9619  32067  2020-04-30  서귀포시  안덕면   348037.846  29106.286  251129.660   \n9620  32068  2020-04-30   제주시   연동  1010643.372  65673.477  447622.068   \n\n           총 유동인구   평균 속도  평균 소요 시간  평균 기온  일강수량  평균 풍속  \n9618   115595.073  41.053    29.421   20.3   0.0    3.0  \n9619   628273.792  46.595    49.189   17.6   0.0    3.5  \n9620  1523938.917  40.863    27.765   14.1   0.0    4.8  "
     },
     "execution_count": 36,
     "metadata": {},
     "output_type": "execute_result"
    }
   ],
   "source": [
    "# Q10. 데이터 마지막 3개행을 출력하라\n",
    "df.tail(3)"
   ]
  },
  {
   "cell_type": "code",
   "execution_count": 45,
   "metadata": {},
   "outputs": [
    {
     "data": {
      "text/plain": "Index(['id', '거주인구', '근무인구', '방문인구', '총 유동인구', '평균 속도', '평균 소요 시간', '평균 기온',\n       '일강수량', '평균 풍속'],\n      dtype='object')"
     },
     "execution_count": 45,
     "metadata": {},
     "output_type": "execute_result"
    }
   ],
   "source": [
    "# Q11. 수치형 변수를 가진 컬럼을 출력하라\n",
    "# 특정 데이터 타입 추출 : select_dtypes\n",
    "# argument에서 include/exclude 선택 가능\n",
    "df.select_dtypes(exclude=object).columns"
   ]
  },
  {
   "cell_type": "code",
   "execution_count": 43,
   "metadata": {},
   "outputs": [
    {
     "data": {
      "text/plain": "Index(['id', '거주인구', '근무인구', '방문인구', '총 유동인구', '평균 속도', '평균 소요 시간', '평균 기온',\n       '일강수량', '평균 풍속'],\n      dtype='object')"
     },
     "execution_count": 43,
     "metadata": {},
     "output_type": "execute_result"
    }
   ],
   "source": [
    "# Q12. 범주형 변수를 가진 컬럼을 출력하라\n",
    "df.select_dtypes(include=object).columns"
   ]
  },
  {
   "cell_type": "code",
   "execution_count": 48,
   "metadata": {},
   "outputs": [
    {
     "data": {
      "text/plain": "id          0\n일자          0\n시도명         0\n읍면동명        0\n거주인구        0\n근무인구        0\n방문인구        0\n총 유동인구      0\n평균 속도       0\n평균 소요 시간    0\n평균 기온       0\n일강수량        0\n평균 풍속       0\ndtype: int64"
     },
     "execution_count": 48,
     "metadata": {},
     "output_type": "execute_result"
    }
   ],
   "source": [
    "# 각 컬럼의 결측치 숫자를 파악하라\n",
    "df.isnull().sum()"
   ]
  },
  {
   "cell_type": "code",
   "execution_count": 53,
   "metadata": {},
   "outputs": [
    {
     "name": "stdout",
     "output_type": "stream",
     "text": [
      "<class 'pandas.core.frame.DataFrame'>\n",
      "RangeIndex: 9621 entries, 0 to 9620\n",
      "Data columns (total 13 columns):\n",
      " #   Column    Non-Null Count  Dtype  \n",
      "---  ------    --------------  -----  \n",
      " 0   id        9621 non-null   int64  \n",
      " 1   일자        9621 non-null   object \n",
      " 2   시도명       9621 non-null   object \n",
      " 3   읍면동명      9621 non-null   object \n",
      " 4   거주인구      9621 non-null   float64\n",
      " 5   근무인구      9621 non-null   float64\n",
      " 6   방문인구      9621 non-null   float64\n",
      " 7   총 유동인구    9621 non-null   float64\n",
      " 8   평균 속도     9621 non-null   float64\n",
      " 9   평균 소요 시간  9621 non-null   float64\n",
      " 10  평균 기온     9621 non-null   float64\n",
      " 11  일강수량      9621 non-null   float64\n",
      " 12  평균 풍속     9621 non-null   float64\n",
      "dtypes: float64(9), int64(1), object(3)\n",
      "memory usage: 977.3+ KB\n"
     ]
    }
   ],
   "source": [
    "# 각 컬럼의 데이터수, 데이터타입을 한번에 확인하라\n",
    "# info함수는 데이터의 컬럼명, 데이터 수, 결측치, 타입등을 한번에 확인할 수 있음. R의 str과 같은 함수\n",
    "df.info()"
   ]
  },
  {
   "cell_type": "code",
   "execution_count": 55,
   "metadata": {},
   "outputs": [
    {
     "data": {
      "text/html": "<div>\n<style scoped>\n    .dataframe tbody tr th:only-of-type {\n        vertical-align: middle;\n    }\n\n    .dataframe tbody tr th {\n        vertical-align: top;\n    }\n\n    .dataframe thead th {\n        text-align: right;\n    }\n</style>\n<table border=\"1\" class=\"dataframe\">\n  <thead>\n    <tr style=\"text-align: right;\">\n      <th></th>\n      <th>id</th>\n      <th>거주인구</th>\n      <th>근무인구</th>\n      <th>방문인구</th>\n      <th>총 유동인구</th>\n      <th>평균 속도</th>\n      <th>평균 소요 시간</th>\n      <th>평균 기온</th>\n      <th>일강수량</th>\n      <th>평균 풍속</th>\n    </tr>\n  </thead>\n  <tbody>\n    <tr>\n      <th>count</th>\n      <td>9621.000000</td>\n      <td>9.621000e+03</td>\n      <td>9621.000000</td>\n      <td>9621.000000</td>\n      <td>9.621000e+03</td>\n      <td>9621.000000</td>\n      <td>9621.000000</td>\n      <td>9621.000000</td>\n      <td>9621.000000</td>\n      <td>9621.000000</td>\n    </tr>\n    <tr>\n      <th>mean</th>\n      <td>27258.000000</td>\n      <td>3.174315e+05</td>\n      <td>35471.201510</td>\n      <td>195889.561802</td>\n      <td>5.487922e+05</td>\n      <td>41.109084</td>\n      <td>37.215873</td>\n      <td>13.550828</td>\n      <td>6.972426</td>\n      <td>2.753171</td>\n    </tr>\n    <tr>\n      <th>std</th>\n      <td>2777.487804</td>\n      <td>2.982079e+05</td>\n      <td>40381.214775</td>\n      <td>140706.090325</td>\n      <td>4.608802e+05</td>\n      <td>8.758631</td>\n      <td>12.993786</td>\n      <td>7.745515</td>\n      <td>27.617260</td>\n      <td>1.498538</td>\n    </tr>\n    <tr>\n      <th>min</th>\n      <td>22448.000000</td>\n      <td>9.305552e+03</td>\n      <td>1407.936000</td>\n      <td>11538.322000</td>\n      <td>2.225181e+04</td>\n      <td>24.333000</td>\n      <td>12.667000</td>\n      <td>-9.600000</td>\n      <td>0.000000</td>\n      <td>0.000000</td>\n    </tr>\n    <tr>\n      <th>25%</th>\n      <td>24853.000000</td>\n      <td>9.539939e+04</td>\n      <td>12074.498000</td>\n      <td>99632.153000</td>\n      <td>2.216910e+05</td>\n      <td>34.250000</td>\n      <td>27.889000</td>\n      <td>7.600000</td>\n      <td>0.000000</td>\n      <td>1.700000</td>\n    </tr>\n    <tr>\n      <th>50%</th>\n      <td>27258.000000</td>\n      <td>2.221105e+05</td>\n      <td>21960.928000</td>\n      <td>152805.335000</td>\n      <td>3.866935e+05</td>\n      <td>39.640000</td>\n      <td>34.500000</td>\n      <td>13.400000</td>\n      <td>0.000000</td>\n      <td>2.400000</td>\n    </tr>\n    <tr>\n      <th>75%</th>\n      <td>29663.000000</td>\n      <td>4.106671e+05</td>\n      <td>40192.032000</td>\n      <td>236325.109000</td>\n      <td>6.406918e+05</td>\n      <td>49.105000</td>\n      <td>46.176000</td>\n      <td>19.700000</td>\n      <td>1.500000</td>\n      <td>3.400000</td>\n    </tr>\n    <tr>\n      <th>max</th>\n      <td>32068.000000</td>\n      <td>1.364504e+06</td>\n      <td>263476.965000</td>\n      <td>723459.209000</td>\n      <td>2.066484e+06</td>\n      <td>103.000000</td>\n      <td>172.200000</td>\n      <td>30.400000</td>\n      <td>587.500000</td>\n      <td>13.333000</td>\n    </tr>\n  </tbody>\n</table>\n</div>",
      "text/plain": "                 id          거주인구           근무인구           방문인구        총 유동인구  \\\ncount   9621.000000  9.621000e+03    9621.000000    9621.000000  9.621000e+03   \nmean   27258.000000  3.174315e+05   35471.201510  195889.561802  5.487922e+05   \nstd     2777.487804  2.982079e+05   40381.214775  140706.090325  4.608802e+05   \nmin    22448.000000  9.305552e+03    1407.936000   11538.322000  2.225181e+04   \n25%    24853.000000  9.539939e+04   12074.498000   99632.153000  2.216910e+05   \n50%    27258.000000  2.221105e+05   21960.928000  152805.335000  3.866935e+05   \n75%    29663.000000  4.106671e+05   40192.032000  236325.109000  6.406918e+05   \nmax    32068.000000  1.364504e+06  263476.965000  723459.209000  2.066484e+06   \n\n             평균 속도     평균 소요 시간        평균 기온         일강수량        평균 풍속  \ncount  9621.000000  9621.000000  9621.000000  9621.000000  9621.000000  \nmean     41.109084    37.215873    13.550828     6.972426     2.753171  \nstd       8.758631    12.993786     7.745515    27.617260     1.498538  \nmin      24.333000    12.667000    -9.600000     0.000000     0.000000  \n25%      34.250000    27.889000     7.600000     0.000000     1.700000  \n50%      39.640000    34.500000    13.400000     0.000000     2.400000  \n75%      49.105000    46.176000    19.700000     1.500000     3.400000  \nmax     103.000000   172.200000    30.400000   587.500000    13.333000  "
     },
     "execution_count": 55,
     "metadata": {},
     "output_type": "execute_result"
    }
   ],
   "source": [
    "# 각 수치형 변수의 분포(사분위, 평균, 표준편차, 최대 , 최소)를 확인하라\n",
    "# describe함수는 각 컬럼의 분포를 확인할 수 있음. R의 summary 함수와 같음.\n",
    "df.describe()"
   ]
  },
  {
   "cell_type": "code",
   "execution_count": 56,
   "metadata": {},
   "outputs": [
    {
     "data": {
      "text/plain": "0         32249.987\n1        213500.997\n2       1212382.218\n3         33991.653\n4        155036.925\n           ...     \n9616     228260.005\n9617     459959.064\n9618      28397.481\n9619     348037.846\n9620    1010643.372\nName: 거주인구, Length: 9621, dtype: float64"
     },
     "execution_count": 56,
     "metadata": {},
     "output_type": "execute_result"
    }
   ],
   "source": [
    "# 거주인구 컬럼의 값들을 출력하라\n",
    "df['거주인구']"
   ]
  },
  {
   "cell_type": "code",
   "execution_count": 63,
   "metadata": {},
   "outputs": [
    {
     "data": {
      "text/plain": "14.854999999999997"
     },
     "execution_count": 63,
     "metadata": {},
     "output_type": "execute_result"
    }
   ],
   "source": [
    "# 평균 속도 컬럼의 4분위 범위(IQR) 값을 구하여라\n",
    "df['평균 속도'].quantile(q=0.75) - df['평균 속도'].quantile(q=0.25)"
   ]
  },
  {
   "cell_type": "code",
   "execution_count": 67,
   "metadata": {},
   "outputs": [
    {
     "data": {
      "text/plain": "41"
     },
     "execution_count": 67,
     "metadata": {},
     "output_type": "execute_result"
    }
   ],
   "source": [
    "# 읍면동명 컬럼의 유일값 갯수를 출력하라\n",
    "df['읍면동명'].nunique()"
   ]
  },
  {
   "cell_type": "code",
   "execution_count": 68,
   "metadata": {},
   "outputs": [
    {
     "data": {
      "text/plain": "array(['도두동', '외도동', '이도2동', '일도1동', '대천동', '서홍동', '한경면', '송산동', '조천읍',\n       '일도2동', '영천동', '예래동', '대륜동', '삼도1동', '이호동', '건입동', '중앙동', '삼양동',\n       '삼도2동', '이도1동', '남원읍', '대정읍', '정방동', '효돈동', '아라동', '한림읍', '구좌읍',\n       '용담1동', '오라동', '화북동', '연동', '표선면', '중문동', '성산읍', '안덕면', '천지동',\n       '노형동', '동홍동', '용담2동', '봉개동', '애월읍'], dtype=object)"
     },
     "execution_count": 68,
     "metadata": {},
     "output_type": "execute_result"
    }
   ],
   "source": [
    "# 읍면동명 컬럼의 유일값을 모두 출력하라\n",
    "df['읍면동명'].unique()"
   ]
  },
  {
   "cell_type": "code",
   "execution_count": 70,
   "metadata": {},
   "outputs": [],
   "source": [
    "DataUrl = 'https://raw.githubusercontent.com/Datamanim/pandas/main/chipo.csv'\n",
    "df = pd.read_csv(DataUrl)"
   ]
  },
  {
   "cell_type": "code",
   "execution_count": 76,
   "metadata": {},
   "outputs": [
    {
     "data": {
      "text/html": "<div>\n<style scoped>\n    .dataframe tbody tr th:only-of-type {\n        vertical-align: middle;\n    }\n\n    .dataframe tbody tr th {\n        vertical-align: top;\n    }\n\n    .dataframe thead th {\n        text-align: right;\n    }\n</style>\n<table border=\"1\" class=\"dataframe\">\n  <thead>\n    <tr style=\"text-align: right;\">\n      <th></th>\n      <th>order_id</th>\n      <th>quantity</th>\n      <th>item_name</th>\n      <th>choice_description</th>\n      <th>item_price</th>\n    </tr>\n  </thead>\n  <tbody>\n    <tr>\n      <th>409</th>\n      <td>178</td>\n      <td>3</td>\n      <td>Chicken Bowl</td>\n      <td>[[Fresh Tomato Salsa (Mild), Tomatillo-Green C...</td>\n      <td>$32.94</td>\n    </tr>\n    <tr>\n      <th>445</th>\n      <td>193</td>\n      <td>3</td>\n      <td>Bowl</td>\n      <td>[Braised Carnitas, Pinto Beans, [Sour Cream, C...</td>\n      <td>$22.20</td>\n    </tr>\n    <tr>\n      <th>689</th>\n      <td>284</td>\n      <td>3</td>\n      <td>Canned Soft Drink</td>\n      <td>[Diet Coke]</td>\n      <td>$3.75</td>\n    </tr>\n    <tr>\n      <th>818</th>\n      <td>338</td>\n      <td>3</td>\n      <td>Bottled Water</td>\n      <td>NaN</td>\n      <td>$3.27</td>\n    </tr>\n    <tr>\n      <th>850</th>\n      <td>350</td>\n      <td>3</td>\n      <td>Canned Soft Drink</td>\n      <td>[Sprite]</td>\n      <td>$3.75</td>\n    </tr>\n  </tbody>\n</table>\n</div>",
      "text/plain": "     order_id  quantity          item_name  \\\n409       178         3       Chicken Bowl   \n445       193         3               Bowl   \n689       284         3  Canned Soft Drink   \n818       338         3      Bottled Water   \n850       350         3  Canned Soft Drink   \n\n                                    choice_description item_price  \n409  [[Fresh Tomato Salsa (Mild), Tomatillo-Green C...    $32.94   \n445  [Braised Carnitas, Pinto Beans, [Sour Cream, C...    $22.20   \n689                                        [Diet Coke]     $3.75   \n818                                                NaN     $3.27   \n850                                           [Sprite]     $3.75   "
     },
     "execution_count": 76,
     "metadata": {},
     "output_type": "execute_result"
    }
   ],
   "source": [
    "# quantity컬럼 값이 3인 데이터를 추출하여 첫 5행을 출력하라\n",
    "df.loc[df['quantity'] == 3,].head()"
   ]
  },
  {
   "cell_type": "code",
   "execution_count": 80,
   "metadata": {},
   "outputs": [
    {
     "data": {
      "text/html": "<div>\n<style scoped>\n    .dataframe tbody tr th:only-of-type {\n        vertical-align: middle;\n    }\n\n    .dataframe tbody tr th {\n        vertical-align: top;\n    }\n\n    .dataframe thead th {\n        text-align: right;\n    }\n</style>\n<table border=\"1\" class=\"dataframe\">\n  <thead>\n    <tr style=\"text-align: right;\">\n      <th></th>\n      <th>order_id</th>\n      <th>quantity</th>\n      <th>item_name</th>\n      <th>choice_description</th>\n      <th>item_price</th>\n    </tr>\n  </thead>\n  <tbody>\n    <tr>\n      <th>0</th>\n      <td>178</td>\n      <td>3</td>\n      <td>Chicken Bowl</td>\n      <td>[[Fresh Tomato Salsa (Mild), Tomatillo-Green C...</td>\n      <td>$32.94</td>\n    </tr>\n    <tr>\n      <th>1</th>\n      <td>193</td>\n      <td>3</td>\n      <td>Bowl</td>\n      <td>[Braised Carnitas, Pinto Beans, [Sour Cream, C...</td>\n      <td>$22.20</td>\n    </tr>\n    <tr>\n      <th>2</th>\n      <td>284</td>\n      <td>3</td>\n      <td>Canned Soft Drink</td>\n      <td>[Diet Coke]</td>\n      <td>$3.75</td>\n    </tr>\n    <tr>\n      <th>3</th>\n      <td>338</td>\n      <td>3</td>\n      <td>Bottled Water</td>\n      <td>NaN</td>\n      <td>$3.27</td>\n    </tr>\n    <tr>\n      <th>4</th>\n      <td>350</td>\n      <td>3</td>\n      <td>Canned Soft Drink</td>\n      <td>[Sprite]</td>\n      <td>$3.75</td>\n    </tr>\n  </tbody>\n</table>\n</div>",
      "text/plain": "   order_id  quantity          item_name  \\\n0       178         3       Chicken Bowl   \n1       193         3               Bowl   \n2       284         3  Canned Soft Drink   \n3       338         3      Bottled Water   \n4       350         3  Canned Soft Drink   \n\n                                  choice_description item_price  \n0  [[Fresh Tomato Salsa (Mild), Tomatillo-Green C...    $32.94   \n1  [Braised Carnitas, Pinto Beans, [Sour Cream, C...    $22.20   \n2                                        [Diet Coke]     $3.75   \n3                                                NaN     $3.27   \n4                                           [Sprite]     $3.75   "
     },
     "execution_count": 80,
     "metadata": {},
     "output_type": "execute_result"
    }
   ],
   "source": [
    "# quantity컬럼 값이 3인 데이터를 추출하여 index를 0부터 정렬하고 첫 5행을 출력하라\n",
    "df.loc[df['quantity'] == 3].reset_index(drop=True).head()"
   ]
  },
  {
   "cell_type": "code",
   "execution_count": 83,
   "metadata": {},
   "outputs": [
    {
     "data": {
      "text/html": "<div>\n<style scoped>\n    .dataframe tbody tr th:only-of-type {\n        vertical-align: middle;\n    }\n\n    .dataframe tbody tr th {\n        vertical-align: top;\n    }\n\n    .dataframe thead th {\n        text-align: right;\n    }\n</style>\n<table border=\"1\" class=\"dataframe\">\n  <thead>\n    <tr style=\"text-align: right;\">\n      <th></th>\n      <th>quantity</th>\n      <th>item_price</th>\n    </tr>\n  </thead>\n  <tbody>\n    <tr>\n      <th>0</th>\n      <td>1</td>\n      <td>$2.39</td>\n    </tr>\n    <tr>\n      <th>1</th>\n      <td>1</td>\n      <td>$3.39</td>\n    </tr>\n    <tr>\n      <th>2</th>\n      <td>1</td>\n      <td>$3.39</td>\n    </tr>\n    <tr>\n      <th>3</th>\n      <td>1</td>\n      <td>$2.39</td>\n    </tr>\n    <tr>\n      <th>4</th>\n      <td>2</td>\n      <td>$16.98</td>\n    </tr>\n  </tbody>\n</table>\n</div>",
      "text/plain": "   quantity item_price\n0         1     $2.39 \n1         1     $3.39 \n2         1     $3.39 \n3         1     $2.39 \n4         2    $16.98 "
     },
     "execution_count": 83,
     "metadata": {},
     "output_type": "execute_result"
    }
   ],
   "source": [
    "# quantity , item_price 두개의 컬럼으로 구성된 새로운 데이터 프레임을 정의하라\n",
    "df01 = df[['quantity','item_price']]\n",
    "df01.head()"
   ]
  },
  {
   "cell_type": "code",
   "execution_count": 90,
   "metadata": {},
   "outputs": [
    {
     "data": {
      "text/html": "<div>\n<style scoped>\n    .dataframe tbody tr th:only-of-type {\n        vertical-align: middle;\n    }\n\n    .dataframe tbody tr th {\n        vertical-align: top;\n    }\n\n    .dataframe thead th {\n        text-align: right;\n    }\n</style>\n<table border=\"1\" class=\"dataframe\">\n  <thead>\n    <tr style=\"text-align: right;\">\n      <th></th>\n      <th>order_id</th>\n      <th>quantity</th>\n      <th>item_name</th>\n      <th>choice_description</th>\n      <th>item_price</th>\n      <th>new_price</th>\n    </tr>\n  </thead>\n  <tbody>\n    <tr>\n      <th>0</th>\n      <td>1</td>\n      <td>1</td>\n      <td>Chips and Fresh Tomato Salsa</td>\n      <td>NaN</td>\n      <td>$2.39</td>\n      <td>2.39</td>\n    </tr>\n    <tr>\n      <th>1</th>\n      <td>1</td>\n      <td>1</td>\n      <td>Izze</td>\n      <td>[Clementine]</td>\n      <td>$3.39</td>\n      <td>3.39</td>\n    </tr>\n    <tr>\n      <th>2</th>\n      <td>1</td>\n      <td>1</td>\n      <td>Nantucket Nectar</td>\n      <td>[Apple]</td>\n      <td>$3.39</td>\n      <td>3.39</td>\n    </tr>\n    <tr>\n      <th>3</th>\n      <td>1</td>\n      <td>1</td>\n      <td>Chips and Tomatillo-Green Chili Salsa</td>\n      <td>NaN</td>\n      <td>$2.39</td>\n      <td>2.39</td>\n    </tr>\n    <tr>\n      <th>4</th>\n      <td>2</td>\n      <td>2</td>\n      <td>Chicken Bowl</td>\n      <td>[Tomatillo-Red Chili Salsa (Hot), [Black Beans...</td>\n      <td>$16.98</td>\n      <td>16.98</td>\n    </tr>\n  </tbody>\n</table>\n</div>",
      "text/plain": "   order_id  quantity                              item_name  \\\n0         1         1           Chips and Fresh Tomato Salsa   \n1         1         1                                   Izze   \n2         1         1                       Nantucket Nectar   \n3         1         1  Chips and Tomatillo-Green Chili Salsa   \n4         2         2                           Chicken Bowl   \n\n                                  choice_description item_price  new_price  \n0                                                NaN     $2.39        2.39  \n1                                       [Clementine]     $3.39        3.39  \n2                                            [Apple]     $3.39        3.39  \n3                                                NaN     $2.39        2.39  \n4  [Tomatillo-Red Chili Salsa (Hot), [Black Beans...    $16.98       16.98  "
     },
     "execution_count": 90,
     "metadata": {},
     "output_type": "execute_result"
    }
   ],
   "source": [
    "# item_price 컬럼의 달러표시 문자를 제거하고 float 타입으로 저장하여 new_price 컬럼에 저장하라\n",
    "df['new_price'] = df['item_price'].str[1:].astype('float')\n",
    "df.head()"
   ]
  },
  {
   "cell_type": "code",
   "execution_count": 97,
   "metadata": {},
   "outputs": [
    {
     "data": {
      "text/plain": "1652"
     },
     "execution_count": 97,
     "metadata": {},
     "output_type": "execute_result"
    }
   ],
   "source": [
    "# new_price 컬럼이 5이하의 값을 가지는 데이터프레임을 추출하고, 전체 갯수를 구하여라\n",
    "len(df.loc[df['new_price'] <= 5])"
   ]
  },
  {
   "cell_type": "code",
   "execution_count": 100,
   "metadata": {},
   "outputs": [
    {
     "data": {
      "text/html": "<div>\n<style scoped>\n    .dataframe tbody tr th:only-of-type {\n        vertical-align: middle;\n    }\n\n    .dataframe tbody tr th {\n        vertical-align: top;\n    }\n\n    .dataframe thead th {\n        text-align: right;\n    }\n</style>\n<table border=\"1\" class=\"dataframe\">\n  <thead>\n    <tr style=\"text-align: right;\">\n      <th></th>\n      <th>order_id</th>\n      <th>quantity</th>\n      <th>item_name</th>\n      <th>choice_description</th>\n      <th>item_price</th>\n      <th>new_price</th>\n    </tr>\n  </thead>\n  <tbody>\n    <tr>\n      <th>0</th>\n      <td>20</td>\n      <td>1</td>\n      <td>Chicken Salad Bowl</td>\n      <td>[Fresh Tomato Salsa, [Fajita Vegetables, Pinto...</td>\n      <td>$8.75</td>\n      <td>8.75</td>\n    </tr>\n    <tr>\n      <th>1</th>\n      <td>60</td>\n      <td>2</td>\n      <td>Chicken Salad Bowl</td>\n      <td>[Tomatillo Green Chili Salsa, [Sour Cream, Che...</td>\n      <td>$22.50</td>\n      <td>22.50</td>\n    </tr>\n    <tr>\n      <th>2</th>\n      <td>94</td>\n      <td>2</td>\n      <td>Chicken Salad Bowl</td>\n      <td>[Fresh Tomato Salsa, [Fajita Vegetables, Pinto...</td>\n      <td>$22.50</td>\n      <td>22.50</td>\n    </tr>\n    <tr>\n      <th>3</th>\n      <td>111</td>\n      <td>1</td>\n      <td>Chicken Salad Bowl</td>\n      <td>[Fresh Tomato Salsa, [Fajita Vegetables, Rice,...</td>\n      <td>$8.75</td>\n      <td>8.75</td>\n    </tr>\n    <tr>\n      <th>4</th>\n      <td>137</td>\n      <td>2</td>\n      <td>Chicken Salad Bowl</td>\n      <td>[Fresh Tomato Salsa, Fajita Vegetables]</td>\n      <td>$17.50</td>\n      <td>17.50</td>\n    </tr>\n    <tr>\n      <th>...</th>\n      <td>...</td>\n      <td>...</td>\n      <td>...</td>\n      <td>...</td>\n      <td>...</td>\n      <td>...</td>\n    </tr>\n    <tr>\n      <th>105</th>\n      <td>1813</td>\n      <td>2</td>\n      <td>Chicken Salad Bowl</td>\n      <td>[Fresh Tomato Salsa, [Fajita Vegetables, Pinto...</td>\n      <td>$17.50</td>\n      <td>17.50</td>\n    </tr>\n    <tr>\n      <th>106</th>\n      <td>1822</td>\n      <td>1</td>\n      <td>Chicken Salad Bowl</td>\n      <td>[Fresh Tomato Salsa, [Black Beans, Cheese, Gua...</td>\n      <td>$11.25</td>\n      <td>11.25</td>\n    </tr>\n    <tr>\n      <th>107</th>\n      <td>1834</td>\n      <td>1</td>\n      <td>Chicken Salad Bowl</td>\n      <td>[Fresh Tomato Salsa, [Fajita Vegetables, Pinto...</td>\n      <td>$11.25</td>\n      <td>11.25</td>\n    </tr>\n    <tr>\n      <th>108</th>\n      <td>1834</td>\n      <td>1</td>\n      <td>Chicken Salad Bowl</td>\n      <td>[Fresh Tomato Salsa, [Fajita Vegetables, Lettu...</td>\n      <td>$8.75</td>\n      <td>8.75</td>\n    </tr>\n    <tr>\n      <th>109</th>\n      <td>1834</td>\n      <td>1</td>\n      <td>Chicken Salad Bowl</td>\n      <td>[Fresh Tomato Salsa, [Fajita Vegetables, Pinto...</td>\n      <td>$8.75</td>\n      <td>8.75</td>\n    </tr>\n  </tbody>\n</table>\n<p>110 rows × 6 columns</p>\n</div>",
      "text/plain": "     order_id  quantity           item_name  \\\n0          20         1  Chicken Salad Bowl   \n1          60         2  Chicken Salad Bowl   \n2          94         2  Chicken Salad Bowl   \n3         111         1  Chicken Salad Bowl   \n4         137         2  Chicken Salad Bowl   \n..        ...       ...                 ...   \n105      1813         2  Chicken Salad Bowl   \n106      1822         1  Chicken Salad Bowl   \n107      1834         1  Chicken Salad Bowl   \n108      1834         1  Chicken Salad Bowl   \n109      1834         1  Chicken Salad Bowl   \n\n                                    choice_description item_price  new_price  \n0    [Fresh Tomato Salsa, [Fajita Vegetables, Pinto...     $8.75        8.75  \n1    [Tomatillo Green Chili Salsa, [Sour Cream, Che...    $22.50       22.50  \n2    [Fresh Tomato Salsa, [Fajita Vegetables, Pinto...    $22.50       22.50  \n3    [Fresh Tomato Salsa, [Fajita Vegetables, Rice,...     $8.75        8.75  \n4              [Fresh Tomato Salsa, Fajita Vegetables]    $17.50       17.50  \n..                                                 ...        ...        ...  \n105  [Fresh Tomato Salsa, [Fajita Vegetables, Pinto...    $17.50       17.50  \n106  [Fresh Tomato Salsa, [Black Beans, Cheese, Gua...    $11.25       11.25  \n107  [Fresh Tomato Salsa, [Fajita Vegetables, Pinto...    $11.25       11.25  \n108  [Fresh Tomato Salsa, [Fajita Vegetables, Lettu...     $8.75        8.75  \n109  [Fresh Tomato Salsa, [Fajita Vegetables, Pinto...     $8.75        8.75  \n\n[110 rows x 6 columns]"
     },
     "execution_count": 100,
     "metadata": {},
     "output_type": "execute_result"
    }
   ],
   "source": [
    "# item_name명이 Chicken Salad Bowl 인 데이터 프레임을 추출하라고 index 값을 초기화 하여라\n",
    "df.loc[df['item_name'] == 'Chicken Salad Bowl'].reset_index(drop=True)"
   ]
  },
  {
   "cell_type": "code",
   "execution_count": 107,
   "metadata": {},
   "outputs": [
    {
     "data": {
      "text/html": "<div>\n<style scoped>\n    .dataframe tbody tr th:only-of-type {\n        vertical-align: middle;\n    }\n\n    .dataframe tbody tr th {\n        vertical-align: top;\n    }\n\n    .dataframe thead th {\n        text-align: right;\n    }\n</style>\n<table border=\"1\" class=\"dataframe\">\n  <thead>\n    <tr style=\"text-align: right;\">\n      <th></th>\n      <th>order_id</th>\n      <th>quantity</th>\n      <th>item_name</th>\n      <th>choice_description</th>\n      <th>item_price</th>\n      <th>new_price</th>\n    </tr>\n  </thead>\n  <tbody>\n    <tr>\n      <th>44</th>\n      <td>20</td>\n      <td>1</td>\n      <td>Chicken Salad Bowl</td>\n      <td>[Fresh Tomato Salsa, [Fajita Vegetables, Pinto...</td>\n      <td>$8.75</td>\n      <td>8.75</td>\n    </tr>\n    <tr>\n      <th>256</th>\n      <td>111</td>\n      <td>1</td>\n      <td>Chicken Salad Bowl</td>\n      <td>[Fresh Tomato Salsa, [Fajita Vegetables, Rice,...</td>\n      <td>$8.75</td>\n      <td>8.75</td>\n    </tr>\n    <tr>\n      <th>526</th>\n      <td>220</td>\n      <td>1</td>\n      <td>Chicken Salad Bowl</td>\n      <td>[Roasted Chili Corn Salsa, [Black Beans, Sour ...</td>\n      <td>$8.75</td>\n      <td>8.75</td>\n    </tr>\n    <tr>\n      <th>528</th>\n      <td>221</td>\n      <td>1</td>\n      <td>Chicken Salad Bowl</td>\n      <td>[Tomatillo Green Chili Salsa, [Fajita Vegetabl...</td>\n      <td>$8.75</td>\n      <td>8.75</td>\n    </tr>\n    <tr>\n      <th>529</th>\n      <td>221</td>\n      <td>1</td>\n      <td>Chicken Salad Bowl</td>\n      <td>[Tomatillo Green Chili Salsa, [Fajita Vegetabl...</td>\n      <td>$8.75</td>\n      <td>8.75</td>\n    </tr>\n  </tbody>\n</table>\n</div>",
      "text/plain": "     order_id  quantity           item_name  \\\n44         20         1  Chicken Salad Bowl   \n256       111         1  Chicken Salad Bowl   \n526       220         1  Chicken Salad Bowl   \n528       221         1  Chicken Salad Bowl   \n529       221         1  Chicken Salad Bowl   \n\n                                    choice_description item_price  new_price  \n44   [Fresh Tomato Salsa, [Fajita Vegetables, Pinto...     $8.75        8.75  \n256  [Fresh Tomato Salsa, [Fajita Vegetables, Rice,...     $8.75        8.75  \n526  [Roasted Chili Corn Salsa, [Black Beans, Sour ...     $8.75        8.75  \n528  [Tomatillo Green Chili Salsa, [Fajita Vegetabl...     $8.75        8.75  \n529  [Tomatillo Green Chili Salsa, [Fajita Vegetabl...     $8.75        8.75  "
     },
     "execution_count": 107,
     "metadata": {},
     "output_type": "execute_result"
    }
   ],
   "source": [
    "# new_price값이 9 이하이고 item_name 값이 Chicken Salad Bowl 인 데이터 프레임을 추출하라\n",
    "df.loc[(df['new_price'] <= 9) & (df['item_name'] == 'Chicken Salad Bowl')].head()"
   ]
  },
  {
   "cell_type": "code",
   "execution_count": 111,
   "metadata": {},
   "outputs": [
    {
     "data": {
      "text/html": "<div>\n<style scoped>\n    .dataframe tbody tr th:only-of-type {\n        vertical-align: middle;\n    }\n\n    .dataframe tbody tr th {\n        vertical-align: top;\n    }\n\n    .dataframe thead th {\n        text-align: right;\n    }\n</style>\n<table border=\"1\" class=\"dataframe\">\n  <thead>\n    <tr style=\"text-align: right;\">\n      <th></th>\n      <th>order_id</th>\n      <th>quantity</th>\n      <th>item_name</th>\n      <th>choice_description</th>\n      <th>item_price</th>\n      <th>new_price</th>\n    </tr>\n  </thead>\n  <tbody>\n    <tr>\n      <th>0</th>\n      <td>471</td>\n      <td>1</td>\n      <td>Bottled Water</td>\n      <td>NaN</td>\n      <td>$1.09</td>\n      <td>1.09</td>\n    </tr>\n    <tr>\n      <th>1</th>\n      <td>338</td>\n      <td>1</td>\n      <td>Canned Soda</td>\n      <td>[Coca Cola]</td>\n      <td>$1.09</td>\n      <td>1.09</td>\n    </tr>\n    <tr>\n      <th>2</th>\n      <td>1575</td>\n      <td>1</td>\n      <td>Canned Soda</td>\n      <td>[Dr. Pepper]</td>\n      <td>$1.09</td>\n      <td>1.09</td>\n    </tr>\n    <tr>\n      <th>3</th>\n      <td>47</td>\n      <td>1</td>\n      <td>Canned Soda</td>\n      <td>[Dr. Pepper]</td>\n      <td>$1.09</td>\n      <td>1.09</td>\n    </tr>\n    <tr>\n      <th>4</th>\n      <td>1014</td>\n      <td>1</td>\n      <td>Canned Soda</td>\n      <td>[Coca Cola]</td>\n      <td>$1.09</td>\n      <td>1.09</td>\n    </tr>\n    <tr>\n      <th>...</th>\n      <td>...</td>\n      <td>...</td>\n      <td>...</td>\n      <td>...</td>\n      <td>...</td>\n      <td>...</td>\n    </tr>\n    <tr>\n      <th>4617</th>\n      <td>1443</td>\n      <td>3</td>\n      <td>Veggie Burrito</td>\n      <td>[Fresh Tomato Salsa, [Fajita Vegetables, Rice,...</td>\n      <td>$33.75</td>\n      <td>33.75</td>\n    </tr>\n    <tr>\n      <th>4618</th>\n      <td>1443</td>\n      <td>4</td>\n      <td>Chicken Burrito</td>\n      <td>[Fresh Tomato Salsa, [Rice, Black Beans, Chees...</td>\n      <td>$35.00</td>\n      <td>35.00</td>\n    </tr>\n    <tr>\n      <th>4619</th>\n      <td>511</td>\n      <td>4</td>\n      <td>Chicken Burrito</td>\n      <td>[Fresh Tomato Salsa, [Fajita Vegetables, Rice,...</td>\n      <td>$35.00</td>\n      <td>35.00</td>\n    </tr>\n    <tr>\n      <th>4620</th>\n      <td>1398</td>\n      <td>3</td>\n      <td>Carnitas Bowl</td>\n      <td>[Roasted Chili Corn Salsa, [Fajita Vegetables,...</td>\n      <td>$35.25</td>\n      <td>35.25</td>\n    </tr>\n    <tr>\n      <th>4621</th>\n      <td>1443</td>\n      <td>15</td>\n      <td>Chips and Fresh Tomato Salsa</td>\n      <td>NaN</td>\n      <td>$44.25</td>\n      <td>44.25</td>\n    </tr>\n  </tbody>\n</table>\n<p>4622 rows × 6 columns</p>\n</div>",
      "text/plain": "      order_id  quantity                     item_name  \\\n0          471         1                 Bottled Water   \n1          338         1                   Canned Soda   \n2         1575         1                   Canned Soda   \n3           47         1                   Canned Soda   \n4         1014         1                   Canned Soda   \n...        ...       ...                           ...   \n4617      1443         3                Veggie Burrito   \n4618      1443         4               Chicken Burrito   \n4619       511         4               Chicken Burrito   \n4620      1398         3                 Carnitas Bowl   \n4621      1443        15  Chips and Fresh Tomato Salsa   \n\n                                     choice_description item_price  new_price  \n0                                                   NaN     $1.09        1.09  \n1                                           [Coca Cola]     $1.09        1.09  \n2                                          [Dr. Pepper]     $1.09        1.09  \n3                                          [Dr. Pepper]     $1.09        1.09  \n4                                           [Coca Cola]     $1.09        1.09  \n...                                                 ...        ...        ...  \n4617  [Fresh Tomato Salsa, [Fajita Vegetables, Rice,...    $33.75       33.75  \n4618  [Fresh Tomato Salsa, [Rice, Black Beans, Chees...    $35.00       35.00  \n4619  [Fresh Tomato Salsa, [Fajita Vegetables, Rice,...    $35.00       35.00  \n4620  [Roasted Chili Corn Salsa, [Fajita Vegetables,...    $35.25       35.25  \n4621                                                NaN    $44.25       44.25  \n\n[4622 rows x 6 columns]"
     },
     "execution_count": 111,
     "metadata": {},
     "output_type": "execute_result"
    }
   ],
   "source": [
    "# df의 new_price 컬럼 값에 따라 오름차순으로 정리하고 index를 초기화 하여라\n",
    "df.sort_values(by='new_price',ascending=True).reset_index(drop=True)"
   ]
  },
  {
   "cell_type": "code",
   "execution_count": 116,
   "metadata": {},
   "outputs": [
    {
     "data": {
      "text/html": "<div>\n<style scoped>\n    .dataframe tbody tr th:only-of-type {\n        vertical-align: middle;\n    }\n\n    .dataframe tbody tr th {\n        vertical-align: top;\n    }\n\n    .dataframe thead th {\n        text-align: right;\n    }\n</style>\n<table border=\"1\" class=\"dataframe\">\n  <thead>\n    <tr style=\"text-align: right;\">\n      <th></th>\n      <th>order_id</th>\n      <th>quantity</th>\n      <th>item_name</th>\n      <th>choice_description</th>\n      <th>item_price</th>\n      <th>new_price</th>\n    </tr>\n  </thead>\n  <tbody>\n    <tr>\n      <th>0</th>\n      <td>1</td>\n      <td>1</td>\n      <td>Chips and Fresh Tomato Salsa</td>\n      <td>NaN</td>\n      <td>$2.39</td>\n      <td>2.39</td>\n    </tr>\n    <tr>\n      <th>3</th>\n      <td>1</td>\n      <td>1</td>\n      <td>Chips and Tomatillo-Green Chili Salsa</td>\n      <td>NaN</td>\n      <td>$2.39</td>\n      <td>2.39</td>\n    </tr>\n    <tr>\n      <th>6</th>\n      <td>3</td>\n      <td>1</td>\n      <td>Side of Chips</td>\n      <td>NaN</td>\n      <td>$1.69</td>\n      <td>1.69</td>\n    </tr>\n    <tr>\n      <th>10</th>\n      <td>5</td>\n      <td>1</td>\n      <td>Chips and Guacamole</td>\n      <td>NaN</td>\n      <td>$4.45</td>\n      <td>4.45</td>\n    </tr>\n    <tr>\n      <th>14</th>\n      <td>7</td>\n      <td>1</td>\n      <td>Chips and Guacamole</td>\n      <td>NaN</td>\n      <td>$4.45</td>\n      <td>4.45</td>\n    </tr>\n    <tr>\n      <th>...</th>\n      <td>...</td>\n      <td>...</td>\n      <td>...</td>\n      <td>...</td>\n      <td>...</td>\n      <td>...</td>\n    </tr>\n    <tr>\n      <th>4596</th>\n      <td>1826</td>\n      <td>1</td>\n      <td>Chips and Guacamole</td>\n      <td>NaN</td>\n      <td>$4.45</td>\n      <td>4.45</td>\n    </tr>\n    <tr>\n      <th>4600</th>\n      <td>1827</td>\n      <td>1</td>\n      <td>Chips and Guacamole</td>\n      <td>NaN</td>\n      <td>$4.45</td>\n      <td>4.45</td>\n    </tr>\n    <tr>\n      <th>4605</th>\n      <td>1828</td>\n      <td>1</td>\n      <td>Chips and Guacamole</td>\n      <td>NaN</td>\n      <td>$4.45</td>\n      <td>4.45</td>\n    </tr>\n    <tr>\n      <th>4613</th>\n      <td>1831</td>\n      <td>1</td>\n      <td>Chips</td>\n      <td>NaN</td>\n      <td>$2.15</td>\n      <td>2.15</td>\n    </tr>\n    <tr>\n      <th>4616</th>\n      <td>1832</td>\n      <td>1</td>\n      <td>Chips and Guacamole</td>\n      <td>NaN</td>\n      <td>$4.45</td>\n      <td>4.45</td>\n    </tr>\n  </tbody>\n</table>\n<p>1084 rows × 6 columns</p>\n</div>",
      "text/plain": "      order_id  quantity                              item_name  \\\n0            1         1           Chips and Fresh Tomato Salsa   \n3            1         1  Chips and Tomatillo-Green Chili Salsa   \n6            3         1                          Side of Chips   \n10           5         1                    Chips and Guacamole   \n14           7         1                    Chips and Guacamole   \n...        ...       ...                                    ...   \n4596      1826         1                    Chips and Guacamole   \n4600      1827         1                    Chips and Guacamole   \n4605      1828         1                    Chips and Guacamole   \n4613      1831         1                                  Chips   \n4616      1832         1                    Chips and Guacamole   \n\n     choice_description item_price  new_price  \n0                   NaN     $2.39        2.39  \n3                   NaN     $2.39        2.39  \n6                   NaN     $1.69        1.69  \n10                  NaN     $4.45        4.45  \n14                  NaN     $4.45        4.45  \n...                 ...        ...        ...  \n4596                NaN     $4.45        4.45  \n4600                NaN     $4.45        4.45  \n4605                NaN     $4.45        4.45  \n4613                NaN     $2.15        2.15  \n4616                NaN     $4.45        4.45  \n\n[1084 rows x 6 columns]"
     },
     "execution_count": 116,
     "metadata": {},
     "output_type": "execute_result"
    }
   ],
   "source": [
    "# df의 item_name 컬럼 값중 Chips 포함하는 경우의 데이터를 출력하라\n",
    "\n",
    "df[df.item_name.str.contains('Chips')]"
   ]
  },
  {
   "cell_type": "code",
   "execution_count": 119,
   "metadata": {},
   "outputs": [
    {
     "data": {
      "text/html": "<div>\n<style scoped>\n    .dataframe tbody tr th:only-of-type {\n        vertical-align: middle;\n    }\n\n    .dataframe tbody tr th {\n        vertical-align: top;\n    }\n\n    .dataframe thead th {\n        text-align: right;\n    }\n</style>\n<table border=\"1\" class=\"dataframe\">\n  <thead>\n    <tr style=\"text-align: right;\">\n      <th></th>\n      <th>order_id</th>\n      <th>item_name</th>\n      <th>item_price</th>\n    </tr>\n  </thead>\n  <tbody>\n    <tr>\n      <th>0</th>\n      <td>1</td>\n      <td>Chips and Fresh Tomato Salsa</td>\n      <td>$2.39</td>\n    </tr>\n    <tr>\n      <th>1</th>\n      <td>1</td>\n      <td>Izze</td>\n      <td>$3.39</td>\n    </tr>\n    <tr>\n      <th>2</th>\n      <td>1</td>\n      <td>Nantucket Nectar</td>\n      <td>$3.39</td>\n    </tr>\n    <tr>\n      <th>3</th>\n      <td>1</td>\n      <td>Chips and Tomatillo-Green Chili Salsa</td>\n      <td>$2.39</td>\n    </tr>\n    <tr>\n      <th>4</th>\n      <td>2</td>\n      <td>Chicken Bowl</td>\n      <td>$16.98</td>\n    </tr>\n    <tr>\n      <th>...</th>\n      <td>...</td>\n      <td>...</td>\n      <td>...</td>\n    </tr>\n    <tr>\n      <th>4617</th>\n      <td>1833</td>\n      <td>Steak Burrito</td>\n      <td>$11.75</td>\n    </tr>\n    <tr>\n      <th>4618</th>\n      <td>1833</td>\n      <td>Steak Burrito</td>\n      <td>$11.75</td>\n    </tr>\n    <tr>\n      <th>4619</th>\n      <td>1834</td>\n      <td>Chicken Salad Bowl</td>\n      <td>$11.25</td>\n    </tr>\n    <tr>\n      <th>4620</th>\n      <td>1834</td>\n      <td>Chicken Salad Bowl</td>\n      <td>$8.75</td>\n    </tr>\n    <tr>\n      <th>4621</th>\n      <td>1834</td>\n      <td>Chicken Salad Bowl</td>\n      <td>$8.75</td>\n    </tr>\n  </tbody>\n</table>\n<p>4622 rows × 3 columns</p>\n</div>",
      "text/plain": "      order_id                              item_name item_price\n0            1           Chips and Fresh Tomato Salsa     $2.39 \n1            1                                   Izze     $3.39 \n2            1                       Nantucket Nectar     $3.39 \n3            1  Chips and Tomatillo-Green Chili Salsa     $2.39 \n4            2                           Chicken Bowl    $16.98 \n...        ...                                    ...        ...\n4617      1833                          Steak Burrito    $11.75 \n4618      1833                          Steak Burrito    $11.75 \n4619      1834                     Chicken Salad Bowl    $11.25 \n4620      1834                     Chicken Salad Bowl     $8.75 \n4621      1834                     Chicken Salad Bowl     $8.75 \n\n[4622 rows x 3 columns]"
     },
     "execution_count": 119,
     "metadata": {},
     "output_type": "execute_result"
    }
   ],
   "source": [
    "# df의 짝수번째 컬럼만을 포함하는 데이터프레임을 출력하라\n",
    "df.iloc[:,::2]"
   ]
  },
  {
   "cell_type": "code",
   "execution_count": 124,
   "metadata": {},
   "outputs": [
    {
     "data": {
      "text/html": "<div>\n<style scoped>\n    .dataframe tbody tr th:only-of-type {\n        vertical-align: middle;\n    }\n\n    .dataframe tbody tr th {\n        vertical-align: top;\n    }\n\n    .dataframe thead th {\n        text-align: right;\n    }\n</style>\n<table border=\"1\" class=\"dataframe\">\n  <thead>\n    <tr style=\"text-align: right;\">\n      <th></th>\n      <th>order_id</th>\n      <th>quantity</th>\n      <th>item_name</th>\n      <th>choice_description</th>\n      <th>item_price</th>\n      <th>new_price</th>\n    </tr>\n  </thead>\n  <tbody>\n    <tr>\n      <th>0</th>\n      <td>471</td>\n      <td>1</td>\n      <td>Bottled Water</td>\n      <td>NaN</td>\n      <td>$1.09</td>\n      <td>1.09</td>\n    </tr>\n    <tr>\n      <th>1</th>\n      <td>338</td>\n      <td>1</td>\n      <td>Canned Soda</td>\n      <td>[Coca Cola]</td>\n      <td>$1.09</td>\n      <td>1.09</td>\n    </tr>\n    <tr>\n      <th>2</th>\n      <td>1575</td>\n      <td>1</td>\n      <td>Canned Soda</td>\n      <td>[Dr. Pepper]</td>\n      <td>$1.09</td>\n      <td>1.09</td>\n    </tr>\n    <tr>\n      <th>3</th>\n      <td>47</td>\n      <td>1</td>\n      <td>Canned Soda</td>\n      <td>[Dr. Pepper]</td>\n      <td>$1.09</td>\n      <td>1.09</td>\n    </tr>\n    <tr>\n      <th>4</th>\n      <td>1014</td>\n      <td>1</td>\n      <td>Canned Soda</td>\n      <td>[Coca Cola]</td>\n      <td>$1.09</td>\n      <td>1.09</td>\n    </tr>\n    <tr>\n      <th>...</th>\n      <td>...</td>\n      <td>...</td>\n      <td>...</td>\n      <td>...</td>\n      <td>...</td>\n      <td>...</td>\n    </tr>\n    <tr>\n      <th>4617</th>\n      <td>1443</td>\n      <td>3</td>\n      <td>Veggie Burrito</td>\n      <td>[Fresh Tomato Salsa, [Fajita Vegetables, Rice,...</td>\n      <td>$33.75</td>\n      <td>33.75</td>\n    </tr>\n    <tr>\n      <th>4618</th>\n      <td>1443</td>\n      <td>4</td>\n      <td>Chicken Burrito</td>\n      <td>[Fresh Tomato Salsa, [Rice, Black Beans, Chees...</td>\n      <td>$35.00</td>\n      <td>35.00</td>\n    </tr>\n    <tr>\n      <th>4619</th>\n      <td>511</td>\n      <td>4</td>\n      <td>Chicken Burrito</td>\n      <td>[Fresh Tomato Salsa, [Fajita Vegetables, Rice,...</td>\n      <td>$35.00</td>\n      <td>35.00</td>\n    </tr>\n    <tr>\n      <th>4620</th>\n      <td>1398</td>\n      <td>3</td>\n      <td>Carnitas Bowl</td>\n      <td>[Roasted Chili Corn Salsa, [Fajita Vegetables,...</td>\n      <td>$35.25</td>\n      <td>35.25</td>\n    </tr>\n    <tr>\n      <th>4621</th>\n      <td>1443</td>\n      <td>15</td>\n      <td>Chips and Fresh Tomato Salsa</td>\n      <td>NaN</td>\n      <td>$44.25</td>\n      <td>44.25</td>\n    </tr>\n  </tbody>\n</table>\n<p>4622 rows × 6 columns</p>\n</div>",
      "text/plain": "      order_id  quantity                     item_name  \\\n0          471         1                 Bottled Water   \n1          338         1                   Canned Soda   \n2         1575         1                   Canned Soda   \n3           47         1                   Canned Soda   \n4         1014         1                   Canned Soda   \n...        ...       ...                           ...   \n4617      1443         3                Veggie Burrito   \n4618      1443         4               Chicken Burrito   \n4619       511         4               Chicken Burrito   \n4620      1398         3                 Carnitas Bowl   \n4621      1443        15  Chips and Fresh Tomato Salsa   \n\n                                     choice_description item_price  new_price  \n0                                                   NaN     $1.09        1.09  \n1                                           [Coca Cola]     $1.09        1.09  \n2                                          [Dr. Pepper]     $1.09        1.09  \n3                                          [Dr. Pepper]     $1.09        1.09  \n4                                           [Coca Cola]     $1.09        1.09  \n...                                                 ...        ...        ...  \n4617  [Fresh Tomato Salsa, [Fajita Vegetables, Rice,...    $33.75       33.75  \n4618  [Fresh Tomato Salsa, [Rice, Black Beans, Chees...    $35.00       35.00  \n4619  [Fresh Tomato Salsa, [Fajita Vegetables, Rice,...    $35.00       35.00  \n4620  [Roasted Chili Corn Salsa, [Fajita Vegetables,...    $35.25       35.25  \n4621                                                NaN    $44.25       44.25  \n\n[4622 rows x 6 columns]"
     },
     "execution_count": 124,
     "metadata": {},
     "output_type": "execute_result"
    }
   ],
   "source": [
    "# df의 new_price 컬럼 값에 따라 내림차순으로 정리하고 index를 초기화 하여라\n",
    "df.sort_values(by='new_price').reset_index(drop=True)"
   ]
  },
  {
   "cell_type": "code",
   "execution_count": 129,
   "metadata": {},
   "outputs": [
    {
     "data": {
      "text/html": "<div>\n<style scoped>\n    .dataframe tbody tr th:only-of-type {\n        vertical-align: middle;\n    }\n\n    .dataframe tbody tr th {\n        vertical-align: top;\n    }\n\n    .dataframe thead th {\n        text-align: right;\n    }\n</style>\n<table border=\"1\" class=\"dataframe\">\n  <thead>\n    <tr style=\"text-align: right;\">\n      <th></th>\n      <th>order_id</th>\n      <th>quantity</th>\n      <th>item_name</th>\n      <th>choice_description</th>\n      <th>item_price</th>\n      <th>new_price</th>\n    </tr>\n  </thead>\n  <tbody>\n    <tr>\n      <th>445</th>\n      <td>193</td>\n      <td>3</td>\n      <td>Bowl</td>\n      <td>[Braised Carnitas, Pinto Beans, [Sour Cream, C...</td>\n      <td>$22.20</td>\n      <td>22.20</td>\n    </tr>\n    <tr>\n      <th>664</th>\n      <td>276</td>\n      <td>1</td>\n      <td>Steak Salad</td>\n      <td>[Tomatillo-Red Chili Salsa (Hot), [Black Beans...</td>\n      <td>$8.99</td>\n      <td>8.99</td>\n    </tr>\n    <tr>\n      <th>673</th>\n      <td>279</td>\n      <td>1</td>\n      <td>Bowl</td>\n      <td>[Adobo-Marinated and Grilled Steak, [Sour Crea...</td>\n      <td>$7.40</td>\n      <td>7.40</td>\n    </tr>\n    <tr>\n      <th>752</th>\n      <td>311</td>\n      <td>1</td>\n      <td>Steak Salad</td>\n      <td>[Tomatillo-Red Chili Salsa (Hot), [Black Beans...</td>\n      <td>$8.99</td>\n      <td>8.99</td>\n    </tr>\n    <tr>\n      <th>893</th>\n      <td>369</td>\n      <td>1</td>\n      <td>Steak Salad</td>\n      <td>[Fresh Tomato Salsa (Mild), [Rice, Cheese, Sou...</td>\n      <td>$8.99</td>\n      <td>8.99</td>\n    </tr>\n    <tr>\n      <th>3502</th>\n      <td>1406</td>\n      <td>1</td>\n      <td>Steak Salad</td>\n      <td>[[Lettuce, Fajita Veggies]]</td>\n      <td>$8.69</td>\n      <td>8.69</td>\n    </tr>\n  </tbody>\n</table>\n</div>",
      "text/plain": "      order_id  quantity    item_name  \\\n445        193         3         Bowl   \n664        276         1  Steak Salad   \n673        279         1         Bowl   \n752        311         1  Steak Salad   \n893        369         1  Steak Salad   \n3502      1406         1  Steak Salad   \n\n                                     choice_description item_price  new_price  \n445   [Braised Carnitas, Pinto Beans, [Sour Cream, C...    $22.20       22.20  \n664   [Tomatillo-Red Chili Salsa (Hot), [Black Beans...     $8.99        8.99  \n673   [Adobo-Marinated and Grilled Steak, [Sour Crea...     $7.40        7.40  \n752   [Tomatillo-Red Chili Salsa (Hot), [Black Beans...     $8.99        8.99  \n893   [Fresh Tomato Salsa (Mild), [Rice, Cheese, Sou...     $8.99        8.99  \n3502                        [[Lettuce, Fajita Veggies]]     $8.69        8.69  "
     },
     "execution_count": 129,
     "metadata": {},
     "output_type": "execute_result"
    }
   ],
   "source": [
    "# df의 item_name 컬럼 값이 Steak Salad 또는 Bowl 인 데이터를 인덱싱하라\n",
    "df.loc[(df.item_name == 'Steak Salad') | (df.item_name == 'Bowl')]\n"
   ]
  },
  {
   "cell_type": "code",
   "execution_count": 137,
   "metadata": {},
   "outputs": [
    {
     "data": {
      "text/html": "<div>\n<style scoped>\n    .dataframe tbody tr th:only-of-type {\n        vertical-align: middle;\n    }\n\n    .dataframe tbody tr th {\n        vertical-align: top;\n    }\n\n    .dataframe thead th {\n        text-align: right;\n    }\n</style>\n<table border=\"1\" class=\"dataframe\">\n  <thead>\n    <tr style=\"text-align: right;\">\n      <th></th>\n      <th>order_id</th>\n      <th>quantity</th>\n      <th>item_name</th>\n      <th>choice_description</th>\n      <th>item_price</th>\n      <th>new_price</th>\n    </tr>\n  </thead>\n  <tbody>\n    <tr>\n      <th>445</th>\n      <td>193</td>\n      <td>3</td>\n      <td>Bowl</td>\n      <td>[Braised Carnitas, Pinto Beans, [Sour Cream, C...</td>\n      <td>$22.20</td>\n      <td>22.20</td>\n    </tr>\n    <tr>\n      <th>664</th>\n      <td>276</td>\n      <td>1</td>\n      <td>Steak Salad</td>\n      <td>[Tomatillo-Red Chili Salsa (Hot), [Black Beans...</td>\n      <td>$8.99</td>\n      <td>8.99</td>\n    </tr>\n  </tbody>\n</table>\n</div>",
      "text/plain": "     order_id  quantity    item_name  \\\n445       193         3         Bowl   \n664       276         1  Steak Salad   \n\n                                    choice_description item_price  new_price  \n445  [Braised Carnitas, Pinto Beans, [Sour Cream, C...    $22.20       22.20  \n664  [Tomatillo-Red Chili Salsa (Hot), [Black Beans...     $8.99        8.99  "
     },
     "execution_count": 137,
     "metadata": {},
     "output_type": "execute_result"
    }
   ],
   "source": [
    "# df의 item_name 컬럼 값이 Steak Salad 또는 Bowl 인 데이터를 데이터 프레임화 한 후, item_name를 기준으로 중복행이 있으면 제거하되 첫번째 케이스만 남겨라\n",
    "# drop_duplicates : 중복제거\n",
    "a = df.loc[(df.item_name == 'Steak Salad') | (df.item_name == 'Bowl')]\n",
    "a.drop_duplicates(subset='item_name',keep='first')"
   ]
  },
  {
   "cell_type": "code",
   "execution_count": 138,
   "metadata": {},
   "outputs": [
    {
     "data": {
      "text/html": "<div>\n<style scoped>\n    .dataframe tbody tr th:only-of-type {\n        vertical-align: middle;\n    }\n\n    .dataframe tbody tr th {\n        vertical-align: top;\n    }\n\n    .dataframe thead th {\n        text-align: right;\n    }\n</style>\n<table border=\"1\" class=\"dataframe\">\n  <thead>\n    <tr style=\"text-align: right;\">\n      <th></th>\n      <th>order_id</th>\n      <th>quantity</th>\n      <th>item_name</th>\n      <th>choice_description</th>\n      <th>item_price</th>\n      <th>new_price</th>\n    </tr>\n  </thead>\n  <tbody>\n    <tr>\n      <th>673</th>\n      <td>279</td>\n      <td>1</td>\n      <td>Bowl</td>\n      <td>[Adobo-Marinated and Grilled Steak, [Sour Crea...</td>\n      <td>$7.40</td>\n      <td>7.40</td>\n    </tr>\n    <tr>\n      <th>3502</th>\n      <td>1406</td>\n      <td>1</td>\n      <td>Steak Salad</td>\n      <td>[[Lettuce, Fajita Veggies]]</td>\n      <td>$8.69</td>\n      <td>8.69</td>\n    </tr>\n  </tbody>\n</table>\n</div>",
      "text/plain": "      order_id  quantity    item_name  \\\n673        279         1         Bowl   \n3502      1406         1  Steak Salad   \n\n                                     choice_description item_price  new_price  \n673   [Adobo-Marinated and Grilled Steak, [Sour Crea...     $7.40        7.40  \n3502                        [[Lettuce, Fajita Veggies]]     $8.69        8.69  "
     },
     "execution_count": 138,
     "metadata": {},
     "output_type": "execute_result"
    }
   ],
   "source": [
    "# df의 item_name 컬럼 값이 Steak Salad 또는 Bowl 인 데이터를 데이터 프레임화 한 후, item_name를 기준으로 중복행이 있으면 제거하되 마지막 케이스만 남겨라\n",
    "a = df.loc[(df.item_name == 'Steak Salad') | (df.item_name == 'Bowl')]\n",
    "a.drop_duplicates(subset='item_name',keep='last')\n"
   ]
  },
  {
   "cell_type": "code",
   "execution_count": 148,
   "metadata": {},
   "outputs": [
    {
     "data": {
      "text/html": "<div>\n<style scoped>\n    .dataframe tbody tr th:only-of-type {\n        vertical-align: middle;\n    }\n\n    .dataframe tbody tr th {\n        vertical-align: top;\n    }\n\n    .dataframe thead th {\n        text-align: right;\n    }\n</style>\n<table border=\"1\" class=\"dataframe\">\n  <thead>\n    <tr style=\"text-align: right;\">\n      <th></th>\n      <th>order_id</th>\n      <th>quantity</th>\n      <th>item_name</th>\n      <th>choice_description</th>\n      <th>item_price</th>\n      <th>new_price</th>\n    </tr>\n  </thead>\n  <tbody>\n    <tr>\n      <th>4</th>\n      <td>2</td>\n      <td>2</td>\n      <td>Chicken Bowl</td>\n      <td>[Tomatillo-Red Chili Salsa (Hot), [Black Beans...</td>\n      <td>$16.98</td>\n      <td>16.98</td>\n    </tr>\n    <tr>\n      <th>5</th>\n      <td>3</td>\n      <td>1</td>\n      <td>Chicken Bowl</td>\n      <td>[Fresh Tomato Salsa (Mild), [Rice, Cheese, Sou...</td>\n      <td>$10.98</td>\n      <td>10.98</td>\n    </tr>\n    <tr>\n      <th>7</th>\n      <td>4</td>\n      <td>1</td>\n      <td>Steak Burrito</td>\n      <td>[Tomatillo Red Chili Salsa, [Fajita Vegetables...</td>\n      <td>$11.75</td>\n      <td>11.75</td>\n    </tr>\n    <tr>\n      <th>8</th>\n      <td>4</td>\n      <td>1</td>\n      <td>Steak Soft Tacos</td>\n      <td>[Tomatillo Green Chili Salsa, [Pinto Beans, Ch...</td>\n      <td>$9.25</td>\n      <td>9.25</td>\n    </tr>\n    <tr>\n      <th>9</th>\n      <td>5</td>\n      <td>1</td>\n      <td>Steak Burrito</td>\n      <td>[Fresh Tomato Salsa, [Rice, Black Beans, Pinto...</td>\n      <td>$9.25</td>\n      <td>9.25</td>\n    </tr>\n    <tr>\n      <th>...</th>\n      <td>...</td>\n      <td>...</td>\n      <td>...</td>\n      <td>...</td>\n      <td>...</td>\n      <td>...</td>\n    </tr>\n    <tr>\n      <th>4617</th>\n      <td>1833</td>\n      <td>1</td>\n      <td>Steak Burrito</td>\n      <td>[Fresh Tomato Salsa, [Rice, Black Beans, Sour ...</td>\n      <td>$11.75</td>\n      <td>11.75</td>\n    </tr>\n    <tr>\n      <th>4618</th>\n      <td>1833</td>\n      <td>1</td>\n      <td>Steak Burrito</td>\n      <td>[Fresh Tomato Salsa, [Rice, Sour Cream, Cheese...</td>\n      <td>$11.75</td>\n      <td>11.75</td>\n    </tr>\n    <tr>\n      <th>4619</th>\n      <td>1834</td>\n      <td>1</td>\n      <td>Chicken Salad Bowl</td>\n      <td>[Fresh Tomato Salsa, [Fajita Vegetables, Pinto...</td>\n      <td>$11.25</td>\n      <td>11.25</td>\n    </tr>\n    <tr>\n      <th>4620</th>\n      <td>1834</td>\n      <td>1</td>\n      <td>Chicken Salad Bowl</td>\n      <td>[Fresh Tomato Salsa, [Fajita Vegetables, Lettu...</td>\n      <td>$8.75</td>\n      <td>8.75</td>\n    </tr>\n    <tr>\n      <th>4621</th>\n      <td>1834</td>\n      <td>1</td>\n      <td>Chicken Salad Bowl</td>\n      <td>[Fresh Tomato Salsa, [Fajita Vegetables, Pinto...</td>\n      <td>$8.75</td>\n      <td>8.75</td>\n    </tr>\n  </tbody>\n</table>\n<p>2890 rows × 6 columns</p>\n</div>",
      "text/plain": "      order_id  quantity           item_name  \\\n4            2         2        Chicken Bowl   \n5            3         1        Chicken Bowl   \n7            4         1       Steak Burrito   \n8            4         1    Steak Soft Tacos   \n9            5         1       Steak Burrito   \n...        ...       ...                 ...   \n4617      1833         1       Steak Burrito   \n4618      1833         1       Steak Burrito   \n4619      1834         1  Chicken Salad Bowl   \n4620      1834         1  Chicken Salad Bowl   \n4621      1834         1  Chicken Salad Bowl   \n\n                                     choice_description item_price  new_price  \n4     [Tomatillo-Red Chili Salsa (Hot), [Black Beans...    $16.98       16.98  \n5     [Fresh Tomato Salsa (Mild), [Rice, Cheese, Sou...    $10.98       10.98  \n7     [Tomatillo Red Chili Salsa, [Fajita Vegetables...    $11.75       11.75  \n8     [Tomatillo Green Chili Salsa, [Pinto Beans, Ch...     $9.25        9.25  \n9     [Fresh Tomato Salsa, [Rice, Black Beans, Pinto...     $9.25        9.25  \n...                                                 ...        ...        ...  \n4617  [Fresh Tomato Salsa, [Rice, Black Beans, Sour ...    $11.75       11.75  \n4618  [Fresh Tomato Salsa, [Rice, Sour Cream, Cheese...    $11.75       11.75  \n4619  [Fresh Tomato Salsa, [Fajita Vegetables, Pinto...    $11.25       11.25  \n4620  [Fresh Tomato Salsa, [Fajita Vegetables, Lettu...     $8.75        8.75  \n4621  [Fresh Tomato Salsa, [Fajita Vegetables, Pinto...     $8.75        8.75  \n\n[2890 rows x 6 columns]"
     },
     "execution_count": 148,
     "metadata": {},
     "output_type": "execute_result"
    }
   ],
   "source": [
    "# df의 데이터 중 new_price값이 new_price값의 평균값 이상을 가지는 데이터들을 인덱싱하라\n",
    "df.loc[df.new_price >= df.new_price.mean()]\n"
   ]
  },
  {
   "cell_type": "code",
   "execution_count": 164,
   "metadata": {},
   "outputs": [
    {
     "data": {
      "text/html": "<div>\n<style scoped>\n    .dataframe tbody tr th:only-of-type {\n        vertical-align: middle;\n    }\n\n    .dataframe tbody tr th {\n        vertical-align: top;\n    }\n\n    .dataframe thead th {\n        text-align: right;\n    }\n</style>\n<table border=\"1\" class=\"dataframe\">\n  <thead>\n    <tr style=\"text-align: right;\">\n      <th></th>\n      <th>order_id</th>\n      <th>quantity</th>\n      <th>item_name</th>\n      <th>choice_description</th>\n      <th>item_price</th>\n      <th>new_price</th>\n    </tr>\n  </thead>\n  <tbody>\n  </tbody>\n</table>\n</div>",
      "text/plain": "Empty DataFrame\nColumns: [order_id, quantity, item_name, choice_description, item_price, new_price]\nIndex: []"
     },
     "execution_count": 164,
     "metadata": {},
     "output_type": "execute_result"
    }
   ],
   "source": [
    "# df의 데이터 중 item_name의 값이 Izze 데이터를 Fizzy Lizzy로 수정하라\n",
    "df.loc[df.item_name == 'Izze','item_name'] = 'Fizzy Lizzy'\n",
    "df.loc[df.item_name == 'Izze']"
   ]
  },
  {
   "cell_type": "code",
   "execution_count": 173,
   "metadata": {},
   "outputs": [
    {
     "data": {
      "text/plain": "1246"
     },
     "execution_count": 173,
     "metadata": {},
     "output_type": "execute_result"
    }
   ],
   "source": [
    "# df의 데이터 중 choice_description 값이 NaN 인 데이터의 갯수를 구하여라\n",
    "df.choice_description.isnull().sum()"
   ]
  },
  {
   "cell_type": "code",
   "execution_count": 185,
   "metadata": {},
   "outputs": [
    {
     "name": "stdout",
     "output_type": "stream",
     "text": [
      "choice_description이 NaN인 갯수 :  0\n",
      "0                                               NoData\n",
      "1                                         [Clementine]\n",
      "2                                              [Apple]\n",
      "3                                               NoData\n",
      "4    [Tomatillo-Red Chili Salsa (Hot), [Black Beans...\n",
      "5    [Fresh Tomato Salsa (Mild), [Rice, Cheese, Sou...\n",
      "6                                               NoData\n",
      "7    [Tomatillo Red Chili Salsa, [Fajita Vegetables...\n",
      "8    [Tomatillo Green Chili Salsa, [Pinto Beans, Ch...\n",
      "9    [Fresh Tomato Salsa, [Rice, Black Beans, Pinto...\n",
      "Name: choice_description, dtype: object\n"
     ]
    }
   ],
   "source": [
    "# df의 데이터 중 choice_description 값이 NaN 인 데이터를 NoData 값으로 대체하라(loc 이용)\n",
    "df.loc[df.choice_description.isnull(),'choice_description'] = 'NoData'\n",
    "print('choice_description이 NaN인 갯수 : ',df.choice_description.isnull().sum())\n",
    "print(df.choice_description.head(10))"
   ]
  },
  {
   "cell_type": "code",
   "execution_count": 190,
   "metadata": {},
   "outputs": [
    {
     "data": {
      "text/html": "<div>\n<style scoped>\n    .dataframe tbody tr th:only-of-type {\n        vertical-align: middle;\n    }\n\n    .dataframe tbody tr th {\n        vertical-align: top;\n    }\n\n    .dataframe thead th {\n        text-align: right;\n    }\n</style>\n<table border=\"1\" class=\"dataframe\">\n  <thead>\n    <tr style=\"text-align: right;\">\n      <th></th>\n      <th>order_id</th>\n      <th>quantity</th>\n      <th>item_name</th>\n      <th>choice_description</th>\n      <th>item_price</th>\n      <th>new_price</th>\n    </tr>\n  </thead>\n  <tbody>\n    <tr>\n      <th>4</th>\n      <td>2</td>\n      <td>2</td>\n      <td>Chicken Bowl</td>\n      <td>[Tomatillo-Red Chili Salsa (Hot), [Black Beans...</td>\n      <td>$16.98</td>\n      <td>16.98</td>\n    </tr>\n    <tr>\n      <th>7</th>\n      <td>4</td>\n      <td>1</td>\n      <td>Steak Burrito</td>\n      <td>[Tomatillo Red Chili Salsa, [Fajita Vegetables...</td>\n      <td>$11.75</td>\n      <td>11.75</td>\n    </tr>\n    <tr>\n      <th>9</th>\n      <td>5</td>\n      <td>1</td>\n      <td>Steak Burrito</td>\n      <td>[Fresh Tomato Salsa, [Rice, Black Beans, Pinto...</td>\n      <td>$9.25</td>\n      <td>9.25</td>\n    </tr>\n    <tr>\n      <th>11</th>\n      <td>6</td>\n      <td>1</td>\n      <td>Chicken Crispy Tacos</td>\n      <td>[Roasted Chili Corn Salsa, [Fajita Vegetables,...</td>\n      <td>$8.75</td>\n      <td>8.75</td>\n    </tr>\n    <tr>\n      <th>12</th>\n      <td>6</td>\n      <td>1</td>\n      <td>Chicken Soft Tacos</td>\n      <td>[Roasted Chili Corn Salsa, [Rice, Black Beans,...</td>\n      <td>$8.75</td>\n      <td>8.75</td>\n    </tr>\n    <tr>\n      <th>...</th>\n      <td>...</td>\n      <td>...</td>\n      <td>...</td>\n      <td>...</td>\n      <td>...</td>\n      <td>...</td>\n    </tr>\n    <tr>\n      <th>4604</th>\n      <td>1828</td>\n      <td>1</td>\n      <td>Chicken Bowl</td>\n      <td>[Fresh Tomato Salsa, [Rice, Black Beans, Chees...</td>\n      <td>$8.75</td>\n      <td>8.75</td>\n    </tr>\n    <tr>\n      <th>4608</th>\n      <td>1829</td>\n      <td>1</td>\n      <td>Veggie Burrito</td>\n      <td>[Tomatillo Red Chili Salsa, [Fajita Vegetables...</td>\n      <td>$11.25</td>\n      <td>11.25</td>\n    </tr>\n    <tr>\n      <th>4611</th>\n      <td>1830</td>\n      <td>1</td>\n      <td>Veggie Burrito</td>\n      <td>[Tomatillo Green Chili Salsa, [Rice, Fajita Ve...</td>\n      <td>$11.25</td>\n      <td>11.25</td>\n    </tr>\n    <tr>\n      <th>4612</th>\n      <td>1831</td>\n      <td>1</td>\n      <td>Carnitas Bowl</td>\n      <td>[Fresh Tomato Salsa, [Fajita Vegetables, Rice,...</td>\n      <td>$9.25</td>\n      <td>9.25</td>\n    </tr>\n    <tr>\n      <th>4617</th>\n      <td>1833</td>\n      <td>1</td>\n      <td>Steak Burrito</td>\n      <td>[Fresh Tomato Salsa, [Rice, Black Beans, Sour ...</td>\n      <td>$11.75</td>\n      <td>11.75</td>\n    </tr>\n  </tbody>\n</table>\n<p>1353 rows × 6 columns</p>\n</div>",
      "text/plain": "      order_id  quantity             item_name  \\\n4            2         2          Chicken Bowl   \n7            4         1         Steak Burrito   \n9            5         1         Steak Burrito   \n11           6         1  Chicken Crispy Tacos   \n12           6         1    Chicken Soft Tacos   \n...        ...       ...                   ...   \n4604      1828         1          Chicken Bowl   \n4608      1829         1        Veggie Burrito   \n4611      1830         1        Veggie Burrito   \n4612      1831         1         Carnitas Bowl   \n4617      1833         1         Steak Burrito   \n\n                                     choice_description item_price  new_price  \n4     [Tomatillo-Red Chili Salsa (Hot), [Black Beans...    $16.98       16.98  \n7     [Tomatillo Red Chili Salsa, [Fajita Vegetables...    $11.75       11.75  \n9     [Fresh Tomato Salsa, [Rice, Black Beans, Pinto...     $9.25        9.25  \n11    [Roasted Chili Corn Salsa, [Fajita Vegetables,...     $8.75        8.75  \n12    [Roasted Chili Corn Salsa, [Rice, Black Beans,...     $8.75        8.75  \n...                                                 ...        ...        ...  \n4604  [Fresh Tomato Salsa, [Rice, Black Beans, Chees...     $8.75        8.75  \n4608  [Tomatillo Red Chili Salsa, [Fajita Vegetables...    $11.25       11.25  \n4611  [Tomatillo Green Chili Salsa, [Rice, Fajita Ve...    $11.25       11.25  \n4612  [Fresh Tomato Salsa, [Fajita Vegetables, Rice,...     $9.25        9.25  \n4617  [Fresh Tomato Salsa, [Rice, Black Beans, Sour ...    $11.75       11.75  \n\n[1353 rows x 6 columns]"
     },
     "execution_count": 190,
     "metadata": {},
     "output_type": "execute_result"
    }
   ],
   "source": [
    "# df의 데이터 중 choice_description 값에 Black이 들어가는 경우를 인덱싱하라\n",
    "df.loc[df.choice_description.str.contains('Black')]"
   ]
  },
  {
   "cell_type": "code",
   "execution_count": 195,
   "metadata": {},
   "outputs": [
    {
     "data": {
      "text/plain": "3900"
     },
     "execution_count": 195,
     "metadata": {},
     "output_type": "execute_result"
    }
   ],
   "source": [
    "# df의 데이터 중 choice_description 값에 Vegetables 들어가지 않는 경우의 갯수를 출력하라\n",
    "# 논리값의 반대를 취하려면 ~를 사용하면 됨. R의 -which(...)에 해당함\n",
    "len(df.loc[~df.choice_description.str.contains('Vegetables')])"
   ]
  },
  {
   "cell_type": "code",
   "execution_count": 201,
   "metadata": {},
   "outputs": [
    {
     "data": {
      "text/html": "<div>\n<style scoped>\n    .dataframe tbody tr th:only-of-type {\n        vertical-align: middle;\n    }\n\n    .dataframe tbody tr th {\n        vertical-align: top;\n    }\n\n    .dataframe thead th {\n        text-align: right;\n    }\n</style>\n<table border=\"1\" class=\"dataframe\">\n  <thead>\n    <tr style=\"text-align: right;\">\n      <th></th>\n      <th>order_id</th>\n      <th>quantity</th>\n      <th>item_name</th>\n      <th>choice_description</th>\n      <th>item_price</th>\n      <th>new_price</th>\n    </tr>\n  </thead>\n  <tbody>\n    <tr>\n      <th>2</th>\n      <td>1</td>\n      <td>1</td>\n      <td>Nantucket Nectar</td>\n      <td>[Apple]</td>\n      <td>$3.39</td>\n      <td>3.39</td>\n    </tr>\n    <tr>\n      <th>22</th>\n      <td>11</td>\n      <td>1</td>\n      <td>Nantucket Nectar</td>\n      <td>[Pomegranate Cherry]</td>\n      <td>$3.39</td>\n      <td>3.39</td>\n    </tr>\n    <tr>\n      <th>105</th>\n      <td>46</td>\n      <td>1</td>\n      <td>Nantucket Nectar</td>\n      <td>[Pineapple Orange Banana]</td>\n      <td>$3.39</td>\n      <td>3.39</td>\n    </tr>\n    <tr>\n      <th>173</th>\n      <td>77</td>\n      <td>1</td>\n      <td>Nantucket Nectar</td>\n      <td>[Apple]</td>\n      <td>$3.39</td>\n      <td>3.39</td>\n    </tr>\n    <tr>\n      <th>205</th>\n      <td>91</td>\n      <td>1</td>\n      <td>Nantucket Nectar</td>\n      <td>[Peach Orange]</td>\n      <td>$3.39</td>\n      <td>3.39</td>\n    </tr>\n  </tbody>\n</table>\n</div>",
      "text/plain": "     order_id  quantity         item_name         choice_description  \\\n2           1         1  Nantucket Nectar                    [Apple]   \n22         11         1  Nantucket Nectar       [Pomegranate Cherry]   \n105        46         1  Nantucket Nectar  [Pineapple Orange Banana]   \n173        77         1  Nantucket Nectar                    [Apple]   \n205        91         1  Nantucket Nectar             [Peach Orange]   \n\n    item_price  new_price  \n2       $3.39        3.39  \n22      $3.39        3.39  \n105     $3.39        3.39  \n173     $3.39        3.39  \n205     $3.39        3.39  "
     },
     "execution_count": 201,
     "metadata": {},
     "output_type": "execute_result"
    }
   ],
   "source": [
    "# df의 데이터 중 item_name 값이 N으로 시작하는 데이터를 모두 추출하라\n",
    "df.loc[df.item_name.str.startswith('N')].head()"
   ]
  },
  {
   "cell_type": "code",
   "execution_count": 205,
   "metadata": {},
   "outputs": [
    {
     "data": {
      "text/html": "<div>\n<style scoped>\n    .dataframe tbody tr th:only-of-type {\n        vertical-align: middle;\n    }\n\n    .dataframe tbody tr th {\n        vertical-align: top;\n    }\n\n    .dataframe thead th {\n        text-align: right;\n    }\n</style>\n<table border=\"1\" class=\"dataframe\">\n  <thead>\n    <tr style=\"text-align: right;\">\n      <th></th>\n      <th>order_id</th>\n      <th>quantity</th>\n      <th>item_name</th>\n      <th>choice_description</th>\n      <th>item_price</th>\n      <th>new_price</th>\n    </tr>\n  </thead>\n  <tbody>\n    <tr>\n      <th>0</th>\n      <td>1</td>\n      <td>1</td>\n      <td>Chips and Fresh Tomato Salsa</td>\n      <td>NoData</td>\n      <td>$2.39</td>\n      <td>2.39</td>\n    </tr>\n    <tr>\n      <th>2</th>\n      <td>1</td>\n      <td>1</td>\n      <td>Nantucket Nectar</td>\n      <td>[Apple]</td>\n      <td>$3.39</td>\n      <td>3.39</td>\n    </tr>\n    <tr>\n      <th>3</th>\n      <td>1</td>\n      <td>1</td>\n      <td>Chips and Tomatillo-Green Chili Salsa</td>\n      <td>NoData</td>\n      <td>$2.39</td>\n      <td>2.39</td>\n    </tr>\n    <tr>\n      <th>8</th>\n      <td>4</td>\n      <td>1</td>\n      <td>Steak Soft Tacos</td>\n      <td>[Tomatillo Green Chili Salsa, [Pinto Beans, Ch...</td>\n      <td>$9.25</td>\n      <td>9.25</td>\n    </tr>\n    <tr>\n      <th>10</th>\n      <td>5</td>\n      <td>1</td>\n      <td>Chips and Guacamole</td>\n      <td>NoData</td>\n      <td>$4.45</td>\n      <td>4.45</td>\n    </tr>\n    <tr>\n      <th>...</th>\n      <td>...</td>\n      <td>...</td>\n      <td>...</td>\n      <td>...</td>\n      <td>...</td>\n      <td>...</td>\n    </tr>\n    <tr>\n      <th>4615</th>\n      <td>1832</td>\n      <td>1</td>\n      <td>Chicken Soft Tacos</td>\n      <td>[Fresh Tomato Salsa, [Rice, Cheese, Sour Cream]]</td>\n      <td>$8.75</td>\n      <td>8.75</td>\n    </tr>\n    <tr>\n      <th>4616</th>\n      <td>1832</td>\n      <td>1</td>\n      <td>Chips and Guacamole</td>\n      <td>NoData</td>\n      <td>$4.45</td>\n      <td>4.45</td>\n    </tr>\n    <tr>\n      <th>4619</th>\n      <td>1834</td>\n      <td>1</td>\n      <td>Chicken Salad Bowl</td>\n      <td>[Fresh Tomato Salsa, [Fajita Vegetables, Pinto...</td>\n      <td>$11.25</td>\n      <td>11.25</td>\n    </tr>\n    <tr>\n      <th>4620</th>\n      <td>1834</td>\n      <td>1</td>\n      <td>Chicken Salad Bowl</td>\n      <td>[Fresh Tomato Salsa, [Fajita Vegetables, Lettu...</td>\n      <td>$8.75</td>\n      <td>8.75</td>\n    </tr>\n    <tr>\n      <th>4621</th>\n      <td>1834</td>\n      <td>1</td>\n      <td>Chicken Salad Bowl</td>\n      <td>[Fresh Tomato Salsa, [Fajita Vegetables, Pinto...</td>\n      <td>$8.75</td>\n      <td>8.75</td>\n    </tr>\n  </tbody>\n</table>\n<p>2373 rows × 6 columns</p>\n</div>",
      "text/plain": "      order_id  quantity                              item_name  \\\n0            1         1           Chips and Fresh Tomato Salsa   \n2            1         1                       Nantucket Nectar   \n3            1         1  Chips and Tomatillo-Green Chili Salsa   \n8            4         1                       Steak Soft Tacos   \n10           5         1                    Chips and Guacamole   \n...        ...       ...                                    ...   \n4615      1832         1                     Chicken Soft Tacos   \n4616      1832         1                    Chips and Guacamole   \n4619      1834         1                     Chicken Salad Bowl   \n4620      1834         1                     Chicken Salad Bowl   \n4621      1834         1                     Chicken Salad Bowl   \n\n                                     choice_description item_price  new_price  \n0                                                NoData     $2.39        2.39  \n2                                               [Apple]     $3.39        3.39  \n3                                                NoData     $2.39        2.39  \n8     [Tomatillo Green Chili Salsa, [Pinto Beans, Ch...     $9.25        9.25  \n10                                               NoData     $4.45        4.45  \n...                                                 ...        ...        ...  \n4615   [Fresh Tomato Salsa, [Rice, Cheese, Sour Cream]]     $8.75        8.75  \n4616                                             NoData     $4.45        4.45  \n4619  [Fresh Tomato Salsa, [Fajita Vegetables, Pinto...    $11.25       11.25  \n4620  [Fresh Tomato Salsa, [Fajita Vegetables, Lettu...     $8.75        8.75  \n4621  [Fresh Tomato Salsa, [Fajita Vegetables, Pinto...     $8.75        8.75  \n\n[2373 rows x 6 columns]"
     },
     "execution_count": 205,
     "metadata": {},
     "output_type": "execute_result"
    }
   ],
   "source": [
    "# df의 데이터 중 item_name 값의 단어갯수가 15개 이상인 데이터를 인덱싱하라\n",
    "df[df.item_name.str.len() >= 15]"
   ]
  },
  {
   "cell_type": "code",
   "execution_count": 212,
   "metadata": {},
   "outputs": [
    {
     "name": "stdout",
     "output_type": "stream",
     "text": [
      "   order_id  quantity                              item_name  \\\n",
      "0         1         1           Chips and Fresh Tomato Salsa   \n",
      "1         1         1                            Fizzy Lizzy   \n",
      "2         1         1                       Nantucket Nectar   \n",
      "3         1         1  Chips and Tomatillo-Green Chili Salsa   \n",
      "4         2         2                           Chicken Bowl   \n",
      "\n",
      "                                  choice_description item_price  new_price  \n",
      "0                                             NoData     $2.39        2.39  \n",
      "1                                       [Clementine]     $3.39        3.39  \n",
      "2                                            [Apple]     $3.39        3.39  \n",
      "3                                             NoData     $2.39        2.39  \n",
      "4  [Tomatillo-Red Chili Salsa (Hot), [Black Beans...    $16.98       16.98  \n",
      "lst를 포함하는 행수 :  1393\n"
     ]
    }
   ],
   "source": [
    "# df의 데이터 중 new_price값이 lst에 해당하는 경우의 데이터 프레임을 구하고 그 갯수를 출력하라 \n",
    "# isin : 해당 리스트가 포함하는가에 대한 논리값 제공. R에서의 %in%와 같음.\n",
    "lst =[1.69, 2.39, 3.39, 4.45, 9.25, 10.98, 11.75, 16.98]\n",
    "a = df.loc[df.new_price.isin(lst)]\n",
    "print(a.head())\n",
    "print('lst를 포함하는 행수 : ',len(a))"
   ]
  },
  {
   "cell_type": "code",
   "execution_count": 215,
   "metadata": {},
   "outputs": [
    {
     "data": {
      "text/html": "<div>\n<style scoped>\n    .dataframe tbody tr th:only-of-type {\n        vertical-align: middle;\n    }\n\n    .dataframe tbody tr th {\n        vertical-align: top;\n    }\n\n    .dataframe thead th {\n        text-align: right;\n    }\n</style>\n<table border=\"1\" class=\"dataframe\">\n  <thead>\n    <tr style=\"text-align: right;\">\n      <th></th>\n      <th>id</th>\n      <th>name</th>\n      <th>host_id</th>\n      <th>host_name</th>\n      <th>neighbourhood_group</th>\n      <th>neighbourhood</th>\n      <th>latitude</th>\n      <th>longitude</th>\n      <th>room_type</th>\n      <th>price</th>\n      <th>minimum_nights</th>\n      <th>number_of_reviews</th>\n      <th>last_review</th>\n      <th>reviews_per_month</th>\n      <th>calculated_host_listings_count</th>\n      <th>availability_365</th>\n    </tr>\n  </thead>\n  <tbody>\n    <tr>\n      <th>0</th>\n      <td>2539</td>\n      <td>Clean &amp; quiet apt home by the park</td>\n      <td>2787</td>\n      <td>John</td>\n      <td>Brooklyn</td>\n      <td>Kensington</td>\n      <td>40.64749</td>\n      <td>-73.97237</td>\n      <td>Private room</td>\n      <td>149</td>\n      <td>1</td>\n      <td>9</td>\n      <td>2018-10-19</td>\n      <td>0.21</td>\n      <td>6</td>\n      <td>365</td>\n    </tr>\n    <tr>\n      <th>1</th>\n      <td>2595</td>\n      <td>Skylit Midtown Castle</td>\n      <td>2845</td>\n      <td>Jennifer</td>\n      <td>Manhattan</td>\n      <td>Midtown</td>\n      <td>40.75362</td>\n      <td>-73.98377</td>\n      <td>Entire home/apt</td>\n      <td>225</td>\n      <td>1</td>\n      <td>45</td>\n      <td>2019-05-21</td>\n      <td>0.38</td>\n      <td>2</td>\n      <td>355</td>\n    </tr>\n    <tr>\n      <th>2</th>\n      <td>3647</td>\n      <td>THE VILLAGE OF HARLEM....NEW YORK !</td>\n      <td>4632</td>\n      <td>Elisabeth</td>\n      <td>Manhattan</td>\n      <td>Harlem</td>\n      <td>40.80902</td>\n      <td>-73.94190</td>\n      <td>Private room</td>\n      <td>150</td>\n      <td>3</td>\n      <td>0</td>\n      <td>NaN</td>\n      <td>NaN</td>\n      <td>1</td>\n      <td>365</td>\n    </tr>\n    <tr>\n      <th>3</th>\n      <td>3831</td>\n      <td>Cozy Entire Floor of Brownstone</td>\n      <td>4869</td>\n      <td>LisaRoxanne</td>\n      <td>Brooklyn</td>\n      <td>Clinton Hill</td>\n      <td>40.68514</td>\n      <td>-73.95976</td>\n      <td>Entire home/apt</td>\n      <td>89</td>\n      <td>1</td>\n      <td>270</td>\n      <td>2019-07-05</td>\n      <td>4.64</td>\n      <td>1</td>\n      <td>194</td>\n    </tr>\n    <tr>\n      <th>4</th>\n      <td>5022</td>\n      <td>Entire Apt: Spacious Studio/Loft by central park</td>\n      <td>7192</td>\n      <td>Laura</td>\n      <td>Manhattan</td>\n      <td>East Harlem</td>\n      <td>40.79851</td>\n      <td>-73.94399</td>\n      <td>Entire home/apt</td>\n      <td>80</td>\n      <td>10</td>\n      <td>9</td>\n      <td>2018-11-19</td>\n      <td>0.10</td>\n      <td>1</td>\n      <td>0</td>\n    </tr>\n  </tbody>\n</table>\n</div>",
      "text/plain": "     id                                              name  host_id  \\\n0  2539                Clean & quiet apt home by the park     2787   \n1  2595                             Skylit Midtown Castle     2845   \n2  3647               THE VILLAGE OF HARLEM....NEW YORK !     4632   \n3  3831                   Cozy Entire Floor of Brownstone     4869   \n4  5022  Entire Apt: Spacious Studio/Loft by central park     7192   \n\n     host_name neighbourhood_group neighbourhood  latitude  longitude  \\\n0         John            Brooklyn    Kensington  40.64749  -73.97237   \n1     Jennifer           Manhattan       Midtown  40.75362  -73.98377   \n2    Elisabeth           Manhattan        Harlem  40.80902  -73.94190   \n3  LisaRoxanne            Brooklyn  Clinton Hill  40.68514  -73.95976   \n4        Laura           Manhattan   East Harlem  40.79851  -73.94399   \n\n         room_type  price  minimum_nights  number_of_reviews last_review  \\\n0     Private room    149               1                  9  2018-10-19   \n1  Entire home/apt    225               1                 45  2019-05-21   \n2     Private room    150               3                  0         NaN   \n3  Entire home/apt     89               1                270  2019-07-05   \n4  Entire home/apt     80              10                  9  2018-11-19   \n\n   reviews_per_month  calculated_host_listings_count  availability_365  \n0               0.21                               6               365  \n1               0.38                               2               355  \n2                NaN                               1               365  \n3               4.64                               1               194  \n4               0.10                               1                 0  "
     },
     "execution_count": 215,
     "metadata": {},
     "output_type": "execute_result"
    }
   ],
   "source": [
    "# 데이터를 로드하고 상위 5개 컬럼을 출력하라\n",
    "# 뉴욕 airbnb 데이터\n",
    "df = pd.read_csv('https://raw.githubusercontent.com/Datamanim/pandas/main/AB_NYC_2019.csv')\n",
    "df.head()"
   ]
  },
  {
   "cell_type": "code",
   "execution_count": 225,
   "metadata": {},
   "outputs": [
    {
     "data": {
      "text/plain": "host_name\nMichael         417\nDavid           403\nSonder (NYC)    327\nJohn            294\nAlex            279\ndtype: int64"
     },
     "execution_count": 225,
     "metadata": {},
     "output_type": "execute_result"
    }
   ],
   "source": [
    "# 데이터의 각 host_name의 빈도수를 구하고 host_name으로 정렬하여 상위 5개를 출력하라\n",
    "df.groupby('host_name').size().sort_values(ascending=False).head()"
   ]
  },
  {
   "cell_type": "code",
   "execution_count": 228,
   "metadata": {},
   "outputs": [
    {
     "data": {
      "text/html": "<div>\n<style scoped>\n    .dataframe tbody tr th:only-of-type {\n        vertical-align: middle;\n    }\n\n    .dataframe tbody tr th {\n        vertical-align: top;\n    }\n\n    .dataframe thead th {\n        text-align: right;\n    }\n</style>\n<table border=\"1\" class=\"dataframe\">\n  <thead>\n    <tr style=\"text-align: right;\">\n      <th></th>\n      <th>counts</th>\n    </tr>\n    <tr>\n      <th>host_name</th>\n      <th></th>\n    </tr>\n  </thead>\n  <tbody>\n    <tr>\n      <th>Michael</th>\n      <td>417</td>\n    </tr>\n    <tr>\n      <th>David</th>\n      <td>403</td>\n    </tr>\n    <tr>\n      <th>Sonder (NYC)</th>\n      <td>327</td>\n    </tr>\n    <tr>\n      <th>John</th>\n      <td>294</td>\n    </tr>\n    <tr>\n      <th>Alex</th>\n      <td>279</td>\n    </tr>\n  </tbody>\n</table>\n</div>",
      "text/plain": "              counts\nhost_name           \nMichael          417\nDavid            403\nSonder (NYC)     327\nJohn             294\nAlex             279"
     },
     "execution_count": 228,
     "metadata": {},
     "output_type": "execute_result"
    }
   ],
   "source": [
    "# 데이터의 각 host_name의 빈도수를 구하고 빈도수 기준 내림차순 정렬한 데이터 프레임을 만들어라. 빈도수 컬럼은 counts로 명명하라\n",
    "df.groupby('host_name').size().to_frame().rename(columns={0:'counts'}).sort_values(by='counts',ascending=False).head()"
   ]
  },
  {
   "cell_type": "code",
   "execution_count": 238,
   "metadata": {},
   "outputs": [
    {
     "data": {
      "text/html": "<div>\n<style scoped>\n    .dataframe tbody tr th:only-of-type {\n        vertical-align: middle;\n    }\n\n    .dataframe tbody tr th {\n        vertical-align: top;\n    }\n\n    .dataframe thead th {\n        text-align: right;\n    }\n</style>\n<table border=\"1\" class=\"dataframe\">\n  <thead>\n    <tr style=\"text-align: right;\">\n      <th></th>\n      <th>neighbourhood_group</th>\n      <th>neighbourhood</th>\n      <th>size</th>\n    </tr>\n  </thead>\n  <tbody>\n    <tr>\n      <th>0</th>\n      <td>Bronx</td>\n      <td>Allerton</td>\n      <td>42</td>\n    </tr>\n    <tr>\n      <th>1</th>\n      <td>Bronx</td>\n      <td>Baychester</td>\n      <td>7</td>\n    </tr>\n    <tr>\n      <th>2</th>\n      <td>Bronx</td>\n      <td>Belmont</td>\n      <td>24</td>\n    </tr>\n    <tr>\n      <th>3</th>\n      <td>Bronx</td>\n      <td>Bronxdale</td>\n      <td>19</td>\n    </tr>\n    <tr>\n      <th>4</th>\n      <td>Bronx</td>\n      <td>Castle Hill</td>\n      <td>9</td>\n    </tr>\n  </tbody>\n</table>\n</div>",
      "text/plain": "  neighbourhood_group neighbourhood  size\n0               Bronx      Allerton    42\n1               Bronx    Baychester     7\n2               Bronx       Belmont    24\n3               Bronx     Bronxdale    19\n4               Bronx   Castle Hill     9"
     },
     "execution_count": 238,
     "metadata": {},
     "output_type": "execute_result"
    }
   ],
   "source": [
    "# neighbourhood_group의 값에 따른 neighbourhood컬럼 값의 갯수를 구하여라\n",
    "# groupby 옵션 중 as_index=False는 집계 기준이되는 데이터 전부를 보여주고 True는 하나만 보여줌.\n",
    "df.groupby(by=['neighbourhood_group','neighbourhood'],as_index=False).size().head()"
   ]
  },
  {
   "cell_type": "code",
   "execution_count": 248,
   "metadata": {},
   "outputs": [
    {
     "data": {
      "text/html": "<div>\n<style scoped>\n    .dataframe tbody tr th:only-of-type {\n        vertical-align: middle;\n    }\n\n    .dataframe tbody tr th {\n        vertical-align: top;\n    }\n\n    .dataframe thead th {\n        text-align: right;\n    }\n</style>\n<table border=\"1\" class=\"dataframe\">\n  <thead>\n    <tr style=\"text-align: right;\">\n      <th></th>\n      <th>neighbourhood_group</th>\n      <th>neighbourhood</th>\n      <th>size</th>\n    </tr>\n  </thead>\n  <tbody>\n    <tr>\n      <th>0</th>\n      <td>Bronx</td>\n      <td>Woodlawn</td>\n      <td>70</td>\n    </tr>\n    <tr>\n      <th>1</th>\n      <td>Brooklyn</td>\n      <td>Windsor Terrace</td>\n      <td>3920</td>\n    </tr>\n    <tr>\n      <th>2</th>\n      <td>Manhattan</td>\n      <td>West Village</td>\n      <td>2658</td>\n    </tr>\n    <tr>\n      <th>3</th>\n      <td>Queens</td>\n      <td>Woodside</td>\n      <td>900</td>\n    </tr>\n    <tr>\n      <th>4</th>\n      <td>Staten Island</td>\n      <td>Woodrow</td>\n      <td>48</td>\n    </tr>\n  </tbody>\n</table>\n</div>",
      "text/plain": "  neighbourhood_group    neighbourhood  size\n0               Bronx         Woodlawn    70\n1            Brooklyn  Windsor Terrace  3920\n2           Manhattan     West Village  2658\n3              Queens         Woodside   900\n4       Staten Island          Woodrow    48"
     },
     "execution_count": 248,
     "metadata": {},
     "output_type": "execute_result"
    }
   ],
   "source": [
    "# neighbourhood_group의 값에 따른 neighbourhood컬럼 값 중 neighbourhood_group그룹의 최댓값들을 출력하라\n",
    "df.groupby(['neighbourhood_group','neighbourhood'],as_index=False).size().groupby('neighbourhood_group',as_index=False).max()"
   ]
  },
  {
   "cell_type": "code",
   "execution_count": 254,
   "metadata": {},
   "outputs": [
    {
     "data": {
      "text/html": "<div>\n<style scoped>\n    .dataframe tbody tr th:only-of-type {\n        vertical-align: middle;\n    }\n\n    .dataframe tbody tr th {\n        vertical-align: top;\n    }\n\n    .dataframe thead tr th {\n        text-align: left;\n    }\n\n    .dataframe thead tr:last-of-type th {\n        text-align: right;\n    }\n</style>\n<table border=\"1\" class=\"dataframe\">\n  <thead>\n    <tr>\n      <th></th>\n      <th colspan=\"4\" halign=\"left\">price</th>\n    </tr>\n    <tr>\n      <th></th>\n      <th>mean</th>\n      <th>var</th>\n      <th>max</th>\n      <th>min</th>\n    </tr>\n    <tr>\n      <th>neighbourhood_group</th>\n      <th></th>\n      <th></th>\n      <th></th>\n      <th></th>\n    </tr>\n  </thead>\n  <tbody>\n    <tr>\n      <th>Bronx</th>\n      <td>87.496792</td>\n      <td>11386.885081</td>\n      <td>2500</td>\n      <td>0</td>\n    </tr>\n    <tr>\n      <th>Brooklyn</th>\n      <td>124.383207</td>\n      <td>34921.719135</td>\n      <td>10000</td>\n      <td>0</td>\n    </tr>\n    <tr>\n      <th>Manhattan</th>\n      <td>196.875814</td>\n      <td>84904.159185</td>\n      <td>10000</td>\n      <td>0</td>\n    </tr>\n    <tr>\n      <th>Queens</th>\n      <td>99.517649</td>\n      <td>27923.130227</td>\n      <td>10000</td>\n      <td>10</td>\n    </tr>\n    <tr>\n      <th>Staten Island</th>\n      <td>114.812332</td>\n      <td>77073.088342</td>\n      <td>5000</td>\n      <td>13</td>\n    </tr>\n  </tbody>\n</table>\n</div>",
      "text/plain": "                          price                         \n                           mean           var    max min\nneighbourhood_group                                     \nBronx                 87.496792  11386.885081   2500   0\nBrooklyn             124.383207  34921.719135  10000   0\nManhattan            196.875814  84904.159185  10000   0\nQueens                99.517649  27923.130227  10000  10\nStaten Island        114.812332  77073.088342   5000  13"
     },
     "execution_count": 254,
     "metadata": {},
     "output_type": "execute_result"
    }
   ],
   "source": [
    "# neighbourhood_group 값에 따른 price값의 평균, 분산, 최대, 최소 값을 구하여라\n",
    "# groupby이후 집계를 하고싶을때는 agg함수 이용. R의 tidyverse패키지 내 group_by함수 이후 summarise를 사용하는 방법과 동일\n",
    "df[['neighbourhood_group','price']].groupby('neighbourhood_group').agg(['mean','var','max','min'])"
   ]
  },
  {
   "cell_type": "code",
   "execution_count": 256,
   "metadata": {},
   "outputs": [
    {
     "data": {
      "text/html": "<div>\n<style scoped>\n    .dataframe tbody tr th:only-of-type {\n        vertical-align: middle;\n    }\n\n    .dataframe tbody tr th {\n        vertical-align: top;\n    }\n\n    .dataframe thead tr th {\n        text-align: left;\n    }\n\n    .dataframe thead tr:last-of-type th {\n        text-align: right;\n    }\n</style>\n<table border=\"1\" class=\"dataframe\">\n  <thead>\n    <tr>\n      <th></th>\n      <th colspan=\"4\" halign=\"left\">reviews_per_month</th>\n    </tr>\n    <tr>\n      <th></th>\n      <th>mean</th>\n      <th>var</th>\n      <th>max</th>\n      <th>min</th>\n    </tr>\n    <tr>\n      <th>neighbourhood_group</th>\n      <th></th>\n      <th></th>\n      <th></th>\n      <th></th>\n    </tr>\n  </thead>\n  <tbody>\n    <tr>\n      <th>Bronx</th>\n      <td>1.837831</td>\n      <td>2.799878</td>\n      <td>10.34</td>\n      <td>0.02</td>\n    </tr>\n    <tr>\n      <th>Brooklyn</th>\n      <td>1.283212</td>\n      <td>2.299040</td>\n      <td>14.00</td>\n      <td>0.01</td>\n    </tr>\n    <tr>\n      <th>Manhattan</th>\n      <td>1.272131</td>\n      <td>2.651206</td>\n      <td>58.50</td>\n      <td>0.01</td>\n    </tr>\n    <tr>\n      <th>Queens</th>\n      <td>1.941200</td>\n      <td>4.897848</td>\n      <td>20.94</td>\n      <td>0.01</td>\n    </tr>\n    <tr>\n      <th>Staten Island</th>\n      <td>1.872580</td>\n      <td>2.840895</td>\n      <td>10.12</td>\n      <td>0.02</td>\n    </tr>\n  </tbody>\n</table>\n</div>",
      "text/plain": "                    reviews_per_month                       \n                                 mean       var    max   min\nneighbourhood_group                                         \nBronx                        1.837831  2.799878  10.34  0.02\nBrooklyn                     1.283212  2.299040  14.00  0.01\nManhattan                    1.272131  2.651206  58.50  0.01\nQueens                       1.941200  4.897848  20.94  0.01\nStaten Island                1.872580  2.840895  10.12  0.02"
     },
     "execution_count": 256,
     "metadata": {},
     "output_type": "execute_result"
    }
   ],
   "source": [
    "# neighbourhood_group 값에 따른 reviews_per_month 평균, 분산, 최대, 최소 값을 구하여라\n",
    "df[['neighbourhood_group','reviews_per_month']].groupby('neighbourhood_group').agg(['mean','var','max','min'])\n"
   ]
  },
  {
   "cell_type": "code",
   "execution_count": 258,
   "metadata": {},
   "outputs": [
    {
     "data": {
      "text/html": "<div>\n<style scoped>\n    .dataframe tbody tr th:only-of-type {\n        vertical-align: middle;\n    }\n\n    .dataframe tbody tr th {\n        vertical-align: top;\n    }\n\n    .dataframe thead th {\n        text-align: right;\n    }\n</style>\n<table border=\"1\" class=\"dataframe\">\n  <thead>\n    <tr style=\"text-align: right;\">\n      <th></th>\n      <th></th>\n      <th>price</th>\n    </tr>\n    <tr>\n      <th>neighbourhood</th>\n      <th>neighbourhood_group</th>\n      <th></th>\n    </tr>\n  </thead>\n  <tbody>\n    <tr>\n      <th>Allerton</th>\n      <th>Bronx</th>\n      <td>87.595238</td>\n    </tr>\n    <tr>\n      <th>Arden Heights</th>\n      <th>Staten Island</th>\n      <td>67.250000</td>\n    </tr>\n    <tr>\n      <th>Arrochar</th>\n      <th>Staten Island</th>\n      <td>115.000000</td>\n    </tr>\n    <tr>\n      <th>Arverne</th>\n      <th>Queens</th>\n      <td>171.779221</td>\n    </tr>\n    <tr>\n      <th>Astoria</th>\n      <th>Queens</th>\n      <td>117.187778</td>\n    </tr>\n  </tbody>\n</table>\n</div>",
      "text/plain": "                                        price\nneighbourhood neighbourhood_group            \nAllerton      Bronx                 87.595238\nArden Heights Staten Island         67.250000\nArrochar      Staten Island        115.000000\nArverne       Queens               171.779221\nAstoria       Queens               117.187778"
     },
     "execution_count": 258,
     "metadata": {},
     "output_type": "execute_result"
    }
   ],
   "source": [
    "# neighbourhood 값과 neighbourhood_group 값에 따른 price 의 평균을 구하라\n",
    "df[['neighbourhood','neighbourhood_group','price']].groupby(['neighbourhood','neighbourhood_group']).agg('mean').head()"
   ]
  },
  {
   "cell_type": "code",
   "execution_count": 260,
   "metadata": {},
   "outputs": [
    {
     "data": {
      "text/html": "<div>\n<style scoped>\n    .dataframe tbody tr th:only-of-type {\n        vertical-align: middle;\n    }\n\n    .dataframe tbody tr th {\n        vertical-align: top;\n    }\n\n    .dataframe thead tr th {\n        text-align: left;\n    }\n\n    .dataframe thead tr:last-of-type th {\n        text-align: right;\n    }\n</style>\n<table border=\"1\" class=\"dataframe\">\n  <thead>\n    <tr>\n      <th></th>\n      <th colspan=\"5\" halign=\"left\">price</th>\n    </tr>\n    <tr>\n      <th>neighbourhood_group</th>\n      <th>Bronx</th>\n      <th>Brooklyn</th>\n      <th>Manhattan</th>\n      <th>Queens</th>\n      <th>Staten Island</th>\n    </tr>\n    <tr>\n      <th>neighbourhood</th>\n      <th></th>\n      <th></th>\n      <th></th>\n      <th></th>\n      <th></th>\n    </tr>\n  </thead>\n  <tbody>\n    <tr>\n      <th>Allerton</th>\n      <td>87.595238</td>\n      <td>NaN</td>\n      <td>NaN</td>\n      <td>NaN</td>\n      <td>NaN</td>\n    </tr>\n    <tr>\n      <th>Arden Heights</th>\n      <td>NaN</td>\n      <td>NaN</td>\n      <td>NaN</td>\n      <td>NaN</td>\n      <td>67.25</td>\n    </tr>\n    <tr>\n      <th>Arrochar</th>\n      <td>NaN</td>\n      <td>NaN</td>\n      <td>NaN</td>\n      <td>NaN</td>\n      <td>115.00</td>\n    </tr>\n    <tr>\n      <th>Arverne</th>\n      <td>NaN</td>\n      <td>NaN</td>\n      <td>NaN</td>\n      <td>171.779221</td>\n      <td>NaN</td>\n    </tr>\n    <tr>\n      <th>Astoria</th>\n      <td>NaN</td>\n      <td>NaN</td>\n      <td>NaN</td>\n      <td>117.187778</td>\n      <td>NaN</td>\n    </tr>\n    <tr>\n      <th>...</th>\n      <td>...</td>\n      <td>...</td>\n      <td>...</td>\n      <td>...</td>\n      <td>...</td>\n    </tr>\n    <tr>\n      <th>Windsor Terrace</th>\n      <td>NaN</td>\n      <td>138.993631</td>\n      <td>NaN</td>\n      <td>NaN</td>\n      <td>NaN</td>\n    </tr>\n    <tr>\n      <th>Woodhaven</th>\n      <td>NaN</td>\n      <td>NaN</td>\n      <td>NaN</td>\n      <td>67.170455</td>\n      <td>NaN</td>\n    </tr>\n    <tr>\n      <th>Woodlawn</th>\n      <td>60.090909</td>\n      <td>NaN</td>\n      <td>NaN</td>\n      <td>NaN</td>\n      <td>NaN</td>\n    </tr>\n    <tr>\n      <th>Woodrow</th>\n      <td>NaN</td>\n      <td>NaN</td>\n      <td>NaN</td>\n      <td>NaN</td>\n      <td>700.00</td>\n    </tr>\n    <tr>\n      <th>Woodside</th>\n      <td>NaN</td>\n      <td>NaN</td>\n      <td>NaN</td>\n      <td>85.097872</td>\n      <td>NaN</td>\n    </tr>\n  </tbody>\n</table>\n<p>221 rows × 5 columns</p>\n</div>",
      "text/plain": "                         price                                                \nneighbourhood_group      Bronx    Brooklyn Manhattan      Queens Staten Island\nneighbourhood                                                                 \nAllerton             87.595238         NaN       NaN         NaN           NaN\nArden Heights              NaN         NaN       NaN         NaN         67.25\nArrochar                   NaN         NaN       NaN         NaN        115.00\nArverne                    NaN         NaN       NaN  171.779221           NaN\nAstoria                    NaN         NaN       NaN  117.187778           NaN\n...                        ...         ...       ...         ...           ...\nWindsor Terrace            NaN  138.993631       NaN         NaN           NaN\nWoodhaven                  NaN         NaN       NaN   67.170455           NaN\nWoodlawn             60.090909         NaN       NaN         NaN           NaN\nWoodrow                    NaN         NaN       NaN         NaN        700.00\nWoodside                   NaN         NaN       NaN   85.097872           NaN\n\n[221 rows x 5 columns]"
     },
     "execution_count": 260,
     "metadata": {},
     "output_type": "execute_result"
    }
   ],
   "source": [
    "# neighbourhood 값과 neighbourhood_group 값에 따른 price 의 평균을 계층적 indexing 없이 구하라\n",
    "# unstack() : \n",
    "df[['neighbourhood','neighbourhood_group','price']].groupby(['neighbourhood','neighbourhood_group']).agg('mean').unstack()"
   ]
  },
  {
   "cell_type": "code",
   "execution_count": 270,
   "metadata": {},
   "outputs": [
    {
     "data": {
      "text/html": "<div>\n<style scoped>\n    .dataframe tbody tr th:only-of-type {\n        vertical-align: middle;\n    }\n\n    .dataframe tbody tr th {\n        vertical-align: top;\n    }\n\n    .dataframe thead tr th {\n        text-align: left;\n    }\n\n    .dataframe thead tr:last-of-type th {\n        text-align: right;\n    }\n</style>\n<table border=\"1\" class=\"dataframe\">\n  <thead>\n    <tr>\n      <th></th>\n      <th colspan=\"5\" halign=\"left\">price</th>\n    </tr>\n    <tr>\n      <th>neighbourhood_group</th>\n      <th>Bronx</th>\n      <th>Brooklyn</th>\n      <th>Manhattan</th>\n      <th>Queens</th>\n      <th>Staten Island</th>\n    </tr>\n    <tr>\n      <th>neighbourhood</th>\n      <th></th>\n      <th></th>\n      <th></th>\n      <th></th>\n      <th></th>\n    </tr>\n  </thead>\n  <tbody>\n    <tr>\n      <th>Allerton</th>\n      <td>87.595238</td>\n      <td>-999.000000</td>\n      <td>-999.0</td>\n      <td>-999.000000</td>\n      <td>-999.00</td>\n    </tr>\n    <tr>\n      <th>Arden Heights</th>\n      <td>-999.000000</td>\n      <td>-999.000000</td>\n      <td>-999.0</td>\n      <td>-999.000000</td>\n      <td>67.25</td>\n    </tr>\n    <tr>\n      <th>Arrochar</th>\n      <td>-999.000000</td>\n      <td>-999.000000</td>\n      <td>-999.0</td>\n      <td>-999.000000</td>\n      <td>115.00</td>\n    </tr>\n    <tr>\n      <th>Arverne</th>\n      <td>-999.000000</td>\n      <td>-999.000000</td>\n      <td>-999.0</td>\n      <td>171.779221</td>\n      <td>-999.00</td>\n    </tr>\n    <tr>\n      <th>Astoria</th>\n      <td>-999.000000</td>\n      <td>-999.000000</td>\n      <td>-999.0</td>\n      <td>117.187778</td>\n      <td>-999.00</td>\n    </tr>\n    <tr>\n      <th>...</th>\n      <td>...</td>\n      <td>...</td>\n      <td>...</td>\n      <td>...</td>\n      <td>...</td>\n    </tr>\n    <tr>\n      <th>Windsor Terrace</th>\n      <td>-999.000000</td>\n      <td>138.993631</td>\n      <td>-999.0</td>\n      <td>-999.000000</td>\n      <td>-999.00</td>\n    </tr>\n    <tr>\n      <th>Woodhaven</th>\n      <td>-999.000000</td>\n      <td>-999.000000</td>\n      <td>-999.0</td>\n      <td>67.170455</td>\n      <td>-999.00</td>\n    </tr>\n    <tr>\n      <th>Woodlawn</th>\n      <td>60.090909</td>\n      <td>-999.000000</td>\n      <td>-999.0</td>\n      <td>-999.000000</td>\n      <td>-999.00</td>\n    </tr>\n    <tr>\n      <th>Woodrow</th>\n      <td>-999.000000</td>\n      <td>-999.000000</td>\n      <td>-999.0</td>\n      <td>-999.000000</td>\n      <td>700.00</td>\n    </tr>\n    <tr>\n      <th>Woodside</th>\n      <td>-999.000000</td>\n      <td>-999.000000</td>\n      <td>-999.0</td>\n      <td>85.097872</td>\n      <td>-999.00</td>\n    </tr>\n  </tbody>\n</table>\n<p>221 rows × 5 columns</p>\n</div>",
      "text/plain": "                          price                                    \\\nneighbourhood_group       Bronx    Brooklyn Manhattan      Queens   \nneighbourhood                                                       \nAllerton              87.595238 -999.000000    -999.0 -999.000000   \nArden Heights       -999.000000 -999.000000    -999.0 -999.000000   \nArrochar            -999.000000 -999.000000    -999.0 -999.000000   \nArverne             -999.000000 -999.000000    -999.0  171.779221   \nAstoria             -999.000000 -999.000000    -999.0  117.187778   \n...                         ...         ...       ...         ...   \nWindsor Terrace     -999.000000  138.993631    -999.0 -999.000000   \nWoodhaven           -999.000000 -999.000000    -999.0   67.170455   \nWoodlawn              60.090909 -999.000000    -999.0 -999.000000   \nWoodrow             -999.000000 -999.000000    -999.0 -999.000000   \nWoodside            -999.000000 -999.000000    -999.0   85.097872   \n\n                                   \nneighbourhood_group Staten Island  \nneighbourhood                      \nAllerton                  -999.00  \nArden Heights               67.25  \nArrochar                   115.00  \nArverne                   -999.00  \nAstoria                   -999.00  \n...                           ...  \nWindsor Terrace           -999.00  \nWoodhaven                 -999.00  \nWoodlawn                  -999.00  \nWoodrow                    700.00  \nWoodside                  -999.00  \n\n[221 rows x 5 columns]"
     },
     "execution_count": 270,
     "metadata": {},
     "output_type": "execute_result"
    }
   ],
   "source": [
    "# neighbourhood 값과 neighbourhood_group 값에 따른 price 의 평균을 계층적 indexing 없이 구하고 nan 값은 -999값으로 채워라\n",
    "# nan 값 채우기 : fillna(value = '값')\n",
    "df[['neighbourhood','neighbourhood_group','price']].groupby(['neighbourhood','neighbourhood_group']).agg('mean').unstack().fillna(value = -999)"
   ]
  },
  {
   "cell_type": "code",
   "execution_count": 280,
   "metadata": {},
   "outputs": [
    {
     "data": {
      "text/html": "<div>\n<style scoped>\n    .dataframe tbody tr th:only-of-type {\n        vertical-align: middle;\n    }\n\n    .dataframe tbody tr th {\n        vertical-align: top;\n    }\n\n    .dataframe thead th {\n        text-align: right;\n    }\n</style>\n<table border=\"1\" class=\"dataframe\">\n  <thead>\n    <tr style=\"text-align: right;\">\n      <th></th>\n      <th>mean</th>\n      <th>var</th>\n      <th>max</th>\n      <th>min</th>\n    </tr>\n    <tr>\n      <th>neighbourhood</th>\n      <th></th>\n      <th></th>\n      <th></th>\n      <th></th>\n    </tr>\n  </thead>\n  <tbody>\n    <tr>\n      <th>Arverne</th>\n      <td>171.779221</td>\n      <td>37383.411141</td>\n      <td>1500</td>\n      <td>35</td>\n    </tr>\n    <tr>\n      <th>Astoria</th>\n      <td>117.187778</td>\n      <td>122428.811196</td>\n      <td>10000</td>\n      <td>25</td>\n    </tr>\n    <tr>\n      <th>Bay Terrace</th>\n      <td>142.000000</td>\n      <td>6816.400000</td>\n      <td>258</td>\n      <td>32</td>\n    </tr>\n    <tr>\n      <th>Bayside</th>\n      <td>157.948718</td>\n      <td>166106.470985</td>\n      <td>2600</td>\n      <td>30</td>\n    </tr>\n    <tr>\n      <th>Bayswater</th>\n      <td>87.470588</td>\n      <td>2330.889706</td>\n      <td>230</td>\n      <td>45</td>\n    </tr>\n  </tbody>\n</table>\n</div>",
      "text/plain": "                     mean            var    max  min\nneighbourhood                                       \nArverne        171.779221   37383.411141   1500   35\nAstoria        117.187778  122428.811196  10000   25\nBay Terrace    142.000000    6816.400000    258   32\nBayside        157.948718  166106.470985   2600   30\nBayswater       87.470588    2330.889706    230   45"
     },
     "execution_count": 280,
     "metadata": {},
     "output_type": "execute_result"
    }
   ],
   "source": [
    "# 데이터중 neighbourhood_group 값이 Queens값을 가지는 데이터들 중 neighbourhood 그룹별로 price값의 평균, 분산, 최대, 최소값을 구하라\n",
    "df.loc[df['neighbourhood_group'] == 'Queens'].groupby('neighbourhood').price.agg(['mean','var','max','min']).head()"
   ]
  },
  {
   "cell_type": "code",
   "execution_count": 337,
   "metadata": {},
   "outputs": [
    {
     "data": {
      "text/html": "<div>\n<style scoped>\n    .dataframe tbody tr th:only-of-type {\n        vertical-align: middle;\n    }\n\n    .dataframe tbody tr th {\n        vertical-align: top;\n    }\n\n    .dataframe thead th {\n        text-align: right;\n    }\n</style>\n<table border=\"1\" class=\"dataframe\">\n  <thead>\n    <tr style=\"text-align: right;\">\n      <th>room_type</th>\n      <th>Entire home/apt</th>\n      <th>Private room</th>\n      <th>Shared room</th>\n    </tr>\n    <tr>\n      <th>neighbourhood_group</th>\n      <th></th>\n      <th></th>\n      <th></th>\n    </tr>\n  </thead>\n  <tbody>\n    <tr>\n      <th>Bronx</th>\n      <td>0.347388</td>\n      <td>0.597617</td>\n      <td>0.054995</td>\n    </tr>\n    <tr>\n      <th>Brooklyn</th>\n      <td>0.475478</td>\n      <td>0.503979</td>\n      <td>0.020543</td>\n    </tr>\n    <tr>\n      <th>Manhattan</th>\n      <td>0.609344</td>\n      <td>0.368496</td>\n      <td>0.022160</td>\n    </tr>\n    <tr>\n      <th>Queens</th>\n      <td>0.369926</td>\n      <td>0.595129</td>\n      <td>0.034945</td>\n    </tr>\n    <tr>\n      <th>Staten Island</th>\n      <td>0.471850</td>\n      <td>0.504021</td>\n      <td>0.024129</td>\n    </tr>\n  </tbody>\n</table>\n</div>",
      "text/plain": "room_type            Entire home/apt  Private room  Shared room\nneighbourhood_group                                            \nBronx                       0.347388      0.597617     0.054995\nBrooklyn                    0.475478      0.503979     0.020543\nManhattan                   0.609344      0.368496     0.022160\nQueens                      0.369926      0.595129     0.034945\nStaten Island               0.471850      0.504021     0.024129"
     },
     "execution_count": 337,
     "metadata": {},
     "output_type": "execute_result"
    }
   ],
   "source": [
    "# 데이터중 neighbourhood_group 값에 따른 room_type 컬럼의 숫자를 구하고 neighbourhood_group 값을 기준으로 각 값의 비율을 구하여라\n",
    "a = df.groupby(['neighbourhood_group','room_type']).size().unstack()\n",
    "# print('집계 : ', a)\n",
    "# print('분자 : ', a.values)\n",
    "# print('분모 : ', a.sum(axis=1).values.reshape(-1,1))\n",
    "# print('최종 : ', (a.values / a.sum(axis=1).values.reshape(-1,1)))\n",
    "a.loc[:,:] = (a.values / a.sum(axis=1).values.reshape(-1,1))\n",
    "a"
   ]
  },
  {
   "cell_type": "code",
   "execution_count": 330,
   "metadata": {},
   "outputs": [
    {
     "data": {
      "text/plain": "array([[0, 1, 2, 3, 4],\n       [5, 6, 7, 8, 9]])"
     },
     "execution_count": 330,
     "metadata": {},
     "output_type": "execute_result"
    }
   ],
   "source": [
    "# reshape 함수 : numpy.darray의 차원과 모양을 바꿔준다.\n",
    "# reshape(d,n,p) : d는 차원, n은 행, p는 열\n",
    "# reshape에서 -1은 알아서 채워줘~ 의 의미인걸로 보임. 예를들어 1~10의 arange에 대해 reshape(-1,5)은 열이 5이고 이고 행은 자동이므로 한 2*5 배열을 생성함.\n",
    "# 단, -1을 행이나 열에 쓸때에는 총 합과 배열의 수가 맞아야함. 예를들어 arange숫자가 10개인데 reshape(-1,4)을 사용하게 되면 오류가 남.\n",
    "np.arange(10).reshape(-1,5)"
   ]
  },
  {
   "cell_type": "code",
   "execution_count": 106,
   "metadata": {},
   "outputs": [],
   "source": [
    "# kaggle 카드 이용 데이터\n",
    "df = pd.read_csv('https://raw.githubusercontent.com/Datamanim/pandas/main/BankChurnersUp.csv',index_col=0)"
   ]
  },
  {
   "cell_type": "code",
   "execution_count": 107,
   "metadata": {},
   "outputs": [
    {
     "name": "stdout",
     "output_type": "stream",
     "text": [
      "행의갯수 :  10127\n",
      "열의갯수 :  18\n"
     ]
    }
   ],
   "source": [
    "print('행의갯수 : ', df.shape[0])\n",
    "print('열의갯수 : ', df.shape[1])"
   ]
  },
  {
   "cell_type": "code",
   "execution_count": 108,
   "metadata": {},
   "outputs": [
    {
     "data": {
      "text/plain": "array(['c', 'a', 'd', 'b', 'e', 'N'], dtype=object)"
     },
     "execution_count": 108,
     "metadata": {},
     "output_type": "execute_result"
    }
   ],
   "source": [
    "# Income_Category의 카테고리를 map 함수를 이용하여 다음과 같이 변경하여 newIncome 컬럼에 매핑하라\n",
    "# Unknown : N\n",
    "# Less than $40K : a\n",
    "# $40K - $60K : b\n",
    "# $60K - $80K : c\n",
    "# $80K - $120K : d\n",
    "# $120K +’ : e\n",
    "\n",
    "dic = {\n",
    "    'Unknown'        : 'N',\n",
    "    'Less than $40K' : 'a',\n",
    "    '$40K - $60K'    : 'b',\n",
    "    '$60K - $80K'    : 'c',\n",
    "    '$80K - $120K'   : 'd',\n",
    "    '$120K +'       : 'e'\n",
    "}\n",
    "df['newIncome'] = df.Income_Category.map(lambda x: dic[x])\n",
    "df.newIncome.unique()"
   ]
  },
  {
   "cell_type": "code",
   "execution_count": 109,
   "metadata": {},
   "outputs": [
    {
     "data": {
      "text/html": "<div>\n<style scoped>\n    .dataframe tbody tr th:only-of-type {\n        vertical-align: middle;\n    }\n\n    .dataframe tbody tr th {\n        vertical-align: top;\n    }\n\n    .dataframe thead th {\n        text-align: right;\n    }\n</style>\n<table border=\"1\" class=\"dataframe\">\n  <thead>\n    <tr style=\"text-align: right;\">\n      <th></th>\n      <th>CLIENTNUM</th>\n      <th>Attrition_Flag</th>\n      <th>Customer_Age</th>\n      <th>Gender</th>\n      <th>Dependent_count</th>\n      <th>Education_Level</th>\n      <th>Marital_Status</th>\n      <th>Income_Category</th>\n      <th>Card_Category</th>\n      <th>Months_on_book</th>\n      <th>Total_Relationship_Count</th>\n      <th>Months_Inactive_12_mon</th>\n      <th>Contacts_Count_12_mon</th>\n      <th>Credit_Limit</th>\n      <th>Total_Revolving_Bal</th>\n      <th>Avg_Open_To_Buy</th>\n      <th>Total_Amt_Chng_Q4_Q1</th>\n      <th>Total_Trans_Amt</th>\n      <th>newIncome</th>\n    </tr>\n  </thead>\n  <tbody>\n    <tr>\n      <th>0</th>\n      <td>768805383</td>\n      <td>Existing Customer</td>\n      <td>45</td>\n      <td>M</td>\n      <td>3</td>\n      <td>High School</td>\n      <td>Married</td>\n      <td>$60K - $80K</td>\n      <td>Blue</td>\n      <td>39</td>\n      <td>5</td>\n      <td>1</td>\n      <td>3</td>\n      <td>12691.0</td>\n      <td>777</td>\n      <td>11914.0</td>\n      <td>1.335</td>\n      <td>1144</td>\n      <td>c</td>\n    </tr>\n    <tr>\n      <th>1</th>\n      <td>818770008</td>\n      <td>Existing Customer</td>\n      <td>49</td>\n      <td>F</td>\n      <td>5</td>\n      <td>Graduate</td>\n      <td>Single</td>\n      <td>Less than $40K</td>\n      <td>Blue</td>\n      <td>44</td>\n      <td>6</td>\n      <td>1</td>\n      <td>2</td>\n      <td>8256.0</td>\n      <td>864</td>\n      <td>7392.0</td>\n      <td>1.541</td>\n      <td>1291</td>\n      <td>a</td>\n    </tr>\n    <tr>\n      <th>2</th>\n      <td>713982108</td>\n      <td>Existing Customer</td>\n      <td>51</td>\n      <td>M</td>\n      <td>3</td>\n      <td>Graduate</td>\n      <td>Married</td>\n      <td>$80K - $120K</td>\n      <td>Blue</td>\n      <td>36</td>\n      <td>4</td>\n      <td>1</td>\n      <td>0</td>\n      <td>3418.0</td>\n      <td>0</td>\n      <td>3418.0</td>\n      <td>2.594</td>\n      <td>1887</td>\n      <td>d</td>\n    </tr>\n    <tr>\n      <th>3</th>\n      <td>769911858</td>\n      <td>Existing Customer</td>\n      <td>40</td>\n      <td>F</td>\n      <td>4</td>\n      <td>High School</td>\n      <td>Unknown</td>\n      <td>Less than $40K</td>\n      <td>Blue</td>\n      <td>34</td>\n      <td>3</td>\n      <td>4</td>\n      <td>1</td>\n      <td>3313.0</td>\n      <td>2517</td>\n      <td>796.0</td>\n      <td>1.405</td>\n      <td>1171</td>\n      <td>a</td>\n    </tr>\n    <tr>\n      <th>4</th>\n      <td>709106358</td>\n      <td>Existing Customer</td>\n      <td>40</td>\n      <td>M</td>\n      <td>3</td>\n      <td>Uneducated</td>\n      <td>Married</td>\n      <td>$60K - $80K</td>\n      <td>Blue</td>\n      <td>21</td>\n      <td>5</td>\n      <td>1</td>\n      <td>0</td>\n      <td>4716.0</td>\n      <td>0</td>\n      <td>4716.0</td>\n      <td>2.175</td>\n      <td>816</td>\n      <td>c</td>\n    </tr>\n  </tbody>\n</table>\n</div>",
      "text/plain": "   CLIENTNUM     Attrition_Flag  Customer_Age Gender  Dependent_count  \\\n0  768805383  Existing Customer            45      M                3   \n1  818770008  Existing Customer            49      F                5   \n2  713982108  Existing Customer            51      M                3   \n3  769911858  Existing Customer            40      F                4   \n4  709106358  Existing Customer            40      M                3   \n\n  Education_Level Marital_Status Income_Category Card_Category  \\\n0     High School        Married     $60K - $80K          Blue   \n1        Graduate         Single  Less than $40K          Blue   \n2        Graduate        Married    $80K - $120K          Blue   \n3     High School        Unknown  Less than $40K          Blue   \n4      Uneducated        Married     $60K - $80K          Blue   \n\n   Months_on_book  Total_Relationship_Count  Months_Inactive_12_mon  \\\n0              39                         5                       1   \n1              44                         6                       1   \n2              36                         4                       1   \n3              34                         3                       4   \n4              21                         5                       1   \n\n   Contacts_Count_12_mon  Credit_Limit  Total_Revolving_Bal  Avg_Open_To_Buy  \\\n0                      3       12691.0                  777          11914.0   \n1                      2        8256.0                  864           7392.0   \n2                      0        3418.0                    0           3418.0   \n3                      1        3313.0                 2517            796.0   \n4                      0        4716.0                    0           4716.0   \n\n   Total_Amt_Chng_Q4_Q1  Total_Trans_Amt newIncome  \n0                 1.335             1144         c  \n1                 1.541             1291         a  \n2                 2.594             1887         d  \n3                 1.405             1171         a  \n4                 2.175              816         c  "
     },
     "execution_count": 109,
     "metadata": {},
     "output_type": "execute_result"
    }
   ],
   "source": [
    "# Income_Category의 카테고리를 apply 함수를 이용하여 다음과 같이 변경하여 newIncome 컬럼에 매핑하라\n",
    "# Unknown : N\n",
    "# Less than $40K : a\n",
    "# $40K - $60K : b\n",
    "# $60K - $80K : c\n",
    "# $80K - $120K : d\n",
    "# $120K + : e\n",
    "\n",
    "def changeCategory(x) : \n",
    "    if x == 'Unknown':\n",
    "        return 'N'\n",
    "    elif x == 'Less than $40K':\n",
    "        return 'a'\n",
    "    elif x == '$40K - $60K':\n",
    "        return 'b'\n",
    "    elif x == '$60K - $80K':\n",
    "        return 'c'\n",
    "    elif x == '$80K - $120K':\n",
    "        return 'd'\n",
    "    elif x == '$120K +':\n",
    "        return 'e'\n",
    "\n",
    "df['newIncome'] = df.Income_Category.apply(changeCategory)\n",
    "df.head()"
   ]
  },
  {
   "cell_type": "code",
   "execution_count": 110,
   "metadata": {},
   "outputs": [
    {
     "data": {
      "text/plain": "20     195\n30    1841\n40    4561\n50    2998\n60     530\n70       2\nName: AgeState, dtype: int64"
     },
     "execution_count": 110,
     "metadata": {},
     "output_type": "execute_result"
    }
   ],
   "source": [
    "# Customer_Age의 값을 이용하여 나이 구간을 AgeState 컬럼으로 정의하라. (0~9 : 0 , 10~19 :10 , 20~29 :20 … 각 구간의 빈도수를 출력하라\n",
    "\n",
    "df['AgeState'] = df.Customer_Age.map(lambda x: x//10 * 10)\n",
    "df['AgeState'].value_counts().sort_index()"
   ]
  },
  {
   "cell_type": "code",
   "execution_count": 111,
   "metadata": {},
   "outputs": [
    {
     "data": {
      "text/html": "<div>\n<style scoped>\n    .dataframe tbody tr th:only-of-type {\n        vertical-align: middle;\n    }\n\n    .dataframe tbody tr th {\n        vertical-align: top;\n    }\n\n    .dataframe thead th {\n        text-align: right;\n    }\n</style>\n<table border=\"1\" class=\"dataframe\">\n  <thead>\n    <tr style=\"text-align: right;\">\n      <th></th>\n      <th>CLIENTNUM</th>\n      <th>Attrition_Flag</th>\n      <th>Customer_Age</th>\n      <th>Gender</th>\n      <th>Dependent_count</th>\n      <th>Education_Level</th>\n      <th>Marital_Status</th>\n      <th>Income_Category</th>\n      <th>Card_Category</th>\n      <th>Months_on_book</th>\n      <th>...</th>\n      <th>Months_Inactive_12_mon</th>\n      <th>Contacts_Count_12_mon</th>\n      <th>Credit_Limit</th>\n      <th>Total_Revolving_Bal</th>\n      <th>Avg_Open_To_Buy</th>\n      <th>Total_Amt_Chng_Q4_Q1</th>\n      <th>Total_Trans_Amt</th>\n      <th>newIncome</th>\n      <th>AgeState</th>\n      <th>newEduLevel</th>\n    </tr>\n  </thead>\n  <tbody>\n    <tr>\n      <th>0</th>\n      <td>768805383</td>\n      <td>Existing Customer</td>\n      <td>45</td>\n      <td>M</td>\n      <td>3</td>\n      <td>High School</td>\n      <td>Married</td>\n      <td>$60K - $80K</td>\n      <td>Blue</td>\n      <td>39</td>\n      <td>...</td>\n      <td>1</td>\n      <td>3</td>\n      <td>12691.0</td>\n      <td>777</td>\n      <td>11914.0</td>\n      <td>1.335</td>\n      <td>1144</td>\n      <td>c</td>\n      <td>40</td>\n      <td>0</td>\n    </tr>\n    <tr>\n      <th>1</th>\n      <td>818770008</td>\n      <td>Existing Customer</td>\n      <td>49</td>\n      <td>F</td>\n      <td>5</td>\n      <td>Graduate</td>\n      <td>Single</td>\n      <td>Less than $40K</td>\n      <td>Blue</td>\n      <td>44</td>\n      <td>...</td>\n      <td>1</td>\n      <td>2</td>\n      <td>8256.0</td>\n      <td>864</td>\n      <td>7392.0</td>\n      <td>1.541</td>\n      <td>1291</td>\n      <td>a</td>\n      <td>40</td>\n      <td>1</td>\n    </tr>\n    <tr>\n      <th>2</th>\n      <td>713982108</td>\n      <td>Existing Customer</td>\n      <td>51</td>\n      <td>M</td>\n      <td>3</td>\n      <td>Graduate</td>\n      <td>Married</td>\n      <td>$80K - $120K</td>\n      <td>Blue</td>\n      <td>36</td>\n      <td>...</td>\n      <td>1</td>\n      <td>0</td>\n      <td>3418.0</td>\n      <td>0</td>\n      <td>3418.0</td>\n      <td>2.594</td>\n      <td>1887</td>\n      <td>d</td>\n      <td>50</td>\n      <td>1</td>\n    </tr>\n    <tr>\n      <th>3</th>\n      <td>769911858</td>\n      <td>Existing Customer</td>\n      <td>40</td>\n      <td>F</td>\n      <td>4</td>\n      <td>High School</td>\n      <td>Unknown</td>\n      <td>Less than $40K</td>\n      <td>Blue</td>\n      <td>34</td>\n      <td>...</td>\n      <td>4</td>\n      <td>1</td>\n      <td>3313.0</td>\n      <td>2517</td>\n      <td>796.0</td>\n      <td>1.405</td>\n      <td>1171</td>\n      <td>a</td>\n      <td>40</td>\n      <td>0</td>\n    </tr>\n    <tr>\n      <th>4</th>\n      <td>709106358</td>\n      <td>Existing Customer</td>\n      <td>40</td>\n      <td>M</td>\n      <td>3</td>\n      <td>Uneducated</td>\n      <td>Married</td>\n      <td>$60K - $80K</td>\n      <td>Blue</td>\n      <td>21</td>\n      <td>...</td>\n      <td>1</td>\n      <td>0</td>\n      <td>4716.0</td>\n      <td>0</td>\n      <td>4716.0</td>\n      <td>2.175</td>\n      <td>816</td>\n      <td>c</td>\n      <td>40</td>\n      <td>0</td>\n    </tr>\n  </tbody>\n</table>\n<p>5 rows × 21 columns</p>\n</div>",
      "text/plain": "   CLIENTNUM     Attrition_Flag  Customer_Age Gender  Dependent_count  \\\n0  768805383  Existing Customer            45      M                3   \n1  818770008  Existing Customer            49      F                5   \n2  713982108  Existing Customer            51      M                3   \n3  769911858  Existing Customer            40      F                4   \n4  709106358  Existing Customer            40      M                3   \n\n  Education_Level Marital_Status Income_Category Card_Category  \\\n0     High School        Married     $60K - $80K          Blue   \n1        Graduate         Single  Less than $40K          Blue   \n2        Graduate        Married    $80K - $120K          Blue   \n3     High School        Unknown  Less than $40K          Blue   \n4      Uneducated        Married     $60K - $80K          Blue   \n\n   Months_on_book  ...  Months_Inactive_12_mon  Contacts_Count_12_mon  \\\n0              39  ...                       1                      3   \n1              44  ...                       1                      2   \n2              36  ...                       1                      0   \n3              34  ...                       4                      1   \n4              21  ...                       1                      0   \n\n   Credit_Limit  Total_Revolving_Bal  Avg_Open_To_Buy  Total_Amt_Chng_Q4_Q1  \\\n0       12691.0                  777          11914.0                 1.335   \n1        8256.0                  864           7392.0                 1.541   \n2        3418.0                    0           3418.0                 2.594   \n3        3313.0                 2517            796.0                 1.405   \n4        4716.0                    0           4716.0                 2.175   \n\n   Total_Trans_Amt  newIncome AgeState  newEduLevel  \n0             1144          c       40            0  \n1             1291          a       40            1  \n2             1887          d       50            1  \n3             1171          a       40            0  \n4              816          c       40            0  \n\n[5 rows x 21 columns]"
     },
     "execution_count": 111,
     "metadata": {},
     "output_type": "execute_result"
    }
   ],
   "source": [
    "# Education_Level의 값중 Graduate단어가 포함되는 값은 1 그렇지 않은 경우에는 0으로 변경하여 newEduLevel 컬럼을 정의하고 빈도수를 출력하라\n",
    "df['newEduLevel'] = df.Education_Level.map(lambda x: 1 if 'Graduate' in x else 0)\n",
    "df.head()"
   ]
  },
  {
   "cell_type": "code",
   "execution_count": 112,
   "metadata": {},
   "outputs": [
    {
     "data": {
      "text/plain": "1    5096\n0    5031\nName: newLimit, dtype: int64"
     },
     "execution_count": 112,
     "metadata": {},
     "output_type": "execute_result"
    }
   ],
   "source": [
    "# Credit_Limit 컬럼값이 4500 이상인 경우 1 그외의 경우에는 모두 0으로 하는 newLimit 정의하라. newLimit 각 값들의 빈도수를 출력하라\n",
    "df['newLimit'] = df.Credit_Limit.map(lambda x: 1 if x >= 4500 else 0)\n",
    "df.newLimit.value_counts()"
   ]
  },
  {
   "cell_type": "code",
   "execution_count": 113,
   "metadata": {},
   "outputs": [
    {
     "data": {
      "text/plain": "0    10120\n1        7\nName: newState, dtype: int64"
     },
     "execution_count": 113,
     "metadata": {},
     "output_type": "execute_result"
    }
   ],
   "source": [
    "# Marital_Status 컬럼값이 Married 이고 Card_Category 컬럼의 값이 Platinum인 경우 1 그외의 경우에는 모두 0으로 하는 newState컬럼을 정의하라.\n",
    "# newState의 각 값들의 빈도수를 출력하라\n",
    "\n",
    "def check(x):\n",
    "    if x.Marital_Status == 'Married' and x.Card_Category == 'Platinum':\n",
    "        return 1\n",
    "    else:\n",
    "        return 0\n",
    "\n",
    "df['newState'] = df.apply(check,axis=1)\n",
    "df.newState.value_counts()"
   ]
  },
  {
   "cell_type": "code",
   "execution_count": 114,
   "metadata": {},
   "outputs": [
    {
     "data": {
      "text/plain": "female    5358\nmale      4769\nName: Gender, dtype: int64"
     },
     "execution_count": 114,
     "metadata": {},
     "output_type": "execute_result"
    }
   ],
   "source": [
    "# Gender 컬럼값 M인 경우 male F인 경우 female로 값을 변경하여 Gender 컬럼에 새롭게 정의하라.\n",
    "# 각 value의 빈도를 출력하라\n",
    "\n",
    "def check(x):\n",
    "    if x == 'M':\n",
    "        return 'male'\n",
    "    else:\n",
    "        return 'female'\n",
    "\n",
    "df['Gender'] = df.Gender.apply(check)\n",
    "df.Gender.value_counts()\n"
   ]
  },
  {
   "cell_type": "code",
   "execution_count": 115,
   "metadata": {},
   "outputs": [],
   "source": [
    "# 주가데이터\n",
    "df = pd.read_csv('https://raw.githubusercontent.com/Datamanim/pandas/main/timeTest.csv')"
   ]
  },
  {
   "cell_type": "code",
   "execution_count": 118,
   "metadata": {},
   "outputs": [
    {
     "name": "stdout",
     "output_type": "stream",
     "text": [
      "<class 'pandas.core.frame.DataFrame'>\n",
      "RangeIndex: 6574 entries, 0 to 6573\n",
      "Data columns (total 13 columns):\n",
      " #   Column    Non-Null Count  Dtype  \n",
      "---  ------    --------------  -----  \n",
      " 0   Yr_Mo_Dy  6574 non-null   object \n",
      " 1   RPT       6568 non-null   float64\n",
      " 2   VAL       6571 non-null   float64\n",
      " 3   ROS       6572 non-null   float64\n",
      " 4   KIL       6569 non-null   float64\n",
      " 5   SHA       6572 non-null   float64\n",
      " 6   BIR       6574 non-null   float64\n",
      " 7   DUB       6571 non-null   float64\n",
      " 8   CLA       6572 non-null   float64\n",
      " 9   MUL       6571 non-null   float64\n",
      " 10  CLO       6573 non-null   float64\n",
      " 11  BEL       6574 non-null   float64\n",
      " 12  MAL       6570 non-null   float64\n",
      "dtypes: float64(12), object(1)\n",
      "memory usage: 667.8+ KB\n"
     ]
    }
   ],
   "source": [
    "df.info()"
   ]
  },
  {
   "cell_type": "code",
   "execution_count": 125,
   "metadata": {},
   "outputs": [
    {
     "name": "stdout",
     "output_type": "stream",
     "text": [
      "<class 'pandas.core.frame.DataFrame'>\n",
      "RangeIndex: 6574 entries, 0 to 6573\n",
      "Data columns (total 13 columns):\n",
      " #   Column    Non-Null Count  Dtype         \n",
      "---  ------    --------------  -----         \n",
      " 0   Yr_Mo_Dy  6574 non-null   datetime64[ns]\n",
      " 1   RPT       6568 non-null   float64       \n",
      " 2   VAL       6571 non-null   float64       \n",
      " 3   ROS       6572 non-null   float64       \n",
      " 4   KIL       6569 non-null   float64       \n",
      " 5   SHA       6572 non-null   float64       \n",
      " 6   BIR       6574 non-null   float64       \n",
      " 7   DUB       6571 non-null   float64       \n",
      " 8   CLA       6572 non-null   float64       \n",
      " 9   MUL       6571 non-null   float64       \n",
      " 10  CLO       6573 non-null   float64       \n",
      " 11  BEL       6574 non-null   float64       \n",
      " 12  MAL       6570 non-null   float64       \n",
      "dtypes: datetime64[ns](1), float64(12)\n",
      "memory usage: 667.8 KB\n"
     ]
    }
   ],
   "source": [
    "# Yr_Mo_Dy을 판다스에서 인식할 수 있는 datetime64타입으로 변경하라\n",
    "df['Yr_Mo_Dy'] = pd.to_datetime(df.Yr_Mo_Dy)\n",
    "df.info()"
   ]
  },
  {
   "cell_type": "code",
   "execution_count": 131,
   "metadata": {},
   "outputs": [
    {
     "data": {
      "text/plain": "array([2061, 2062, 2063, 2064, 2065, 2066, 2067, 2068, 2069, 2070, 1971,\n       1972, 1973, 1974, 1975, 1976, 1977, 1978])"
     },
     "execution_count": 131,
     "metadata": {},
     "output_type": "execute_result"
    }
   ],
   "source": [
    "# Yr_Mo_Dy에 존재하는 년도의 유일값을 모두 출력하라\n",
    "# dt : 날짜관련 함수\n",
    "df.Yr_Mo_Dy.dt.year.unique()"
   ]
  },
  {
   "cell_type": "code",
   "execution_count": 144,
   "metadata": {},
   "outputs": [
    {
     "data": {
      "text/html": "<div>\n<style scoped>\n    .dataframe tbody tr th:only-of-type {\n        vertical-align: middle;\n    }\n\n    .dataframe tbody tr th {\n        vertical-align: top;\n    }\n\n    .dataframe thead th {\n        text-align: right;\n    }\n</style>\n<table border=\"1\" class=\"dataframe\">\n  <thead>\n    <tr style=\"text-align: right;\">\n      <th></th>\n      <th>Yr_Mo_Dy</th>\n      <th>RPT</th>\n      <th>VAL</th>\n      <th>ROS</th>\n      <th>KIL</th>\n      <th>SHA</th>\n      <th>BIR</th>\n      <th>DUB</th>\n      <th>CLA</th>\n      <th>MUL</th>\n      <th>CLO</th>\n      <th>BEL</th>\n      <th>MAL</th>\n    </tr>\n  </thead>\n  <tbody>\n    <tr>\n      <th>0</th>\n      <td>1961-01-01</td>\n      <td>15.04</td>\n      <td>14.96</td>\n      <td>13.17</td>\n      <td>9.29</td>\n      <td>NaN</td>\n      <td>9.87</td>\n      <td>13.67</td>\n      <td>10.25</td>\n      <td>10.83</td>\n      <td>12.58</td>\n      <td>18.50</td>\n      <td>15.04</td>\n    </tr>\n    <tr>\n      <th>1</th>\n      <td>1961-01-02</td>\n      <td>14.71</td>\n      <td>NaN</td>\n      <td>10.83</td>\n      <td>6.50</td>\n      <td>12.62</td>\n      <td>7.67</td>\n      <td>11.50</td>\n      <td>10.04</td>\n      <td>9.79</td>\n      <td>9.67</td>\n      <td>17.54</td>\n      <td>13.83</td>\n    </tr>\n    <tr>\n      <th>2</th>\n      <td>1961-01-03</td>\n      <td>18.50</td>\n      <td>16.88</td>\n      <td>12.33</td>\n      <td>10.13</td>\n      <td>11.17</td>\n      <td>6.17</td>\n      <td>11.25</td>\n      <td>NaN</td>\n      <td>8.50</td>\n      <td>7.67</td>\n      <td>12.75</td>\n      <td>12.71</td>\n    </tr>\n    <tr>\n      <th>3</th>\n      <td>1961-01-04</td>\n      <td>10.58</td>\n      <td>6.63</td>\n      <td>11.75</td>\n      <td>4.58</td>\n      <td>4.54</td>\n      <td>2.88</td>\n      <td>8.63</td>\n      <td>1.79</td>\n      <td>5.83</td>\n      <td>5.88</td>\n      <td>5.46</td>\n      <td>10.88</td>\n    </tr>\n    <tr>\n      <th>4</th>\n      <td>1961-01-05</td>\n      <td>13.33</td>\n      <td>13.25</td>\n      <td>11.42</td>\n      <td>6.17</td>\n      <td>10.71</td>\n      <td>8.21</td>\n      <td>11.92</td>\n      <td>6.54</td>\n      <td>10.92</td>\n      <td>10.34</td>\n      <td>12.92</td>\n      <td>11.83</td>\n    </tr>\n  </tbody>\n</table>\n</div>",
      "text/plain": "    Yr_Mo_Dy    RPT    VAL    ROS    KIL    SHA   BIR    DUB    CLA    MUL  \\\n0 1961-01-01  15.04  14.96  13.17   9.29    NaN  9.87  13.67  10.25  10.83   \n1 1961-01-02  14.71    NaN  10.83   6.50  12.62  7.67  11.50  10.04   9.79   \n2 1961-01-03  18.50  16.88  12.33  10.13  11.17  6.17  11.25    NaN   8.50   \n3 1961-01-04  10.58   6.63  11.75   4.58   4.54  2.88   8.63   1.79   5.83   \n4 1961-01-05  13.33  13.25  11.42   6.17  10.71  8.21  11.92   6.54  10.92   \n\n     CLO    BEL    MAL  \n0  12.58  18.50  15.04  \n1   9.67  17.54  13.83  \n2   7.67  12.75  12.71  \n3   5.88   5.46  10.88  \n4  10.34  12.92  11.83  "
     },
     "execution_count": 144,
     "metadata": {},
     "output_type": "execute_result"
    }
   ],
   "source": [
    "# Yr_Mo_Dy에 년도가 2061년 이상의 경우에는 모두 잘못된 데이터이다. 해당경우의 값은 100을 빼서 새롭게 날짜를 Yr_Mo_Dy 컬럼에 정의하라\n",
    "def fix_century(x):\n",
    "    import datetime\n",
    "    year = x.year - 100 if x.year >= 2061 else x.year\n",
    "    return pd.to_datetime(datetime.date(year, x.month, x.day))\n",
    "\n",
    "df['Yr_Mo_Dy'] = df.Yr_Mo_Dy.apply(fix_century)\n",
    "df.head()"
   ]
  },
  {
   "cell_type": "code",
   "execution_count": 152,
   "metadata": {},
   "outputs": [
    {
     "data": {
      "text/html": "<div>\n<style scoped>\n    .dataframe tbody tr th:only-of-type {\n        vertical-align: middle;\n    }\n\n    .dataframe tbody tr th {\n        vertical-align: top;\n    }\n\n    .dataframe thead th {\n        text-align: right;\n    }\n</style>\n<table border=\"1\" class=\"dataframe\">\n  <thead>\n    <tr style=\"text-align: right;\">\n      <th></th>\n      <th>RPT</th>\n      <th>VAL</th>\n      <th>ROS</th>\n      <th>KIL</th>\n      <th>SHA</th>\n      <th>BIR</th>\n      <th>DUB</th>\n      <th>CLA</th>\n      <th>MUL</th>\n      <th>CLO</th>\n      <th>BEL</th>\n      <th>MAL</th>\n    </tr>\n    <tr>\n      <th>Yr_Mo_Dy</th>\n      <th></th>\n      <th></th>\n      <th></th>\n      <th></th>\n      <th></th>\n      <th></th>\n      <th></th>\n      <th></th>\n      <th></th>\n      <th></th>\n      <th></th>\n      <th></th>\n    </tr>\n  </thead>\n  <tbody>\n    <tr>\n      <th>1961</th>\n      <td>12.299583</td>\n      <td>10.351796</td>\n      <td>11.362369</td>\n      <td>6.958227</td>\n      <td>10.881763</td>\n      <td>7.729726</td>\n      <td>9.733923</td>\n      <td>8.858788</td>\n      <td>8.647652</td>\n      <td>9.835577</td>\n      <td>13.502795</td>\n      <td>13.680773</td>\n    </tr>\n    <tr>\n      <th>1962</th>\n      <td>12.246923</td>\n      <td>10.110438</td>\n      <td>11.732712</td>\n      <td>6.960440</td>\n      <td>10.657918</td>\n      <td>7.393068</td>\n      <td>11.020712</td>\n      <td>8.793753</td>\n      <td>8.316822</td>\n      <td>9.676247</td>\n      <td>12.930685</td>\n      <td>14.323956</td>\n    </tr>\n    <tr>\n      <th>1963</th>\n      <td>12.813452</td>\n      <td>10.836986</td>\n      <td>12.541151</td>\n      <td>7.330055</td>\n      <td>11.724110</td>\n      <td>8.434712</td>\n      <td>11.075699</td>\n      <td>10.336548</td>\n      <td>8.903589</td>\n      <td>10.224438</td>\n      <td>13.638877</td>\n      <td>14.999014</td>\n    </tr>\n    <tr>\n      <th>1964</th>\n      <td>12.363661</td>\n      <td>10.920164</td>\n      <td>12.104372</td>\n      <td>6.787787</td>\n      <td>11.454481</td>\n      <td>7.570874</td>\n      <td>10.259153</td>\n      <td>9.467350</td>\n      <td>7.789016</td>\n      <td>10.207951</td>\n      <td>13.740546</td>\n      <td>14.910301</td>\n    </tr>\n    <tr>\n      <th>1965</th>\n      <td>12.451370</td>\n      <td>11.075534</td>\n      <td>11.848767</td>\n      <td>6.858466</td>\n      <td>11.024795</td>\n      <td>7.478110</td>\n      <td>10.618712</td>\n      <td>8.879918</td>\n      <td>7.907425</td>\n      <td>9.918082</td>\n      <td>12.964247</td>\n      <td>15.591644</td>\n    </tr>\n    <tr>\n      <th>1966</th>\n      <td>13.461973</td>\n      <td>11.557205</td>\n      <td>12.020630</td>\n      <td>7.345726</td>\n      <td>11.805041</td>\n      <td>7.793671</td>\n      <td>10.579808</td>\n      <td>8.835096</td>\n      <td>8.514438</td>\n      <td>9.768959</td>\n      <td>14.265836</td>\n      <td>16.307260</td>\n    </tr>\n    <tr>\n      <th>1967</th>\n      <td>12.737151</td>\n      <td>10.990986</td>\n      <td>11.739397</td>\n      <td>7.143425</td>\n      <td>11.630740</td>\n      <td>7.368164</td>\n      <td>10.652027</td>\n      <td>9.325616</td>\n      <td>8.645014</td>\n      <td>9.547425</td>\n      <td>14.774548</td>\n      <td>17.135945</td>\n    </tr>\n    <tr>\n      <th>1968</th>\n      <td>11.835628</td>\n      <td>10.468197</td>\n      <td>11.409754</td>\n      <td>6.477678</td>\n      <td>10.760765</td>\n      <td>6.067322</td>\n      <td>8.859180</td>\n      <td>8.255519</td>\n      <td>7.224945</td>\n      <td>7.832978</td>\n      <td>12.808634</td>\n      <td>15.017486</td>\n    </tr>\n    <tr>\n      <th>1969</th>\n      <td>11.166356</td>\n      <td>9.723699</td>\n      <td>10.902000</td>\n      <td>5.767973</td>\n      <td>9.873918</td>\n      <td>6.189973</td>\n      <td>8.564493</td>\n      <td>7.711397</td>\n      <td>7.924521</td>\n      <td>7.754384</td>\n      <td>12.621233</td>\n      <td>15.762904</td>\n    </tr>\n    <tr>\n      <th>1970</th>\n      <td>12.600329</td>\n      <td>10.726932</td>\n      <td>11.730247</td>\n      <td>6.217178</td>\n      <td>10.567370</td>\n      <td>7.609452</td>\n      <td>9.609890</td>\n      <td>8.334630</td>\n      <td>9.297616</td>\n      <td>8.289808</td>\n      <td>13.183644</td>\n      <td>16.456027</td>\n    </tr>\n    <tr>\n      <th>1971</th>\n      <td>11.273123</td>\n      <td>9.095178</td>\n      <td>11.088329</td>\n      <td>5.241507</td>\n      <td>9.440329</td>\n      <td>6.097151</td>\n      <td>8.385890</td>\n      <td>6.757315</td>\n      <td>7.915370</td>\n      <td>7.229753</td>\n      <td>12.208932</td>\n      <td>15.025233</td>\n    </tr>\n    <tr>\n      <th>1972</th>\n      <td>12.463962</td>\n      <td>10.561311</td>\n      <td>12.058333</td>\n      <td>5.929699</td>\n      <td>9.430410</td>\n      <td>6.358825</td>\n      <td>9.704508</td>\n      <td>7.680792</td>\n      <td>8.357295</td>\n      <td>7.515273</td>\n      <td>12.727377</td>\n      <td>15.028716</td>\n    </tr>\n    <tr>\n      <th>1973</th>\n      <td>11.828466</td>\n      <td>10.680493</td>\n      <td>10.680493</td>\n      <td>5.547863</td>\n      <td>9.640877</td>\n      <td>6.548740</td>\n      <td>8.482110</td>\n      <td>7.614274</td>\n      <td>8.245534</td>\n      <td>7.812411</td>\n      <td>12.169699</td>\n      <td>15.441096</td>\n    </tr>\n    <tr>\n      <th>1974</th>\n      <td>13.643096</td>\n      <td>11.811781</td>\n      <td>12.336356</td>\n      <td>6.427041</td>\n      <td>11.110986</td>\n      <td>6.809781</td>\n      <td>10.084603</td>\n      <td>9.896986</td>\n      <td>9.331753</td>\n      <td>8.736356</td>\n      <td>13.252959</td>\n      <td>16.947671</td>\n    </tr>\n    <tr>\n      <th>1975</th>\n      <td>12.008575</td>\n      <td>10.293836</td>\n      <td>11.564712</td>\n      <td>5.269096</td>\n      <td>9.190082</td>\n      <td>5.668521</td>\n      <td>8.562603</td>\n      <td>7.843836</td>\n      <td>8.797945</td>\n      <td>7.382822</td>\n      <td>12.631671</td>\n      <td>15.307863</td>\n    </tr>\n    <tr>\n      <th>1976</th>\n      <td>11.737842</td>\n      <td>10.203115</td>\n      <td>10.761230</td>\n      <td>5.109426</td>\n      <td>8.846339</td>\n      <td>6.311038</td>\n      <td>9.149126</td>\n      <td>7.146202</td>\n      <td>8.883716</td>\n      <td>7.883087</td>\n      <td>12.332377</td>\n      <td>15.471448</td>\n    </tr>\n    <tr>\n      <th>1977</th>\n      <td>13.099616</td>\n      <td>11.144493</td>\n      <td>12.627836</td>\n      <td>6.073945</td>\n      <td>10.003836</td>\n      <td>8.586438</td>\n      <td>11.523205</td>\n      <td>8.378384</td>\n      <td>9.098192</td>\n      <td>8.821616</td>\n      <td>13.459068</td>\n      <td>16.590849</td>\n    </tr>\n    <tr>\n      <th>1978</th>\n      <td>12.504356</td>\n      <td>11.044274</td>\n      <td>11.380000</td>\n      <td>6.082356</td>\n      <td>10.167233</td>\n      <td>7.650658</td>\n      <td>9.489342</td>\n      <td>8.800466</td>\n      <td>9.089753</td>\n      <td>8.301699</td>\n      <td>12.967397</td>\n      <td>16.771370</td>\n    </tr>\n  </tbody>\n</table>\n</div>",
      "text/plain": "                RPT        VAL        ROS       KIL        SHA       BIR  \\\nYr_Mo_Dy                                                                   \n1961      12.299583  10.351796  11.362369  6.958227  10.881763  7.729726   \n1962      12.246923  10.110438  11.732712  6.960440  10.657918  7.393068   \n1963      12.813452  10.836986  12.541151  7.330055  11.724110  8.434712   \n1964      12.363661  10.920164  12.104372  6.787787  11.454481  7.570874   \n1965      12.451370  11.075534  11.848767  6.858466  11.024795  7.478110   \n1966      13.461973  11.557205  12.020630  7.345726  11.805041  7.793671   \n1967      12.737151  10.990986  11.739397  7.143425  11.630740  7.368164   \n1968      11.835628  10.468197  11.409754  6.477678  10.760765  6.067322   \n1969      11.166356   9.723699  10.902000  5.767973   9.873918  6.189973   \n1970      12.600329  10.726932  11.730247  6.217178  10.567370  7.609452   \n1971      11.273123   9.095178  11.088329  5.241507   9.440329  6.097151   \n1972      12.463962  10.561311  12.058333  5.929699   9.430410  6.358825   \n1973      11.828466  10.680493  10.680493  5.547863   9.640877  6.548740   \n1974      13.643096  11.811781  12.336356  6.427041  11.110986  6.809781   \n1975      12.008575  10.293836  11.564712  5.269096   9.190082  5.668521   \n1976      11.737842  10.203115  10.761230  5.109426   8.846339  6.311038   \n1977      13.099616  11.144493  12.627836  6.073945  10.003836  8.586438   \n1978      12.504356  11.044274  11.380000  6.082356  10.167233  7.650658   \n\n                DUB        CLA       MUL        CLO        BEL        MAL  \nYr_Mo_Dy                                                                   \n1961       9.733923   8.858788  8.647652   9.835577  13.502795  13.680773  \n1962      11.020712   8.793753  8.316822   9.676247  12.930685  14.323956  \n1963      11.075699  10.336548  8.903589  10.224438  13.638877  14.999014  \n1964      10.259153   9.467350  7.789016  10.207951  13.740546  14.910301  \n1965      10.618712   8.879918  7.907425   9.918082  12.964247  15.591644  \n1966      10.579808   8.835096  8.514438   9.768959  14.265836  16.307260  \n1967      10.652027   9.325616  8.645014   9.547425  14.774548  17.135945  \n1968       8.859180   8.255519  7.224945   7.832978  12.808634  15.017486  \n1969       8.564493   7.711397  7.924521   7.754384  12.621233  15.762904  \n1970       9.609890   8.334630  9.297616   8.289808  13.183644  16.456027  \n1971       8.385890   6.757315  7.915370   7.229753  12.208932  15.025233  \n1972       9.704508   7.680792  8.357295   7.515273  12.727377  15.028716  \n1973       8.482110   7.614274  8.245534   7.812411  12.169699  15.441096  \n1974      10.084603   9.896986  9.331753   8.736356  13.252959  16.947671  \n1975       8.562603   7.843836  8.797945   7.382822  12.631671  15.307863  \n1976       9.149126   7.146202  8.883716   7.883087  12.332377  15.471448  \n1977      11.523205   8.378384  9.098192   8.821616  13.459068  16.590849  \n1978       9.489342   8.800466  9.089753   8.301699  12.967397  16.771370  "
     },
     "execution_count": 152,
     "metadata": {},
     "output_type": "execute_result"
    }
   ],
   "source": [
    "# 년도별 각컬럼의 평균값을 구하여라\n",
    "df.groupby(df.Yr_Mo_Dy.dt.year).agg('mean')"
   ]
  },
  {
   "cell_type": "code",
   "execution_count": 171,
   "metadata": {},
   "outputs": [
    {
     "data": {
      "text/html": "<div>\n<style scoped>\n    .dataframe tbody tr th:only-of-type {\n        vertical-align: middle;\n    }\n\n    .dataframe tbody tr th {\n        vertical-align: top;\n    }\n\n    .dataframe thead th {\n        text-align: right;\n    }\n</style>\n<table border=\"1\" class=\"dataframe\">\n  <thead>\n    <tr style=\"text-align: right;\">\n      <th></th>\n      <th>Yr_Mo_Dy</th>\n      <th>RPT</th>\n      <th>VAL</th>\n      <th>ROS</th>\n      <th>KIL</th>\n      <th>SHA</th>\n      <th>BIR</th>\n      <th>DUB</th>\n      <th>CLA</th>\n      <th>MUL</th>\n      <th>CLO</th>\n      <th>BEL</th>\n      <th>MAL</th>\n      <th>weekday</th>\n      <th>weekday_kor</th>\n    </tr>\n  </thead>\n  <tbody>\n    <tr>\n      <th>0</th>\n      <td>1961-01-01</td>\n      <td>15.04</td>\n      <td>14.96</td>\n      <td>13.17</td>\n      <td>9.29</td>\n      <td>NaN</td>\n      <td>9.87</td>\n      <td>13.67</td>\n      <td>10.25</td>\n      <td>10.83</td>\n      <td>12.58</td>\n      <td>18.50</td>\n      <td>15.04</td>\n      <td>6</td>\n      <td>일요일</td>\n    </tr>\n    <tr>\n      <th>1</th>\n      <td>1961-01-02</td>\n      <td>14.71</td>\n      <td>NaN</td>\n      <td>10.83</td>\n      <td>6.50</td>\n      <td>12.62</td>\n      <td>7.67</td>\n      <td>11.50</td>\n      <td>10.04</td>\n      <td>9.79</td>\n      <td>9.67</td>\n      <td>17.54</td>\n      <td>13.83</td>\n      <td>0</td>\n      <td>월요일</td>\n    </tr>\n    <tr>\n      <th>2</th>\n      <td>1961-01-03</td>\n      <td>18.50</td>\n      <td>16.88</td>\n      <td>12.33</td>\n      <td>10.13</td>\n      <td>11.17</td>\n      <td>6.17</td>\n      <td>11.25</td>\n      <td>NaN</td>\n      <td>8.50</td>\n      <td>7.67</td>\n      <td>12.75</td>\n      <td>12.71</td>\n      <td>1</td>\n      <td>화요일</td>\n    </tr>\n    <tr>\n      <th>3</th>\n      <td>1961-01-04</td>\n      <td>10.58</td>\n      <td>6.63</td>\n      <td>11.75</td>\n      <td>4.58</td>\n      <td>4.54</td>\n      <td>2.88</td>\n      <td>8.63</td>\n      <td>1.79</td>\n      <td>5.83</td>\n      <td>5.88</td>\n      <td>5.46</td>\n      <td>10.88</td>\n      <td>2</td>\n      <td>수요일</td>\n    </tr>\n    <tr>\n      <th>4</th>\n      <td>1961-01-05</td>\n      <td>13.33</td>\n      <td>13.25</td>\n      <td>11.42</td>\n      <td>6.17</td>\n      <td>10.71</td>\n      <td>8.21</td>\n      <td>11.92</td>\n      <td>6.54</td>\n      <td>10.92</td>\n      <td>10.34</td>\n      <td>12.92</td>\n      <td>11.83</td>\n      <td>3</td>\n      <td>목요일</td>\n    </tr>\n  </tbody>\n</table>\n</div>",
      "text/plain": "    Yr_Mo_Dy    RPT    VAL    ROS    KIL    SHA   BIR    DUB    CLA    MUL  \\\n0 1961-01-01  15.04  14.96  13.17   9.29    NaN  9.87  13.67  10.25  10.83   \n1 1961-01-02  14.71    NaN  10.83   6.50  12.62  7.67  11.50  10.04   9.79   \n2 1961-01-03  18.50  16.88  12.33  10.13  11.17  6.17  11.25    NaN   8.50   \n3 1961-01-04  10.58   6.63  11.75   4.58   4.54  2.88   8.63   1.79   5.83   \n4 1961-01-05  13.33  13.25  11.42   6.17  10.71  8.21  11.92   6.54  10.92   \n\n     CLO    BEL    MAL  weekday weekday_kor  \n0  12.58  18.50  15.04        6         일요일  \n1   9.67  17.54  13.83        0         월요일  \n2   7.67  12.75  12.71        1         화요일  \n3   5.88   5.46  10.88        2         수요일  \n4  10.34  12.92  11.83        3         목요일  "
     },
     "execution_count": 171,
     "metadata": {},
     "output_type": "execute_result"
    }
   ],
   "source": [
    "# weekday컬럼을 만들고 요일별로 매핑하라 ( 월요일: 0 ~ 일요일 :6)\n",
    "df['weekday'] = df.Yr_Mo_Dy.dt.weekday\n",
    "dic = {\n",
    "    0 : '월요일',\n",
    "    1 : '화요일',\n",
    "    2 : '수요일',\n",
    "    3 : '목요일',\n",
    "    4 : '금요일',\n",
    "    5 : '토요일',\n",
    "    6 : '일요일'\n",
    "}\n",
    "\n",
    "df['weekday_kor'] = df.weekday.map(lambda x: dic[x])\n",
    "df.head()"
   ]
  },
  {
   "cell_type": "code",
   "execution_count": 176,
   "metadata": {},
   "outputs": [
    {
     "data": {
      "text/html": "<div>\n<style scoped>\n    .dataframe tbody tr th:only-of-type {\n        vertical-align: middle;\n    }\n\n    .dataframe tbody tr th {\n        vertical-align: top;\n    }\n\n    .dataframe thead th {\n        text-align: right;\n    }\n</style>\n<table border=\"1\" class=\"dataframe\">\n  <thead>\n    <tr style=\"text-align: right;\">\n      <th></th>\n      <th>Yr_Mo_Dy</th>\n      <th>RPT</th>\n      <th>VAL</th>\n      <th>ROS</th>\n      <th>KIL</th>\n      <th>SHA</th>\n      <th>BIR</th>\n      <th>DUB</th>\n      <th>CLA</th>\n      <th>MUL</th>\n      <th>CLO</th>\n      <th>BEL</th>\n      <th>MAL</th>\n      <th>weekday</th>\n      <th>weekday_kor</th>\n      <th>WeekCheck</th>\n    </tr>\n  </thead>\n  <tbody>\n    <tr>\n      <th>0</th>\n      <td>1961-01-01</td>\n      <td>15.04</td>\n      <td>14.96</td>\n      <td>13.17</td>\n      <td>9.29</td>\n      <td>NaN</td>\n      <td>9.87</td>\n      <td>13.67</td>\n      <td>10.25</td>\n      <td>10.83</td>\n      <td>12.58</td>\n      <td>18.50</td>\n      <td>15.04</td>\n      <td>6</td>\n      <td>일요일</td>\n      <td>0</td>\n    </tr>\n    <tr>\n      <th>1</th>\n      <td>1961-01-02</td>\n      <td>14.71</td>\n      <td>NaN</td>\n      <td>10.83</td>\n      <td>6.50</td>\n      <td>12.62</td>\n      <td>7.67</td>\n      <td>11.50</td>\n      <td>10.04</td>\n      <td>9.79</td>\n      <td>9.67</td>\n      <td>17.54</td>\n      <td>13.83</td>\n      <td>0</td>\n      <td>월요일</td>\n      <td>1</td>\n    </tr>\n    <tr>\n      <th>2</th>\n      <td>1961-01-03</td>\n      <td>18.50</td>\n      <td>16.88</td>\n      <td>12.33</td>\n      <td>10.13</td>\n      <td>11.17</td>\n      <td>6.17</td>\n      <td>11.25</td>\n      <td>NaN</td>\n      <td>8.50</td>\n      <td>7.67</td>\n      <td>12.75</td>\n      <td>12.71</td>\n      <td>1</td>\n      <td>화요일</td>\n      <td>1</td>\n    </tr>\n    <tr>\n      <th>3</th>\n      <td>1961-01-04</td>\n      <td>10.58</td>\n      <td>6.63</td>\n      <td>11.75</td>\n      <td>4.58</td>\n      <td>4.54</td>\n      <td>2.88</td>\n      <td>8.63</td>\n      <td>1.79</td>\n      <td>5.83</td>\n      <td>5.88</td>\n      <td>5.46</td>\n      <td>10.88</td>\n      <td>2</td>\n      <td>수요일</td>\n      <td>1</td>\n    </tr>\n    <tr>\n      <th>4</th>\n      <td>1961-01-05</td>\n      <td>13.33</td>\n      <td>13.25</td>\n      <td>11.42</td>\n      <td>6.17</td>\n      <td>10.71</td>\n      <td>8.21</td>\n      <td>11.92</td>\n      <td>6.54</td>\n      <td>10.92</td>\n      <td>10.34</td>\n      <td>12.92</td>\n      <td>11.83</td>\n      <td>3</td>\n      <td>목요일</td>\n      <td>1</td>\n    </tr>\n  </tbody>\n</table>\n</div>",
      "text/plain": "    Yr_Mo_Dy    RPT    VAL    ROS    KIL    SHA   BIR    DUB    CLA    MUL  \\\n0 1961-01-01  15.04  14.96  13.17   9.29    NaN  9.87  13.67  10.25  10.83   \n1 1961-01-02  14.71    NaN  10.83   6.50  12.62  7.67  11.50  10.04   9.79   \n2 1961-01-03  18.50  16.88  12.33  10.13  11.17  6.17  11.25    NaN   8.50   \n3 1961-01-04  10.58   6.63  11.75   4.58   4.54  2.88   8.63   1.79   5.83   \n4 1961-01-05  13.33  13.25  11.42   6.17  10.71  8.21  11.92   6.54  10.92   \n\n     CLO    BEL    MAL  weekday weekday_kor  WeekCheck  \n0  12.58  18.50  15.04        6         일요일          0  \n1   9.67  17.54  13.83        0         월요일          1  \n2   7.67  12.75  12.71        1         화요일          1  \n3   5.88   5.46  10.88        2         수요일          1  \n4  10.34  12.92  11.83        3         목요일          1  "
     },
     "execution_count": 176,
     "metadata": {},
     "output_type": "execute_result"
    }
   ],
   "source": [
    "# weekday컬럼을 기준으로 주말이면 1 평일이면 0의 값을 가지는 WeekCheck 컬럼을 만들어라\n",
    "df['WeekCheck'] = df.weekday.map(lambda x: 1 if x in range(5) else 0)\n",
    "df.head()"
   ]
  },
  {
   "cell_type": "code",
   "execution_count": 179,
   "metadata": {},
   "outputs": [
    {
     "data": {
      "text/html": "<div>\n<style scoped>\n    .dataframe tbody tr th:only-of-type {\n        vertical-align: middle;\n    }\n\n    .dataframe tbody tr th {\n        vertical-align: top;\n    }\n\n    .dataframe thead th {\n        text-align: right;\n    }\n</style>\n<table border=\"1\" class=\"dataframe\">\n  <thead>\n    <tr style=\"text-align: right;\">\n      <th></th>\n      <th>RPT</th>\n      <th>VAL</th>\n      <th>ROS</th>\n      <th>KIL</th>\n      <th>SHA</th>\n      <th>BIR</th>\n      <th>DUB</th>\n      <th>CLA</th>\n      <th>MUL</th>\n      <th>CLO</th>\n      <th>BEL</th>\n      <th>MAL</th>\n      <th>weekday</th>\n      <th>WeekCheck</th>\n    </tr>\n    <tr>\n      <th>Yr_Mo_Dy</th>\n      <th></th>\n      <th></th>\n      <th></th>\n      <th></th>\n      <th></th>\n      <th></th>\n      <th></th>\n      <th></th>\n      <th></th>\n      <th></th>\n      <th></th>\n      <th></th>\n      <th></th>\n      <th></th>\n    </tr>\n  </thead>\n  <tbody>\n    <tr>\n      <th>1</th>\n      <td>14.847325</td>\n      <td>12.914560</td>\n      <td>13.299624</td>\n      <td>7.199498</td>\n      <td>11.667734</td>\n      <td>8.054839</td>\n      <td>11.819355</td>\n      <td>9.512047</td>\n      <td>9.543208</td>\n      <td>10.053566</td>\n      <td>14.550520</td>\n      <td>18.028763</td>\n      <td>2.989247</td>\n      <td>0.715054</td>\n    </tr>\n    <tr>\n      <th>2</th>\n      <td>13.710906</td>\n      <td>12.111122</td>\n      <td>12.879132</td>\n      <td>6.942411</td>\n      <td>11.551772</td>\n      <td>7.633858</td>\n      <td>11.206024</td>\n      <td>9.341437</td>\n      <td>9.313169</td>\n      <td>9.518051</td>\n      <td>13.728898</td>\n      <td>17.156142</td>\n      <td>3.005906</td>\n      <td>0.712598</td>\n    </tr>\n    <tr>\n      <th>3</th>\n      <td>13.158687</td>\n      <td>11.505842</td>\n      <td>12.648118</td>\n      <td>7.265907</td>\n      <td>11.554516</td>\n      <td>7.959409</td>\n      <td>11.310179</td>\n      <td>9.635896</td>\n      <td>9.700324</td>\n      <td>10.096953</td>\n      <td>13.810609</td>\n      <td>16.909317</td>\n      <td>3.000000</td>\n      <td>0.716846</td>\n    </tr>\n    <tr>\n      <th>4</th>\n      <td>12.555648</td>\n      <td>10.429759</td>\n      <td>12.204815</td>\n      <td>6.898037</td>\n      <td>10.677667</td>\n      <td>7.441389</td>\n      <td>10.221315</td>\n      <td>8.909056</td>\n      <td>8.930870</td>\n      <td>9.158019</td>\n      <td>12.664759</td>\n      <td>14.937611</td>\n      <td>3.011111</td>\n      <td>0.711111</td>\n    </tr>\n    <tr>\n      <th>5</th>\n      <td>11.724032</td>\n      <td>10.145619</td>\n      <td>11.550394</td>\n      <td>6.307487</td>\n      <td>10.224301</td>\n      <td>6.942061</td>\n      <td>8.797738</td>\n      <td>8.452903</td>\n      <td>8.040806</td>\n      <td>8.524857</td>\n      <td>12.767258</td>\n      <td>13.736039</td>\n      <td>2.982079</td>\n      <td>0.716846</td>\n    </tr>\n    <tr>\n      <th>6</th>\n      <td>10.451317</td>\n      <td>8.949704</td>\n      <td>10.361315</td>\n      <td>5.652278</td>\n      <td>9.529926</td>\n      <td>6.410093</td>\n      <td>8.009556</td>\n      <td>7.920796</td>\n      <td>7.639796</td>\n      <td>7.729185</td>\n      <td>12.246407</td>\n      <td>12.861818</td>\n      <td>3.007407</td>\n      <td>0.714815</td>\n    </tr>\n    <tr>\n      <th>7</th>\n      <td>9.992007</td>\n      <td>8.357778</td>\n      <td>9.349642</td>\n      <td>5.416935</td>\n      <td>9.302634</td>\n      <td>5.972348</td>\n      <td>7.843501</td>\n      <td>7.262760</td>\n      <td>7.544480</td>\n      <td>7.321416</td>\n      <td>11.676505</td>\n      <td>12.800789</td>\n      <td>3.001792</td>\n      <td>0.711470</td>\n    </tr>\n    <tr>\n      <th>8</th>\n      <td>10.213411</td>\n      <td>8.415143</td>\n      <td>9.993441</td>\n      <td>5.270681</td>\n      <td>8.901559</td>\n      <td>5.891057</td>\n      <td>7.772312</td>\n      <td>6.842025</td>\n      <td>7.240573</td>\n      <td>7.002783</td>\n      <td>11.110090</td>\n      <td>12.565943</td>\n      <td>2.991039</td>\n      <td>0.716846</td>\n    </tr>\n    <tr>\n      <th>9</th>\n      <td>11.458519</td>\n      <td>9.981002</td>\n      <td>10.756883</td>\n      <td>5.615176</td>\n      <td>9.766315</td>\n      <td>6.566222</td>\n      <td>8.609722</td>\n      <td>7.745677</td>\n      <td>7.610556</td>\n      <td>7.689278</td>\n      <td>12.686389</td>\n      <td>14.761963</td>\n      <td>3.009259</td>\n      <td>0.712963</td>\n    </tr>\n    <tr>\n      <th>10</th>\n      <td>12.660610</td>\n      <td>11.010681</td>\n      <td>11.453943</td>\n      <td>6.065215</td>\n      <td>10.550251</td>\n      <td>7.159910</td>\n      <td>9.387778</td>\n      <td>8.726308</td>\n      <td>8.347181</td>\n      <td>8.850376</td>\n      <td>14.155323</td>\n      <td>16.697151</td>\n      <td>2.998208</td>\n      <td>0.713262</td>\n    </tr>\n    <tr>\n      <th>11</th>\n      <td>13.200722</td>\n      <td>11.639500</td>\n      <td>12.293407</td>\n      <td>6.247611</td>\n      <td>10.501130</td>\n      <td>7.134333</td>\n      <td>10.814861</td>\n      <td>8.427167</td>\n      <td>8.604000</td>\n      <td>8.943167</td>\n      <td>13.815741</td>\n      <td>18.114185</td>\n      <td>2.992593</td>\n      <td>0.716667</td>\n    </tr>\n    <tr>\n      <th>12</th>\n      <td>14.446398</td>\n      <td>12.353602</td>\n      <td>13.212276</td>\n      <td>6.829910</td>\n      <td>11.301254</td>\n      <td>7.963710</td>\n      <td>11.849050</td>\n      <td>9.209355</td>\n      <td>9.447258</td>\n      <td>9.627670</td>\n      <td>14.259516</td>\n      <td>18.697599</td>\n      <td>3.017921</td>\n      <td>0.711470</td>\n    </tr>\n  </tbody>\n</table>\n</div>",
      "text/plain": "                RPT        VAL        ROS       KIL        SHA       BIR  \\\nYr_Mo_Dy                                                                   \n1         14.847325  12.914560  13.299624  7.199498  11.667734  8.054839   \n2         13.710906  12.111122  12.879132  6.942411  11.551772  7.633858   \n3         13.158687  11.505842  12.648118  7.265907  11.554516  7.959409   \n4         12.555648  10.429759  12.204815  6.898037  10.677667  7.441389   \n5         11.724032  10.145619  11.550394  6.307487  10.224301  6.942061   \n6         10.451317   8.949704  10.361315  5.652278   9.529926  6.410093   \n7          9.992007   8.357778   9.349642  5.416935   9.302634  5.972348   \n8         10.213411   8.415143   9.993441  5.270681   8.901559  5.891057   \n9         11.458519   9.981002  10.756883  5.615176   9.766315  6.566222   \n10        12.660610  11.010681  11.453943  6.065215  10.550251  7.159910   \n11        13.200722  11.639500  12.293407  6.247611  10.501130  7.134333   \n12        14.446398  12.353602  13.212276  6.829910  11.301254  7.963710   \n\n                DUB       CLA       MUL        CLO        BEL        MAL  \\\nYr_Mo_Dy                                                                   \n1         11.819355  9.512047  9.543208  10.053566  14.550520  18.028763   \n2         11.206024  9.341437  9.313169   9.518051  13.728898  17.156142   \n3         11.310179  9.635896  9.700324  10.096953  13.810609  16.909317   \n4         10.221315  8.909056  8.930870   9.158019  12.664759  14.937611   \n5          8.797738  8.452903  8.040806   8.524857  12.767258  13.736039   \n6          8.009556  7.920796  7.639796   7.729185  12.246407  12.861818   \n7          7.843501  7.262760  7.544480   7.321416  11.676505  12.800789   \n8          7.772312  6.842025  7.240573   7.002783  11.110090  12.565943   \n9          8.609722  7.745677  7.610556   7.689278  12.686389  14.761963   \n10         9.387778  8.726308  8.347181   8.850376  14.155323  16.697151   \n11        10.814861  8.427167  8.604000   8.943167  13.815741  18.114185   \n12        11.849050  9.209355  9.447258   9.627670  14.259516  18.697599   \n\n           weekday  WeekCheck  \nYr_Mo_Dy                       \n1         2.989247   0.715054  \n2         3.005906   0.712598  \n3         3.000000   0.716846  \n4         3.011111   0.711111  \n5         2.982079   0.716846  \n6         3.007407   0.714815  \n7         3.001792   0.711470  \n8         2.991039   0.716846  \n9         3.009259   0.712963  \n10        2.998208   0.713262  \n11        2.992593   0.716667  \n12        3.017921   0.711470  "
     },
     "execution_count": 179,
     "metadata": {},
     "output_type": "execute_result"
    }
   ],
   "source": [
    "# 년도, 일자 상관없이 모든 컬럼의 각 달의 평균을 구하여라\n",
    "df.groupby(df.Yr_Mo_Dy.dt.month).agg('mean')"
   ]
  },
  {
   "cell_type": "code",
   "execution_count": 184,
   "metadata": {},
   "outputs": [
    {
     "data": {
      "text/plain": "Yr_Mo_Dy       0\nRPT            0\nVAL            0\nROS            0\nKIL            0\nSHA            0\nBIR            0\nDUB            0\nCLA            0\nMUL            0\nCLO            0\nBEL            0\nMAL            0\nweekday        0\nweekday_kor    0\nWeekCheck      0\ndtype: int64"
     },
     "execution_count": 184,
     "metadata": {},
     "output_type": "execute_result"
    }
   ],
   "source": [
    "# 모든 결측치는 컬럼기준 직전의 값으로 대체하고 첫번째 행에 결측치가 있을경우 뒤에있는 값으로 대채하라\n",
    "# fillna 함수의 method 값\n",
    "# ffill : 결측값 바로 위의값과 동일하게 채움.\n",
    "# bfill : 결측값 바로 아래값과 동일하게 채움.\n",
    "df = df.fillna(method='ffill').fillna(method='bfill')\n",
    "df.isnull().sum()"
   ]
  },
  {
   "cell_type": "code",
   "execution_count": 196,
   "metadata": {},
   "outputs": [
    {
     "data": {
      "text/html": "<div>\n<style scoped>\n    .dataframe tbody tr th:only-of-type {\n        vertical-align: middle;\n    }\n\n    .dataframe tbody tr th {\n        vertical-align: top;\n    }\n\n    .dataframe thead th {\n        text-align: right;\n    }\n</style>\n<table border=\"1\" class=\"dataframe\">\n  <thead>\n    <tr style=\"text-align: right;\">\n      <th></th>\n      <th>RPT</th>\n      <th>VAL</th>\n      <th>ROS</th>\n      <th>KIL</th>\n      <th>SHA</th>\n      <th>BIR</th>\n      <th>DUB</th>\n      <th>CLA</th>\n      <th>MUL</th>\n      <th>CLO</th>\n      <th>BEL</th>\n      <th>MAL</th>\n      <th>weekday</th>\n      <th>WeekCheck</th>\n    </tr>\n    <tr>\n      <th>Yr_Mo_Dy</th>\n      <th></th>\n      <th></th>\n      <th></th>\n      <th></th>\n      <th></th>\n      <th></th>\n      <th></th>\n      <th></th>\n      <th></th>\n      <th></th>\n      <th></th>\n      <th></th>\n      <th></th>\n      <th></th>\n    </tr>\n  </thead>\n  <tbody>\n    <tr>\n      <th>1961-01</th>\n      <td>14.932581</td>\n      <td>12.084194</td>\n      <td>13.431613</td>\n      <td>7.736774</td>\n      <td>11.215806</td>\n      <td>8.588065</td>\n      <td>11.184839</td>\n      <td>9.270968</td>\n      <td>9.085806</td>\n      <td>10.107419</td>\n      <td>13.880968</td>\n      <td>14.703226</td>\n      <td>2.935484</td>\n      <td>0.709677</td>\n    </tr>\n    <tr>\n      <th>1961-02</th>\n      <td>16.269286</td>\n      <td>14.975357</td>\n      <td>14.324643</td>\n      <td>9.116786</td>\n      <td>13.852143</td>\n      <td>10.937500</td>\n      <td>11.890714</td>\n      <td>11.846071</td>\n      <td>11.821429</td>\n      <td>12.714286</td>\n      <td>18.583214</td>\n      <td>15.411786</td>\n      <td>3.000000</td>\n      <td>0.714286</td>\n    </tr>\n    <tr>\n      <th>1961-03</th>\n      <td>11.015806</td>\n      <td>11.296452</td>\n      <td>10.752903</td>\n      <td>7.137742</td>\n      <td>10.509355</td>\n      <td>8.866774</td>\n      <td>9.644194</td>\n      <td>9.829677</td>\n      <td>10.646129</td>\n      <td>11.251935</td>\n      <td>16.410968</td>\n      <td>15.637742</td>\n      <td>3.000000</td>\n      <td>0.741935</td>\n    </tr>\n    <tr>\n      <th>1961-04</th>\n      <td>10.722667</td>\n      <td>9.427667</td>\n      <td>9.998000</td>\n      <td>5.830667</td>\n      <td>8.435000</td>\n      <td>6.495000</td>\n      <td>6.925333</td>\n      <td>7.094667</td>\n      <td>7.342333</td>\n      <td>7.237000</td>\n      <td>11.147333</td>\n      <td>10.278333</td>\n      <td>3.166667</td>\n      <td>0.666667</td>\n    </tr>\n    <tr>\n      <th>1961-05</th>\n      <td>9.860968</td>\n      <td>8.735161</td>\n      <td>10.818065</td>\n      <td>5.892258</td>\n      <td>9.490323</td>\n      <td>6.574839</td>\n      <td>7.477097</td>\n      <td>8.177097</td>\n      <td>8.039355</td>\n      <td>8.499355</td>\n      <td>11.900323</td>\n      <td>12.011613</td>\n      <td>2.806452</td>\n      <td>0.741935</td>\n    </tr>\n    <tr>\n      <th>...</th>\n      <td>...</td>\n      <td>...</td>\n      <td>...</td>\n      <td>...</td>\n      <td>...</td>\n      <td>...</td>\n      <td>...</td>\n      <td>...</td>\n      <td>...</td>\n      <td>...</td>\n      <td>...</td>\n      <td>...</td>\n      <td>...</td>\n      <td>...</td>\n    </tr>\n    <tr>\n      <th>1978-08</th>\n      <td>9.645161</td>\n      <td>8.259355</td>\n      <td>9.032258</td>\n      <td>4.502903</td>\n      <td>7.368065</td>\n      <td>5.935161</td>\n      <td>5.650323</td>\n      <td>5.417742</td>\n      <td>7.241290</td>\n      <td>5.536774</td>\n      <td>10.466774</td>\n      <td>12.054194</td>\n      <td>2.903226</td>\n      <td>0.741935</td>\n    </tr>\n    <tr>\n      <th>1978-09</th>\n      <td>10.913667</td>\n      <td>10.895000</td>\n      <td>10.635000</td>\n      <td>5.725000</td>\n      <td>10.372000</td>\n      <td>9.278333</td>\n      <td>10.790333</td>\n      <td>9.583000</td>\n      <td>10.069333</td>\n      <td>8.939000</td>\n      <td>15.680333</td>\n      <td>19.391333</td>\n      <td>3.100000</td>\n      <td>0.700000</td>\n    </tr>\n    <tr>\n      <th>1978-10</th>\n      <td>9.897742</td>\n      <td>8.670968</td>\n      <td>9.295806</td>\n      <td>4.721290</td>\n      <td>8.525161</td>\n      <td>6.774194</td>\n      <td>8.115484</td>\n      <td>7.337742</td>\n      <td>8.297742</td>\n      <td>8.243871</td>\n      <td>13.776774</td>\n      <td>17.150000</td>\n      <td>2.935484</td>\n      <td>0.709677</td>\n    </tr>\n    <tr>\n      <th>1978-11</th>\n      <td>16.151667</td>\n      <td>14.802667</td>\n      <td>13.508000</td>\n      <td>7.317333</td>\n      <td>11.475000</td>\n      <td>8.743000</td>\n      <td>11.492333</td>\n      <td>9.657333</td>\n      <td>10.701333</td>\n      <td>10.676000</td>\n      <td>17.404667</td>\n      <td>20.723000</td>\n      <td>2.966667</td>\n      <td>0.733333</td>\n    </tr>\n    <tr>\n      <th>1978-12</th>\n      <td>16.175484</td>\n      <td>13.748065</td>\n      <td>15.635161</td>\n      <td>7.094839</td>\n      <td>11.398710</td>\n      <td>9.241613</td>\n      <td>12.077419</td>\n      <td>10.194839</td>\n      <td>10.616774</td>\n      <td>11.028710</td>\n      <td>13.859677</td>\n      <td>21.371613</td>\n      <td>3.193548</td>\n      <td>0.677419</td>\n    </tr>\n  </tbody>\n</table>\n<p>216 rows × 14 columns</p>\n</div>",
      "text/plain": "                RPT        VAL        ROS       KIL        SHA        BIR  \\\nYr_Mo_Dy                                                                    \n1961-01   14.932581  12.084194  13.431613  7.736774  11.215806   8.588065   \n1961-02   16.269286  14.975357  14.324643  9.116786  13.852143  10.937500   \n1961-03   11.015806  11.296452  10.752903  7.137742  10.509355   8.866774   \n1961-04   10.722667   9.427667   9.998000  5.830667   8.435000   6.495000   \n1961-05    9.860968   8.735161  10.818065  5.892258   9.490323   6.574839   \n...             ...        ...        ...       ...        ...        ...   \n1978-08    9.645161   8.259355   9.032258  4.502903   7.368065   5.935161   \n1978-09   10.913667  10.895000  10.635000  5.725000  10.372000   9.278333   \n1978-10    9.897742   8.670968   9.295806  4.721290   8.525161   6.774194   \n1978-11   16.151667  14.802667  13.508000  7.317333  11.475000   8.743000   \n1978-12   16.175484  13.748065  15.635161  7.094839  11.398710   9.241613   \n\n                DUB        CLA        MUL        CLO        BEL        MAL  \\\nYr_Mo_Dy                                                                     \n1961-01   11.184839   9.270968   9.085806  10.107419  13.880968  14.703226   \n1961-02   11.890714  11.846071  11.821429  12.714286  18.583214  15.411786   \n1961-03    9.644194   9.829677  10.646129  11.251935  16.410968  15.637742   \n1961-04    6.925333   7.094667   7.342333   7.237000  11.147333  10.278333   \n1961-05    7.477097   8.177097   8.039355   8.499355  11.900323  12.011613   \n...             ...        ...        ...        ...        ...        ...   \n1978-08    5.650323   5.417742   7.241290   5.536774  10.466774  12.054194   \n1978-09   10.790333   9.583000  10.069333   8.939000  15.680333  19.391333   \n1978-10    8.115484   7.337742   8.297742   8.243871  13.776774  17.150000   \n1978-11   11.492333   9.657333  10.701333  10.676000  17.404667  20.723000   \n1978-12   12.077419  10.194839  10.616774  11.028710  13.859677  21.371613   \n\n           weekday  WeekCheck  \nYr_Mo_Dy                       \n1961-01   2.935484   0.709677  \n1961-02   3.000000   0.714286  \n1961-03   3.000000   0.741935  \n1961-04   3.166667   0.666667  \n1961-05   2.806452   0.741935  \n...            ...        ...  \n1978-08   2.903226   0.741935  \n1978-09   3.100000   0.700000  \n1978-10   2.935484   0.709677  \n1978-11   2.966667   0.733333  \n1978-12   3.193548   0.677419  \n\n[216 rows x 14 columns]"
     },
     "execution_count": 196,
     "metadata": {},
     "output_type": "execute_result"
    }
   ],
   "source": [
    "# 년도 - 월을 기준으로 모든 컬럼의 평균값을 구하여라\n",
    "# dt함수 내 to_period : Y는 년, M은 년-월, D는 년-월-일\n",
    "df.groupby(df.Yr_Mo_Dy.dt.to_period('M')).agg('mean')"
   ]
  },
  {
   "cell_type": "code",
   "execution_count": 203,
   "metadata": {},
   "outputs": [
    {
     "data": {
      "text/plain": "0     NaN\n1   -0.33\n2    3.79\n3   -7.92\n4    2.75\nName: RPT, dtype: float64"
     },
     "execution_count": 203,
     "metadata": {},
     "output_type": "execute_result"
    }
   ],
   "source": [
    "# RPT 컬럼의 값을 일자별 기준으로 1차차분하라\n",
    "df.RPT.diff().head()"
   ]
  },
  {
   "cell_type": "code",
   "execution_count": 210,
   "metadata": {},
   "outputs": [
    {
     "data": {
      "text/html": "<div>\n<style scoped>\n    .dataframe tbody tr th:only-of-type {\n        vertical-align: middle;\n    }\n\n    .dataframe tbody tr th {\n        vertical-align: top;\n    }\n\n    .dataframe thead th {\n        text-align: right;\n    }\n</style>\n<table border=\"1\" class=\"dataframe\">\n  <thead>\n    <tr style=\"text-align: right;\">\n      <th></th>\n      <th>RPT</th>\n      <th>VAL</th>\n    </tr>\n  </thead>\n  <tbody>\n    <tr>\n      <th>0</th>\n      <td>NaN</td>\n      <td>NaN</td>\n    </tr>\n    <tr>\n      <th>1</th>\n      <td>NaN</td>\n      <td>NaN</td>\n    </tr>\n    <tr>\n      <th>2</th>\n      <td>NaN</td>\n      <td>NaN</td>\n    </tr>\n    <tr>\n      <th>3</th>\n      <td>NaN</td>\n      <td>NaN</td>\n    </tr>\n    <tr>\n      <th>4</th>\n      <td>NaN</td>\n      <td>NaN</td>\n    </tr>\n    <tr>\n      <th>5</th>\n      <td>NaN</td>\n      <td>NaN</td>\n    </tr>\n    <tr>\n      <th>6</th>\n      <td>14.124286</td>\n      <td>12.727143</td>\n    </tr>\n    <tr>\n      <th>7</th>\n      <td>13.541429</td>\n      <td>11.982857</td>\n    </tr>\n    <tr>\n      <th>8</th>\n      <td>13.237143</td>\n      <td>11.392857</td>\n    </tr>\n    <tr>\n      <th>9</th>\n      <td>12.504286</td>\n      <td>10.570000</td>\n    </tr>\n  </tbody>\n</table>\n</div>",
      "text/plain": "         RPT        VAL\n0        NaN        NaN\n1        NaN        NaN\n2        NaN        NaN\n3        NaN        NaN\n4        NaN        NaN\n5        NaN        NaN\n6  14.124286  12.727143\n7  13.541429  11.982857\n8  13.237143  11.392857\n9  12.504286  10.570000"
     },
     "execution_count": 210,
     "metadata": {},
     "output_type": "execute_result"
    }
   ],
   "source": [
    "# RPT와 VAL의 컬럼을 일주일 간격으로 각각 이동평균한값을 구하여라\n",
    "df[['RPT','VAL']].rolling(7).mean().head(10)"
   ]
  },
  {
   "cell_type": "code",
   "execution_count": 211,
   "metadata": {},
   "outputs": [],
   "source": [
    "# 서울 미세먼지 데이터\n",
    "df =pd.read_csv('https://raw.githubusercontent.com/Datamanim/pandas/main/seoul_pm.csv')"
   ]
  },
  {
   "cell_type": "code",
   "execution_count": 239,
   "metadata": {},
   "outputs": [
    {
     "data": {
      "text/html": "<div>\n<style scoped>\n    .dataframe tbody tr th:only-of-type {\n        vertical-align: middle;\n    }\n\n    .dataframe tbody tr th {\n        vertical-align: top;\n    }\n\n    .dataframe thead th {\n        text-align: right;\n    }\n</style>\n<table border=\"1\" class=\"dataframe\">\n  <thead>\n    <tr style=\"text-align: right;\">\n      <th></th>\n      <th>(년-월-일:시)</th>\n      <th>PM10등급</th>\n      <th>PM10</th>\n      <th>PM2.5등급</th>\n      <th>PM2.5</th>\n      <th>오존등급</th>\n      <th>오존</th>\n      <th>이산화질소등급</th>\n      <th>이산화질소</th>\n      <th>일산화탄소등급</th>\n      <th>일산화탄소</th>\n      <th>아황산가스등급</th>\n      <th>아황산가스</th>\n    </tr>\n  </thead>\n  <tbody>\n    <tr>\n      <th>0</th>\n      <td>2021-05-15 15:00:00</td>\n      <td>보통</td>\n      <td>47.0</td>\n      <td>보통</td>\n      <td>19.0</td>\n      <td>좋음</td>\n      <td>0.017</td>\n      <td>좋음</td>\n      <td>0.023</td>\n      <td>좋음</td>\n      <td>0.4</td>\n      <td>좋음</td>\n      <td>0.003</td>\n    </tr>\n    <tr>\n      <th>1</th>\n      <td>2021-05-15 14:00:00</td>\n      <td>보통</td>\n      <td>43.0</td>\n      <td>보통</td>\n      <td>20.0</td>\n      <td>좋음</td>\n      <td>0.024</td>\n      <td>좋음</td>\n      <td>0.019</td>\n      <td>좋음</td>\n      <td>0.3</td>\n      <td>좋음</td>\n      <td>0.003</td>\n    </tr>\n    <tr>\n      <th>2</th>\n      <td>2021-05-15 13:00:00</td>\n      <td>보통</td>\n      <td>34.0</td>\n      <td>보통</td>\n      <td>24.0</td>\n      <td>보통</td>\n      <td>0.035</td>\n      <td>좋음</td>\n      <td>0.017</td>\n      <td>좋음</td>\n      <td>0.4</td>\n      <td>좋음</td>\n      <td>0.004</td>\n    </tr>\n    <tr>\n      <th>3</th>\n      <td>2021-05-15 12:00:00</td>\n      <td>보통</td>\n      <td>41.0</td>\n      <td>보통</td>\n      <td>27.0</td>\n      <td>보통</td>\n      <td>0.037</td>\n      <td>좋음</td>\n      <td>0.020</td>\n      <td>좋음</td>\n      <td>0.4</td>\n      <td>좋음</td>\n      <td>0.004</td>\n    </tr>\n    <tr>\n      <th>4</th>\n      <td>2021-05-15 11:00:00</td>\n      <td>보통</td>\n      <td>51.0</td>\n      <td>보통</td>\n      <td>34.0</td>\n      <td>보통</td>\n      <td>0.033</td>\n      <td>좋음</td>\n      <td>0.023</td>\n      <td>좋음</td>\n      <td>0.4</td>\n      <td>좋음</td>\n      <td>0.005</td>\n    </tr>\n  </tbody>\n</table>\n</div>",
      "text/plain": "            (년-월-일:시) PM10등급  PM10 PM2.5등급  PM2.5 오존등급     오존 이산화질소등급  이산화질소  \\\n0 2021-05-15 15:00:00     보통  47.0      보통   19.0   좋음  0.017      좋음  0.023   \n1 2021-05-15 14:00:00     보통  43.0      보통   20.0   좋음  0.024      좋음  0.019   \n2 2021-05-15 13:00:00     보통  34.0      보통   24.0   보통  0.035      좋음  0.017   \n3 2021-05-15 12:00:00     보통  41.0      보통   27.0   보통  0.037      좋음  0.020   \n4 2021-05-15 11:00:00     보통  51.0      보통   34.0   보통  0.033      좋음  0.023   \n\n  일산화탄소등급  일산화탄소 아황산가스등급  아황산가스  \n0      좋음    0.4      좋음  0.003  \n1      좋음    0.3      좋음  0.003  \n2      좋음    0.4      좋음  0.004  \n3      좋음    0.4      좋음  0.004  \n4      좋음    0.4      좋음  0.005  "
     },
     "execution_count": 239,
     "metadata": {},
     "output_type": "execute_result"
    }
   ],
   "source": [
    "# 년-월-일:시 컬럼을 pandas에서 인식할 수 있는 datetime 형태로 변경하라. 서울시의 제공데이터의 경우 0시가 24시로 표현된다\n",
    "# df['(년-월-일:시)'] = pd.to_datetime(df['(년-월-일:시)'])\n",
    "def change_date(x):\n",
    "    import datetime as dt\n",
    "\n",
    "    date = x.split(':')[0]\n",
    "    hour = x.split(':')[1]\n",
    "\n",
    "    if hour == '24':\n",
    "        hour = '00:00:00'\n",
    "        Final_Date = pd.to_datetime(date + ' ' + hour) + dt.timedelta(days=1)\n",
    "    else:\n",
    "        hour = hour + ':00:00'\n",
    "        Final_Date = pd.to_datetime(date + ' ' + hour)\n",
    "    return Final_Date\n",
    "\n",
    "df['(년-월-일:시)'] = df['(년-월-일:시)'].apply(change_date)\n",
    "df.head()"
   ]
  },
  {
   "cell_type": "code",
   "execution_count": 247,
   "metadata": {},
   "outputs": [
    {
     "data": {
      "text/html": "<div>\n<style scoped>\n    .dataframe tbody tr th:only-of-type {\n        vertical-align: middle;\n    }\n\n    .dataframe tbody tr th {\n        vertical-align: top;\n    }\n\n    .dataframe thead th {\n        text-align: right;\n    }\n</style>\n<table border=\"1\" class=\"dataframe\">\n  <thead>\n    <tr style=\"text-align: right;\">\n      <th></th>\n      <th>(년-월-일:시)</th>\n      <th>PM10등급</th>\n      <th>PM10</th>\n      <th>PM2.5등급</th>\n      <th>PM2.5</th>\n      <th>오존등급</th>\n      <th>오존</th>\n      <th>이산화질소등급</th>\n      <th>이산화질소</th>\n      <th>일산화탄소등급</th>\n      <th>일산화탄소</th>\n      <th>아황산가스등급</th>\n      <th>아황산가스</th>\n      <th>dayName</th>\n    </tr>\n  </thead>\n  <tbody>\n    <tr>\n      <th>0</th>\n      <td>2021-05-15 15:00:00</td>\n      <td>보통</td>\n      <td>47.0</td>\n      <td>보통</td>\n      <td>19.0</td>\n      <td>좋음</td>\n      <td>0.017</td>\n      <td>좋음</td>\n      <td>0.023</td>\n      <td>좋음</td>\n      <td>0.4</td>\n      <td>좋음</td>\n      <td>0.003</td>\n      <td>Saturday</td>\n    </tr>\n    <tr>\n      <th>1</th>\n      <td>2021-05-15 14:00:00</td>\n      <td>보통</td>\n      <td>43.0</td>\n      <td>보통</td>\n      <td>20.0</td>\n      <td>좋음</td>\n      <td>0.024</td>\n      <td>좋음</td>\n      <td>0.019</td>\n      <td>좋음</td>\n      <td>0.3</td>\n      <td>좋음</td>\n      <td>0.003</td>\n      <td>Saturday</td>\n    </tr>\n    <tr>\n      <th>2</th>\n      <td>2021-05-15 13:00:00</td>\n      <td>보통</td>\n      <td>34.0</td>\n      <td>보통</td>\n      <td>24.0</td>\n      <td>보통</td>\n      <td>0.035</td>\n      <td>좋음</td>\n      <td>0.017</td>\n      <td>좋음</td>\n      <td>0.4</td>\n      <td>좋음</td>\n      <td>0.004</td>\n      <td>Saturday</td>\n    </tr>\n    <tr>\n      <th>3</th>\n      <td>2021-05-15 12:00:00</td>\n      <td>보통</td>\n      <td>41.0</td>\n      <td>보통</td>\n      <td>27.0</td>\n      <td>보통</td>\n      <td>0.037</td>\n      <td>좋음</td>\n      <td>0.020</td>\n      <td>좋음</td>\n      <td>0.4</td>\n      <td>좋음</td>\n      <td>0.004</td>\n      <td>Saturday</td>\n    </tr>\n    <tr>\n      <th>4</th>\n      <td>2021-05-15 11:00:00</td>\n      <td>보통</td>\n      <td>51.0</td>\n      <td>보통</td>\n      <td>34.0</td>\n      <td>보통</td>\n      <td>0.033</td>\n      <td>좋음</td>\n      <td>0.023</td>\n      <td>좋음</td>\n      <td>0.4</td>\n      <td>좋음</td>\n      <td>0.005</td>\n      <td>Saturday</td>\n    </tr>\n  </tbody>\n</table>\n</div>",
      "text/plain": "            (년-월-일:시) PM10등급  PM10 PM2.5등급  PM2.5 오존등급     오존 이산화질소등급  이산화질소  \\\n0 2021-05-15 15:00:00     보통  47.0      보통   19.0   좋음  0.017      좋음  0.023   \n1 2021-05-15 14:00:00     보통  43.0      보통   20.0   좋음  0.024      좋음  0.019   \n2 2021-05-15 13:00:00     보통  34.0      보통   24.0   보통  0.035      좋음  0.017   \n3 2021-05-15 12:00:00     보통  41.0      보통   27.0   보통  0.037      좋음  0.020   \n4 2021-05-15 11:00:00     보통  51.0      보통   34.0   보통  0.033      좋음  0.023   \n\n  일산화탄소등급  일산화탄소 아황산가스등급  아황산가스   dayName  \n0      좋음    0.4      좋음  0.003  Saturday  \n1      좋음    0.3      좋음  0.003  Saturday  \n2      좋음    0.4      좋음  0.004  Saturday  \n3      좋음    0.4      좋음  0.004  Saturday  \n4      좋음    0.4      좋음  0.005  Saturday  "
     },
     "execution_count": 247,
     "metadata": {},
     "output_type": "execute_result"
    }
   ],
   "source": [
    "# 일자별 영어요일 이름을 dayName 컬럼에 저장하라\n",
    "df['dayName'] = df['(년-월-일:시)'].dt.day_name()\n",
    "df.head()"
   ]
  },
  {
   "cell_type": "code",
   "execution_count": 263,
   "metadata": {},
   "outputs": [
    {
     "data": {
      "text/html": "<div>\n<style scoped>\n    .dataframe tbody tr th:only-of-type {\n        vertical-align: middle;\n    }\n\n    .dataframe tbody tr th {\n        vertical-align: top;\n    }\n\n    .dataframe thead th {\n        text-align: right;\n    }\n</style>\n<table border=\"1\" class=\"dataframe\">\n  <thead>\n    <tr style=\"text-align: right;\">\n      <th>PM10등급</th>\n      <th>나쁨</th>\n      <th>매우나쁨</th>\n      <th>보통</th>\n      <th>좋음</th>\n    </tr>\n    <tr>\n      <th>dayName</th>\n      <th></th>\n      <th></th>\n      <th></th>\n      <th></th>\n    </tr>\n  </thead>\n  <tbody>\n    <tr>\n      <th>Friday</th>\n      <td>31.0</td>\n      <td>17.0</td>\n      <td>120.0</td>\n      <td>21.0</td>\n    </tr>\n    <tr>\n      <th>Monday</th>\n      <td>1.0</td>\n      <td>21.0</td>\n      <td>83.0</td>\n      <td>63.0</td>\n    </tr>\n    <tr>\n      <th>Saturday</th>\n      <td>31.0</td>\n      <td>27.0</td>\n      <td>71.0</td>\n      <td>54.0</td>\n    </tr>\n    <tr>\n      <th>Sunday</th>\n      <td>2.0</td>\n      <td>1.0</td>\n      <td>67.0</td>\n      <td>98.0</td>\n    </tr>\n    <tr>\n      <th>Thursday</th>\n      <td>41.0</td>\n      <td>NaN</td>\n      <td>144.0</td>\n      <td>5.0</td>\n    </tr>\n    <tr>\n      <th>Tuesday</th>\n      <td>13.0</td>\n      <td>10.0</td>\n      <td>71.0</td>\n      <td>74.0</td>\n    </tr>\n    <tr>\n      <th>Wednesday</th>\n      <td>26.0</td>\n      <td>NaN</td>\n      <td>95.0</td>\n      <td>46.0</td>\n    </tr>\n  </tbody>\n</table>\n</div>",
      "text/plain": "PM10등급       나쁨  매우나쁨     보통    좋음\ndayName                           \nFriday     31.0  17.0  120.0  21.0\nMonday      1.0  21.0   83.0  63.0\nSaturday   31.0  27.0   71.0  54.0\nSunday      2.0   1.0   67.0  98.0\nThursday   41.0   NaN  144.0   5.0\nTuesday    13.0  10.0   71.0  74.0\nWednesday  26.0   NaN   95.0  46.0"
     },
     "execution_count": 263,
     "metadata": {},
     "output_type": "execute_result"
    }
   ],
   "source": [
    "# 일자별 각 PM10등급의 빈도수를 파악하라\n",
    "df.groupby(['dayName','PM10등급']).agg('size').unstack()"
   ]
  },
  {
   "cell_type": "code",
   "execution_count": 300,
   "metadata": {},
   "outputs": [
    {
     "data": {
      "text/plain": "True"
     },
     "execution_count": 300,
     "metadata": {},
     "output_type": "execute_result"
    }
   ],
   "source": [
    "# Q79. 시간이 연속적으로 존재하며 결측치가 없는지 확인하라\n",
    "# 시간을 차분했을 경우 첫 값은 nan, 이후 모든 차분값이 동일하면 연속이라 판단한다.\n",
    "check = len(df['(년-월-일:시)'].diff().unique())\n",
    "if check ==2:\n",
    "    Ans =True\n",
    "else:\n",
    "    Ans = False\n",
    "\n",
    "Ans"
   ]
  },
  {
   "cell_type": "code",
   "execution_count": 299,
   "metadata": {},
   "outputs": [
    {
     "data": {
      "text/html": "<div>\n<style scoped>\n    .dataframe tbody tr th:only-of-type {\n        vertical-align: middle;\n    }\n\n    .dataframe tbody tr th {\n        vertical-align: top;\n    }\n\n    .dataframe thead th {\n        text-align: right;\n    }\n</style>\n<table border=\"1\" class=\"dataframe\">\n  <thead>\n    <tr style=\"text-align: right;\">\n      <th></th>\n      <th>PM10</th>\n    </tr>\n    <tr>\n      <th>(년-월-일:시)</th>\n      <th></th>\n    </tr>\n  </thead>\n  <tbody>\n    <tr>\n      <th>10</th>\n      <td>70.384615</td>\n    </tr>\n    <tr>\n      <th>22</th>\n      <td>69.941176</td>\n    </tr>\n  </tbody>\n</table>\n</div>",
      "text/plain": "                PM10\n(년-월-일:시)           \n10         70.384615\n22         69.941176"
     },
     "execution_count": 299,
     "metadata": {},
     "output_type": "execute_result"
    }
   ],
   "source": [
    "# Q80. 오전 10시와 오후 10시(22시)의 PM10의 평균값을 각각 구하여라\n",
    "df.groupby(df['(년-월-일:시)'].dt.hour).agg('mean').iloc[[10,22],[0]]"
   ]
  },
  {
   "cell_type": "code",
   "execution_count": 304,
   "metadata": {},
   "outputs": [],
   "source": [
    "# Q81. 날짜 컬럼을 index로 만들어라\n",
    "df.set_index('(년-월-일:시)',inplace=True, drop=True)"
   ]
  },
  {
   "cell_type": "code",
   "execution_count": 306,
   "metadata": {},
   "outputs": [
    {
     "data": {
      "text/html": "<div>\n<style scoped>\n    .dataframe tbody tr th:only-of-type {\n        vertical-align: middle;\n    }\n\n    .dataframe tbody tr th {\n        vertical-align: top;\n    }\n\n    .dataframe thead th {\n        text-align: right;\n    }\n</style>\n<table border=\"1\" class=\"dataframe\">\n  <thead>\n    <tr style=\"text-align: right;\">\n      <th></th>\n      <th>PM10등급</th>\n      <th>PM10</th>\n      <th>PM2.5등급</th>\n      <th>PM2.5</th>\n      <th>오존등급</th>\n      <th>오존</th>\n      <th>이산화질소등급</th>\n      <th>이산화질소</th>\n      <th>일산화탄소등급</th>\n      <th>일산화탄소</th>\n      <th>아황산가스등급</th>\n      <th>아황산가스</th>\n      <th>dayName</th>\n    </tr>\n    <tr>\n      <th>(년-월-일:시)</th>\n      <th></th>\n      <th></th>\n      <th></th>\n      <th></th>\n      <th></th>\n      <th></th>\n      <th></th>\n      <th></th>\n      <th></th>\n      <th></th>\n      <th></th>\n      <th></th>\n      <th></th>\n    </tr>\n  </thead>\n  <tbody>\n    <tr>\n      <th>2021-05-15 15:00:00</th>\n      <td>보통</td>\n      <td>47.0</td>\n      <td>보통</td>\n      <td>19.0</td>\n      <td>좋음</td>\n      <td>0.017</td>\n      <td>좋음</td>\n      <td>0.023</td>\n      <td>좋음</td>\n      <td>0.4</td>\n      <td>좋음</td>\n      <td>0.003</td>\n      <td>Saturday</td>\n    </tr>\n    <tr>\n      <th>2021-05-15 14:00:00</th>\n      <td>보통</td>\n      <td>43.0</td>\n      <td>보통</td>\n      <td>20.0</td>\n      <td>좋음</td>\n      <td>0.024</td>\n      <td>좋음</td>\n      <td>0.019</td>\n      <td>좋음</td>\n      <td>0.3</td>\n      <td>좋음</td>\n      <td>0.003</td>\n      <td>Saturday</td>\n    </tr>\n    <tr>\n      <th>2021-05-15 13:00:00</th>\n      <td>보통</td>\n      <td>34.0</td>\n      <td>보통</td>\n      <td>24.0</td>\n      <td>보통</td>\n      <td>0.035</td>\n      <td>좋음</td>\n      <td>0.017</td>\n      <td>좋음</td>\n      <td>0.4</td>\n      <td>좋음</td>\n      <td>0.004</td>\n      <td>Saturday</td>\n    </tr>\n    <tr>\n      <th>2021-05-15 12:00:00</th>\n      <td>보통</td>\n      <td>41.0</td>\n      <td>보통</td>\n      <td>27.0</td>\n      <td>보통</td>\n      <td>0.037</td>\n      <td>좋음</td>\n      <td>0.020</td>\n      <td>좋음</td>\n      <td>0.4</td>\n      <td>좋음</td>\n      <td>0.004</td>\n      <td>Saturday</td>\n    </tr>\n    <tr>\n      <th>2021-05-15 11:00:00</th>\n      <td>보통</td>\n      <td>51.0</td>\n      <td>보통</td>\n      <td>34.0</td>\n      <td>보통</td>\n      <td>0.033</td>\n      <td>좋음</td>\n      <td>0.023</td>\n      <td>좋음</td>\n      <td>0.4</td>\n      <td>좋음</td>\n      <td>0.005</td>\n      <td>Saturday</td>\n    </tr>\n  </tbody>\n</table>\n</div>",
      "text/plain": "                    PM10등급  PM10 PM2.5등급  PM2.5 오존등급     오존 이산화질소등급  이산화질소  \\\n(년-월-일:시)                                                                    \n2021-05-15 15:00:00     보통  47.0      보통   19.0   좋음  0.017      좋음  0.023   \n2021-05-15 14:00:00     보통  43.0      보통   20.0   좋음  0.024      좋음  0.019   \n2021-05-15 13:00:00     보통  34.0      보통   24.0   보통  0.035      좋음  0.017   \n2021-05-15 12:00:00     보통  41.0      보통   27.0   보통  0.037      좋음  0.020   \n2021-05-15 11:00:00     보통  51.0      보통   34.0   보통  0.033      좋음  0.023   \n\n                    일산화탄소등급  일산화탄소 아황산가스등급  아황산가스   dayName  \n(년-월-일:시)                                                    \n2021-05-15 15:00:00      좋음    0.4      좋음  0.003  Saturday  \n2021-05-15 14:00:00      좋음    0.3      좋음  0.003  Saturday  \n2021-05-15 13:00:00      좋음    0.4      좋음  0.004  Saturday  \n2021-05-15 12:00:00      좋음    0.4      좋음  0.004  Saturday  \n2021-05-15 11:00:00      좋음    0.4      좋음  0.005  Saturday  "
     },
     "execution_count": 306,
     "metadata": {},
     "output_type": "execute_result"
    }
   ],
   "source": [
    "df.head()"
   ]
  },
  {
   "cell_type": "code",
   "execution_count": 309,
   "metadata": {},
   "outputs": [
    {
     "data": {
      "text/html": "<div>\n<style scoped>\n    .dataframe tbody tr th:only-of-type {\n        vertical-align: middle;\n    }\n\n    .dataframe tbody tr th {\n        vertical-align: top;\n    }\n\n    .dataframe thead tr th {\n        text-align: left;\n    }\n\n    .dataframe thead tr:last-of-type th {\n        text-align: right;\n    }\n</style>\n<table border=\"1\" class=\"dataframe\">\n  <thead>\n    <tr>\n      <th></th>\n      <th colspan=\"4\" halign=\"left\">PM10</th>\n      <th colspan=\"4\" halign=\"left\">PM2.5</th>\n      <th colspan=\"2\" halign=\"left\">오존</th>\n      <th>...</th>\n      <th colspan=\"2\" halign=\"left\">이산화질소</th>\n      <th colspan=\"4\" halign=\"left\">일산화탄소</th>\n      <th colspan=\"4\" halign=\"left\">아황산가스</th>\n    </tr>\n    <tr>\n      <th></th>\n      <th>min</th>\n      <th>max</th>\n      <th>mean</th>\n      <th>std</th>\n      <th>min</th>\n      <th>max</th>\n      <th>mean</th>\n      <th>std</th>\n      <th>min</th>\n      <th>max</th>\n      <th>...</th>\n      <th>mean</th>\n      <th>std</th>\n      <th>min</th>\n      <th>max</th>\n      <th>mean</th>\n      <th>std</th>\n      <th>min</th>\n      <th>max</th>\n      <th>mean</th>\n      <th>std</th>\n    </tr>\n    <tr>\n      <th>(년-월-일:시)</th>\n      <th></th>\n      <th></th>\n      <th></th>\n      <th></th>\n      <th></th>\n      <th></th>\n      <th></th>\n      <th></th>\n      <th></th>\n      <th></th>\n      <th></th>\n      <th></th>\n      <th></th>\n      <th></th>\n      <th></th>\n      <th></th>\n      <th></th>\n      <th></th>\n      <th></th>\n      <th></th>\n      <th></th>\n    </tr>\n  </thead>\n  <tbody>\n    <tr>\n      <th>2021-03-28</th>\n      <td>6.0</td>\n      <td>160.0</td>\n      <td>72.747368</td>\n      <td>43.345462</td>\n      <td>4.0</td>\n      <td>113.0</td>\n      <td>44.705263</td>\n      <td>29.551928</td>\n      <td>0.002</td>\n      <td>0.085</td>\n      <td>...</td>\n      <td>0.044579</td>\n      <td>0.023722</td>\n      <td>0.3</td>\n      <td>1.4</td>\n      <td>0.611579</td>\n      <td>0.232408</td>\n      <td>0.002</td>\n      <td>0.006</td>\n      <td>0.003274</td>\n      <td>0.000961</td>\n    </tr>\n    <tr>\n      <th>2021-04-04</th>\n      <td>3.0</td>\n      <td>598.0</td>\n      <td>97.148810</td>\n      <td>129.911976</td>\n      <td>1.0</td>\n      <td>120.0</td>\n      <td>23.168675</td>\n      <td>22.399578</td>\n      <td>0.003</td>\n      <td>0.055</td>\n      <td>...</td>\n      <td>0.027929</td>\n      <td>0.014978</td>\n      <td>0.3</td>\n      <td>0.9</td>\n      <td>0.445833</td>\n      <td>0.135741</td>\n      <td>0.002</td>\n      <td>0.004</td>\n      <td>0.002732</td>\n      <td>0.000541</td>\n    </tr>\n    <tr>\n      <th>2021-04-11</th>\n      <td>17.0</td>\n      <td>102.0</td>\n      <td>41.059524</td>\n      <td>16.325911</td>\n      <td>7.0</td>\n      <td>70.0</td>\n      <td>21.761905</td>\n      <td>11.479343</td>\n      <td>0.009</td>\n      <td>0.070</td>\n      <td>...</td>\n      <td>0.022583</td>\n      <td>0.009562</td>\n      <td>0.3</td>\n      <td>0.7</td>\n      <td>0.389286</td>\n      <td>0.087573</td>\n      <td>0.002</td>\n      <td>0.004</td>\n      <td>0.002744</td>\n      <td>0.000569</td>\n    </tr>\n    <tr>\n      <th>2021-04-18</th>\n      <td>3.0</td>\n      <td>367.0</td>\n      <td>48.180723</td>\n      <td>43.254468</td>\n      <td>2.0</td>\n      <td>38.0</td>\n      <td>17.066265</td>\n      <td>7.867952</td>\n      <td>0.002</td>\n      <td>0.070</td>\n      <td>...</td>\n      <td>0.023753</td>\n      <td>0.013553</td>\n      <td>0.3</td>\n      <td>0.6</td>\n      <td>0.386747</td>\n      <td>0.084954</td>\n      <td>0.002</td>\n      <td>0.004</td>\n      <td>0.002464</td>\n      <td>0.000579</td>\n    </tr>\n    <tr>\n      <th>2021-04-25</th>\n      <td>17.0</td>\n      <td>126.0</td>\n      <td>55.119048</td>\n      <td>26.659936</td>\n      <td>7.0</td>\n      <td>61.0</td>\n      <td>26.392857</td>\n      <td>13.094788</td>\n      <td>0.006</td>\n      <td>0.090</td>\n      <td>...</td>\n      <td>0.028571</td>\n      <td>0.014640</td>\n      <td>0.3</td>\n      <td>0.8</td>\n      <td>0.457143</td>\n      <td>0.122142</td>\n      <td>0.001</td>\n      <td>0.011</td>\n      <td>0.003631</td>\n      <td>0.001763</td>\n    </tr>\n    <tr>\n      <th>2021-05-02</th>\n      <td>3.0</td>\n      <td>97.0</td>\n      <td>40.612121</td>\n      <td>24.813103</td>\n      <td>1.0</td>\n      <td>43.0</td>\n      <td>16.644578</td>\n      <td>8.850965</td>\n      <td>0.003</td>\n      <td>0.064</td>\n      <td>...</td>\n      <td>0.020428</td>\n      <td>0.011676</td>\n      <td>0.3</td>\n      <td>0.6</td>\n      <td>0.392771</td>\n      <td>0.092485</td>\n      <td>0.001</td>\n      <td>0.006</td>\n      <td>0.002524</td>\n      <td>0.000768</td>\n    </tr>\n    <tr>\n      <th>2021-05-09</th>\n      <td>8.0</td>\n      <td>1024.0</td>\n      <td>161.660714</td>\n      <td>239.679148</td>\n      <td>3.0</td>\n      <td>172.0</td>\n      <td>34.738095</td>\n      <td>39.788248</td>\n      <td>0.002</td>\n      <td>0.073</td>\n      <td>...</td>\n      <td>0.024187</td>\n      <td>0.012371</td>\n      <td>0.3</td>\n      <td>1.0</td>\n      <td>0.419277</td>\n      <td>0.103230</td>\n      <td>0.002</td>\n      <td>0.004</td>\n      <td>0.002771</td>\n      <td>0.000579</td>\n    </tr>\n    <tr>\n      <th>2021-05-16</th>\n      <td>16.0</td>\n      <td>111.0</td>\n      <td>40.014815</td>\n      <td>21.876855</td>\n      <td>7.0</td>\n      <td>76.0</td>\n      <td>21.577778</td>\n      <td>15.622633</td>\n      <td>0.004</td>\n      <td>0.123</td>\n      <td>...</td>\n      <td>0.030793</td>\n      <td>0.009503</td>\n      <td>0.3</td>\n      <td>0.8</td>\n      <td>0.440741</td>\n      <td>0.094075</td>\n      <td>0.001</td>\n      <td>0.006</td>\n      <td>0.002459</td>\n      <td>0.001696</td>\n    </tr>\n  </tbody>\n</table>\n<p>8 rows × 24 columns</p>\n</div>",
      "text/plain": "            PM10                                 PM2.5                    \\\n             min     max        mean         std   min    max       mean   \n(년-월-일:시)                                                                  \n2021-03-28   6.0   160.0   72.747368   43.345462   4.0  113.0  44.705263   \n2021-04-04   3.0   598.0   97.148810  129.911976   1.0  120.0  23.168675   \n2021-04-11  17.0   102.0   41.059524   16.325911   7.0   70.0  21.761905   \n2021-04-18   3.0   367.0   48.180723   43.254468   2.0   38.0  17.066265   \n2021-04-25  17.0   126.0   55.119048   26.659936   7.0   61.0  26.392857   \n2021-05-02   3.0    97.0   40.612121   24.813103   1.0   43.0  16.644578   \n2021-05-09   8.0  1024.0  161.660714  239.679148   3.0  172.0  34.738095   \n2021-05-16  16.0   111.0   40.014815   21.876855   7.0   76.0  21.577778   \n\n                          오존         ...     이산화질소           일산화탄소       \\\n                  std    min    max  ...      mean       std   min  max   \n(년-월-일:시)                            ...                                  \n2021-03-28  29.551928  0.002  0.085  ...  0.044579  0.023722   0.3  1.4   \n2021-04-04  22.399578  0.003  0.055  ...  0.027929  0.014978   0.3  0.9   \n2021-04-11  11.479343  0.009  0.070  ...  0.022583  0.009562   0.3  0.7   \n2021-04-18   7.867952  0.002  0.070  ...  0.023753  0.013553   0.3  0.6   \n2021-04-25  13.094788  0.006  0.090  ...  0.028571  0.014640   0.3  0.8   \n2021-05-02   8.850965  0.003  0.064  ...  0.020428  0.011676   0.3  0.6   \n2021-05-09  39.788248  0.002  0.073  ...  0.024187  0.012371   0.3  1.0   \n2021-05-16  15.622633  0.004  0.123  ...  0.030793  0.009503   0.3  0.8   \n\n                                아황산가스                             \n                mean       std    min    max      mean       std  \n(년-월-일:시)                                                         \n2021-03-28  0.611579  0.232408  0.002  0.006  0.003274  0.000961  \n2021-04-04  0.445833  0.135741  0.002  0.004  0.002732  0.000541  \n2021-04-11  0.389286  0.087573  0.002  0.004  0.002744  0.000569  \n2021-04-18  0.386747  0.084954  0.002  0.004  0.002464  0.000579  \n2021-04-25  0.457143  0.122142  0.001  0.011  0.003631  0.001763  \n2021-05-02  0.392771  0.092485  0.001  0.006  0.002524  0.000768  \n2021-05-09  0.419277  0.103230  0.002  0.004  0.002771  0.000579  \n2021-05-16  0.440741  0.094075  0.001  0.006  0.002459  0.001696  \n\n[8 rows x 24 columns]"
     },
     "execution_count": 309,
     "metadata": {},
     "output_type": "execute_result"
    }
   ],
   "source": [
    "# 데이터를 주단위로 뽑아서 최소,최대 평균, 표준표차를 구하여라\n",
    "df.resample(rule='W').agg(['min','max','mean','std'])\n"
   ]
  },
  {
   "cell_type": "code",
   "execution_count": 349,
   "metadata": {},
   "outputs": [],
   "source": [
    "df = pd.read_csv('https://raw.githubusercontent.com/Datamanim/pandas/main/under5MortalityRate.csv')"
   ]
  },
  {
   "cell_type": "code",
   "execution_count": 350,
   "metadata": {},
   "outputs": [
    {
     "data": {
      "text/html": "<div>\n<style scoped>\n    .dataframe tbody tr th:only-of-type {\n        vertical-align: middle;\n    }\n\n    .dataframe tbody tr th {\n        vertical-align: top;\n    }\n\n    .dataframe thead th {\n        text-align: right;\n    }\n</style>\n<table border=\"1\" class=\"dataframe\">\n  <thead>\n    <tr style=\"text-align: right;\">\n      <th></th>\n      <th>Location</th>\n      <th>Period</th>\n      <th>Indicator</th>\n      <th>Dim1</th>\n      <th>First Tooltip</th>\n    </tr>\n  </thead>\n  <tbody>\n    <tr>\n      <th>0</th>\n      <td>Afghanistan</td>\n      <td>2019</td>\n      <td>Under-five mortality rate (probability of dyin...</td>\n      <td>Both sexes</td>\n      <td>60.27 [47.44-74.62]</td>\n    </tr>\n    <tr>\n      <th>1</th>\n      <td>Afghanistan</td>\n      <td>2019</td>\n      <td>Under-five mortality rate (probability of dyin...</td>\n      <td>Male</td>\n      <td>63.83 [50.04-79.16]</td>\n    </tr>\n    <tr>\n      <th>2</th>\n      <td>Afghanistan</td>\n      <td>2019</td>\n      <td>Under-five mortality rate (probability of dyin...</td>\n      <td>Female</td>\n      <td>56.57 [44.54-70.18]</td>\n    </tr>\n    <tr>\n      <th>3</th>\n      <td>Afghanistan</td>\n      <td>2018</td>\n      <td>Under-five mortality rate (probability of dyin...</td>\n      <td>Both sexes</td>\n      <td>62.54 [50.64-75.41]</td>\n    </tr>\n    <tr>\n      <th>4</th>\n      <td>Afghanistan</td>\n      <td>2018</td>\n      <td>Under-five mortality rate (probability of dyin...</td>\n      <td>Male</td>\n      <td>66.08 [53.41-79.76]</td>\n    </tr>\n  </tbody>\n</table>\n</div>",
      "text/plain": "      Location  Period                                          Indicator  \\\n0  Afghanistan    2019  Under-five mortality rate (probability of dyin...   \n1  Afghanistan    2019  Under-five mortality rate (probability of dyin...   \n2  Afghanistan    2019  Under-five mortality rate (probability of dyin...   \n3  Afghanistan    2018  Under-five mortality rate (probability of dyin...   \n4  Afghanistan    2018  Under-five mortality rate (probability of dyin...   \n\n         Dim1        First Tooltip  \n0  Both sexes  60.27 [47.44-74.62]  \n1        Male  63.83 [50.04-79.16]  \n2      Female  56.57 [44.54-70.18]  \n3  Both sexes  62.54 [50.64-75.41]  \n4        Male  66.08 [53.41-79.76]  "
     },
     "execution_count": 350,
     "metadata": {},
     "output_type": "execute_result"
    }
   ],
   "source": [
    "df.head()"
   ]
  },
  {
   "cell_type": "code",
   "execution_count": 351,
   "metadata": {},
   "outputs": [],
   "source": [
    "# Indicator을 삭제하고 First Tooltip 컬럼에서 신뢰구간에 해당하는 표현을 지워라\n",
    "# inplace = True : 실제로 반영된 데이터를 저장 / inplace = False : 저장하지 않음. > default는 Fasle임.\n",
    "df.drop('Indicator',axis=1,inplace=True)\n",
    "df['First Tooltip'] = df['First Tooltip'].map(lambda x: float(x.split(\"[\")[0]))"
   ]
  },
  {
   "cell_type": "code",
   "execution_count": 352,
   "metadata": {},
   "outputs": [
    {
     "data": {
      "text/html": "<div>\n<style scoped>\n    .dataframe tbody tr th:only-of-type {\n        vertical-align: middle;\n    }\n\n    .dataframe tbody tr th {\n        vertical-align: top;\n    }\n\n    .dataframe thead th {\n        text-align: right;\n    }\n</style>\n<table border=\"1\" class=\"dataframe\">\n  <thead>\n    <tr style=\"text-align: right;\">\n      <th></th>\n      <th>Location</th>\n      <th>Period</th>\n      <th>Dim1</th>\n      <th>First Tooltip</th>\n    </tr>\n  </thead>\n  <tbody>\n    <tr>\n      <th>0</th>\n      <td>Afghanistan</td>\n      <td>2019</td>\n      <td>Both sexes</td>\n      <td>60.27</td>\n    </tr>\n    <tr>\n      <th>1</th>\n      <td>Afghanistan</td>\n      <td>2019</td>\n      <td>Male</td>\n      <td>63.83</td>\n    </tr>\n    <tr>\n      <th>2</th>\n      <td>Afghanistan</td>\n      <td>2019</td>\n      <td>Female</td>\n      <td>56.57</td>\n    </tr>\n    <tr>\n      <th>3</th>\n      <td>Afghanistan</td>\n      <td>2018</td>\n      <td>Both sexes</td>\n      <td>62.54</td>\n    </tr>\n    <tr>\n      <th>4</th>\n      <td>Afghanistan</td>\n      <td>2018</td>\n      <td>Male</td>\n      <td>66.08</td>\n    </tr>\n  </tbody>\n</table>\n</div>",
      "text/plain": "      Location  Period        Dim1  First Tooltip\n0  Afghanistan    2019  Both sexes          60.27\n1  Afghanistan    2019        Male          63.83\n2  Afghanistan    2019      Female          56.57\n3  Afghanistan    2018  Both sexes          62.54\n4  Afghanistan    2018        Male          66.08"
     },
     "execution_count": 352,
     "metadata": {},
     "output_type": "execute_result"
    }
   ],
   "source": [
    "df.head()"
   ]
  },
  {
   "cell_type": "code",
   "execution_count": 360,
   "metadata": {},
   "outputs": [
    {
     "data": {
      "text/html": "<div>\n<style scoped>\n    .dataframe tbody tr th:only-of-type {\n        vertical-align: middle;\n    }\n\n    .dataframe tbody tr th {\n        vertical-align: top;\n    }\n\n    .dataframe thead th {\n        text-align: right;\n    }\n</style>\n<table border=\"1\" class=\"dataframe\">\n  <thead>\n    <tr style=\"text-align: right;\">\n      <th></th>\n      <th>Location</th>\n      <th>Period</th>\n      <th>Dim1</th>\n      <th>First Tooltip</th>\n    </tr>\n  </thead>\n  <tbody>\n    <tr>\n      <th>0</th>\n      <td>Afghanistan</td>\n      <td>2019</td>\n      <td>Both sexes</td>\n      <td>60.27</td>\n    </tr>\n    <tr>\n      <th>3</th>\n      <td>Afghanistan</td>\n      <td>2018</td>\n      <td>Both sexes</td>\n      <td>62.54</td>\n    </tr>\n    <tr>\n      <th>6</th>\n      <td>Afghanistan</td>\n      <td>2017</td>\n      <td>Both sexes</td>\n      <td>64.94</td>\n    </tr>\n    <tr>\n      <th>9</th>\n      <td>Afghanistan</td>\n      <td>2016</td>\n      <td>Both sexes</td>\n      <td>67.57</td>\n    </tr>\n    <tr>\n      <th>12</th>\n      <td>Afghanistan</td>\n      <td>2015</td>\n      <td>Both sexes</td>\n      <td>70.44</td>\n    </tr>\n  </tbody>\n</table>\n</div>",
      "text/plain": "       Location  Period        Dim1  First Tooltip\n0   Afghanistan    2019  Both sexes          60.27\n3   Afghanistan    2018  Both sexes          62.54\n6   Afghanistan    2017  Both sexes          64.94\n9   Afghanistan    2016  Both sexes          67.57\n12  Afghanistan    2015  Both sexes          70.44"
     },
     "execution_count": 360,
     "metadata": {},
     "output_type": "execute_result"
    }
   ],
   "source": [
    "# 년도가 2015년 이상, Dim1이 Both sexes인 케이스만 추출하라\n",
    "df.loc[(df.Period >= 2015) & (df.Dim1 == 'Both sexes'),].head()"
   ]
  },
  {
   "cell_type": "code",
   "execution_count": 371,
   "metadata": {},
   "outputs": [
    {
     "data": {
      "text/html": "<div>\n<style scoped>\n    .dataframe tbody tr th:only-of-type {\n        vertical-align: middle;\n    }\n\n    .dataframe tbody tr th {\n        vertical-align: top;\n    }\n\n    .dataframe thead th {\n        text-align: right;\n    }\n</style>\n<table border=\"1\" class=\"dataframe\">\n  <thead>\n    <tr style=\"text-align: right;\">\n      <th>Period</th>\n      <th>2015</th>\n      <th>2016</th>\n      <th>2017</th>\n      <th>2018</th>\n      <th>2019</th>\n    </tr>\n    <tr>\n      <th>Location</th>\n      <th></th>\n      <th></th>\n      <th></th>\n      <th></th>\n      <th></th>\n    </tr>\n  </thead>\n  <tbody>\n    <tr>\n      <th>Afghanistan</th>\n      <td>70.44</td>\n      <td>67.57</td>\n      <td>64.94</td>\n      <td>62.54</td>\n      <td>60.27</td>\n    </tr>\n    <tr>\n      <th>Albania</th>\n      <td>9.57</td>\n      <td>9.42</td>\n      <td>9.42</td>\n      <td>9.53</td>\n      <td>9.68</td>\n    </tr>\n    <tr>\n      <th>Algeria</th>\n      <td>25.18</td>\n      <td>24.79</td>\n      <td>24.32</td>\n      <td>23.81</td>\n      <td>23.26</td>\n    </tr>\n    <tr>\n      <th>Andorra</th>\n      <td>3.53</td>\n      <td>3.37</td>\n      <td>3.22</td>\n      <td>3.09</td>\n      <td>2.97</td>\n    </tr>\n    <tr>\n      <th>Angola</th>\n      <td>88.20</td>\n      <td>84.21</td>\n      <td>80.62</td>\n      <td>77.67</td>\n      <td>74.69</td>\n    </tr>\n  </tbody>\n</table>\n</div>",
      "text/plain": "Period        2015   2016   2017   2018   2019\nLocation                                      \nAfghanistan  70.44  67.57  64.94  62.54  60.27\nAlbania       9.57   9.42   9.42   9.53   9.68\nAlgeria      25.18  24.79  24.32  23.81  23.26\nAndorra       3.53   3.37   3.22   3.09   2.97\nAngola       88.20  84.21  80.62  77.67  74.69"
     },
     "execution_count": 371,
     "metadata": {},
     "output_type": "execute_result"
    }
   ],
   "source": [
    "# 84번 문제에서 추출한 데이터로 아래와 같이 나라에 따른 년도별 사망률을 데이터 프레임화 하라\n",
    "# Ans1\n",
    "# a = df.loc[(df.Period >= 2015) & (df.Dim1 == 'Both sexes'),]\n",
    "# a.groupby(['Location','Period']).agg('mean').unstack().head()\n",
    "\n",
    "# Ans2\n",
    "# Pivot 함수는 R에서 Reshape과 같은 역할을 함. DataFrame을 Long, Wide Form으로 변환 가능\n",
    "a = df.loc[(df.Period >= 2015) & (df.Dim1 == 'Both sexes'),]\n",
    "a.pivot(index='Location',columns='Period',values='First Tooltip').head()"
   ]
  },
  {
   "cell_type": "code",
   "execution_count": 378,
   "metadata": {},
   "outputs": [
    {
     "data": {
      "text/html": "<div>\n<style scoped>\n    .dataframe tbody tr th:only-of-type {\n        vertical-align: middle;\n    }\n\n    .dataframe tbody tr th {\n        vertical-align: top;\n    }\n\n    .dataframe thead th {\n        text-align: right;\n    }\n</style>\n<table border=\"1\" class=\"dataframe\">\n  <thead>\n    <tr style=\"text-align: right;\">\n      <th>Period</th>\n      <th>1950</th>\n      <th>1951</th>\n      <th>1952</th>\n      <th>1953</th>\n    </tr>\n    <tr>\n      <th>Dim1</th>\n      <th></th>\n      <th></th>\n      <th></th>\n      <th></th>\n    </tr>\n  </thead>\n  <tbody>\n    <tr>\n      <th>Both sexes</th>\n      <td>147.700816</td>\n      <td>155.537544</td>\n      <td>157.811094</td>\n      <td>156.147206</td>\n    </tr>\n    <tr>\n      <th>Female</th>\n      <td>140.909796</td>\n      <td>149.210175</td>\n      <td>151.516094</td>\n      <td>150.250882</td>\n    </tr>\n    <tr>\n      <th>Male</th>\n      <td>154.151224</td>\n      <td>161.538246</td>\n      <td>163.760781</td>\n      <td>161.742059</td>\n    </tr>\n  </tbody>\n</table>\n</div>",
      "text/plain": "Period            1950        1951        1952        1953\nDim1                                                      \nBoth sexes  147.700816  155.537544  157.811094  156.147206\nFemale      140.909796  149.210175  151.516094  150.250882\nMale        154.151224  161.538246  163.760781  161.742059"
     },
     "execution_count": 378,
     "metadata": {},
     "output_type": "execute_result"
    }
   ],
   "source": [
    "# Dim1에 따른 년도별 사망비율의 평균을 구하라\n",
    "# df.pivot(index='Dim1',columns='Period',values='First Tooltip')\n",
    "a = df.pivot_table(index='Dim1',columns='Period',values='First Tooltip',aggfunc='mean')\n",
    "a.iloc[:,:4]"
   ]
  },
  {
   "cell_type": "code",
   "execution_count": 379,
   "metadata": {},
   "outputs": [],
   "source": [
    "df = pd.read_csv('https://raw.githubusercontent.com/Datamanim/pandas/main/winter.csv')"
   ]
  },
  {
   "cell_type": "code",
   "execution_count": 382,
   "metadata": {},
   "outputs": [
    {
     "data": {
      "text/html": "<div>\n<style scoped>\n    .dataframe tbody tr th:only-of-type {\n        vertical-align: middle;\n    }\n\n    .dataframe tbody tr th {\n        vertical-align: top;\n    }\n\n    .dataframe thead th {\n        text-align: right;\n    }\n</style>\n<table border=\"1\" class=\"dataframe\">\n  <thead>\n    <tr style=\"text-align: right;\">\n      <th></th>\n      <th>Year</th>\n      <th>City</th>\n      <th>Sport</th>\n      <th>Discipline</th>\n      <th>Athlete</th>\n      <th>Country</th>\n      <th>Gender</th>\n      <th>Event</th>\n      <th>Medal</th>\n    </tr>\n  </thead>\n  <tbody>\n    <tr>\n      <th>0</th>\n      <td>1924</td>\n      <td>Chamonix</td>\n      <td>Biathlon</td>\n      <td>Biathlon</td>\n      <td>BERTHET, G.</td>\n      <td>FRA</td>\n      <td>Men</td>\n      <td>Military Patrol</td>\n      <td>Bronze</td>\n    </tr>\n    <tr>\n      <th>1</th>\n      <td>1924</td>\n      <td>Chamonix</td>\n      <td>Biathlon</td>\n      <td>Biathlon</td>\n      <td>MANDRILLON, C.</td>\n      <td>FRA</td>\n      <td>Men</td>\n      <td>Military Patrol</td>\n      <td>Bronze</td>\n    </tr>\n    <tr>\n      <th>2</th>\n      <td>1924</td>\n      <td>Chamonix</td>\n      <td>Biathlon</td>\n      <td>Biathlon</td>\n      <td>MANDRILLON, Maurice</td>\n      <td>FRA</td>\n      <td>Men</td>\n      <td>Military Patrol</td>\n      <td>Bronze</td>\n    </tr>\n    <tr>\n      <th>3</th>\n      <td>1924</td>\n      <td>Chamonix</td>\n      <td>Biathlon</td>\n      <td>Biathlon</td>\n      <td>VANDELLE, André</td>\n      <td>FRA</td>\n      <td>Men</td>\n      <td>Military Patrol</td>\n      <td>Bronze</td>\n    </tr>\n    <tr>\n      <th>4</th>\n      <td>1924</td>\n      <td>Chamonix</td>\n      <td>Biathlon</td>\n      <td>Biathlon</td>\n      <td>AUFDENBLATTEN, Adolf</td>\n      <td>SUI</td>\n      <td>Men</td>\n      <td>Military Patrol</td>\n      <td>Gold</td>\n    </tr>\n  </tbody>\n</table>\n</div>",
      "text/plain": "   Year      City     Sport Discipline               Athlete Country Gender  \\\n0  1924  Chamonix  Biathlon   Biathlon           BERTHET, G.     FRA    Men   \n1  1924  Chamonix  Biathlon   Biathlon        MANDRILLON, C.     FRA    Men   \n2  1924  Chamonix  Biathlon   Biathlon   MANDRILLON, Maurice     FRA    Men   \n3  1924  Chamonix  Biathlon   Biathlon       VANDELLE, André     FRA    Men   \n4  1924  Chamonix  Biathlon   Biathlon  AUFDENBLATTEN, Adolf     SUI    Men   \n\n             Event   Medal  \n0  Military Patrol  Bronze  \n1  Military Patrol  Bronze  \n2  Military Patrol  Bronze  \n3  Military Patrol  Bronze  \n4  Military Patrol    Gold  "
     },
     "execution_count": 382,
     "metadata": {},
     "output_type": "execute_result"
    }
   ],
   "source": [
    "df.head()"
   ]
  },
  {
   "cell_type": "code",
   "execution_count": 388,
   "metadata": {},
   "outputs": [
    {
     "data": {
      "text/html": "<div>\n<style scoped>\n    .dataframe tbody tr th:only-of-type {\n        vertical-align: middle;\n    }\n\n    .dataframe tbody tr th {\n        vertical-align: top;\n    }\n\n    .dataframe thead th {\n        text-align: right;\n    }\n</style>\n<table border=\"1\" class=\"dataframe\">\n  <thead>\n    <tr style=\"text-align: right;\">\n      <th></th>\n      <th>Year</th>\n      <th>City</th>\n      <th>Sport</th>\n      <th>Discipline</th>\n      <th>Athlete</th>\n      <th>Country</th>\n      <th>Gender</th>\n      <th>Event</th>\n      <th>Medal</th>\n    </tr>\n  </thead>\n  <tbody>\n    <tr>\n      <th>2652</th>\n      <td>1992</td>\n      <td>Albertville</td>\n      <td>Skating</td>\n      <td>Short Track Speed Skating</td>\n      <td>LEE, Jun-Ho</td>\n      <td>KOR</td>\n      <td>Men</td>\n      <td>1000M</td>\n      <td>Bronze</td>\n    </tr>\n    <tr>\n      <th>2653</th>\n      <td>1992</td>\n      <td>Albertville</td>\n      <td>Skating</td>\n      <td>Short Track Speed Skating</td>\n      <td>KIM, Ki-Hoon</td>\n      <td>KOR</td>\n      <td>Men</td>\n      <td>1000M</td>\n      <td>Gold</td>\n    </tr>\n    <tr>\n      <th>2671</th>\n      <td>1992</td>\n      <td>Albertville</td>\n      <td>Skating</td>\n      <td>Short Track Speed Skating</td>\n      <td>KIM, Ki-Hoon</td>\n      <td>KOR</td>\n      <td>Men</td>\n      <td>5000M Relay</td>\n      <td>Gold</td>\n    </tr>\n    <tr>\n      <th>2672</th>\n      <td>1992</td>\n      <td>Albertville</td>\n      <td>Skating</td>\n      <td>Short Track Speed Skating</td>\n      <td>LEE, Jun-Ho</td>\n      <td>KOR</td>\n      <td>Men</td>\n      <td>5000M Relay</td>\n      <td>Gold</td>\n    </tr>\n    <tr>\n      <th>2673</th>\n      <td>1992</td>\n      <td>Albertville</td>\n      <td>Skating</td>\n      <td>Short Track Speed Skating</td>\n      <td>MO, Ji-Soo</td>\n      <td>KOR</td>\n      <td>Men</td>\n      <td>5000M Relay</td>\n      <td>Gold</td>\n    </tr>\n  </tbody>\n</table>\n</div>",
      "text/plain": "      Year         City    Sport                 Discipline       Athlete  \\\n2652  1992  Albertville  Skating  Short Track Speed Skating   LEE, Jun-Ho   \n2653  1992  Albertville  Skating  Short Track Speed Skating  KIM, Ki-Hoon   \n2671  1992  Albertville  Skating  Short Track Speed Skating  KIM, Ki-Hoon   \n2672  1992  Albertville  Skating  Short Track Speed Skating   LEE, Jun-Ho   \n2673  1992  Albertville  Skating  Short Track Speed Skating    MO, Ji-Soo   \n\n     Country Gender        Event   Medal  \n2652     KOR    Men        1000M  Bronze  \n2653     KOR    Men        1000M    Gold  \n2671     KOR    Men  5000M Relay    Gold  \n2672     KOR    Men  5000M Relay    Gold  \n2673     KOR    Men  5000M Relay    Gold  "
     },
     "execution_count": 388,
     "metadata": {},
     "output_type": "execute_result"
    }
   ],
   "source": [
    "# 데이터에서 한국 KOR 데이터만 추출하라\n",
    "df[df['Country'] == 'KOR'].head()"
   ]
  },
  {
   "cell_type": "code",
   "execution_count": 399,
   "metadata": {},
   "outputs": [
    {
     "data": {
      "text/html": "<div>\n<style scoped>\n    .dataframe tbody tr th:only-of-type {\n        vertical-align: middle;\n    }\n\n    .dataframe tbody tr th {\n        vertical-align: top;\n    }\n\n    .dataframe thead th {\n        text-align: right;\n    }\n</style>\n<table border=\"1\" class=\"dataframe\">\n  <thead>\n    <tr style=\"text-align: right;\">\n      <th>Medal</th>\n      <th>Bronze</th>\n      <th>Gold</th>\n      <th>Silver</th>\n    </tr>\n    <tr>\n      <th>Year</th>\n      <th></th>\n      <th></th>\n      <th></th>\n    </tr>\n  </thead>\n  <tbody>\n    <tr>\n      <th>1992</th>\n      <td>1.0</td>\n      <td>5.0</td>\n      <td>1.0</td>\n    </tr>\n    <tr>\n      <th>1994</th>\n      <td>1.0</td>\n      <td>8.0</td>\n      <td>1.0</td>\n    </tr>\n    <tr>\n      <th>1998</th>\n      <td>2.0</td>\n      <td>6.0</td>\n      <td>4.0</td>\n    </tr>\n    <tr>\n      <th>2002</th>\n      <td>0.0</td>\n      <td>5.0</td>\n      <td>2.0</td>\n    </tr>\n    <tr>\n      <th>2006</th>\n      <td>2.0</td>\n      <td>14.0</td>\n      <td>3.0</td>\n    </tr>\n    <tr>\n      <th>2010</th>\n      <td>2.0</td>\n      <td>6.0</td>\n      <td>10.0</td>\n    </tr>\n    <tr>\n      <th>2014</th>\n      <td>2.0</td>\n      <td>7.0</td>\n      <td>5.0</td>\n    </tr>\n  </tbody>\n</table>\n</div>",
      "text/plain": "Medal  Bronze  Gold  Silver\nYear                       \n1992      1.0   5.0     1.0\n1994      1.0   8.0     1.0\n1998      2.0   6.0     4.0\n2002      0.0   5.0     2.0\n2006      2.0  14.0     3.0\n2010      2.0   6.0    10.0\n2014      2.0   7.0     5.0"
     },
     "execution_count": 399,
     "metadata": {},
     "output_type": "execute_result"
    }
   ],
   "source": [
    "# 한국 올림픽 메달리스트 데이터에서 년도에 따른 medal 갯수를 데이터프레임화 하라\n",
    "\n",
    "# Ans1\n",
    "# df[df['Country'] == 'KOR'].groupby(['Year','Medal']).agg('size').unstack().fillna(value=0)\n",
    "# Ans2\n",
    "df[df['Country'] == 'KOR'].pivot_table(index='Year',columns='Medal',aggfunc='size').fillna(value=0)"
   ]
  },
  {
   "cell_type": "code",
   "execution_count": 401,
   "metadata": {},
   "outputs": [
    {
     "data": {
      "text/html": "<div>\n<style scoped>\n    .dataframe tbody tr th:only-of-type {\n        vertical-align: middle;\n    }\n\n    .dataframe tbody tr th {\n        vertical-align: top;\n    }\n\n    .dataframe thead th {\n        text-align: right;\n    }\n</style>\n<table border=\"1\" class=\"dataframe\">\n  <thead>\n    <tr style=\"text-align: right;\">\n      <th>Gender</th>\n      <th>Men</th>\n      <th>Women</th>\n    </tr>\n    <tr>\n      <th>Sport</th>\n      <th></th>\n      <th></th>\n    </tr>\n  </thead>\n  <tbody>\n    <tr>\n      <th>Biathlon</th>\n      <td>270</td>\n      <td>150</td>\n    </tr>\n    <tr>\n      <th>Bobsleigh</th>\n      <td>416</td>\n      <td>36</td>\n    </tr>\n    <tr>\n      <th>Curling</th>\n      <td>97</td>\n      <td>75</td>\n    </tr>\n    <tr>\n      <th>Ice Hockey</th>\n      <td>1231</td>\n      <td>305</td>\n    </tr>\n    <tr>\n      <th>Luge</th>\n      <td>135</td>\n      <td>45</td>\n    </tr>\n    <tr>\n      <th>Skating</th>\n      <td>665</td>\n      <td>564</td>\n    </tr>\n    <tr>\n      <th>Skiing</th>\n      <td>1130</td>\n      <td>651</td>\n    </tr>\n  </tbody>\n</table>\n</div>",
      "text/plain": "Gender       Men  Women\nSport                  \nBiathlon     270    150\nBobsleigh    416     36\nCurling       97     75\nIce Hockey  1231    305\nLuge         135     45\nSkating      665    564\nSkiing      1130    651"
     },
     "execution_count": 401,
     "metadata": {},
     "output_type": "execute_result"
    }
   ],
   "source": [
    "# 전체 데이터에서 sport종류에 따른 성별수를 구하여라\n",
    "\n",
    "df.pivot_table(index='Sport',columns='Gender',aggfunc='size')"
   ]
  },
  {
   "cell_type": "code",
   "execution_count": 403,
   "metadata": {},
   "outputs": [
    {
     "data": {
      "text/html": "<div>\n<style scoped>\n    .dataframe tbody tr th:only-of-type {\n        vertical-align: middle;\n    }\n\n    .dataframe tbody tr th {\n        vertical-align: top;\n    }\n\n    .dataframe thead th {\n        text-align: right;\n    }\n</style>\n<table border=\"1\" class=\"dataframe\">\n  <thead>\n    <tr style=\"text-align: right;\">\n      <th>Medal</th>\n      <th>Bronze</th>\n      <th>Gold</th>\n      <th>Silver</th>\n    </tr>\n    <tr>\n      <th>Discipline</th>\n      <th></th>\n      <th></th>\n      <th></th>\n    </tr>\n  </thead>\n  <tbody>\n    <tr>\n      <th>Alpine Skiing</th>\n      <td>141</td>\n      <td>143</td>\n      <td>144</td>\n    </tr>\n    <tr>\n      <th>Biathlon</th>\n      <td>139</td>\n      <td>140</td>\n      <td>141</td>\n    </tr>\n    <tr>\n      <th>Bobsleigh</th>\n      <td>147</td>\n      <td>134</td>\n      <td>141</td>\n    </tr>\n    <tr>\n      <th>Cross Country Skiing</th>\n      <td>263</td>\n      <td>264</td>\n      <td>262</td>\n    </tr>\n    <tr>\n      <th>Curling</th>\n      <td>56</td>\n      <td>58</td>\n      <td>58</td>\n    </tr>\n    <tr>\n      <th>Figure skating</th>\n      <td>118</td>\n      <td>122</td>\n      <td>119</td>\n    </tr>\n    <tr>\n      <th>Freestyle Skiing</th>\n      <td>34</td>\n      <td>34</td>\n      <td>34</td>\n    </tr>\n    <tr>\n      <th>Ice Hockey</th>\n      <td>512</td>\n      <td>510</td>\n      <td>514</td>\n    </tr>\n    <tr>\n      <th>Luge</th>\n      <td>60</td>\n      <td>62</td>\n      <td>58</td>\n    </tr>\n    <tr>\n      <th>Nordic Combined</th>\n      <td>55</td>\n      <td>55</td>\n      <td>55</td>\n    </tr>\n    <tr>\n      <th>Short Track Speed Skating</th>\n      <td>96</td>\n      <td>97</td>\n      <td>97</td>\n    </tr>\n    <tr>\n      <th>Skeleton</th>\n      <td>10</td>\n      <td>10</td>\n      <td>10</td>\n    </tr>\n    <tr>\n      <th>Ski Jumping</th>\n      <td>68</td>\n      <td>69</td>\n      <td>70</td>\n    </tr>\n    <tr>\n      <th>Snowboard</th>\n      <td>30</td>\n      <td>30</td>\n      <td>30</td>\n    </tr>\n    <tr>\n      <th>Speed skating</th>\n      <td>190</td>\n      <td>193</td>\n      <td>197</td>\n    </tr>\n  </tbody>\n</table>\n</div>",
      "text/plain": "Medal                      Bronze  Gold  Silver\nDiscipline                                     \nAlpine Skiing                 141   143     144\nBiathlon                      139   140     141\nBobsleigh                     147   134     141\nCross Country Skiing          263   264     262\nCurling                        56    58      58\nFigure skating                118   122     119\nFreestyle Skiing               34    34      34\nIce Hockey                    512   510     514\nLuge                           60    62      58\nNordic Combined                55    55      55\nShort Track Speed Skating      96    97      97\nSkeleton                       10    10      10\nSki Jumping                    68    69      70\nSnowboard                      30    30      30\nSpeed skating                 190   193     197"
     },
     "execution_count": 403,
     "metadata": {},
     "output_type": "execute_result"
    }
   ],
   "source": [
    "# 전체 데이터에서 Discipline종류에 따른 따른 Medal수를 구하여라\n",
    "df.pivot_table(index='Discipline',columns='Medal',aggfunc='size')"
   ]
  },
  {
   "cell_type": "code",
   "execution_count": 404,
   "metadata": {},
   "outputs": [],
   "source": [
    "df = pd.read_csv('https://raw.githubusercontent.com/Datamanim/pandas/main/mergeTEst.csv',index_col= 0)"
   ]
  },
  {
   "cell_type": "code",
   "execution_count": 406,
   "metadata": {},
   "outputs": [
    {
     "data": {
      "text/html": "<div>\n<style scoped>\n    .dataframe tbody tr th:only-of-type {\n        vertical-align: middle;\n    }\n\n    .dataframe tbody tr th {\n        vertical-align: top;\n    }\n\n    .dataframe thead th {\n        text-align: right;\n    }\n</style>\n<table border=\"1\" class=\"dataframe\">\n  <thead>\n    <tr style=\"text-align: right;\">\n      <th></th>\n      <th>2010</th>\n      <th>2011</th>\n      <th>2012</th>\n      <th>2013</th>\n      <th>2014</th>\n      <th>2015</th>\n      <th>2016</th>\n      <th>2017</th>\n      <th>2018</th>\n      <th>2019</th>\n    </tr>\n    <tr>\n      <th>Location</th>\n      <th></th>\n      <th></th>\n      <th></th>\n      <th></th>\n      <th></th>\n      <th></th>\n      <th></th>\n      <th></th>\n      <th></th>\n      <th></th>\n    </tr>\n  </thead>\n  <tbody>\n    <tr>\n      <th>Afghanistan</th>\n      <td>64.023</td>\n      <td>61.640</td>\n      <td>59.367</td>\n      <td>57.170</td>\n      <td>55.08</td>\n      <td>53.107</td>\n      <td>51.267</td>\n      <td>49.560</td>\n      <td>47.983</td>\n      <td>46.453</td>\n    </tr>\n    <tr>\n      <th>Albania</th>\n      <td>11.803</td>\n      <td>10.807</td>\n      <td>9.943</td>\n      <td>9.267</td>\n      <td>8.79</td>\n      <td>8.493</td>\n      <td>8.363</td>\n      <td>8.363</td>\n      <td>8.453</td>\n      <td>8.597</td>\n    </tr>\n    <tr>\n      <th>Algeria</th>\n      <td>23.540</td>\n      <td>22.907</td>\n      <td>22.450</td>\n      <td>22.117</td>\n      <td>21.85</td>\n      <td>21.587</td>\n      <td>21.257</td>\n      <td>20.850</td>\n      <td>20.407</td>\n      <td>19.930</td>\n    </tr>\n    <tr>\n      <th>Andorra</th>\n      <td>4.240</td>\n      <td>4.033</td>\n      <td>3.843</td>\n      <td>3.667</td>\n      <td>3.49</td>\n      <td>3.330</td>\n      <td>3.187</td>\n      <td>3.060</td>\n      <td>2.933</td>\n      <td>2.827</td>\n    </tr>\n    <tr>\n      <th>Angola</th>\n      <td>75.713</td>\n      <td>71.280</td>\n      <td>67.233</td>\n      <td>63.570</td>\n      <td>60.43</td>\n      <td>57.757</td>\n      <td>55.510</td>\n      <td>53.460</td>\n      <td>51.757</td>\n      <td>50.093</td>\n    </tr>\n  </tbody>\n</table>\n</div>",
      "text/plain": "               2010    2011    2012    2013   2014    2015    2016    2017  \\\nLocation                                                                     \nAfghanistan  64.023  61.640  59.367  57.170  55.08  53.107  51.267  49.560   \nAlbania      11.803  10.807   9.943   9.267   8.79   8.493   8.363   8.363   \nAlgeria      23.540  22.907  22.450  22.117  21.85  21.587  21.257  20.850   \nAndorra       4.240   4.033   3.843   3.667   3.49   3.330   3.187   3.060   \nAngola       75.713  71.280  67.233  63.570  60.43  57.757  55.510  53.460   \n\n               2018    2019  \nLocation                     \nAfghanistan  47.983  46.453  \nAlbania       8.453   8.597  \nAlgeria      20.407  19.930  \nAndorra       2.933   2.827  \nAngola       51.757  50.093  "
     },
     "execution_count": 406,
     "metadata": {},
     "output_type": "execute_result"
    }
   ],
   "source": [
    "df.head()"
   ]
  },
  {
   "cell_type": "code",
   "execution_count": 407,
   "metadata": {},
   "outputs": [
    {
     "data": {
      "text/html": "<div>\n<style scoped>\n    .dataframe tbody tr th:only-of-type {\n        vertical-align: middle;\n    }\n\n    .dataframe tbody tr th {\n        vertical-align: top;\n    }\n\n    .dataframe thead th {\n        text-align: right;\n    }\n</style>\n<table border=\"1\" class=\"dataframe\">\n  <thead>\n    <tr style=\"text-align: right;\">\n      <th></th>\n      <th>2010</th>\n      <th>2011</th>\n      <th>2012</th>\n      <th>2013</th>\n      <th>2014</th>\n      <th>2015</th>\n      <th>2016</th>\n      <th>2017</th>\n      <th>2018</th>\n      <th>2019</th>\n    </tr>\n    <tr>\n      <th>Location</th>\n      <th></th>\n      <th></th>\n      <th></th>\n      <th></th>\n      <th></th>\n      <th></th>\n      <th></th>\n      <th></th>\n      <th></th>\n      <th></th>\n    </tr>\n  </thead>\n  <tbody>\n    <tr>\n      <th>Afghanistan</th>\n      <td>64.023</td>\n      <td>61.640</td>\n      <td>59.367</td>\n      <td>57.170</td>\n      <td>55.08</td>\n      <td>53.107</td>\n      <td>51.267</td>\n      <td>49.560</td>\n      <td>47.983</td>\n      <td>46.453</td>\n    </tr>\n    <tr>\n      <th>Albania</th>\n      <td>11.803</td>\n      <td>10.807</td>\n      <td>9.943</td>\n      <td>9.267</td>\n      <td>8.79</td>\n      <td>8.493</td>\n      <td>8.363</td>\n      <td>8.363</td>\n      <td>8.453</td>\n      <td>8.597</td>\n    </tr>\n    <tr>\n      <th>Algeria</th>\n      <td>23.540</td>\n      <td>22.907</td>\n      <td>22.450</td>\n      <td>22.117</td>\n      <td>21.85</td>\n      <td>21.587</td>\n      <td>21.257</td>\n      <td>20.850</td>\n      <td>20.407</td>\n      <td>19.930</td>\n    </tr>\n    <tr>\n      <th>Andorra</th>\n      <td>4.240</td>\n      <td>4.033</td>\n      <td>3.843</td>\n      <td>3.667</td>\n      <td>3.49</td>\n      <td>3.330</td>\n      <td>3.187</td>\n      <td>3.060</td>\n      <td>2.933</td>\n      <td>2.827</td>\n    </tr>\n  </tbody>\n</table>\n</div>",
      "text/plain": "               2010    2011    2012    2013   2014    2015    2016    2017  \\\nLocation                                                                     \nAfghanistan  64.023  61.640  59.367  57.170  55.08  53.107  51.267  49.560   \nAlbania      11.803  10.807   9.943   9.267   8.79   8.493   8.363   8.363   \nAlgeria      23.540  22.907  22.450  22.117  21.85  21.587  21.257  20.850   \nAndorra       4.240   4.033   3.843   3.667   3.49   3.330   3.187   3.060   \n\n               2018    2019  \nLocation                     \nAfghanistan  47.983  46.453  \nAlbania       8.453   8.597  \nAlgeria      20.407  19.930  \nAndorra       2.933   2.827  "
     },
     "metadata": {},
     "output_type": "display_data"
    },
    {
     "data": {
      "text/html": "<div>\n<style scoped>\n    .dataframe tbody tr th:only-of-type {\n        vertical-align: middle;\n    }\n\n    .dataframe tbody tr th {\n        vertical-align: top;\n    }\n\n    .dataframe thead th {\n        text-align: right;\n    }\n</style>\n<table border=\"1\" class=\"dataframe\">\n  <thead>\n    <tr style=\"text-align: right;\">\n      <th></th>\n      <th>2010</th>\n      <th>2011</th>\n      <th>2012</th>\n      <th>2013</th>\n      <th>2014</th>\n      <th>2015</th>\n      <th>2016</th>\n      <th>2017</th>\n      <th>2018</th>\n      <th>2019</th>\n    </tr>\n    <tr>\n      <th>Location</th>\n      <th></th>\n      <th></th>\n      <th></th>\n      <th></th>\n      <th></th>\n      <th></th>\n      <th></th>\n      <th></th>\n      <th></th>\n      <th></th>\n    </tr>\n  </thead>\n  <tbody>\n    <tr>\n      <th>Angola</th>\n      <td>75.713</td>\n      <td>71.280</td>\n      <td>67.233</td>\n      <td>63.570</td>\n      <td>60.430</td>\n      <td>57.757</td>\n      <td>55.510</td>\n      <td>53.460</td>\n      <td>51.757</td>\n      <td>50.093</td>\n    </tr>\n    <tr>\n      <th>Antigua and Barbuda</th>\n      <td>8.667</td>\n      <td>8.223</td>\n      <td>7.807</td>\n      <td>7.420</td>\n      <td>7.070</td>\n      <td>6.757</td>\n      <td>6.483</td>\n      <td>6.230</td>\n      <td>6.000</td>\n      <td>5.783</td>\n    </tr>\n    <tr>\n      <th>Argentina</th>\n      <td>12.887</td>\n      <td>12.380</td>\n      <td>11.840</td>\n      <td>11.283</td>\n      <td>10.733</td>\n      <td>10.203</td>\n      <td>9.683</td>\n      <td>9.177</td>\n      <td>8.680</td>\n      <td>8.227</td>\n    </tr>\n    <tr>\n      <th>Armenia</th>\n      <td>16.497</td>\n      <td>15.677</td>\n      <td>14.897</td>\n      <td>14.170</td>\n      <td>13.477</td>\n      <td>12.817</td>\n      <td>12.183</td>\n      <td>11.583</td>\n      <td>11.007</td>\n      <td>10.497</td>\n    </tr>\n    <tr>\n      <th>Australia</th>\n      <td>3.993</td>\n      <td>3.803</td>\n      <td>3.623</td>\n      <td>3.467</td>\n      <td>3.343</td>\n      <td>3.253</td>\n      <td>3.183</td>\n      <td>3.137</td>\n      <td>3.090</td>\n      <td>3.047</td>\n    </tr>\n    <tr>\n      <th>Austria</th>\n      <td>3.573</td>\n      <td>3.463</td>\n      <td>3.333</td>\n      <td>3.210</td>\n      <td>3.113</td>\n      <td>3.043</td>\n      <td>2.987</td>\n      <td>2.943</td>\n      <td>2.897</td>\n      <td>2.843</td>\n    </tr>\n  </tbody>\n</table>\n</div>",
      "text/plain": "                       2010    2011    2012    2013    2014    2015    2016  \\\nLocation                                                                      \nAngola               75.713  71.280  67.233  63.570  60.430  57.757  55.510   \nAntigua and Barbuda   8.667   8.223   7.807   7.420   7.070   6.757   6.483   \nArgentina            12.887  12.380  11.840  11.283  10.733  10.203   9.683   \nArmenia              16.497  15.677  14.897  14.170  13.477  12.817  12.183   \nAustralia             3.993   3.803   3.623   3.467   3.343   3.253   3.183   \nAustria               3.573   3.463   3.333   3.210   3.113   3.043   2.987   \n\n                       2017    2018    2019  \nLocation                                     \nAngola               53.460  51.757  50.093  \nAntigua and Barbuda   6.230   6.000   5.783  \nArgentina             9.177   8.680   8.227  \nArmenia              11.583  11.007  10.497  \nAustralia             3.137   3.090   3.047  \nAustria               2.943   2.897   2.843  "
     },
     "metadata": {},
     "output_type": "display_data"
    }
   ],
   "source": [
    "df1 = df.iloc[:4,:]\n",
    "df2 = df.iloc[4:,:]\n",
    "\n",
    "display(df1)\n",
    "display(df2)"
   ]
  },
  {
   "cell_type": "code",
   "execution_count": 409,
   "metadata": {},
   "outputs": [
    {
     "data": {
      "text/html": "<div>\n<style scoped>\n    .dataframe tbody tr th:only-of-type {\n        vertical-align: middle;\n    }\n\n    .dataframe tbody tr th {\n        vertical-align: top;\n    }\n\n    .dataframe thead th {\n        text-align: right;\n    }\n</style>\n<table border=\"1\" class=\"dataframe\">\n  <thead>\n    <tr style=\"text-align: right;\">\n      <th></th>\n      <th>2010</th>\n      <th>2011</th>\n      <th>2012</th>\n      <th>2013</th>\n      <th>2014</th>\n      <th>2015</th>\n      <th>2016</th>\n      <th>2017</th>\n      <th>2018</th>\n      <th>2019</th>\n    </tr>\n    <tr>\n      <th>Location</th>\n      <th></th>\n      <th></th>\n      <th></th>\n      <th></th>\n      <th></th>\n      <th></th>\n      <th></th>\n      <th></th>\n      <th></th>\n      <th></th>\n    </tr>\n  </thead>\n  <tbody>\n    <tr>\n      <th>Afghanistan</th>\n      <td>64.023</td>\n      <td>61.640</td>\n      <td>59.367</td>\n      <td>57.170</td>\n      <td>55.08</td>\n      <td>53.107</td>\n      <td>51.267</td>\n      <td>49.560</td>\n      <td>47.983</td>\n      <td>46.453</td>\n    </tr>\n    <tr>\n      <th>Albania</th>\n      <td>11.803</td>\n      <td>10.807</td>\n      <td>9.943</td>\n      <td>9.267</td>\n      <td>8.79</td>\n      <td>8.493</td>\n      <td>8.363</td>\n      <td>8.363</td>\n      <td>8.453</td>\n      <td>8.597</td>\n    </tr>\n    <tr>\n      <th>Algeria</th>\n      <td>23.540</td>\n      <td>22.907</td>\n      <td>22.450</td>\n      <td>22.117</td>\n      <td>21.85</td>\n      <td>21.587</td>\n      <td>21.257</td>\n      <td>20.850</td>\n      <td>20.407</td>\n      <td>19.930</td>\n    </tr>\n    <tr>\n      <th>Andorra</th>\n      <td>4.240</td>\n      <td>4.033</td>\n      <td>3.843</td>\n      <td>3.667</td>\n      <td>3.49</td>\n      <td>3.330</td>\n      <td>3.187</td>\n      <td>3.060</td>\n      <td>2.933</td>\n      <td>2.827</td>\n    </tr>\n    <tr>\n      <th>Angola</th>\n      <td>75.713</td>\n      <td>71.280</td>\n      <td>67.233</td>\n      <td>63.570</td>\n      <td>60.43</td>\n      <td>57.757</td>\n      <td>55.510</td>\n      <td>53.460</td>\n      <td>51.757</td>\n      <td>50.093</td>\n    </tr>\n  </tbody>\n</table>\n</div>",
      "text/plain": "               2010    2011    2012    2013   2014    2015    2016    2017  \\\nLocation                                                                     \nAfghanistan  64.023  61.640  59.367  57.170  55.08  53.107  51.267  49.560   \nAlbania      11.803  10.807   9.943   9.267   8.79   8.493   8.363   8.363   \nAlgeria      23.540  22.907  22.450  22.117  21.85  21.587  21.257  20.850   \nAndorra       4.240   4.033   3.843   3.667   3.49   3.330   3.187   3.060   \nAngola       75.713  71.280  67.233  63.570  60.43  57.757  55.510  53.460   \n\n               2018    2019  \nLocation                     \nAfghanistan  47.983  46.453  \nAlbania       8.453   8.597  \nAlgeria      20.407  19.930  \nAndorra       2.933   2.827  \nAngola       51.757  50.093  "
     },
     "execution_count": 409,
     "metadata": {},
     "output_type": "execute_result"
    }
   ],
   "source": [
    "# df1과 df2 데이터를 하나의 데이터 프레임으로 합쳐라\n",
    "# pd.concat 은 R의 r/cbind와 같은 의미. axis 기준으로 행/열 으로 합칠 수 있음.\n",
    "# axis = 0 : 행, axis =1 : 열\n",
    "total = pd.concat(objs=[df1,df2])\n",
    "total.head()"
   ]
  },
  {
   "cell_type": "code",
   "execution_count": 413,
   "metadata": {},
   "outputs": [
    {
     "data": {
      "text/html": "<div>\n<style scoped>\n    .dataframe tbody tr th:only-of-type {\n        vertical-align: middle;\n    }\n\n    .dataframe tbody tr th {\n        vertical-align: top;\n    }\n\n    .dataframe thead th {\n        text-align: right;\n    }\n</style>\n<table border=\"1\" class=\"dataframe\">\n  <thead>\n    <tr style=\"text-align: right;\">\n      <th></th>\n      <th>2010</th>\n      <th>2011</th>\n      <th>2012</th>\n      <th>2013</th>\n    </tr>\n    <tr>\n      <th>Location</th>\n      <th></th>\n      <th></th>\n      <th></th>\n      <th></th>\n    </tr>\n  </thead>\n  <tbody>\n    <tr>\n      <th>Afghanistan</th>\n      <td>64.023</td>\n      <td>61.640</td>\n      <td>59.367</td>\n      <td>57.170</td>\n    </tr>\n    <tr>\n      <th>Albania</th>\n      <td>11.803</td>\n      <td>10.807</td>\n      <td>9.943</td>\n      <td>9.267</td>\n    </tr>\n  </tbody>\n</table>\n</div>",
      "text/plain": "               2010    2011    2012    2013\nLocation                                   \nAfghanistan  64.023  61.640  59.367  57.170\nAlbania      11.803  10.807   9.943   9.267"
     },
     "metadata": {},
     "output_type": "display_data"
    },
    {
     "data": {
      "text/html": "<div>\n<style scoped>\n    .dataframe tbody tr th:only-of-type {\n        vertical-align: middle;\n    }\n\n    .dataframe tbody tr th {\n        vertical-align: top;\n    }\n\n    .dataframe thead th {\n        text-align: right;\n    }\n</style>\n<table border=\"1\" class=\"dataframe\">\n  <thead>\n    <tr style=\"text-align: right;\">\n      <th></th>\n      <th>2013</th>\n      <th>2014</th>\n      <th>2015</th>\n      <th>2016</th>\n      <th>2017</th>\n      <th>2018</th>\n      <th>2019</th>\n    </tr>\n    <tr>\n      <th>Location</th>\n      <th></th>\n      <th></th>\n      <th></th>\n      <th></th>\n      <th></th>\n      <th></th>\n      <th></th>\n    </tr>\n  </thead>\n  <tbody>\n    <tr>\n      <th>Antigua and Barbuda</th>\n      <td>7.420</td>\n      <td>7.070</td>\n      <td>6.757</td>\n      <td>6.483</td>\n      <td>6.230</td>\n      <td>6.000</td>\n      <td>5.783</td>\n    </tr>\n    <tr>\n      <th>Argentina</th>\n      <td>11.283</td>\n      <td>10.733</td>\n      <td>10.203</td>\n      <td>9.683</td>\n      <td>9.177</td>\n      <td>8.680</td>\n      <td>8.227</td>\n    </tr>\n    <tr>\n      <th>Armenia</th>\n      <td>14.170</td>\n      <td>13.477</td>\n      <td>12.817</td>\n      <td>12.183</td>\n      <td>11.583</td>\n      <td>11.007</td>\n      <td>10.497</td>\n    </tr>\n    <tr>\n      <th>Australia</th>\n      <td>3.467</td>\n      <td>3.343</td>\n      <td>3.253</td>\n      <td>3.183</td>\n      <td>3.137</td>\n      <td>3.090</td>\n      <td>3.047</td>\n    </tr>\n    <tr>\n      <th>Austria</th>\n      <td>3.210</td>\n      <td>3.113</td>\n      <td>3.043</td>\n      <td>2.987</td>\n      <td>2.943</td>\n      <td>2.897</td>\n      <td>2.843</td>\n    </tr>\n  </tbody>\n</table>\n</div>",
      "text/plain": "                       2013    2014    2015    2016    2017    2018    2019\nLocation                                                                   \nAntigua and Barbuda   7.420   7.070   6.757   6.483   6.230   6.000   5.783\nArgentina            11.283  10.733  10.203   9.683   9.177   8.680   8.227\nArmenia              14.170  13.477  12.817  12.183  11.583  11.007  10.497\nAustralia             3.467   3.343   3.253   3.183   3.137   3.090   3.047\nAustria               3.210   3.113   3.043   2.987   2.943   2.897   2.843"
     },
     "metadata": {},
     "output_type": "display_data"
    }
   ],
   "source": [
    "df3 = df.iloc[:2,:4]\n",
    "df4 = df.iloc[5:,3:]\n",
    "\n",
    "display(df3)\n",
    "display(df4)"
   ]
  },
  {
   "cell_type": "code",
   "execution_count": 415,
   "metadata": {},
   "outputs": [
    {
     "data": {
      "text/html": "<div>\n<style scoped>\n    .dataframe tbody tr th:only-of-type {\n        vertical-align: middle;\n    }\n\n    .dataframe tbody tr th {\n        vertical-align: top;\n    }\n\n    .dataframe thead th {\n        text-align: right;\n    }\n</style>\n<table border=\"1\" class=\"dataframe\">\n  <thead>\n    <tr style=\"text-align: right;\">\n      <th></th>\n      <th>2013</th>\n    </tr>\n    <tr>\n      <th>Location</th>\n      <th></th>\n    </tr>\n  </thead>\n  <tbody>\n    <tr>\n      <th>Afghanistan</th>\n      <td>57.170</td>\n    </tr>\n    <tr>\n      <th>Albania</th>\n      <td>9.267</td>\n    </tr>\n    <tr>\n      <th>Antigua and Barbuda</th>\n      <td>7.420</td>\n    </tr>\n    <tr>\n      <th>Argentina</th>\n      <td>11.283</td>\n    </tr>\n    <tr>\n      <th>Armenia</th>\n      <td>14.170</td>\n    </tr>\n  </tbody>\n</table>\n</div>",
      "text/plain": "                       2013\nLocation                   \nAfghanistan          57.170\nAlbania               9.267\nAntigua and Barbuda   7.420\nArgentina            11.283\nArmenia              14.170"
     },
     "execution_count": 415,
     "metadata": {},
     "output_type": "execute_result"
    }
   ],
   "source": [
    "total = pd.concat(objs=[df3,df4],join='inner')\n",
    "total.head()"
   ]
  },
  {
   "cell_type": "code",
   "execution_count": 418,
   "metadata": {},
   "outputs": [
    {
     "data": {
      "text/html": "<div>\n<style scoped>\n    .dataframe tbody tr th:only-of-type {\n        vertical-align: middle;\n    }\n\n    .dataframe tbody tr th {\n        vertical-align: top;\n    }\n\n    .dataframe thead th {\n        text-align: right;\n    }\n</style>\n<table border=\"1\" class=\"dataframe\">\n  <thead>\n    <tr style=\"text-align: right;\">\n      <th></th>\n      <th>2010</th>\n      <th>2011</th>\n      <th>2012</th>\n      <th>2013</th>\n      <th>2014</th>\n      <th>2015</th>\n      <th>2016</th>\n      <th>2017</th>\n      <th>2018</th>\n      <th>2019</th>\n    </tr>\n    <tr>\n      <th>Location</th>\n      <th></th>\n      <th></th>\n      <th></th>\n      <th></th>\n      <th></th>\n      <th></th>\n      <th></th>\n      <th></th>\n      <th></th>\n      <th></th>\n    </tr>\n  </thead>\n  <tbody>\n    <tr>\n      <th>Afghanistan</th>\n      <td>64.023</td>\n      <td>61.640</td>\n      <td>59.367</td>\n      <td>57.170</td>\n      <td>0.000</td>\n      <td>0.000</td>\n      <td>0.000</td>\n      <td>0.000</td>\n      <td>0.000</td>\n      <td>0.000</td>\n    </tr>\n    <tr>\n      <th>Albania</th>\n      <td>11.803</td>\n      <td>10.807</td>\n      <td>9.943</td>\n      <td>9.267</td>\n      <td>0.000</td>\n      <td>0.000</td>\n      <td>0.000</td>\n      <td>0.000</td>\n      <td>0.000</td>\n      <td>0.000</td>\n    </tr>\n    <tr>\n      <th>Antigua and Barbuda</th>\n      <td>0.000</td>\n      <td>0.000</td>\n      <td>0.000</td>\n      <td>7.420</td>\n      <td>7.070</td>\n      <td>6.757</td>\n      <td>6.483</td>\n      <td>6.230</td>\n      <td>6.000</td>\n      <td>5.783</td>\n    </tr>\n    <tr>\n      <th>Argentina</th>\n      <td>0.000</td>\n      <td>0.000</td>\n      <td>0.000</td>\n      <td>11.283</td>\n      <td>10.733</td>\n      <td>10.203</td>\n      <td>9.683</td>\n      <td>9.177</td>\n      <td>8.680</td>\n      <td>8.227</td>\n    </tr>\n    <tr>\n      <th>Armenia</th>\n      <td>0.000</td>\n      <td>0.000</td>\n      <td>0.000</td>\n      <td>14.170</td>\n      <td>13.477</td>\n      <td>12.817</td>\n      <td>12.183</td>\n      <td>11.583</td>\n      <td>11.007</td>\n      <td>10.497</td>\n    </tr>\n    <tr>\n      <th>Australia</th>\n      <td>0.000</td>\n      <td>0.000</td>\n      <td>0.000</td>\n      <td>3.467</td>\n      <td>3.343</td>\n      <td>3.253</td>\n      <td>3.183</td>\n      <td>3.137</td>\n      <td>3.090</td>\n      <td>3.047</td>\n    </tr>\n    <tr>\n      <th>Austria</th>\n      <td>0.000</td>\n      <td>0.000</td>\n      <td>0.000</td>\n      <td>3.210</td>\n      <td>3.113</td>\n      <td>3.043</td>\n      <td>2.987</td>\n      <td>2.943</td>\n      <td>2.897</td>\n      <td>2.843</td>\n    </tr>\n  </tbody>\n</table>\n</div>",
      "text/plain": "                       2010    2011    2012    2013    2014    2015    2016  \\\nLocation                                                                      \nAfghanistan          64.023  61.640  59.367  57.170   0.000   0.000   0.000   \nAlbania              11.803  10.807   9.943   9.267   0.000   0.000   0.000   \nAntigua and Barbuda   0.000   0.000   0.000   7.420   7.070   6.757   6.483   \nArgentina             0.000   0.000   0.000  11.283  10.733  10.203   9.683   \nArmenia               0.000   0.000   0.000  14.170  13.477  12.817  12.183   \nAustralia             0.000   0.000   0.000   3.467   3.343   3.253   3.183   \nAustria               0.000   0.000   0.000   3.210   3.113   3.043   2.987   \n\n                       2017    2018    2019  \nLocation                                     \nAfghanistan           0.000   0.000   0.000  \nAlbania               0.000   0.000   0.000  \nAntigua and Barbuda   6.230   6.000   5.783  \nArgentina             9.177   8.680   8.227  \nArmenia              11.583  11.007  10.497  \nAustralia             3.137   3.090   3.047  \nAustria               2.943   2.897   2.843  "
     },
     "execution_count": 418,
     "metadata": {},
     "output_type": "execute_result"
    }
   ],
   "source": [
    "# df3과 df4 데이터를 하나의 데이터 프레임으로 합쳐라. 모든 컬럼을 포함하고, 결측치는 0으로 대체한다\n",
    "pd.concat(objs=[df3,df4],join='outer').fillna(value=0)"
   ]
  },
  {
   "cell_type": "code",
   "execution_count": 419,
   "metadata": {},
   "outputs": [
    {
     "data": {
      "text/html": "<div>\n<style scoped>\n    .dataframe tbody tr th:only-of-type {\n        vertical-align: middle;\n    }\n\n    .dataframe tbody tr th {\n        vertical-align: top;\n    }\n\n    .dataframe thead th {\n        text-align: right;\n    }\n</style>\n<table border=\"1\" class=\"dataframe\">\n  <thead>\n    <tr style=\"text-align: right;\">\n      <th>Location</th>\n      <th>Afghanistan</th>\n      <th>Albania</th>\n      <th>Algeria</th>\n    </tr>\n  </thead>\n  <tbody>\n    <tr>\n      <th>2010</th>\n      <td>64.023</td>\n      <td>11.803</td>\n      <td>23.540</td>\n    </tr>\n    <tr>\n      <th>2011</th>\n      <td>61.640</td>\n      <td>10.807</td>\n      <td>22.907</td>\n    </tr>\n    <tr>\n      <th>2012</th>\n      <td>59.367</td>\n      <td>9.943</td>\n      <td>22.450</td>\n    </tr>\n    <tr>\n      <th>2013</th>\n      <td>57.170</td>\n      <td>9.267</td>\n      <td>22.117</td>\n    </tr>\n    <tr>\n      <th>2014</th>\n      <td>55.080</td>\n      <td>8.790</td>\n      <td>21.850</td>\n    </tr>\n    <tr>\n      <th>2015</th>\n      <td>53.107</td>\n      <td>8.493</td>\n      <td>21.587</td>\n    </tr>\n    <tr>\n      <th>2016</th>\n      <td>51.267</td>\n      <td>8.363</td>\n      <td>21.257</td>\n    </tr>\n  </tbody>\n</table>\n</div>",
      "text/plain": "Location  Afghanistan  Albania  Algeria\n2010           64.023   11.803   23.540\n2011           61.640   10.807   22.907\n2012           59.367    9.943   22.450\n2013           57.170    9.267   22.117\n2014           55.080    8.790   21.850\n2015           53.107    8.493   21.587\n2016           51.267    8.363   21.257"
     },
     "metadata": {},
     "output_type": "display_data"
    },
    {
     "data": {
      "text/html": "<div>\n<style scoped>\n    .dataframe tbody tr th:only-of-type {\n        vertical-align: middle;\n    }\n\n    .dataframe tbody tr th {\n        vertical-align: top;\n    }\n\n    .dataframe thead th {\n        text-align: right;\n    }\n</style>\n<table border=\"1\" class=\"dataframe\">\n  <thead>\n    <tr style=\"text-align: right;\">\n      <th>Location</th>\n      <th>Algeria</th>\n      <th>Andorra</th>\n      <th>Angola</th>\n    </tr>\n  </thead>\n  <tbody>\n    <tr>\n      <th>2016</th>\n      <td>21.257</td>\n      <td>3.187</td>\n      <td>55.510</td>\n    </tr>\n    <tr>\n      <th>2017</th>\n      <td>20.850</td>\n      <td>3.060</td>\n      <td>53.460</td>\n    </tr>\n    <tr>\n      <th>2018</th>\n      <td>20.407</td>\n      <td>2.933</td>\n      <td>51.757</td>\n    </tr>\n    <tr>\n      <th>2019</th>\n      <td>19.930</td>\n      <td>2.827</td>\n      <td>50.093</td>\n    </tr>\n  </tbody>\n</table>\n</div>",
      "text/plain": "Location  Algeria  Andorra  Angola\n2016       21.257    3.187  55.510\n2017       20.850    3.060  53.460\n2018       20.407    2.933  51.757\n2019       19.930    2.827  50.093"
     },
     "metadata": {},
     "output_type": "display_data"
    }
   ],
   "source": [
    "df5 = df.T.iloc[:7,:3]\n",
    "df6 = df.T.iloc[6:,2:5]\n",
    "\n",
    "display(df5)\n",
    "display(df6)"
   ]
  },
  {
   "cell_type": "code",
   "execution_count": 420,
   "metadata": {},
   "outputs": [
    {
     "data": {
      "text/html": "<div>\n<style scoped>\n    .dataframe tbody tr th:only-of-type {\n        vertical-align: middle;\n    }\n\n    .dataframe tbody tr th {\n        vertical-align: top;\n    }\n\n    .dataframe thead th {\n        text-align: right;\n    }\n</style>\n<table border=\"1\" class=\"dataframe\">\n  <thead>\n    <tr style=\"text-align: right;\">\n      <th>Location</th>\n      <th>Afghanistan</th>\n      <th>Albania</th>\n      <th>Algeria</th>\n      <th>Andorra</th>\n      <th>Angola</th>\n    </tr>\n  </thead>\n  <tbody>\n    <tr>\n      <th>0</th>\n      <td>51.267</td>\n      <td>8.363</td>\n      <td>21.257</td>\n      <td>3.187</td>\n      <td>55.51</td>\n    </tr>\n  </tbody>\n</table>\n</div>",
      "text/plain": "Location  Afghanistan  Albania  Algeria  Andorra  Angola\n0              51.267    8.363   21.257    3.187   55.51"
     },
     "execution_count": 420,
     "metadata": {},
     "output_type": "execute_result"
    }
   ],
   "source": [
    "# df5과 df6 데이터를 하나의 데이터 프레임으로 merge함수를 이용하여 합쳐라. Algeria컬럼을 key로 하고 두 데이터 모두 포함하는 데이터만 출력하라\n",
    "pd.merge(left=df5,right=df6,how='inner',on='Algeria')\n"
   ]
  },
  {
   "cell_type": "code",
   "execution_count": 421,
   "metadata": {},
   "outputs": [
    {
     "data": {
      "text/html": "<div>\n<style scoped>\n    .dataframe tbody tr th:only-of-type {\n        vertical-align: middle;\n    }\n\n    .dataframe tbody tr th {\n        vertical-align: top;\n    }\n\n    .dataframe thead th {\n        text-align: right;\n    }\n</style>\n<table border=\"1\" class=\"dataframe\">\n  <thead>\n    <tr style=\"text-align: right;\">\n      <th>Location</th>\n      <th>Afghanistan</th>\n      <th>Albania</th>\n      <th>Algeria</th>\n      <th>Andorra</th>\n      <th>Angola</th>\n    </tr>\n  </thead>\n  <tbody>\n    <tr>\n      <th>0</th>\n      <td>64.023</td>\n      <td>11.803</td>\n      <td>23.540</td>\n      <td>NaN</td>\n      <td>NaN</td>\n    </tr>\n    <tr>\n      <th>1</th>\n      <td>61.640</td>\n      <td>10.807</td>\n      <td>22.907</td>\n      <td>NaN</td>\n      <td>NaN</td>\n    </tr>\n    <tr>\n      <th>2</th>\n      <td>59.367</td>\n      <td>9.943</td>\n      <td>22.450</td>\n      <td>NaN</td>\n      <td>NaN</td>\n    </tr>\n    <tr>\n      <th>3</th>\n      <td>57.170</td>\n      <td>9.267</td>\n      <td>22.117</td>\n      <td>NaN</td>\n      <td>NaN</td>\n    </tr>\n    <tr>\n      <th>4</th>\n      <td>55.080</td>\n      <td>8.790</td>\n      <td>21.850</td>\n      <td>NaN</td>\n      <td>NaN</td>\n    </tr>\n    <tr>\n      <th>5</th>\n      <td>53.107</td>\n      <td>8.493</td>\n      <td>21.587</td>\n      <td>NaN</td>\n      <td>NaN</td>\n    </tr>\n    <tr>\n      <th>6</th>\n      <td>51.267</td>\n      <td>8.363</td>\n      <td>21.257</td>\n      <td>3.187</td>\n      <td>55.510</td>\n    </tr>\n    <tr>\n      <th>7</th>\n      <td>NaN</td>\n      <td>NaN</td>\n      <td>20.850</td>\n      <td>3.060</td>\n      <td>53.460</td>\n    </tr>\n    <tr>\n      <th>8</th>\n      <td>NaN</td>\n      <td>NaN</td>\n      <td>20.407</td>\n      <td>2.933</td>\n      <td>51.757</td>\n    </tr>\n    <tr>\n      <th>9</th>\n      <td>NaN</td>\n      <td>NaN</td>\n      <td>19.930</td>\n      <td>2.827</td>\n      <td>50.093</td>\n    </tr>\n  </tbody>\n</table>\n</div>",
      "text/plain": "Location  Afghanistan  Albania  Algeria  Andorra  Angola\n0              64.023   11.803   23.540      NaN     NaN\n1              61.640   10.807   22.907      NaN     NaN\n2              59.367    9.943   22.450      NaN     NaN\n3              57.170    9.267   22.117      NaN     NaN\n4              55.080    8.790   21.850      NaN     NaN\n5              53.107    8.493   21.587      NaN     NaN\n6              51.267    8.363   21.257    3.187  55.510\n7                 NaN      NaN   20.850    3.060  53.460\n8                 NaN      NaN   20.407    2.933  51.757\n9                 NaN      NaN   19.930    2.827  50.093"
     },
     "execution_count": 421,
     "metadata": {},
     "output_type": "execute_result"
    }
   ],
   "source": [
    "# df5과 df6 데이터를 하나의 데이터 프레임으로 merge함수를 이용하여 합쳐라. Algeria컬럼을 key로 하고 합집합으로 합쳐라\n",
    "pd.merge(left=df5,right=df6,how='outer',on='Algeria')"
   ]
  },
  {
   "cell_type": "code",
   "execution_count": null,
   "metadata": {},
   "outputs": [],
   "source": []
  }
 ],
 "metadata": {
  "kernelspec": {
   "display_name": "Python 3 (ipykernel)",
   "language": "python",
   "name": "python3"
  },
  "language_info": {
   "codemirror_mode": {
    "name": "ipython",
    "version": 3
   },
   "file_extension": ".py",
   "mimetype": "text/x-python",
   "name": "python",
   "nbconvert_exporter": "python",
   "pygments_lexer": "ipython3",
   "version": "3.8.12"
  },
  "orig_nbformat": 2
 },
 "nbformat": 4,
 "nbformat_minor": 2
}