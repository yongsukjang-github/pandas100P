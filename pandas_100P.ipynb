{
 "cells": [
  {
   "cell_type": "code",
   "execution_count": 9,
   "metadata": {},
   "outputs": [],
   "source": [
    "import pandas as pd\n",
    "import numpy as np"
   ]
  },
  {
   "cell_type": "code",
   "execution_count": 2,
   "metadata": {},
   "outputs": [],
   "source": [
    "# Q1. 데이터를 로드하라. 데이터는 \\t을 기준으로 구분되어있다.\n",
    "DataUrl = 'https://raw.githubusercontent.com/Datamanim/pandas/main/lol.csv'\n",
    "df = pd.read_csv(DataUrl,sep='\\t')"
   ]
  },
  {
   "cell_type": "code",
   "execution_count": 4,
   "metadata": {},
   "outputs": [
    {
     "data": {
      "text/plain": "pandas.core.frame.DataFrame"
     },
     "execution_count": 4,
     "metadata": {},
     "output_type": "execute_result"
    }
   ],
   "source": [
    "type(df)"
   ]
  },
  {
   "cell_type": "code",
   "execution_count": 5,
   "metadata": {},
   "outputs": [
    {
     "data": {
      "text/html": "<div>\n<style scoped>\n    .dataframe tbody tr th:only-of-type {\n        vertical-align: middle;\n    }\n\n    .dataframe tbody tr th {\n        vertical-align: top;\n    }\n\n    .dataframe thead th {\n        text-align: right;\n    }\n</style>\n<table border=\"1\" class=\"dataframe\">\n  <thead>\n    <tr style=\"text-align: right;\">\n      <th></th>\n      <th>gameId</th>\n      <th>creationTime</th>\n      <th>gameDuration</th>\n      <th>seasonId</th>\n      <th>winner</th>\n      <th>firstBlood</th>\n      <th>firstTower</th>\n      <th>firstInhibitor</th>\n      <th>firstBaron</th>\n      <th>firstDragon</th>\n      <th>...</th>\n      <th>t2_towerKills</th>\n      <th>t2_inhibitorKills</th>\n      <th>t2_baronKills</th>\n      <th>t2_dragonKills</th>\n      <th>t2_riftHeraldKills</th>\n      <th>t2_ban1</th>\n      <th>t2_ban2</th>\n      <th>t2_ban3</th>\n      <th>t2_ban4</th>\n      <th>t2_ban5</th>\n    </tr>\n  </thead>\n  <tbody>\n    <tr>\n      <th>0</th>\n      <td>3326086514</td>\n      <td>1504279457970</td>\n      <td>1949</td>\n      <td>9</td>\n      <td>1</td>\n      <td>2</td>\n      <td>1</td>\n      <td>1</td>\n      <td>1</td>\n      <td>1</td>\n      <td>...</td>\n      <td>5</td>\n      <td>0</td>\n      <td>0</td>\n      <td>1</td>\n      <td>1</td>\n      <td>114</td>\n      <td>67</td>\n      <td>43</td>\n      <td>16</td>\n      <td>51</td>\n    </tr>\n    <tr>\n      <th>1</th>\n      <td>3229566029</td>\n      <td>1497848803862</td>\n      <td>1851</td>\n      <td>9</td>\n      <td>1</td>\n      <td>1</td>\n      <td>1</td>\n      <td>1</td>\n      <td>0</td>\n      <td>1</td>\n      <td>...</td>\n      <td>2</td>\n      <td>0</td>\n      <td>0</td>\n      <td>0</td>\n      <td>0</td>\n      <td>11</td>\n      <td>67</td>\n      <td>238</td>\n      <td>51</td>\n      <td>420</td>\n    </tr>\n    <tr>\n      <th>2</th>\n      <td>3327363504</td>\n      <td>1504360103310</td>\n      <td>1493</td>\n      <td>9</td>\n      <td>1</td>\n      <td>2</td>\n      <td>1</td>\n      <td>1</td>\n      <td>1</td>\n      <td>2</td>\n      <td>...</td>\n      <td>2</td>\n      <td>0</td>\n      <td>0</td>\n      <td>1</td>\n      <td>0</td>\n      <td>157</td>\n      <td>238</td>\n      <td>121</td>\n      <td>57</td>\n      <td>28</td>\n    </tr>\n    <tr>\n      <th>3</th>\n      <td>3326856598</td>\n      <td>1504348503996</td>\n      <td>1758</td>\n      <td>9</td>\n      <td>1</td>\n      <td>1</td>\n      <td>1</td>\n      <td>1</td>\n      <td>1</td>\n      <td>1</td>\n      <td>...</td>\n      <td>0</td>\n      <td>0</td>\n      <td>0</td>\n      <td>0</td>\n      <td>0</td>\n      <td>164</td>\n      <td>18</td>\n      <td>141</td>\n      <td>40</td>\n      <td>51</td>\n    </tr>\n    <tr>\n      <th>4</th>\n      <td>3330080762</td>\n      <td>1504554410899</td>\n      <td>2094</td>\n      <td>9</td>\n      <td>1</td>\n      <td>2</td>\n      <td>1</td>\n      <td>1</td>\n      <td>1</td>\n      <td>1</td>\n      <td>...</td>\n      <td>3</td>\n      <td>0</td>\n      <td>0</td>\n      <td>1</td>\n      <td>0</td>\n      <td>86</td>\n      <td>11</td>\n      <td>201</td>\n      <td>122</td>\n      <td>18</td>\n    </tr>\n  </tbody>\n</table>\n<p>5 rows × 61 columns</p>\n</div>",
      "text/plain": "       gameId   creationTime  gameDuration  seasonId  winner  firstBlood  \\\n0  3326086514  1504279457970          1949         9       1           2   \n1  3229566029  1497848803862          1851         9       1           1   \n2  3327363504  1504360103310          1493         9       1           2   \n3  3326856598  1504348503996          1758         9       1           1   \n4  3330080762  1504554410899          2094         9       1           2   \n\n   firstTower  firstInhibitor  firstBaron  firstDragon  ...  t2_towerKills  \\\n0           1               1           1            1  ...              5   \n1           1               1           0            1  ...              2   \n2           1               1           1            2  ...              2   \n3           1               1           1            1  ...              0   \n4           1               1           1            1  ...              3   \n\n   t2_inhibitorKills  t2_baronKills  t2_dragonKills  t2_riftHeraldKills  \\\n0                  0              0               1                   1   \n1                  0              0               0                   0   \n2                  0              0               1                   0   \n3                  0              0               0                   0   \n4                  0              0               1                   0   \n\n   t2_ban1  t2_ban2  t2_ban3  t2_ban4  t2_ban5  \n0      114       67       43       16       51  \n1       11       67      238       51      420  \n2      157      238      121       57       28  \n3      164       18      141       40       51  \n4       86       11      201      122       18  \n\n[5 rows x 61 columns]"
     },
     "execution_count": 5,
     "metadata": {},
     "output_type": "execute_result"
    }
   ],
   "source": [
    "# Q2. 데이터의 상위 5개 행을 출력하라\n",
    "df.head()"
   ]
  },
  {
   "cell_type": "code",
   "execution_count": 18,
   "metadata": {},
   "outputs": [
    {
     "name": "stdout",
     "output_type": "stream",
     "text": [
      "행 :  51490\n",
      "열 :  61\n"
     ]
    }
   ],
   "source": [
    "# Q3. 데이터의 행과 열의 갯수를 파악하라\n",
    "print('행 : ',df.shape[0])\n",
    "print('열 : ',df.shape[1])"
   ]
  },
  {
   "cell_type": "code",
   "execution_count": 20,
   "metadata": {},
   "outputs": [
    {
     "name": "stdout",
     "output_type": "stream",
     "text": [
      "Index(['gameId', 'creationTime', 'gameDuration', 'seasonId', 'winner',\n",
      "       'firstBlood', 'firstTower', 'firstInhibitor', 'firstBaron',\n",
      "       'firstDragon', 'firstRiftHerald', 't1_champ1id', 't1_champ1_sum1',\n",
      "       't1_champ1_sum2', 't1_champ2id', 't1_champ2_sum1', 't1_champ2_sum2',\n",
      "       't1_champ3id', 't1_champ3_sum1', 't1_champ3_sum2', 't1_champ4id',\n",
      "       't1_champ4_sum1', 't1_champ4_sum2', 't1_champ5id', 't1_champ5_sum1',\n",
      "       't1_champ5_sum2', 't1_towerKills', 't1_inhibitorKills', 't1_baronKills',\n",
      "       't1_dragonKills', 't1_riftHeraldKills', 't1_ban1', 't1_ban2', 't1_ban3',\n",
      "       't1_ban4', 't1_ban5', 't2_champ1id', 't2_champ1_sum1', 't2_champ1_sum2',\n",
      "       't2_champ2id', 't2_champ2_sum1', 't2_champ2_sum2', 't2_champ3id',\n",
      "       't2_champ3_sum1', 't2_champ3_sum2', 't2_champ4id', 't2_champ4_sum1',\n",
      "       't2_champ4_sum2', 't2_champ5id', 't2_champ5_sum1', 't2_champ5_sum2',\n",
      "       't2_towerKills', 't2_inhibitorKills', 't2_baronKills', 't2_dragonKills',\n",
      "       't2_riftHeraldKills', 't2_ban1', 't2_ban2', 't2_ban3', 't2_ban4',\n",
      "       't2_ban5'],\n",
      "      dtype='object')\n"
     ]
    }
   ],
   "source": [
    "# Q4. 전체 컬럼을 출력하라\n",
    "print(df.columns)"
   ]
  },
  {
   "cell_type": "code",
   "execution_count": 21,
   "metadata": {},
   "outputs": [
    {
     "name": "stdout",
     "output_type": "stream",
     "text": [
      "firstBlood\n"
     ]
    }
   ],
   "source": [
    "# Q5. 6번째 컬럼명을 출력하라\n",
    "print(df.columns[5])"
   ]
  },
  {
   "cell_type": "code",
   "execution_count": 29,
   "metadata": {},
   "outputs": [
    {
     "data": {
      "text/plain": "dtype('int64')"
     },
     "execution_count": 29,
     "metadata": {},
     "output_type": "execute_result"
    }
   ],
   "source": [
    "# Q6. 6번째 컬럼의 데이터 타입을 확인하라\n",
    "df.iloc[:,5].dtype"
   ]
  },
  {
   "cell_type": "code",
   "execution_count": 30,
   "metadata": {},
   "outputs": [
    {
     "data": {
      "text/plain": "RangeIndex(start=0, stop=51490, step=1)"
     },
     "execution_count": 30,
     "metadata": {},
     "output_type": "execute_result"
    }
   ],
   "source": [
    "# Q7. 데이터셋의 인덱스 구성은 어떤가\n",
    "df.index"
   ]
  },
  {
   "cell_type": "code",
   "execution_count": 33,
   "metadata": {},
   "outputs": [
    {
     "data": {
      "text/plain": "2"
     },
     "execution_count": 33,
     "metadata": {},
     "output_type": "execute_result"
    }
   ],
   "source": [
    "# Q8. 6번째 컬럼의 3번째 값은 무엇인가?\n",
    "df.iloc[2,5]"
   ]
  },
  {
   "cell_type": "code",
   "execution_count": 34,
   "metadata": {},
   "outputs": [],
   "source": [
    "# Q9. 데이터를 로드하라. 컬럼이 한글이기에 적절한 처리해줘야함\n",
    "# 제주 날씨,인구에 따른 교통량데이터 \n",
    "DataUrl = 'https://raw.githubusercontent.com/Datamanim/pandas/main/Jeju.csv'\n",
    "df = pd.read_csv(DataUrl,encoding='euc-kr')"
   ]
  },
  {
   "cell_type": "code",
   "execution_count": 36,
   "metadata": {},
   "outputs": [
    {
     "data": {
      "text/html": "<div>\n<style scoped>\n    .dataframe tbody tr th:only-of-type {\n        vertical-align: middle;\n    }\n\n    .dataframe tbody tr th {\n        vertical-align: top;\n    }\n\n    .dataframe thead th {\n        text-align: right;\n    }\n</style>\n<table border=\"1\" class=\"dataframe\">\n  <thead>\n    <tr style=\"text-align: right;\">\n      <th></th>\n      <th>id</th>\n      <th>일자</th>\n      <th>시도명</th>\n      <th>읍면동명</th>\n      <th>거주인구</th>\n      <th>근무인구</th>\n      <th>방문인구</th>\n      <th>총 유동인구</th>\n      <th>평균 속도</th>\n      <th>평균 소요 시간</th>\n      <th>평균 기온</th>\n      <th>일강수량</th>\n      <th>평균 풍속</th>\n    </tr>\n  </thead>\n  <tbody>\n    <tr>\n      <th>9618</th>\n      <td>32066</td>\n      <td>2020-04-30</td>\n      <td>제주시</td>\n      <td>도두동</td>\n      <td>28397.481</td>\n      <td>3144.895</td>\n      <td>84052.697</td>\n      <td>115595.073</td>\n      <td>41.053</td>\n      <td>29.421</td>\n      <td>20.3</td>\n      <td>0.0</td>\n      <td>3.0</td>\n    </tr>\n    <tr>\n      <th>9619</th>\n      <td>32067</td>\n      <td>2020-04-30</td>\n      <td>서귀포시</td>\n      <td>안덕면</td>\n      <td>348037.846</td>\n      <td>29106.286</td>\n      <td>251129.660</td>\n      <td>628273.792</td>\n      <td>46.595</td>\n      <td>49.189</td>\n      <td>17.6</td>\n      <td>0.0</td>\n      <td>3.5</td>\n    </tr>\n    <tr>\n      <th>9620</th>\n      <td>32068</td>\n      <td>2020-04-30</td>\n      <td>제주시</td>\n      <td>연동</td>\n      <td>1010643.372</td>\n      <td>65673.477</td>\n      <td>447622.068</td>\n      <td>1523938.917</td>\n      <td>40.863</td>\n      <td>27.765</td>\n      <td>14.1</td>\n      <td>0.0</td>\n      <td>4.8</td>\n    </tr>\n  </tbody>\n</table>\n</div>",
      "text/plain": "         id          일자   시도명 읍면동명         거주인구       근무인구        방문인구  \\\n9618  32066  2020-04-30   제주시  도두동    28397.481   3144.895   84052.697   \n9619  32067  2020-04-30  서귀포시  안덕면   348037.846  29106.286  251129.660   \n9620  32068  2020-04-30   제주시   연동  1010643.372  65673.477  447622.068   \n\n           총 유동인구   평균 속도  평균 소요 시간  평균 기온  일강수량  평균 풍속  \n9618   115595.073  41.053    29.421   20.3   0.0    3.0  \n9619   628273.792  46.595    49.189   17.6   0.0    3.5  \n9620  1523938.917  40.863    27.765   14.1   0.0    4.8  "
     },
     "execution_count": 36,
     "metadata": {},
     "output_type": "execute_result"
    }
   ],
   "source": [
    "# Q10. 데이터 마지막 3개행을 출력하라\n",
    "df.tail(3)"
   ]
  },
  {
   "cell_type": "code",
   "execution_count": 45,
   "metadata": {},
   "outputs": [
    {
     "data": {
      "text/plain": "Index(['id', '거주인구', '근무인구', '방문인구', '총 유동인구', '평균 속도', '평균 소요 시간', '평균 기온',\n       '일강수량', '평균 풍속'],\n      dtype='object')"
     },
     "execution_count": 45,
     "metadata": {},
     "output_type": "execute_result"
    }
   ],
   "source": [
    "# Q11. 수치형 변수를 가진 컬럼을 출력하라\n",
    "# 특정 데이터 타입 추출 : select_dtypes\n",
    "# argument에서 include/exclude 선택 가능\n",
    "df.select_dtypes(exclude=object).columns"
   ]
  },
  {
   "cell_type": "code",
   "execution_count": 43,
   "metadata": {},
   "outputs": [
    {
     "data": {
      "text/plain": "Index(['id', '거주인구', '근무인구', '방문인구', '총 유동인구', '평균 속도', '평균 소요 시간', '평균 기온',\n       '일강수량', '평균 풍속'],\n      dtype='object')"
     },
     "execution_count": 43,
     "metadata": {},
     "output_type": "execute_result"
    }
   ],
   "source": [
    "# Q12. 범주형 변수를 가진 컬럼을 출력하라\n",
    "df.select_dtypes(include=object).columns"
   ]
  },
  {
   "cell_type": "code",
   "execution_count": 48,
   "metadata": {},
   "outputs": [
    {
     "data": {
      "text/plain": "id          0\n일자          0\n시도명         0\n읍면동명        0\n거주인구        0\n근무인구        0\n방문인구        0\n총 유동인구      0\n평균 속도       0\n평균 소요 시간    0\n평균 기온       0\n일강수량        0\n평균 풍속       0\ndtype: int64"
     },
     "execution_count": 48,
     "metadata": {},
     "output_type": "execute_result"
    }
   ],
   "source": [
    "# 각 컬럼의 결측치 숫자를 파악하라\n",
    "df.isnull().sum()"
   ]
  },
  {
   "cell_type": "code",
   "execution_count": 53,
   "metadata": {},
   "outputs": [
    {
     "name": "stdout",
     "output_type": "stream",
     "text": [
      "<class 'pandas.core.frame.DataFrame'>\n",
      "RangeIndex: 9621 entries, 0 to 9620\n",
      "Data columns (total 13 columns):\n",
      " #   Column    Non-Null Count  Dtype  \n",
      "---  ------    --------------  -----  \n",
      " 0   id        9621 non-null   int64  \n",
      " 1   일자        9621 non-null   object \n",
      " 2   시도명       9621 non-null   object \n",
      " 3   읍면동명      9621 non-null   object \n",
      " 4   거주인구      9621 non-null   float64\n",
      " 5   근무인구      9621 non-null   float64\n",
      " 6   방문인구      9621 non-null   float64\n",
      " 7   총 유동인구    9621 non-null   float64\n",
      " 8   평균 속도     9621 non-null   float64\n",
      " 9   평균 소요 시간  9621 non-null   float64\n",
      " 10  평균 기온     9621 non-null   float64\n",
      " 11  일강수량      9621 non-null   float64\n",
      " 12  평균 풍속     9621 non-null   float64\n",
      "dtypes: float64(9), int64(1), object(3)\n",
      "memory usage: 977.3+ KB\n"
     ]
    }
   ],
   "source": [
    "# 각 컬럼의 데이터수, 데이터타입을 한번에 확인하라\n",
    "# info함수는 데이터의 컬럼명, 데이터 수, 결측치, 타입등을 한번에 확인할 수 있음. R의 str과 같은 함수\n",
    "df.info()"
   ]
  },
  {
   "cell_type": "code",
   "execution_count": 55,
   "metadata": {},
   "outputs": [
    {
     "data": {
      "text/html": "<div>\n<style scoped>\n    .dataframe tbody tr th:only-of-type {\n        vertical-align: middle;\n    }\n\n    .dataframe tbody tr th {\n        vertical-align: top;\n    }\n\n    .dataframe thead th {\n        text-align: right;\n    }\n</style>\n<table border=\"1\" class=\"dataframe\">\n  <thead>\n    <tr style=\"text-align: right;\">\n      <th></th>\n      <th>id</th>\n      <th>거주인구</th>\n      <th>근무인구</th>\n      <th>방문인구</th>\n      <th>총 유동인구</th>\n      <th>평균 속도</th>\n      <th>평균 소요 시간</th>\n      <th>평균 기온</th>\n      <th>일강수량</th>\n      <th>평균 풍속</th>\n    </tr>\n  </thead>\n  <tbody>\n    <tr>\n      <th>count</th>\n      <td>9621.000000</td>\n      <td>9.621000e+03</td>\n      <td>9621.000000</td>\n      <td>9621.000000</td>\n      <td>9.621000e+03</td>\n      <td>9621.000000</td>\n      <td>9621.000000</td>\n      <td>9621.000000</td>\n      <td>9621.000000</td>\n      <td>9621.000000</td>\n    </tr>\n    <tr>\n      <th>mean</th>\n      <td>27258.000000</td>\n      <td>3.174315e+05</td>\n      <td>35471.201510</td>\n      <td>195889.561802</td>\n      <td>5.487922e+05</td>\n      <td>41.109084</td>\n      <td>37.215873</td>\n      <td>13.550828</td>\n      <td>6.972426</td>\n      <td>2.753171</td>\n    </tr>\n    <tr>\n      <th>std</th>\n      <td>2777.487804</td>\n      <td>2.982079e+05</td>\n      <td>40381.214775</td>\n      <td>140706.090325</td>\n      <td>4.608802e+05</td>\n      <td>8.758631</td>\n      <td>12.993786</td>\n      <td>7.745515</td>\n      <td>27.617260</td>\n      <td>1.498538</td>\n    </tr>\n    <tr>\n      <th>min</th>\n      <td>22448.000000</td>\n      <td>9.305552e+03</td>\n      <td>1407.936000</td>\n      <td>11538.322000</td>\n      <td>2.225181e+04</td>\n      <td>24.333000</td>\n      <td>12.667000</td>\n      <td>-9.600000</td>\n      <td>0.000000</td>\n      <td>0.000000</td>\n    </tr>\n    <tr>\n      <th>25%</th>\n      <td>24853.000000</td>\n      <td>9.539939e+04</td>\n      <td>12074.498000</td>\n      <td>99632.153000</td>\n      <td>2.216910e+05</td>\n      <td>34.250000</td>\n      <td>27.889000</td>\n      <td>7.600000</td>\n      <td>0.000000</td>\n      <td>1.700000</td>\n    </tr>\n    <tr>\n      <th>50%</th>\n      <td>27258.000000</td>\n      <td>2.221105e+05</td>\n      <td>21960.928000</td>\n      <td>152805.335000</td>\n      <td>3.866935e+05</td>\n      <td>39.640000</td>\n      <td>34.500000</td>\n      <td>13.400000</td>\n      <td>0.000000</td>\n      <td>2.400000</td>\n    </tr>\n    <tr>\n      <th>75%</th>\n      <td>29663.000000</td>\n      <td>4.106671e+05</td>\n      <td>40192.032000</td>\n      <td>236325.109000</td>\n      <td>6.406918e+05</td>\n      <td>49.105000</td>\n      <td>46.176000</td>\n      <td>19.700000</td>\n      <td>1.500000</td>\n      <td>3.400000</td>\n    </tr>\n    <tr>\n      <th>max</th>\n      <td>32068.000000</td>\n      <td>1.364504e+06</td>\n      <td>263476.965000</td>\n      <td>723459.209000</td>\n      <td>2.066484e+06</td>\n      <td>103.000000</td>\n      <td>172.200000</td>\n      <td>30.400000</td>\n      <td>587.500000</td>\n      <td>13.333000</td>\n    </tr>\n  </tbody>\n</table>\n</div>",
      "text/plain": "                 id          거주인구           근무인구           방문인구        총 유동인구  \\\ncount   9621.000000  9.621000e+03    9621.000000    9621.000000  9.621000e+03   \nmean   27258.000000  3.174315e+05   35471.201510  195889.561802  5.487922e+05   \nstd     2777.487804  2.982079e+05   40381.214775  140706.090325  4.608802e+05   \nmin    22448.000000  9.305552e+03    1407.936000   11538.322000  2.225181e+04   \n25%    24853.000000  9.539939e+04   12074.498000   99632.153000  2.216910e+05   \n50%    27258.000000  2.221105e+05   21960.928000  152805.335000  3.866935e+05   \n75%    29663.000000  4.106671e+05   40192.032000  236325.109000  6.406918e+05   \nmax    32068.000000  1.364504e+06  263476.965000  723459.209000  2.066484e+06   \n\n             평균 속도     평균 소요 시간        평균 기온         일강수량        평균 풍속  \ncount  9621.000000  9621.000000  9621.000000  9621.000000  9621.000000  \nmean     41.109084    37.215873    13.550828     6.972426     2.753171  \nstd       8.758631    12.993786     7.745515    27.617260     1.498538  \nmin      24.333000    12.667000    -9.600000     0.000000     0.000000  \n25%      34.250000    27.889000     7.600000     0.000000     1.700000  \n50%      39.640000    34.500000    13.400000     0.000000     2.400000  \n75%      49.105000    46.176000    19.700000     1.500000     3.400000  \nmax     103.000000   172.200000    30.400000   587.500000    13.333000  "
     },
     "execution_count": 55,
     "metadata": {},
     "output_type": "execute_result"
    }
   ],
   "source": [
    "# 각 수치형 변수의 분포(사분위, 평균, 표준편차, 최대 , 최소)를 확인하라\n",
    "# describe함수는 각 컬럼의 분포를 확인할 수 있음. R의 summary 함수와 같음.\n",
    "df.describe()"
   ]
  },
  {
   "cell_type": "code",
   "execution_count": 56,
   "metadata": {},
   "outputs": [
    {
     "data": {
      "text/plain": "0         32249.987\n1        213500.997\n2       1212382.218\n3         33991.653\n4        155036.925\n           ...     \n9616     228260.005\n9617     459959.064\n9618      28397.481\n9619     348037.846\n9620    1010643.372\nName: 거주인구, Length: 9621, dtype: float64"
     },
     "execution_count": 56,
     "metadata": {},
     "output_type": "execute_result"
    }
   ],
   "source": [
    "# 거주인구 컬럼의 값들을 출력하라\n",
    "df['거주인구']"
   ]
  },
  {
   "cell_type": "code",
   "execution_count": 63,
   "metadata": {},
   "outputs": [
    {
     "data": {
      "text/plain": "14.854999999999997"
     },
     "execution_count": 63,
     "metadata": {},
     "output_type": "execute_result"
    }
   ],
   "source": [
    "# 평균 속도 컬럼의 4분위 범위(IQR) 값을 구하여라\n",
    "df['평균 속도'].quantile(q=0.75) - df['평균 속도'].quantile(q=0.25)"
   ]
  },
  {
   "cell_type": "code",
   "execution_count": 67,
   "metadata": {},
   "outputs": [
    {
     "data": {
      "text/plain": "41"
     },
     "execution_count": 67,
     "metadata": {},
     "output_type": "execute_result"
    }
   ],
   "source": [
    "# 읍면동명 컬럼의 유일값 갯수를 출력하라\n",
    "df['읍면동명'].nunique()"
   ]
  },
  {
   "cell_type": "code",
   "execution_count": 68,
   "metadata": {},
   "outputs": [
    {
     "data": {
      "text/plain": "array(['도두동', '외도동', '이도2동', '일도1동', '대천동', '서홍동', '한경면', '송산동', '조천읍',\n       '일도2동', '영천동', '예래동', '대륜동', '삼도1동', '이호동', '건입동', '중앙동', '삼양동',\n       '삼도2동', '이도1동', '남원읍', '대정읍', '정방동', '효돈동', '아라동', '한림읍', '구좌읍',\n       '용담1동', '오라동', '화북동', '연동', '표선면', '중문동', '성산읍', '안덕면', '천지동',\n       '노형동', '동홍동', '용담2동', '봉개동', '애월읍'], dtype=object)"
     },
     "execution_count": 68,
     "metadata": {},
     "output_type": "execute_result"
    }
   ],
   "source": [
    "# 읍면동명 컬럼의 유일값을 모두 출력하라\n",
    "df['읍면동명'].unique()"
   ]
  },
  {
   "cell_type": "code",
   "execution_count": 70,
   "metadata": {},
   "outputs": [],
   "source": [
    "DataUrl = 'https://raw.githubusercontent.com/Datamanim/pandas/main/chipo.csv'\n",
    "df = pd.read_csv(DataUrl)"
   ]
  },
  {
   "cell_type": "code",
   "execution_count": 76,
   "metadata": {},
   "outputs": [
    {
     "data": {
      "text/html": "<div>\n<style scoped>\n    .dataframe tbody tr th:only-of-type {\n        vertical-align: middle;\n    }\n\n    .dataframe tbody tr th {\n        vertical-align: top;\n    }\n\n    .dataframe thead th {\n        text-align: right;\n    }\n</style>\n<table border=\"1\" class=\"dataframe\">\n  <thead>\n    <tr style=\"text-align: right;\">\n      <th></th>\n      <th>order_id</th>\n      <th>quantity</th>\n      <th>item_name</th>\n      <th>choice_description</th>\n      <th>item_price</th>\n    </tr>\n  </thead>\n  <tbody>\n    <tr>\n      <th>409</th>\n      <td>178</td>\n      <td>3</td>\n      <td>Chicken Bowl</td>\n      <td>[[Fresh Tomato Salsa (Mild), Tomatillo-Green C...</td>\n      <td>$32.94</td>\n    </tr>\n    <tr>\n      <th>445</th>\n      <td>193</td>\n      <td>3</td>\n      <td>Bowl</td>\n      <td>[Braised Carnitas, Pinto Beans, [Sour Cream, C...</td>\n      <td>$22.20</td>\n    </tr>\n    <tr>\n      <th>689</th>\n      <td>284</td>\n      <td>3</td>\n      <td>Canned Soft Drink</td>\n      <td>[Diet Coke]</td>\n      <td>$3.75</td>\n    </tr>\n    <tr>\n      <th>818</th>\n      <td>338</td>\n      <td>3</td>\n      <td>Bottled Water</td>\n      <td>NaN</td>\n      <td>$3.27</td>\n    </tr>\n    <tr>\n      <th>850</th>\n      <td>350</td>\n      <td>3</td>\n      <td>Canned Soft Drink</td>\n      <td>[Sprite]</td>\n      <td>$3.75</td>\n    </tr>\n  </tbody>\n</table>\n</div>",
      "text/plain": "     order_id  quantity          item_name  \\\n409       178         3       Chicken Bowl   \n445       193         3               Bowl   \n689       284         3  Canned Soft Drink   \n818       338         3      Bottled Water   \n850       350         3  Canned Soft Drink   \n\n                                    choice_description item_price  \n409  [[Fresh Tomato Salsa (Mild), Tomatillo-Green C...    $32.94   \n445  [Braised Carnitas, Pinto Beans, [Sour Cream, C...    $22.20   \n689                                        [Diet Coke]     $3.75   \n818                                                NaN     $3.27   \n850                                           [Sprite]     $3.75   "
     },
     "execution_count": 76,
     "metadata": {},
     "output_type": "execute_result"
    }
   ],
   "source": [
    "# quantity컬럼 값이 3인 데이터를 추출하여 첫 5행을 출력하라\n",
    "df.loc[df['quantity'] == 3,].head()"
   ]
  },
  {
   "cell_type": "code",
   "execution_count": 80,
   "metadata": {},
   "outputs": [
    {
     "data": {
      "text/html": "<div>\n<style scoped>\n    .dataframe tbody tr th:only-of-type {\n        vertical-align: middle;\n    }\n\n    .dataframe tbody tr th {\n        vertical-align: top;\n    }\n\n    .dataframe thead th {\n        text-align: right;\n    }\n</style>\n<table border=\"1\" class=\"dataframe\">\n  <thead>\n    <tr style=\"text-align: right;\">\n      <th></th>\n      <th>order_id</th>\n      <th>quantity</th>\n      <th>item_name</th>\n      <th>choice_description</th>\n      <th>item_price</th>\n    </tr>\n  </thead>\n  <tbody>\n    <tr>\n      <th>0</th>\n      <td>178</td>\n      <td>3</td>\n      <td>Chicken Bowl</td>\n      <td>[[Fresh Tomato Salsa (Mild), Tomatillo-Green C...</td>\n      <td>$32.94</td>\n    </tr>\n    <tr>\n      <th>1</th>\n      <td>193</td>\n      <td>3</td>\n      <td>Bowl</td>\n      <td>[Braised Carnitas, Pinto Beans, [Sour Cream, C...</td>\n      <td>$22.20</td>\n    </tr>\n    <tr>\n      <th>2</th>\n      <td>284</td>\n      <td>3</td>\n      <td>Canned Soft Drink</td>\n      <td>[Diet Coke]</td>\n      <td>$3.75</td>\n    </tr>\n    <tr>\n      <th>3</th>\n      <td>338</td>\n      <td>3</td>\n      <td>Bottled Water</td>\n      <td>NaN</td>\n      <td>$3.27</td>\n    </tr>\n    <tr>\n      <th>4</th>\n      <td>350</td>\n      <td>3</td>\n      <td>Canned Soft Drink</td>\n      <td>[Sprite]</td>\n      <td>$3.75</td>\n    </tr>\n  </tbody>\n</table>\n</div>",
      "text/plain": "   order_id  quantity          item_name  \\\n0       178         3       Chicken Bowl   \n1       193         3               Bowl   \n2       284         3  Canned Soft Drink   \n3       338         3      Bottled Water   \n4       350         3  Canned Soft Drink   \n\n                                  choice_description item_price  \n0  [[Fresh Tomato Salsa (Mild), Tomatillo-Green C...    $32.94   \n1  [Braised Carnitas, Pinto Beans, [Sour Cream, C...    $22.20   \n2                                        [Diet Coke]     $3.75   \n3                                                NaN     $3.27   \n4                                           [Sprite]     $3.75   "
     },
     "execution_count": 80,
     "metadata": {},
     "output_type": "execute_result"
    }
   ],
   "source": [
    "# quantity컬럼 값이 3인 데이터를 추출하여 index를 0부터 정렬하고 첫 5행을 출력하라\n",
    "df.loc[df['quantity'] == 3].reset_index(drop=True).head()"
   ]
  },
  {
   "cell_type": "code",
   "execution_count": 83,
   "metadata": {},
   "outputs": [
    {
     "data": {
      "text/html": "<div>\n<style scoped>\n    .dataframe tbody tr th:only-of-type {\n        vertical-align: middle;\n    }\n\n    .dataframe tbody tr th {\n        vertical-align: top;\n    }\n\n    .dataframe thead th {\n        text-align: right;\n    }\n</style>\n<table border=\"1\" class=\"dataframe\">\n  <thead>\n    <tr style=\"text-align: right;\">\n      <th></th>\n      <th>quantity</th>\n      <th>item_price</th>\n    </tr>\n  </thead>\n  <tbody>\n    <tr>\n      <th>0</th>\n      <td>1</td>\n      <td>$2.39</td>\n    </tr>\n    <tr>\n      <th>1</th>\n      <td>1</td>\n      <td>$3.39</td>\n    </tr>\n    <tr>\n      <th>2</th>\n      <td>1</td>\n      <td>$3.39</td>\n    </tr>\n    <tr>\n      <th>3</th>\n      <td>1</td>\n      <td>$2.39</td>\n    </tr>\n    <tr>\n      <th>4</th>\n      <td>2</td>\n      <td>$16.98</td>\n    </tr>\n  </tbody>\n</table>\n</div>",
      "text/plain": "   quantity item_price\n0         1     $2.39 \n1         1     $3.39 \n2         1     $3.39 \n3         1     $2.39 \n4         2    $16.98 "
     },
     "execution_count": 83,
     "metadata": {},
     "output_type": "execute_result"
    }
   ],
   "source": [
    "# quantity , item_price 두개의 컬럼으로 구성된 새로운 데이터 프레임을 정의하라\n",
    "df01 = df[['quantity','item_price']]\n",
    "df01.head()"
   ]
  },
  {
   "cell_type": "code",
   "execution_count": 90,
   "metadata": {},
   "outputs": [
    {
     "data": {
      "text/html": "<div>\n<style scoped>\n    .dataframe tbody tr th:only-of-type {\n        vertical-align: middle;\n    }\n\n    .dataframe tbody tr th {\n        vertical-align: top;\n    }\n\n    .dataframe thead th {\n        text-align: right;\n    }\n</style>\n<table border=\"1\" class=\"dataframe\">\n  <thead>\n    <tr style=\"text-align: right;\">\n      <th></th>\n      <th>order_id</th>\n      <th>quantity</th>\n      <th>item_name</th>\n      <th>choice_description</th>\n      <th>item_price</th>\n      <th>new_price</th>\n    </tr>\n  </thead>\n  <tbody>\n    <tr>\n      <th>0</th>\n      <td>1</td>\n      <td>1</td>\n      <td>Chips and Fresh Tomato Salsa</td>\n      <td>NaN</td>\n      <td>$2.39</td>\n      <td>2.39</td>\n    </tr>\n    <tr>\n      <th>1</th>\n      <td>1</td>\n      <td>1</td>\n      <td>Izze</td>\n      <td>[Clementine]</td>\n      <td>$3.39</td>\n      <td>3.39</td>\n    </tr>\n    <tr>\n      <th>2</th>\n      <td>1</td>\n      <td>1</td>\n      <td>Nantucket Nectar</td>\n      <td>[Apple]</td>\n      <td>$3.39</td>\n      <td>3.39</td>\n    </tr>\n    <tr>\n      <th>3</th>\n      <td>1</td>\n      <td>1</td>\n      <td>Chips and Tomatillo-Green Chili Salsa</td>\n      <td>NaN</td>\n      <td>$2.39</td>\n      <td>2.39</td>\n    </tr>\n    <tr>\n      <th>4</th>\n      <td>2</td>\n      <td>2</td>\n      <td>Chicken Bowl</td>\n      <td>[Tomatillo-Red Chili Salsa (Hot), [Black Beans...</td>\n      <td>$16.98</td>\n      <td>16.98</td>\n    </tr>\n  </tbody>\n</table>\n</div>",
      "text/plain": "   order_id  quantity                              item_name  \\\n0         1         1           Chips and Fresh Tomato Salsa   \n1         1         1                                   Izze   \n2         1         1                       Nantucket Nectar   \n3         1         1  Chips and Tomatillo-Green Chili Salsa   \n4         2         2                           Chicken Bowl   \n\n                                  choice_description item_price  new_price  \n0                                                NaN     $2.39        2.39  \n1                                       [Clementine]     $3.39        3.39  \n2                                            [Apple]     $3.39        3.39  \n3                                                NaN     $2.39        2.39  \n4  [Tomatillo-Red Chili Salsa (Hot), [Black Beans...    $16.98       16.98  "
     },
     "execution_count": 90,
     "metadata": {},
     "output_type": "execute_result"
    }
   ],
   "source": [
    "# item_price 컬럼의 달러표시 문자를 제거하고 float 타입으로 저장하여 new_price 컬럼에 저장하라\n",
    "df['new_price'] = df['item_price'].str[1:].astype('float')\n",
    "df.head()"
   ]
  },
  {
   "cell_type": "code",
   "execution_count": 97,
   "metadata": {},
   "outputs": [
    {
     "data": {
      "text/plain": "1652"
     },
     "execution_count": 97,
     "metadata": {},
     "output_type": "execute_result"
    }
   ],
   "source": [
    "# new_price 컬럼이 5이하의 값을 가지는 데이터프레임을 추출하고, 전체 갯수를 구하여라\n",
    "len(df.loc[df['new_price'] <= 5])"
   ]
  },
  {
   "cell_type": "code",
   "execution_count": 100,
   "metadata": {},
   "outputs": [
    {
     "data": {
      "text/html": "<div>\n<style scoped>\n    .dataframe tbody tr th:only-of-type {\n        vertical-align: middle;\n    }\n\n    .dataframe tbody tr th {\n        vertical-align: top;\n    }\n\n    .dataframe thead th {\n        text-align: right;\n    }\n</style>\n<table border=\"1\" class=\"dataframe\">\n  <thead>\n    <tr style=\"text-align: right;\">\n      <th></th>\n      <th>order_id</th>\n      <th>quantity</th>\n      <th>item_name</th>\n      <th>choice_description</th>\n      <th>item_price</th>\n      <th>new_price</th>\n    </tr>\n  </thead>\n  <tbody>\n    <tr>\n      <th>0</th>\n      <td>20</td>\n      <td>1</td>\n      <td>Chicken Salad Bowl</td>\n      <td>[Fresh Tomato Salsa, [Fajita Vegetables, Pinto...</td>\n      <td>$8.75</td>\n      <td>8.75</td>\n    </tr>\n    <tr>\n      <th>1</th>\n      <td>60</td>\n      <td>2</td>\n      <td>Chicken Salad Bowl</td>\n      <td>[Tomatillo Green Chili Salsa, [Sour Cream, Che...</td>\n      <td>$22.50</td>\n      <td>22.50</td>\n    </tr>\n    <tr>\n      <th>2</th>\n      <td>94</td>\n      <td>2</td>\n      <td>Chicken Salad Bowl</td>\n      <td>[Fresh Tomato Salsa, [Fajita Vegetables, Pinto...</td>\n      <td>$22.50</td>\n      <td>22.50</td>\n    </tr>\n    <tr>\n      <th>3</th>\n      <td>111</td>\n      <td>1</td>\n      <td>Chicken Salad Bowl</td>\n      <td>[Fresh Tomato Salsa, [Fajita Vegetables, Rice,...</td>\n      <td>$8.75</td>\n      <td>8.75</td>\n    </tr>\n    <tr>\n      <th>4</th>\n      <td>137</td>\n      <td>2</td>\n      <td>Chicken Salad Bowl</td>\n      <td>[Fresh Tomato Salsa, Fajita Vegetables]</td>\n      <td>$17.50</td>\n      <td>17.50</td>\n    </tr>\n    <tr>\n      <th>...</th>\n      <td>...</td>\n      <td>...</td>\n      <td>...</td>\n      <td>...</td>\n      <td>...</td>\n      <td>...</td>\n    </tr>\n    <tr>\n      <th>105</th>\n      <td>1813</td>\n      <td>2</td>\n      <td>Chicken Salad Bowl</td>\n      <td>[Fresh Tomato Salsa, [Fajita Vegetables, Pinto...</td>\n      <td>$17.50</td>\n      <td>17.50</td>\n    </tr>\n    <tr>\n      <th>106</th>\n      <td>1822</td>\n      <td>1</td>\n      <td>Chicken Salad Bowl</td>\n      <td>[Fresh Tomato Salsa, [Black Beans, Cheese, Gua...</td>\n      <td>$11.25</td>\n      <td>11.25</td>\n    </tr>\n    <tr>\n      <th>107</th>\n      <td>1834</td>\n      <td>1</td>\n      <td>Chicken Salad Bowl</td>\n      <td>[Fresh Tomato Salsa, [Fajita Vegetables, Pinto...</td>\n      <td>$11.25</td>\n      <td>11.25</td>\n    </tr>\n    <tr>\n      <th>108</th>\n      <td>1834</td>\n      <td>1</td>\n      <td>Chicken Salad Bowl</td>\n      <td>[Fresh Tomato Salsa, [Fajita Vegetables, Lettu...</td>\n      <td>$8.75</td>\n      <td>8.75</td>\n    </tr>\n    <tr>\n      <th>109</th>\n      <td>1834</td>\n      <td>1</td>\n      <td>Chicken Salad Bowl</td>\n      <td>[Fresh Tomato Salsa, [Fajita Vegetables, Pinto...</td>\n      <td>$8.75</td>\n      <td>8.75</td>\n    </tr>\n  </tbody>\n</table>\n<p>110 rows × 6 columns</p>\n</div>",
      "text/plain": "     order_id  quantity           item_name  \\\n0          20         1  Chicken Salad Bowl   \n1          60         2  Chicken Salad Bowl   \n2          94         2  Chicken Salad Bowl   \n3         111         1  Chicken Salad Bowl   \n4         137         2  Chicken Salad Bowl   \n..        ...       ...                 ...   \n105      1813         2  Chicken Salad Bowl   \n106      1822         1  Chicken Salad Bowl   \n107      1834         1  Chicken Salad Bowl   \n108      1834         1  Chicken Salad Bowl   \n109      1834         1  Chicken Salad Bowl   \n\n                                    choice_description item_price  new_price  \n0    [Fresh Tomato Salsa, [Fajita Vegetables, Pinto...     $8.75        8.75  \n1    [Tomatillo Green Chili Salsa, [Sour Cream, Che...    $22.50       22.50  \n2    [Fresh Tomato Salsa, [Fajita Vegetables, Pinto...    $22.50       22.50  \n3    [Fresh Tomato Salsa, [Fajita Vegetables, Rice,...     $8.75        8.75  \n4              [Fresh Tomato Salsa, Fajita Vegetables]    $17.50       17.50  \n..                                                 ...        ...        ...  \n105  [Fresh Tomato Salsa, [Fajita Vegetables, Pinto...    $17.50       17.50  \n106  [Fresh Tomato Salsa, [Black Beans, Cheese, Gua...    $11.25       11.25  \n107  [Fresh Tomato Salsa, [Fajita Vegetables, Pinto...    $11.25       11.25  \n108  [Fresh Tomato Salsa, [Fajita Vegetables, Lettu...     $8.75        8.75  \n109  [Fresh Tomato Salsa, [Fajita Vegetables, Pinto...     $8.75        8.75  \n\n[110 rows x 6 columns]"
     },
     "execution_count": 100,
     "metadata": {},
     "output_type": "execute_result"
    }
   ],
   "source": [
    "# item_name명이 Chicken Salad Bowl 인 데이터 프레임을 추출하라고 index 값을 초기화 하여라\n",
    "df.loc[df['item_name'] == 'Chicken Salad Bowl'].reset_index(drop=True)"
   ]
  },
  {
   "cell_type": "code",
   "execution_count": 107,
   "metadata": {},
   "outputs": [
    {
     "data": {
      "text/html": "<div>\n<style scoped>\n    .dataframe tbody tr th:only-of-type {\n        vertical-align: middle;\n    }\n\n    .dataframe tbody tr th {\n        vertical-align: top;\n    }\n\n    .dataframe thead th {\n        text-align: right;\n    }\n</style>\n<table border=\"1\" class=\"dataframe\">\n  <thead>\n    <tr style=\"text-align: right;\">\n      <th></th>\n      <th>order_id</th>\n      <th>quantity</th>\n      <th>item_name</th>\n      <th>choice_description</th>\n      <th>item_price</th>\n      <th>new_price</th>\n    </tr>\n  </thead>\n  <tbody>\n    <tr>\n      <th>44</th>\n      <td>20</td>\n      <td>1</td>\n      <td>Chicken Salad Bowl</td>\n      <td>[Fresh Tomato Salsa, [Fajita Vegetables, Pinto...</td>\n      <td>$8.75</td>\n      <td>8.75</td>\n    </tr>\n    <tr>\n      <th>256</th>\n      <td>111</td>\n      <td>1</td>\n      <td>Chicken Salad Bowl</td>\n      <td>[Fresh Tomato Salsa, [Fajita Vegetables, Rice,...</td>\n      <td>$8.75</td>\n      <td>8.75</td>\n    </tr>\n    <tr>\n      <th>526</th>\n      <td>220</td>\n      <td>1</td>\n      <td>Chicken Salad Bowl</td>\n      <td>[Roasted Chili Corn Salsa, [Black Beans, Sour ...</td>\n      <td>$8.75</td>\n      <td>8.75</td>\n    </tr>\n    <tr>\n      <th>528</th>\n      <td>221</td>\n      <td>1</td>\n      <td>Chicken Salad Bowl</td>\n      <td>[Tomatillo Green Chili Salsa, [Fajita Vegetabl...</td>\n      <td>$8.75</td>\n      <td>8.75</td>\n    </tr>\n    <tr>\n      <th>529</th>\n      <td>221</td>\n      <td>1</td>\n      <td>Chicken Salad Bowl</td>\n      <td>[Tomatillo Green Chili Salsa, [Fajita Vegetabl...</td>\n      <td>$8.75</td>\n      <td>8.75</td>\n    </tr>\n  </tbody>\n</table>\n</div>",
      "text/plain": "     order_id  quantity           item_name  \\\n44         20         1  Chicken Salad Bowl   \n256       111         1  Chicken Salad Bowl   \n526       220         1  Chicken Salad Bowl   \n528       221         1  Chicken Salad Bowl   \n529       221         1  Chicken Salad Bowl   \n\n                                    choice_description item_price  new_price  \n44   [Fresh Tomato Salsa, [Fajita Vegetables, Pinto...     $8.75        8.75  \n256  [Fresh Tomato Salsa, [Fajita Vegetables, Rice,...     $8.75        8.75  \n526  [Roasted Chili Corn Salsa, [Black Beans, Sour ...     $8.75        8.75  \n528  [Tomatillo Green Chili Salsa, [Fajita Vegetabl...     $8.75        8.75  \n529  [Tomatillo Green Chili Salsa, [Fajita Vegetabl...     $8.75        8.75  "
     },
     "execution_count": 107,
     "metadata": {},
     "output_type": "execute_result"
    }
   ],
   "source": [
    "# new_price값이 9 이하이고 item_name 값이 Chicken Salad Bowl 인 데이터 프레임을 추출하라\n",
    "df.loc[(df['new_price'] <= 9) & (df['item_name'] == 'Chicken Salad Bowl')].head()"
   ]
  },
  {
   "cell_type": "code",
   "execution_count": 111,
   "metadata": {},
   "outputs": [
    {
     "data": {
      "text/html": "<div>\n<style scoped>\n    .dataframe tbody tr th:only-of-type {\n        vertical-align: middle;\n    }\n\n    .dataframe tbody tr th {\n        vertical-align: top;\n    }\n\n    .dataframe thead th {\n        text-align: right;\n    }\n</style>\n<table border=\"1\" class=\"dataframe\">\n  <thead>\n    <tr style=\"text-align: right;\">\n      <th></th>\n      <th>order_id</th>\n      <th>quantity</th>\n      <th>item_name</th>\n      <th>choice_description</th>\n      <th>item_price</th>\n      <th>new_price</th>\n    </tr>\n  </thead>\n  <tbody>\n    <tr>\n      <th>0</th>\n      <td>471</td>\n      <td>1</td>\n      <td>Bottled Water</td>\n      <td>NaN</td>\n      <td>$1.09</td>\n      <td>1.09</td>\n    </tr>\n    <tr>\n      <th>1</th>\n      <td>338</td>\n      <td>1</td>\n      <td>Canned Soda</td>\n      <td>[Coca Cola]</td>\n      <td>$1.09</td>\n      <td>1.09</td>\n    </tr>\n    <tr>\n      <th>2</th>\n      <td>1575</td>\n      <td>1</td>\n      <td>Canned Soda</td>\n      <td>[Dr. Pepper]</td>\n      <td>$1.09</td>\n      <td>1.09</td>\n    </tr>\n    <tr>\n      <th>3</th>\n      <td>47</td>\n      <td>1</td>\n      <td>Canned Soda</td>\n      <td>[Dr. Pepper]</td>\n      <td>$1.09</td>\n      <td>1.09</td>\n    </tr>\n    <tr>\n      <th>4</th>\n      <td>1014</td>\n      <td>1</td>\n      <td>Canned Soda</td>\n      <td>[Coca Cola]</td>\n      <td>$1.09</td>\n      <td>1.09</td>\n    </tr>\n    <tr>\n      <th>...</th>\n      <td>...</td>\n      <td>...</td>\n      <td>...</td>\n      <td>...</td>\n      <td>...</td>\n      <td>...</td>\n    </tr>\n    <tr>\n      <th>4617</th>\n      <td>1443</td>\n      <td>3</td>\n      <td>Veggie Burrito</td>\n      <td>[Fresh Tomato Salsa, [Fajita Vegetables, Rice,...</td>\n      <td>$33.75</td>\n      <td>33.75</td>\n    </tr>\n    <tr>\n      <th>4618</th>\n      <td>1443</td>\n      <td>4</td>\n      <td>Chicken Burrito</td>\n      <td>[Fresh Tomato Salsa, [Rice, Black Beans, Chees...</td>\n      <td>$35.00</td>\n      <td>35.00</td>\n    </tr>\n    <tr>\n      <th>4619</th>\n      <td>511</td>\n      <td>4</td>\n      <td>Chicken Burrito</td>\n      <td>[Fresh Tomato Salsa, [Fajita Vegetables, Rice,...</td>\n      <td>$35.00</td>\n      <td>35.00</td>\n    </tr>\n    <tr>\n      <th>4620</th>\n      <td>1398</td>\n      <td>3</td>\n      <td>Carnitas Bowl</td>\n      <td>[Roasted Chili Corn Salsa, [Fajita Vegetables,...</td>\n      <td>$35.25</td>\n      <td>35.25</td>\n    </tr>\n    <tr>\n      <th>4621</th>\n      <td>1443</td>\n      <td>15</td>\n      <td>Chips and Fresh Tomato Salsa</td>\n      <td>NaN</td>\n      <td>$44.25</td>\n      <td>44.25</td>\n    </tr>\n  </tbody>\n</table>\n<p>4622 rows × 6 columns</p>\n</div>",
      "text/plain": "      order_id  quantity                     item_name  \\\n0          471         1                 Bottled Water   \n1          338         1                   Canned Soda   \n2         1575         1                   Canned Soda   \n3           47         1                   Canned Soda   \n4         1014         1                   Canned Soda   \n...        ...       ...                           ...   \n4617      1443         3                Veggie Burrito   \n4618      1443         4               Chicken Burrito   \n4619       511         4               Chicken Burrito   \n4620      1398         3                 Carnitas Bowl   \n4621      1443        15  Chips and Fresh Tomato Salsa   \n\n                                     choice_description item_price  new_price  \n0                                                   NaN     $1.09        1.09  \n1                                           [Coca Cola]     $1.09        1.09  \n2                                          [Dr. Pepper]     $1.09        1.09  \n3                                          [Dr. Pepper]     $1.09        1.09  \n4                                           [Coca Cola]     $1.09        1.09  \n...                                                 ...        ...        ...  \n4617  [Fresh Tomato Salsa, [Fajita Vegetables, Rice,...    $33.75       33.75  \n4618  [Fresh Tomato Salsa, [Rice, Black Beans, Chees...    $35.00       35.00  \n4619  [Fresh Tomato Salsa, [Fajita Vegetables, Rice,...    $35.00       35.00  \n4620  [Roasted Chili Corn Salsa, [Fajita Vegetables,...    $35.25       35.25  \n4621                                                NaN    $44.25       44.25  \n\n[4622 rows x 6 columns]"
     },
     "execution_count": 111,
     "metadata": {},
     "output_type": "execute_result"
    }
   ],
   "source": [
    "# df의 new_price 컬럼 값에 따라 오름차순으로 정리하고 index를 초기화 하여라\n",
    "df.sort_values(by='new_price',ascending=True).reset_index(drop=True)"
   ]
  },
  {
   "cell_type": "code",
   "execution_count": 116,
   "metadata": {},
   "outputs": [
    {
     "data": {
      "text/html": "<div>\n<style scoped>\n    .dataframe tbody tr th:only-of-type {\n        vertical-align: middle;\n    }\n\n    .dataframe tbody tr th {\n        vertical-align: top;\n    }\n\n    .dataframe thead th {\n        text-align: right;\n    }\n</style>\n<table border=\"1\" class=\"dataframe\">\n  <thead>\n    <tr style=\"text-align: right;\">\n      <th></th>\n      <th>order_id</th>\n      <th>quantity</th>\n      <th>item_name</th>\n      <th>choice_description</th>\n      <th>item_price</th>\n      <th>new_price</th>\n    </tr>\n  </thead>\n  <tbody>\n    <tr>\n      <th>0</th>\n      <td>1</td>\n      <td>1</td>\n      <td>Chips and Fresh Tomato Salsa</td>\n      <td>NaN</td>\n      <td>$2.39</td>\n      <td>2.39</td>\n    </tr>\n    <tr>\n      <th>3</th>\n      <td>1</td>\n      <td>1</td>\n      <td>Chips and Tomatillo-Green Chili Salsa</td>\n      <td>NaN</td>\n      <td>$2.39</td>\n      <td>2.39</td>\n    </tr>\n    <tr>\n      <th>6</th>\n      <td>3</td>\n      <td>1</td>\n      <td>Side of Chips</td>\n      <td>NaN</td>\n      <td>$1.69</td>\n      <td>1.69</td>\n    </tr>\n    <tr>\n      <th>10</th>\n      <td>5</td>\n      <td>1</td>\n      <td>Chips and Guacamole</td>\n      <td>NaN</td>\n      <td>$4.45</td>\n      <td>4.45</td>\n    </tr>\n    <tr>\n      <th>14</th>\n      <td>7</td>\n      <td>1</td>\n      <td>Chips and Guacamole</td>\n      <td>NaN</td>\n      <td>$4.45</td>\n      <td>4.45</td>\n    </tr>\n    <tr>\n      <th>...</th>\n      <td>...</td>\n      <td>...</td>\n      <td>...</td>\n      <td>...</td>\n      <td>...</td>\n      <td>...</td>\n    </tr>\n    <tr>\n      <th>4596</th>\n      <td>1826</td>\n      <td>1</td>\n      <td>Chips and Guacamole</td>\n      <td>NaN</td>\n      <td>$4.45</td>\n      <td>4.45</td>\n    </tr>\n    <tr>\n      <th>4600</th>\n      <td>1827</td>\n      <td>1</td>\n      <td>Chips and Guacamole</td>\n      <td>NaN</td>\n      <td>$4.45</td>\n      <td>4.45</td>\n    </tr>\n    <tr>\n      <th>4605</th>\n      <td>1828</td>\n      <td>1</td>\n      <td>Chips and Guacamole</td>\n      <td>NaN</td>\n      <td>$4.45</td>\n      <td>4.45</td>\n    </tr>\n    <tr>\n      <th>4613</th>\n      <td>1831</td>\n      <td>1</td>\n      <td>Chips</td>\n      <td>NaN</td>\n      <td>$2.15</td>\n      <td>2.15</td>\n    </tr>\n    <tr>\n      <th>4616</th>\n      <td>1832</td>\n      <td>1</td>\n      <td>Chips and Guacamole</td>\n      <td>NaN</td>\n      <td>$4.45</td>\n      <td>4.45</td>\n    </tr>\n  </tbody>\n</table>\n<p>1084 rows × 6 columns</p>\n</div>",
      "text/plain": "      order_id  quantity                              item_name  \\\n0            1         1           Chips and Fresh Tomato Salsa   \n3            1         1  Chips and Tomatillo-Green Chili Salsa   \n6            3         1                          Side of Chips   \n10           5         1                    Chips and Guacamole   \n14           7         1                    Chips and Guacamole   \n...        ...       ...                                    ...   \n4596      1826         1                    Chips and Guacamole   \n4600      1827         1                    Chips and Guacamole   \n4605      1828         1                    Chips and Guacamole   \n4613      1831         1                                  Chips   \n4616      1832         1                    Chips and Guacamole   \n\n     choice_description item_price  new_price  \n0                   NaN     $2.39        2.39  \n3                   NaN     $2.39        2.39  \n6                   NaN     $1.69        1.69  \n10                  NaN     $4.45        4.45  \n14                  NaN     $4.45        4.45  \n...                 ...        ...        ...  \n4596                NaN     $4.45        4.45  \n4600                NaN     $4.45        4.45  \n4605                NaN     $4.45        4.45  \n4613                NaN     $2.15        2.15  \n4616                NaN     $4.45        4.45  \n\n[1084 rows x 6 columns]"
     },
     "execution_count": 116,
     "metadata": {},
     "output_type": "execute_result"
    }
   ],
   "source": [
    "# df의 item_name 컬럼 값중 Chips 포함하는 경우의 데이터를 출력하라\n",
    "\n",
    "df[df.item_name.str.contains('Chips')]"
   ]
  },
  {
   "cell_type": "code",
   "execution_count": 119,
   "metadata": {},
   "outputs": [
    {
     "data": {
      "text/html": "<div>\n<style scoped>\n    .dataframe tbody tr th:only-of-type {\n        vertical-align: middle;\n    }\n\n    .dataframe tbody tr th {\n        vertical-align: top;\n    }\n\n    .dataframe thead th {\n        text-align: right;\n    }\n</style>\n<table border=\"1\" class=\"dataframe\">\n  <thead>\n    <tr style=\"text-align: right;\">\n      <th></th>\n      <th>order_id</th>\n      <th>item_name</th>\n      <th>item_price</th>\n    </tr>\n  </thead>\n  <tbody>\n    <tr>\n      <th>0</th>\n      <td>1</td>\n      <td>Chips and Fresh Tomato Salsa</td>\n      <td>$2.39</td>\n    </tr>\n    <tr>\n      <th>1</th>\n      <td>1</td>\n      <td>Izze</td>\n      <td>$3.39</td>\n    </tr>\n    <tr>\n      <th>2</th>\n      <td>1</td>\n      <td>Nantucket Nectar</td>\n      <td>$3.39</td>\n    </tr>\n    <tr>\n      <th>3</th>\n      <td>1</td>\n      <td>Chips and Tomatillo-Green Chili Salsa</td>\n      <td>$2.39</td>\n    </tr>\n    <tr>\n      <th>4</th>\n      <td>2</td>\n      <td>Chicken Bowl</td>\n      <td>$16.98</td>\n    </tr>\n    <tr>\n      <th>...</th>\n      <td>...</td>\n      <td>...</td>\n      <td>...</td>\n    </tr>\n    <tr>\n      <th>4617</th>\n      <td>1833</td>\n      <td>Steak Burrito</td>\n      <td>$11.75</td>\n    </tr>\n    <tr>\n      <th>4618</th>\n      <td>1833</td>\n      <td>Steak Burrito</td>\n      <td>$11.75</td>\n    </tr>\n    <tr>\n      <th>4619</th>\n      <td>1834</td>\n      <td>Chicken Salad Bowl</td>\n      <td>$11.25</td>\n    </tr>\n    <tr>\n      <th>4620</th>\n      <td>1834</td>\n      <td>Chicken Salad Bowl</td>\n      <td>$8.75</td>\n    </tr>\n    <tr>\n      <th>4621</th>\n      <td>1834</td>\n      <td>Chicken Salad Bowl</td>\n      <td>$8.75</td>\n    </tr>\n  </tbody>\n</table>\n<p>4622 rows × 3 columns</p>\n</div>",
      "text/plain": "      order_id                              item_name item_price\n0            1           Chips and Fresh Tomato Salsa     $2.39 \n1            1                                   Izze     $3.39 \n2            1                       Nantucket Nectar     $3.39 \n3            1  Chips and Tomatillo-Green Chili Salsa     $2.39 \n4            2                           Chicken Bowl    $16.98 \n...        ...                                    ...        ...\n4617      1833                          Steak Burrito    $11.75 \n4618      1833                          Steak Burrito    $11.75 \n4619      1834                     Chicken Salad Bowl    $11.25 \n4620      1834                     Chicken Salad Bowl     $8.75 \n4621      1834                     Chicken Salad Bowl     $8.75 \n\n[4622 rows x 3 columns]"
     },
     "execution_count": 119,
     "metadata": {},
     "output_type": "execute_result"
    }
   ],
   "source": [
    "# df의 짝수번째 컬럼만을 포함하는 데이터프레임을 출력하라\n",
    "df.iloc[:,::2]"
   ]
  },
  {
   "cell_type": "code",
   "execution_count": 124,
   "metadata": {},
   "outputs": [
    {
     "data": {
      "text/html": "<div>\n<style scoped>\n    .dataframe tbody tr th:only-of-type {\n        vertical-align: middle;\n    }\n\n    .dataframe tbody tr th {\n        vertical-align: top;\n    }\n\n    .dataframe thead th {\n        text-align: right;\n    }\n</style>\n<table border=\"1\" class=\"dataframe\">\n  <thead>\n    <tr style=\"text-align: right;\">\n      <th></th>\n      <th>order_id</th>\n      <th>quantity</th>\n      <th>item_name</th>\n      <th>choice_description</th>\n      <th>item_price</th>\n      <th>new_price</th>\n    </tr>\n  </thead>\n  <tbody>\n    <tr>\n      <th>0</th>\n      <td>471</td>\n      <td>1</td>\n      <td>Bottled Water</td>\n      <td>NaN</td>\n      <td>$1.09</td>\n      <td>1.09</td>\n    </tr>\n    <tr>\n      <th>1</th>\n      <td>338</td>\n      <td>1</td>\n      <td>Canned Soda</td>\n      <td>[Coca Cola]</td>\n      <td>$1.09</td>\n      <td>1.09</td>\n    </tr>\n    <tr>\n      <th>2</th>\n      <td>1575</td>\n      <td>1</td>\n      <td>Canned Soda</td>\n      <td>[Dr. Pepper]</td>\n      <td>$1.09</td>\n      <td>1.09</td>\n    </tr>\n    <tr>\n      <th>3</th>\n      <td>47</td>\n      <td>1</td>\n      <td>Canned Soda</td>\n      <td>[Dr. Pepper]</td>\n      <td>$1.09</td>\n      <td>1.09</td>\n    </tr>\n    <tr>\n      <th>4</th>\n      <td>1014</td>\n      <td>1</td>\n      <td>Canned Soda</td>\n      <td>[Coca Cola]</td>\n      <td>$1.09</td>\n      <td>1.09</td>\n    </tr>\n    <tr>\n      <th>...</th>\n      <td>...</td>\n      <td>...</td>\n      <td>...</td>\n      <td>...</td>\n      <td>...</td>\n      <td>...</td>\n    </tr>\n    <tr>\n      <th>4617</th>\n      <td>1443</td>\n      <td>3</td>\n      <td>Veggie Burrito</td>\n      <td>[Fresh Tomato Salsa, [Fajita Vegetables, Rice,...</td>\n      <td>$33.75</td>\n      <td>33.75</td>\n    </tr>\n    <tr>\n      <th>4618</th>\n      <td>1443</td>\n      <td>4</td>\n      <td>Chicken Burrito</td>\n      <td>[Fresh Tomato Salsa, [Rice, Black Beans, Chees...</td>\n      <td>$35.00</td>\n      <td>35.00</td>\n    </tr>\n    <tr>\n      <th>4619</th>\n      <td>511</td>\n      <td>4</td>\n      <td>Chicken Burrito</td>\n      <td>[Fresh Tomato Salsa, [Fajita Vegetables, Rice,...</td>\n      <td>$35.00</td>\n      <td>35.00</td>\n    </tr>\n    <tr>\n      <th>4620</th>\n      <td>1398</td>\n      <td>3</td>\n      <td>Carnitas Bowl</td>\n      <td>[Roasted Chili Corn Salsa, [Fajita Vegetables,...</td>\n      <td>$35.25</td>\n      <td>35.25</td>\n    </tr>\n    <tr>\n      <th>4621</th>\n      <td>1443</td>\n      <td>15</td>\n      <td>Chips and Fresh Tomato Salsa</td>\n      <td>NaN</td>\n      <td>$44.25</td>\n      <td>44.25</td>\n    </tr>\n  </tbody>\n</table>\n<p>4622 rows × 6 columns</p>\n</div>",
      "text/plain": "      order_id  quantity                     item_name  \\\n0          471         1                 Bottled Water   \n1          338         1                   Canned Soda   \n2         1575         1                   Canned Soda   \n3           47         1                   Canned Soda   \n4         1014         1                   Canned Soda   \n...        ...       ...                           ...   \n4617      1443         3                Veggie Burrito   \n4618      1443         4               Chicken Burrito   \n4619       511         4               Chicken Burrito   \n4620      1398         3                 Carnitas Bowl   \n4621      1443        15  Chips and Fresh Tomato Salsa   \n\n                                     choice_description item_price  new_price  \n0                                                   NaN     $1.09        1.09  \n1                                           [Coca Cola]     $1.09        1.09  \n2                                          [Dr. Pepper]     $1.09        1.09  \n3                                          [Dr. Pepper]     $1.09        1.09  \n4                                           [Coca Cola]     $1.09        1.09  \n...                                                 ...        ...        ...  \n4617  [Fresh Tomato Salsa, [Fajita Vegetables, Rice,...    $33.75       33.75  \n4618  [Fresh Tomato Salsa, [Rice, Black Beans, Chees...    $35.00       35.00  \n4619  [Fresh Tomato Salsa, [Fajita Vegetables, Rice,...    $35.00       35.00  \n4620  [Roasted Chili Corn Salsa, [Fajita Vegetables,...    $35.25       35.25  \n4621                                                NaN    $44.25       44.25  \n\n[4622 rows x 6 columns]"
     },
     "execution_count": 124,
     "metadata": {},
     "output_type": "execute_result"
    }
   ],
   "source": [
    "# df의 new_price 컬럼 값에 따라 내림차순으로 정리하고 index를 초기화 하여라\n",
    "df.sort_values(by='new_price').reset_index(drop=True)"
   ]
  },
  {
   "cell_type": "code",
   "execution_count": 129,
   "metadata": {},
   "outputs": [
    {
     "data": {
      "text/html": "<div>\n<style scoped>\n    .dataframe tbody tr th:only-of-type {\n        vertical-align: middle;\n    }\n\n    .dataframe tbody tr th {\n        vertical-align: top;\n    }\n\n    .dataframe thead th {\n        text-align: right;\n    }\n</style>\n<table border=\"1\" class=\"dataframe\">\n  <thead>\n    <tr style=\"text-align: right;\">\n      <th></th>\n      <th>order_id</th>\n      <th>quantity</th>\n      <th>item_name</th>\n      <th>choice_description</th>\n      <th>item_price</th>\n      <th>new_price</th>\n    </tr>\n  </thead>\n  <tbody>\n    <tr>\n      <th>445</th>\n      <td>193</td>\n      <td>3</td>\n      <td>Bowl</td>\n      <td>[Braised Carnitas, Pinto Beans, [Sour Cream, C...</td>\n      <td>$22.20</td>\n      <td>22.20</td>\n    </tr>\n    <tr>\n      <th>664</th>\n      <td>276</td>\n      <td>1</td>\n      <td>Steak Salad</td>\n      <td>[Tomatillo-Red Chili Salsa (Hot), [Black Beans...</td>\n      <td>$8.99</td>\n      <td>8.99</td>\n    </tr>\n    <tr>\n      <th>673</th>\n      <td>279</td>\n      <td>1</td>\n      <td>Bowl</td>\n      <td>[Adobo-Marinated and Grilled Steak, [Sour Crea...</td>\n      <td>$7.40</td>\n      <td>7.40</td>\n    </tr>\n    <tr>\n      <th>752</th>\n      <td>311</td>\n      <td>1</td>\n      <td>Steak Salad</td>\n      <td>[Tomatillo-Red Chili Salsa (Hot), [Black Beans...</td>\n      <td>$8.99</td>\n      <td>8.99</td>\n    </tr>\n    <tr>\n      <th>893</th>\n      <td>369</td>\n      <td>1</td>\n      <td>Steak Salad</td>\n      <td>[Fresh Tomato Salsa (Mild), [Rice, Cheese, Sou...</td>\n      <td>$8.99</td>\n      <td>8.99</td>\n    </tr>\n    <tr>\n      <th>3502</th>\n      <td>1406</td>\n      <td>1</td>\n      <td>Steak Salad</td>\n      <td>[[Lettuce, Fajita Veggies]]</td>\n      <td>$8.69</td>\n      <td>8.69</td>\n    </tr>\n  </tbody>\n</table>\n</div>",
      "text/plain": "      order_id  quantity    item_name  \\\n445        193         3         Bowl   \n664        276         1  Steak Salad   \n673        279         1         Bowl   \n752        311         1  Steak Salad   \n893        369         1  Steak Salad   \n3502      1406         1  Steak Salad   \n\n                                     choice_description item_price  new_price  \n445   [Braised Carnitas, Pinto Beans, [Sour Cream, C...    $22.20       22.20  \n664   [Tomatillo-Red Chili Salsa (Hot), [Black Beans...     $8.99        8.99  \n673   [Adobo-Marinated and Grilled Steak, [Sour Crea...     $7.40        7.40  \n752   [Tomatillo-Red Chili Salsa (Hot), [Black Beans...     $8.99        8.99  \n893   [Fresh Tomato Salsa (Mild), [Rice, Cheese, Sou...     $8.99        8.99  \n3502                        [[Lettuce, Fajita Veggies]]     $8.69        8.69  "
     },
     "execution_count": 129,
     "metadata": {},
     "output_type": "execute_result"
    }
   ],
   "source": [
    "# df의 item_name 컬럼 값이 Steak Salad 또는 Bowl 인 데이터를 인덱싱하라\n",
    "df.loc[(df.item_name == 'Steak Salad') | (df.item_name == 'Bowl')]\n"
   ]
  },
  {
   "cell_type": "code",
   "execution_count": 137,
   "metadata": {},
   "outputs": [
    {
     "data": {
      "text/html": "<div>\n<style scoped>\n    .dataframe tbody tr th:only-of-type {\n        vertical-align: middle;\n    }\n\n    .dataframe tbody tr th {\n        vertical-align: top;\n    }\n\n    .dataframe thead th {\n        text-align: right;\n    }\n</style>\n<table border=\"1\" class=\"dataframe\">\n  <thead>\n    <tr style=\"text-align: right;\">\n      <th></th>\n      <th>order_id</th>\n      <th>quantity</th>\n      <th>item_name</th>\n      <th>choice_description</th>\n      <th>item_price</th>\n      <th>new_price</th>\n    </tr>\n  </thead>\n  <tbody>\n    <tr>\n      <th>445</th>\n      <td>193</td>\n      <td>3</td>\n      <td>Bowl</td>\n      <td>[Braised Carnitas, Pinto Beans, [Sour Cream, C...</td>\n      <td>$22.20</td>\n      <td>22.20</td>\n    </tr>\n    <tr>\n      <th>664</th>\n      <td>276</td>\n      <td>1</td>\n      <td>Steak Salad</td>\n      <td>[Tomatillo-Red Chili Salsa (Hot), [Black Beans...</td>\n      <td>$8.99</td>\n      <td>8.99</td>\n    </tr>\n  </tbody>\n</table>\n</div>",
      "text/plain": "     order_id  quantity    item_name  \\\n445       193         3         Bowl   \n664       276         1  Steak Salad   \n\n                                    choice_description item_price  new_price  \n445  [Braised Carnitas, Pinto Beans, [Sour Cream, C...    $22.20       22.20  \n664  [Tomatillo-Red Chili Salsa (Hot), [Black Beans...     $8.99        8.99  "
     },
     "execution_count": 137,
     "metadata": {},
     "output_type": "execute_result"
    }
   ],
   "source": [
    "# df의 item_name 컬럼 값이 Steak Salad 또는 Bowl 인 데이터를 데이터 프레임화 한 후, item_name를 기준으로 중복행이 있으면 제거하되 첫번째 케이스만 남겨라\n",
    "# drop_duplicates : 중복제거\n",
    "a = df.loc[(df.item_name == 'Steak Salad') | (df.item_name == 'Bowl')]\n",
    "a.drop_duplicates(subset='item_name',keep='first')"
   ]
  },
  {
   "cell_type": "code",
   "execution_count": 138,
   "metadata": {},
   "outputs": [
    {
     "data": {
      "text/html": "<div>\n<style scoped>\n    .dataframe tbody tr th:only-of-type {\n        vertical-align: middle;\n    }\n\n    .dataframe tbody tr th {\n        vertical-align: top;\n    }\n\n    .dataframe thead th {\n        text-align: right;\n    }\n</style>\n<table border=\"1\" class=\"dataframe\">\n  <thead>\n    <tr style=\"text-align: right;\">\n      <th></th>\n      <th>order_id</th>\n      <th>quantity</th>\n      <th>item_name</th>\n      <th>choice_description</th>\n      <th>item_price</th>\n      <th>new_price</th>\n    </tr>\n  </thead>\n  <tbody>\n    <tr>\n      <th>673</th>\n      <td>279</td>\n      <td>1</td>\n      <td>Bowl</td>\n      <td>[Adobo-Marinated and Grilled Steak, [Sour Crea...</td>\n      <td>$7.40</td>\n      <td>7.40</td>\n    </tr>\n    <tr>\n      <th>3502</th>\n      <td>1406</td>\n      <td>1</td>\n      <td>Steak Salad</td>\n      <td>[[Lettuce, Fajita Veggies]]</td>\n      <td>$8.69</td>\n      <td>8.69</td>\n    </tr>\n  </tbody>\n</table>\n</div>",
      "text/plain": "      order_id  quantity    item_name  \\\n673        279         1         Bowl   \n3502      1406         1  Steak Salad   \n\n                                     choice_description item_price  new_price  \n673   [Adobo-Marinated and Grilled Steak, [Sour Crea...     $7.40        7.40  \n3502                        [[Lettuce, Fajita Veggies]]     $8.69        8.69  "
     },
     "execution_count": 138,
     "metadata": {},
     "output_type": "execute_result"
    }
   ],
   "source": [
    "# df의 item_name 컬럼 값이 Steak Salad 또는 Bowl 인 데이터를 데이터 프레임화 한 후, item_name를 기준으로 중복행이 있으면 제거하되 마지막 케이스만 남겨라\n",
    "a = df.loc[(df.item_name == 'Steak Salad') | (df.item_name == 'Bowl')]\n",
    "a.drop_duplicates(subset='item_name',keep='last')\n"
   ]
  },
  {
   "cell_type": "code",
   "execution_count": 148,
   "metadata": {},
   "outputs": [
    {
     "data": {
      "text/html": "<div>\n<style scoped>\n    .dataframe tbody tr th:only-of-type {\n        vertical-align: middle;\n    }\n\n    .dataframe tbody tr th {\n        vertical-align: top;\n    }\n\n    .dataframe thead th {\n        text-align: right;\n    }\n</style>\n<table border=\"1\" class=\"dataframe\">\n  <thead>\n    <tr style=\"text-align: right;\">\n      <th></th>\n      <th>order_id</th>\n      <th>quantity</th>\n      <th>item_name</th>\n      <th>choice_description</th>\n      <th>item_price</th>\n      <th>new_price</th>\n    </tr>\n  </thead>\n  <tbody>\n    <tr>\n      <th>4</th>\n      <td>2</td>\n      <td>2</td>\n      <td>Chicken Bowl</td>\n      <td>[Tomatillo-Red Chili Salsa (Hot), [Black Beans...</td>\n      <td>$16.98</td>\n      <td>16.98</td>\n    </tr>\n    <tr>\n      <th>5</th>\n      <td>3</td>\n      <td>1</td>\n      <td>Chicken Bowl</td>\n      <td>[Fresh Tomato Salsa (Mild), [Rice, Cheese, Sou...</td>\n      <td>$10.98</td>\n      <td>10.98</td>\n    </tr>\n    <tr>\n      <th>7</th>\n      <td>4</td>\n      <td>1</td>\n      <td>Steak Burrito</td>\n      <td>[Tomatillo Red Chili Salsa, [Fajita Vegetables...</td>\n      <td>$11.75</td>\n      <td>11.75</td>\n    </tr>\n    <tr>\n      <th>8</th>\n      <td>4</td>\n      <td>1</td>\n      <td>Steak Soft Tacos</td>\n      <td>[Tomatillo Green Chili Salsa, [Pinto Beans, Ch...</td>\n      <td>$9.25</td>\n      <td>9.25</td>\n    </tr>\n    <tr>\n      <th>9</th>\n      <td>5</td>\n      <td>1</td>\n      <td>Steak Burrito</td>\n      <td>[Fresh Tomato Salsa, [Rice, Black Beans, Pinto...</td>\n      <td>$9.25</td>\n      <td>9.25</td>\n    </tr>\n    <tr>\n      <th>...</th>\n      <td>...</td>\n      <td>...</td>\n      <td>...</td>\n      <td>...</td>\n      <td>...</td>\n      <td>...</td>\n    </tr>\n    <tr>\n      <th>4617</th>\n      <td>1833</td>\n      <td>1</td>\n      <td>Steak Burrito</td>\n      <td>[Fresh Tomato Salsa, [Rice, Black Beans, Sour ...</td>\n      <td>$11.75</td>\n      <td>11.75</td>\n    </tr>\n    <tr>\n      <th>4618</th>\n      <td>1833</td>\n      <td>1</td>\n      <td>Steak Burrito</td>\n      <td>[Fresh Tomato Salsa, [Rice, Sour Cream, Cheese...</td>\n      <td>$11.75</td>\n      <td>11.75</td>\n    </tr>\n    <tr>\n      <th>4619</th>\n      <td>1834</td>\n      <td>1</td>\n      <td>Chicken Salad Bowl</td>\n      <td>[Fresh Tomato Salsa, [Fajita Vegetables, Pinto...</td>\n      <td>$11.25</td>\n      <td>11.25</td>\n    </tr>\n    <tr>\n      <th>4620</th>\n      <td>1834</td>\n      <td>1</td>\n      <td>Chicken Salad Bowl</td>\n      <td>[Fresh Tomato Salsa, [Fajita Vegetables, Lettu...</td>\n      <td>$8.75</td>\n      <td>8.75</td>\n    </tr>\n    <tr>\n      <th>4621</th>\n      <td>1834</td>\n      <td>1</td>\n      <td>Chicken Salad Bowl</td>\n      <td>[Fresh Tomato Salsa, [Fajita Vegetables, Pinto...</td>\n      <td>$8.75</td>\n      <td>8.75</td>\n    </tr>\n  </tbody>\n</table>\n<p>2890 rows × 6 columns</p>\n</div>",
      "text/plain": "      order_id  quantity           item_name  \\\n4            2         2        Chicken Bowl   \n5            3         1        Chicken Bowl   \n7            4         1       Steak Burrito   \n8            4         1    Steak Soft Tacos   \n9            5         1       Steak Burrito   \n...        ...       ...                 ...   \n4617      1833         1       Steak Burrito   \n4618      1833         1       Steak Burrito   \n4619      1834         1  Chicken Salad Bowl   \n4620      1834         1  Chicken Salad Bowl   \n4621      1834         1  Chicken Salad Bowl   \n\n                                     choice_description item_price  new_price  \n4     [Tomatillo-Red Chili Salsa (Hot), [Black Beans...    $16.98       16.98  \n5     [Fresh Tomato Salsa (Mild), [Rice, Cheese, Sou...    $10.98       10.98  \n7     [Tomatillo Red Chili Salsa, [Fajita Vegetables...    $11.75       11.75  \n8     [Tomatillo Green Chili Salsa, [Pinto Beans, Ch...     $9.25        9.25  \n9     [Fresh Tomato Salsa, [Rice, Black Beans, Pinto...     $9.25        9.25  \n...                                                 ...        ...        ...  \n4617  [Fresh Tomato Salsa, [Rice, Black Beans, Sour ...    $11.75       11.75  \n4618  [Fresh Tomato Salsa, [Rice, Sour Cream, Cheese...    $11.75       11.75  \n4619  [Fresh Tomato Salsa, [Fajita Vegetables, Pinto...    $11.25       11.25  \n4620  [Fresh Tomato Salsa, [Fajita Vegetables, Lettu...     $8.75        8.75  \n4621  [Fresh Tomato Salsa, [Fajita Vegetables, Pinto...     $8.75        8.75  \n\n[2890 rows x 6 columns]"
     },
     "execution_count": 148,
     "metadata": {},
     "output_type": "execute_result"
    }
   ],
   "source": [
    "# df의 데이터 중 new_price값이 new_price값의 평균값 이상을 가지는 데이터들을 인덱싱하라\n",
    "df.loc[df.new_price >= df.new_price.mean()]\n"
   ]
  },
  {
   "cell_type": "code",
   "execution_count": 164,
   "metadata": {},
   "outputs": [
    {
     "data": {
      "text/html": "<div>\n<style scoped>\n    .dataframe tbody tr th:only-of-type {\n        vertical-align: middle;\n    }\n\n    .dataframe tbody tr th {\n        vertical-align: top;\n    }\n\n    .dataframe thead th {\n        text-align: right;\n    }\n</style>\n<table border=\"1\" class=\"dataframe\">\n  <thead>\n    <tr style=\"text-align: right;\">\n      <th></th>\n      <th>order_id</th>\n      <th>quantity</th>\n      <th>item_name</th>\n      <th>choice_description</th>\n      <th>item_price</th>\n      <th>new_price</th>\n    </tr>\n  </thead>\n  <tbody>\n  </tbody>\n</table>\n</div>",
      "text/plain": "Empty DataFrame\nColumns: [order_id, quantity, item_name, choice_description, item_price, new_price]\nIndex: []"
     },
     "execution_count": 164,
     "metadata": {},
     "output_type": "execute_result"
    }
   ],
   "source": [
    "# df의 데이터 중 item_name의 값이 Izze 데이터를 Fizzy Lizzy로 수정하라\n",
    "df.loc[df.item_name == 'Izze','item_name'] = 'Fizzy Lizzy'\n",
    "df.loc[df.item_name == 'Izze']"
   ]
  },
  {
   "cell_type": "code",
   "execution_count": 173,
   "metadata": {},
   "outputs": [
    {
     "data": {
      "text/plain": "1246"
     },
     "execution_count": 173,
     "metadata": {},
     "output_type": "execute_result"
    }
   ],
   "source": [
    "# df의 데이터 중 choice_description 값이 NaN 인 데이터의 갯수를 구하여라\n",
    "df.choice_description.isnull().sum()"
   ]
  },
  {
   "cell_type": "code",
   "execution_count": 185,
   "metadata": {},
   "outputs": [
    {
     "name": "stdout",
     "output_type": "stream",
     "text": [
      "choice_description이 NaN인 갯수 :  0\n",
      "0                                               NoData\n",
      "1                                         [Clementine]\n",
      "2                                              [Apple]\n",
      "3                                               NoData\n",
      "4    [Tomatillo-Red Chili Salsa (Hot), [Black Beans...\n",
      "5    [Fresh Tomato Salsa (Mild), [Rice, Cheese, Sou...\n",
      "6                                               NoData\n",
      "7    [Tomatillo Red Chili Salsa, [Fajita Vegetables...\n",
      "8    [Tomatillo Green Chili Salsa, [Pinto Beans, Ch...\n",
      "9    [Fresh Tomato Salsa, [Rice, Black Beans, Pinto...\n",
      "Name: choice_description, dtype: object\n"
     ]
    }
   ],
   "source": [
    "# df의 데이터 중 choice_description 값이 NaN 인 데이터를 NoData 값으로 대체하라(loc 이용)\n",
    "df.loc[df.choice_description.isnull(),'choice_description'] = 'NoData'\n",
    "print('choice_description이 NaN인 갯수 : ',df.choice_description.isnull().sum())\n",
    "print(df.choice_description.head(10))"
   ]
  },
  {
   "cell_type": "code",
   "execution_count": 190,
   "metadata": {},
   "outputs": [
    {
     "data": {
      "text/html": "<div>\n<style scoped>\n    .dataframe tbody tr th:only-of-type {\n        vertical-align: middle;\n    }\n\n    .dataframe tbody tr th {\n        vertical-align: top;\n    }\n\n    .dataframe thead th {\n        text-align: right;\n    }\n</style>\n<table border=\"1\" class=\"dataframe\">\n  <thead>\n    <tr style=\"text-align: right;\">\n      <th></th>\n      <th>order_id</th>\n      <th>quantity</th>\n      <th>item_name</th>\n      <th>choice_description</th>\n      <th>item_price</th>\n      <th>new_price</th>\n    </tr>\n  </thead>\n  <tbody>\n    <tr>\n      <th>4</th>\n      <td>2</td>\n      <td>2</td>\n      <td>Chicken Bowl</td>\n      <td>[Tomatillo-Red Chili Salsa (Hot), [Black Beans...</td>\n      <td>$16.98</td>\n      <td>16.98</td>\n    </tr>\n    <tr>\n      <th>7</th>\n      <td>4</td>\n      <td>1</td>\n      <td>Steak Burrito</td>\n      <td>[Tomatillo Red Chili Salsa, [Fajita Vegetables...</td>\n      <td>$11.75</td>\n      <td>11.75</td>\n    </tr>\n    <tr>\n      <th>9</th>\n      <td>5</td>\n      <td>1</td>\n      <td>Steak Burrito</td>\n      <td>[Fresh Tomato Salsa, [Rice, Black Beans, Pinto...</td>\n      <td>$9.25</td>\n      <td>9.25</td>\n    </tr>\n    <tr>\n      <th>11</th>\n      <td>6</td>\n      <td>1</td>\n      <td>Chicken Crispy Tacos</td>\n      <td>[Roasted Chili Corn Salsa, [Fajita Vegetables,...</td>\n      <td>$8.75</td>\n      <td>8.75</td>\n    </tr>\n    <tr>\n      <th>12</th>\n      <td>6</td>\n      <td>1</td>\n      <td>Chicken Soft Tacos</td>\n      <td>[Roasted Chili Corn Salsa, [Rice, Black Beans,...</td>\n      <td>$8.75</td>\n      <td>8.75</td>\n    </tr>\n    <tr>\n      <th>...</th>\n      <td>...</td>\n      <td>...</td>\n      <td>...</td>\n      <td>...</td>\n      <td>...</td>\n      <td>...</td>\n    </tr>\n    <tr>\n      <th>4604</th>\n      <td>1828</td>\n      <td>1</td>\n      <td>Chicken Bowl</td>\n      <td>[Fresh Tomato Salsa, [Rice, Black Beans, Chees...</td>\n      <td>$8.75</td>\n      <td>8.75</td>\n    </tr>\n    <tr>\n      <th>4608</th>\n      <td>1829</td>\n      <td>1</td>\n      <td>Veggie Burrito</td>\n      <td>[Tomatillo Red Chili Salsa, [Fajita Vegetables...</td>\n      <td>$11.25</td>\n      <td>11.25</td>\n    </tr>\n    <tr>\n      <th>4611</th>\n      <td>1830</td>\n      <td>1</td>\n      <td>Veggie Burrito</td>\n      <td>[Tomatillo Green Chili Salsa, [Rice, Fajita Ve...</td>\n      <td>$11.25</td>\n      <td>11.25</td>\n    </tr>\n    <tr>\n      <th>4612</th>\n      <td>1831</td>\n      <td>1</td>\n      <td>Carnitas Bowl</td>\n      <td>[Fresh Tomato Salsa, [Fajita Vegetables, Rice,...</td>\n      <td>$9.25</td>\n      <td>9.25</td>\n    </tr>\n    <tr>\n      <th>4617</th>\n      <td>1833</td>\n      <td>1</td>\n      <td>Steak Burrito</td>\n      <td>[Fresh Tomato Salsa, [Rice, Black Beans, Sour ...</td>\n      <td>$11.75</td>\n      <td>11.75</td>\n    </tr>\n  </tbody>\n</table>\n<p>1353 rows × 6 columns</p>\n</div>",
      "text/plain": "      order_id  quantity             item_name  \\\n4            2         2          Chicken Bowl   \n7            4         1         Steak Burrito   \n9            5         1         Steak Burrito   \n11           6         1  Chicken Crispy Tacos   \n12           6         1    Chicken Soft Tacos   \n...        ...       ...                   ...   \n4604      1828         1          Chicken Bowl   \n4608      1829         1        Veggie Burrito   \n4611      1830         1        Veggie Burrito   \n4612      1831         1         Carnitas Bowl   \n4617      1833         1         Steak Burrito   \n\n                                     choice_description item_price  new_price  \n4     [Tomatillo-Red Chili Salsa (Hot), [Black Beans...    $16.98       16.98  \n7     [Tomatillo Red Chili Salsa, [Fajita Vegetables...    $11.75       11.75  \n9     [Fresh Tomato Salsa, [Rice, Black Beans, Pinto...     $9.25        9.25  \n11    [Roasted Chili Corn Salsa, [Fajita Vegetables,...     $8.75        8.75  \n12    [Roasted Chili Corn Salsa, [Rice, Black Beans,...     $8.75        8.75  \n...                                                 ...        ...        ...  \n4604  [Fresh Tomato Salsa, [Rice, Black Beans, Chees...     $8.75        8.75  \n4608  [Tomatillo Red Chili Salsa, [Fajita Vegetables...    $11.25       11.25  \n4611  [Tomatillo Green Chili Salsa, [Rice, Fajita Ve...    $11.25       11.25  \n4612  [Fresh Tomato Salsa, [Fajita Vegetables, Rice,...     $9.25        9.25  \n4617  [Fresh Tomato Salsa, [Rice, Black Beans, Sour ...    $11.75       11.75  \n\n[1353 rows x 6 columns]"
     },
     "execution_count": 190,
     "metadata": {},
     "output_type": "execute_result"
    }
   ],
   "source": [
    "# df의 데이터 중 choice_description 값에 Black이 들어가는 경우를 인덱싱하라\n",
    "df.loc[df.choice_description.str.contains('Black')]"
   ]
  },
  {
   "cell_type": "code",
   "execution_count": 195,
   "metadata": {},
   "outputs": [
    {
     "data": {
      "text/plain": "3900"
     },
     "execution_count": 195,
     "metadata": {},
     "output_type": "execute_result"
    }
   ],
   "source": [
    "# df의 데이터 중 choice_description 값에 Vegetables 들어가지 않는 경우의 갯수를 출력하라\n",
    "# 논리값의 반대를 취하려면 ~를 사용하면 됨. R의 -which(...)에 해당함\n",
    "len(df.loc[~df.choice_description.str.contains('Vegetables')])"
   ]
  },
  {
   "cell_type": "code",
   "execution_count": 201,
   "metadata": {},
   "outputs": [
    {
     "data": {
      "text/html": "<div>\n<style scoped>\n    .dataframe tbody tr th:only-of-type {\n        vertical-align: middle;\n    }\n\n    .dataframe tbody tr th {\n        vertical-align: top;\n    }\n\n    .dataframe thead th {\n        text-align: right;\n    }\n</style>\n<table border=\"1\" class=\"dataframe\">\n  <thead>\n    <tr style=\"text-align: right;\">\n      <th></th>\n      <th>order_id</th>\n      <th>quantity</th>\n      <th>item_name</th>\n      <th>choice_description</th>\n      <th>item_price</th>\n      <th>new_price</th>\n    </tr>\n  </thead>\n  <tbody>\n    <tr>\n      <th>2</th>\n      <td>1</td>\n      <td>1</td>\n      <td>Nantucket Nectar</td>\n      <td>[Apple]</td>\n      <td>$3.39</td>\n      <td>3.39</td>\n    </tr>\n    <tr>\n      <th>22</th>\n      <td>11</td>\n      <td>1</td>\n      <td>Nantucket Nectar</td>\n      <td>[Pomegranate Cherry]</td>\n      <td>$3.39</td>\n      <td>3.39</td>\n    </tr>\n    <tr>\n      <th>105</th>\n      <td>46</td>\n      <td>1</td>\n      <td>Nantucket Nectar</td>\n      <td>[Pineapple Orange Banana]</td>\n      <td>$3.39</td>\n      <td>3.39</td>\n    </tr>\n    <tr>\n      <th>173</th>\n      <td>77</td>\n      <td>1</td>\n      <td>Nantucket Nectar</td>\n      <td>[Apple]</td>\n      <td>$3.39</td>\n      <td>3.39</td>\n    </tr>\n    <tr>\n      <th>205</th>\n      <td>91</td>\n      <td>1</td>\n      <td>Nantucket Nectar</td>\n      <td>[Peach Orange]</td>\n      <td>$3.39</td>\n      <td>3.39</td>\n    </tr>\n  </tbody>\n</table>\n</div>",
      "text/plain": "     order_id  quantity         item_name         choice_description  \\\n2           1         1  Nantucket Nectar                    [Apple]   \n22         11         1  Nantucket Nectar       [Pomegranate Cherry]   \n105        46         1  Nantucket Nectar  [Pineapple Orange Banana]   \n173        77         1  Nantucket Nectar                    [Apple]   \n205        91         1  Nantucket Nectar             [Peach Orange]   \n\n    item_price  new_price  \n2       $3.39        3.39  \n22      $3.39        3.39  \n105     $3.39        3.39  \n173     $3.39        3.39  \n205     $3.39        3.39  "
     },
     "execution_count": 201,
     "metadata": {},
     "output_type": "execute_result"
    }
   ],
   "source": [
    "# df의 데이터 중 item_name 값이 N으로 시작하는 데이터를 모두 추출하라\n",
    "df.loc[df.item_name.str.startswith('N')].head()"
   ]
  },
  {
   "cell_type": "code",
   "execution_count": 205,
   "metadata": {},
   "outputs": [
    {
     "data": {
      "text/html": "<div>\n<style scoped>\n    .dataframe tbody tr th:only-of-type {\n        vertical-align: middle;\n    }\n\n    .dataframe tbody tr th {\n        vertical-align: top;\n    }\n\n    .dataframe thead th {\n        text-align: right;\n    }\n</style>\n<table border=\"1\" class=\"dataframe\">\n  <thead>\n    <tr style=\"text-align: right;\">\n      <th></th>\n      <th>order_id</th>\n      <th>quantity</th>\n      <th>item_name</th>\n      <th>choice_description</th>\n      <th>item_price</th>\n      <th>new_price</th>\n    </tr>\n  </thead>\n  <tbody>\n    <tr>\n      <th>0</th>\n      <td>1</td>\n      <td>1</td>\n      <td>Chips and Fresh Tomato Salsa</td>\n      <td>NoData</td>\n      <td>$2.39</td>\n      <td>2.39</td>\n    </tr>\n    <tr>\n      <th>2</th>\n      <td>1</td>\n      <td>1</td>\n      <td>Nantucket Nectar</td>\n      <td>[Apple]</td>\n      <td>$3.39</td>\n      <td>3.39</td>\n    </tr>\n    <tr>\n      <th>3</th>\n      <td>1</td>\n      <td>1</td>\n      <td>Chips and Tomatillo-Green Chili Salsa</td>\n      <td>NoData</td>\n      <td>$2.39</td>\n      <td>2.39</td>\n    </tr>\n    <tr>\n      <th>8</th>\n      <td>4</td>\n      <td>1</td>\n      <td>Steak Soft Tacos</td>\n      <td>[Tomatillo Green Chili Salsa, [Pinto Beans, Ch...</td>\n      <td>$9.25</td>\n      <td>9.25</td>\n    </tr>\n    <tr>\n      <th>10</th>\n      <td>5</td>\n      <td>1</td>\n      <td>Chips and Guacamole</td>\n      <td>NoData</td>\n      <td>$4.45</td>\n      <td>4.45</td>\n    </tr>\n    <tr>\n      <th>...</th>\n      <td>...</td>\n      <td>...</td>\n      <td>...</td>\n      <td>...</td>\n      <td>...</td>\n      <td>...</td>\n    </tr>\n    <tr>\n      <th>4615</th>\n      <td>1832</td>\n      <td>1</td>\n      <td>Chicken Soft Tacos</td>\n      <td>[Fresh Tomato Salsa, [Rice, Cheese, Sour Cream]]</td>\n      <td>$8.75</td>\n      <td>8.75</td>\n    </tr>\n    <tr>\n      <th>4616</th>\n      <td>1832</td>\n      <td>1</td>\n      <td>Chips and Guacamole</td>\n      <td>NoData</td>\n      <td>$4.45</td>\n      <td>4.45</td>\n    </tr>\n    <tr>\n      <th>4619</th>\n      <td>1834</td>\n      <td>1</td>\n      <td>Chicken Salad Bowl</td>\n      <td>[Fresh Tomato Salsa, [Fajita Vegetables, Pinto...</td>\n      <td>$11.25</td>\n      <td>11.25</td>\n    </tr>\n    <tr>\n      <th>4620</th>\n      <td>1834</td>\n      <td>1</td>\n      <td>Chicken Salad Bowl</td>\n      <td>[Fresh Tomato Salsa, [Fajita Vegetables, Lettu...</td>\n      <td>$8.75</td>\n      <td>8.75</td>\n    </tr>\n    <tr>\n      <th>4621</th>\n      <td>1834</td>\n      <td>1</td>\n      <td>Chicken Salad Bowl</td>\n      <td>[Fresh Tomato Salsa, [Fajita Vegetables, Pinto...</td>\n      <td>$8.75</td>\n      <td>8.75</td>\n    </tr>\n  </tbody>\n</table>\n<p>2373 rows × 6 columns</p>\n</div>",
      "text/plain": "      order_id  quantity                              item_name  \\\n0            1         1           Chips and Fresh Tomato Salsa   \n2            1         1                       Nantucket Nectar   \n3            1         1  Chips and Tomatillo-Green Chili Salsa   \n8            4         1                       Steak Soft Tacos   \n10           5         1                    Chips and Guacamole   \n...        ...       ...                                    ...   \n4615      1832         1                     Chicken Soft Tacos   \n4616      1832         1                    Chips and Guacamole   \n4619      1834         1                     Chicken Salad Bowl   \n4620      1834         1                     Chicken Salad Bowl   \n4621      1834         1                     Chicken Salad Bowl   \n\n                                     choice_description item_price  new_price  \n0                                                NoData     $2.39        2.39  \n2                                               [Apple]     $3.39        3.39  \n3                                                NoData     $2.39        2.39  \n8     [Tomatillo Green Chili Salsa, [Pinto Beans, Ch...     $9.25        9.25  \n10                                               NoData     $4.45        4.45  \n...                                                 ...        ...        ...  \n4615   [Fresh Tomato Salsa, [Rice, Cheese, Sour Cream]]     $8.75        8.75  \n4616                                             NoData     $4.45        4.45  \n4619  [Fresh Tomato Salsa, [Fajita Vegetables, Pinto...    $11.25       11.25  \n4620  [Fresh Tomato Salsa, [Fajita Vegetables, Lettu...     $8.75        8.75  \n4621  [Fresh Tomato Salsa, [Fajita Vegetables, Pinto...     $8.75        8.75  \n\n[2373 rows x 6 columns]"
     },
     "execution_count": 205,
     "metadata": {},
     "output_type": "execute_result"
    }
   ],
   "source": [
    "# df의 데이터 중 item_name 값의 단어갯수가 15개 이상인 데이터를 인덱싱하라\n",
    "df[df.item_name.str.len() >= 15]"
   ]
  },
  {
   "cell_type": "code",
   "execution_count": 212,
   "metadata": {},
   "outputs": [
    {
     "name": "stdout",
     "output_type": "stream",
     "text": [
      "   order_id  quantity                              item_name  \\\n",
      "0         1         1           Chips and Fresh Tomato Salsa   \n",
      "1         1         1                            Fizzy Lizzy   \n",
      "2         1         1                       Nantucket Nectar   \n",
      "3         1         1  Chips and Tomatillo-Green Chili Salsa   \n",
      "4         2         2                           Chicken Bowl   \n",
      "\n",
      "                                  choice_description item_price  new_price  \n",
      "0                                             NoData     $2.39        2.39  \n",
      "1                                       [Clementine]     $3.39        3.39  \n",
      "2                                            [Apple]     $3.39        3.39  \n",
      "3                                             NoData     $2.39        2.39  \n",
      "4  [Tomatillo-Red Chili Salsa (Hot), [Black Beans...    $16.98       16.98  \n",
      "lst를 포함하는 행수 :  1393\n"
     ]
    }
   ],
   "source": [
    "# df의 데이터 중 new_price값이 lst에 해당하는 경우의 데이터 프레임을 구하고 그 갯수를 출력하라 \n",
    "# isin : 해당 리스트가 포함하는가에 대한 논리값 제공. R에서의 %in%와 같음.\n",
    "lst =[1.69, 2.39, 3.39, 4.45, 9.25, 10.98, 11.75, 16.98]\n",
    "a = df.loc[df.new_price.isin(lst)]\n",
    "print(a.head())\n",
    "print('lst를 포함하는 행수 : ',len(a))"
   ]
  },
  {
   "cell_type": "code",
   "execution_count": 215,
   "metadata": {},
   "outputs": [
    {
     "data": {
      "text/html": "<div>\n<style scoped>\n    .dataframe tbody tr th:only-of-type {\n        vertical-align: middle;\n    }\n\n    .dataframe tbody tr th {\n        vertical-align: top;\n    }\n\n    .dataframe thead th {\n        text-align: right;\n    }\n</style>\n<table border=\"1\" class=\"dataframe\">\n  <thead>\n    <tr style=\"text-align: right;\">\n      <th></th>\n      <th>id</th>\n      <th>name</th>\n      <th>host_id</th>\n      <th>host_name</th>\n      <th>neighbourhood_group</th>\n      <th>neighbourhood</th>\n      <th>latitude</th>\n      <th>longitude</th>\n      <th>room_type</th>\n      <th>price</th>\n      <th>minimum_nights</th>\n      <th>number_of_reviews</th>\n      <th>last_review</th>\n      <th>reviews_per_month</th>\n      <th>calculated_host_listings_count</th>\n      <th>availability_365</th>\n    </tr>\n  </thead>\n  <tbody>\n    <tr>\n      <th>0</th>\n      <td>2539</td>\n      <td>Clean &amp; quiet apt home by the park</td>\n      <td>2787</td>\n      <td>John</td>\n      <td>Brooklyn</td>\n      <td>Kensington</td>\n      <td>40.64749</td>\n      <td>-73.97237</td>\n      <td>Private room</td>\n      <td>149</td>\n      <td>1</td>\n      <td>9</td>\n      <td>2018-10-19</td>\n      <td>0.21</td>\n      <td>6</td>\n      <td>365</td>\n    </tr>\n    <tr>\n      <th>1</th>\n      <td>2595</td>\n      <td>Skylit Midtown Castle</td>\n      <td>2845</td>\n      <td>Jennifer</td>\n      <td>Manhattan</td>\n      <td>Midtown</td>\n      <td>40.75362</td>\n      <td>-73.98377</td>\n      <td>Entire home/apt</td>\n      <td>225</td>\n      <td>1</td>\n      <td>45</td>\n      <td>2019-05-21</td>\n      <td>0.38</td>\n      <td>2</td>\n      <td>355</td>\n    </tr>\n    <tr>\n      <th>2</th>\n      <td>3647</td>\n      <td>THE VILLAGE OF HARLEM....NEW YORK !</td>\n      <td>4632</td>\n      <td>Elisabeth</td>\n      <td>Manhattan</td>\n      <td>Harlem</td>\n      <td>40.80902</td>\n      <td>-73.94190</td>\n      <td>Private room</td>\n      <td>150</td>\n      <td>3</td>\n      <td>0</td>\n      <td>NaN</td>\n      <td>NaN</td>\n      <td>1</td>\n      <td>365</td>\n    </tr>\n    <tr>\n      <th>3</th>\n      <td>3831</td>\n      <td>Cozy Entire Floor of Brownstone</td>\n      <td>4869</td>\n      <td>LisaRoxanne</td>\n      <td>Brooklyn</td>\n      <td>Clinton Hill</td>\n      <td>40.68514</td>\n      <td>-73.95976</td>\n      <td>Entire home/apt</td>\n      <td>89</td>\n      <td>1</td>\n      <td>270</td>\n      <td>2019-07-05</td>\n      <td>4.64</td>\n      <td>1</td>\n      <td>194</td>\n    </tr>\n    <tr>\n      <th>4</th>\n      <td>5022</td>\n      <td>Entire Apt: Spacious Studio/Loft by central park</td>\n      <td>7192</td>\n      <td>Laura</td>\n      <td>Manhattan</td>\n      <td>East Harlem</td>\n      <td>40.79851</td>\n      <td>-73.94399</td>\n      <td>Entire home/apt</td>\n      <td>80</td>\n      <td>10</td>\n      <td>9</td>\n      <td>2018-11-19</td>\n      <td>0.10</td>\n      <td>1</td>\n      <td>0</td>\n    </tr>\n  </tbody>\n</table>\n</div>",
      "text/plain": "     id                                              name  host_id  \\\n0  2539                Clean & quiet apt home by the park     2787   \n1  2595                             Skylit Midtown Castle     2845   \n2  3647               THE VILLAGE OF HARLEM....NEW YORK !     4632   \n3  3831                   Cozy Entire Floor of Brownstone     4869   \n4  5022  Entire Apt: Spacious Studio/Loft by central park     7192   \n\n     host_name neighbourhood_group neighbourhood  latitude  longitude  \\\n0         John            Brooklyn    Kensington  40.64749  -73.97237   \n1     Jennifer           Manhattan       Midtown  40.75362  -73.98377   \n2    Elisabeth           Manhattan        Harlem  40.80902  -73.94190   \n3  LisaRoxanne            Brooklyn  Clinton Hill  40.68514  -73.95976   \n4        Laura           Manhattan   East Harlem  40.79851  -73.94399   \n\n         room_type  price  minimum_nights  number_of_reviews last_review  \\\n0     Private room    149               1                  9  2018-10-19   \n1  Entire home/apt    225               1                 45  2019-05-21   \n2     Private room    150               3                  0         NaN   \n3  Entire home/apt     89               1                270  2019-07-05   \n4  Entire home/apt     80              10                  9  2018-11-19   \n\n   reviews_per_month  calculated_host_listings_count  availability_365  \n0               0.21                               6               365  \n1               0.38                               2               355  \n2                NaN                               1               365  \n3               4.64                               1               194  \n4               0.10                               1                 0  "
     },
     "execution_count": 215,
     "metadata": {},
     "output_type": "execute_result"
    }
   ],
   "source": [
    "# 데이터를 로드하고 상위 5개 컬럼을 출력하라\n",
    "# 뉴욕 airbnb 데이터\n",
    "df = pd.read_csv('https://raw.githubusercontent.com/Datamanim/pandas/main/AB_NYC_2019.csv')\n",
    "df.head()"
   ]
  },
  {
   "cell_type": "code",
   "execution_count": 225,
   "metadata": {},
   "outputs": [
    {
     "data": {
      "text/plain": "host_name\nMichael         417\nDavid           403\nSonder (NYC)    327\nJohn            294\nAlex            279\ndtype: int64"
     },
     "execution_count": 225,
     "metadata": {},
     "output_type": "execute_result"
    }
   ],
   "source": [
    "# 데이터의 각 host_name의 빈도수를 구하고 host_name으로 정렬하여 상위 5개를 출력하라\n",
    "df.groupby('host_name').size().sort_values(ascending=False).head()"
   ]
  },
  {
   "cell_type": "code",
   "execution_count": 228,
   "metadata": {},
   "outputs": [
    {
     "data": {
      "text/html": "<div>\n<style scoped>\n    .dataframe tbody tr th:only-of-type {\n        vertical-align: middle;\n    }\n\n    .dataframe tbody tr th {\n        vertical-align: top;\n    }\n\n    .dataframe thead th {\n        text-align: right;\n    }\n</style>\n<table border=\"1\" class=\"dataframe\">\n  <thead>\n    <tr style=\"text-align: right;\">\n      <th></th>\n      <th>counts</th>\n    </tr>\n    <tr>\n      <th>host_name</th>\n      <th></th>\n    </tr>\n  </thead>\n  <tbody>\n    <tr>\n      <th>Michael</th>\n      <td>417</td>\n    </tr>\n    <tr>\n      <th>David</th>\n      <td>403</td>\n    </tr>\n    <tr>\n      <th>Sonder (NYC)</th>\n      <td>327</td>\n    </tr>\n    <tr>\n      <th>John</th>\n      <td>294</td>\n    </tr>\n    <tr>\n      <th>Alex</th>\n      <td>279</td>\n    </tr>\n  </tbody>\n</table>\n</div>",
      "text/plain": "              counts\nhost_name           \nMichael          417\nDavid            403\nSonder (NYC)     327\nJohn             294\nAlex             279"
     },
     "execution_count": 228,
     "metadata": {},
     "output_type": "execute_result"
    }
   ],
   "source": [
    "# 데이터의 각 host_name의 빈도수를 구하고 빈도수 기준 내림차순 정렬한 데이터 프레임을 만들어라. 빈도수 컬럼은 counts로 명명하라\n",
    "df.groupby('host_name').size().to_frame().rename(columns={0:'counts'}).sort_values(by='counts',ascending=False).head()"
   ]
  },
  {
   "cell_type": "code",
   "execution_count": 238,
   "metadata": {},
   "outputs": [
    {
     "data": {
      "text/html": "<div>\n<style scoped>\n    .dataframe tbody tr th:only-of-type {\n        vertical-align: middle;\n    }\n\n    .dataframe tbody tr th {\n        vertical-align: top;\n    }\n\n    .dataframe thead th {\n        text-align: right;\n    }\n</style>\n<table border=\"1\" class=\"dataframe\">\n  <thead>\n    <tr style=\"text-align: right;\">\n      <th></th>\n      <th>neighbourhood_group</th>\n      <th>neighbourhood</th>\n      <th>size</th>\n    </tr>\n  </thead>\n  <tbody>\n    <tr>\n      <th>0</th>\n      <td>Bronx</td>\n      <td>Allerton</td>\n      <td>42</td>\n    </tr>\n    <tr>\n      <th>1</th>\n      <td>Bronx</td>\n      <td>Baychester</td>\n      <td>7</td>\n    </tr>\n    <tr>\n      <th>2</th>\n      <td>Bronx</td>\n      <td>Belmont</td>\n      <td>24</td>\n    </tr>\n    <tr>\n      <th>3</th>\n      <td>Bronx</td>\n      <td>Bronxdale</td>\n      <td>19</td>\n    </tr>\n    <tr>\n      <th>4</th>\n      <td>Bronx</td>\n      <td>Castle Hill</td>\n      <td>9</td>\n    </tr>\n  </tbody>\n</table>\n</div>",
      "text/plain": "  neighbourhood_group neighbourhood  size\n0               Bronx      Allerton    42\n1               Bronx    Baychester     7\n2               Bronx       Belmont    24\n3               Bronx     Bronxdale    19\n4               Bronx   Castle Hill     9"
     },
     "execution_count": 238,
     "metadata": {},
     "output_type": "execute_result"
    }
   ],
   "source": [
    "# neighbourhood_group의 값에 따른 neighbourhood컬럼 값의 갯수를 구하여라\n",
    "# groupby 옵션 중 as_index=False는 집계 기준이되는 데이터 전부를 보여주고 True는 하나만 보여줌.\n",
    "df.groupby(by=['neighbourhood_group','neighbourhood'],as_index=False).size().head()"
   ]
  },
  {
   "cell_type": "code",
   "execution_count": 248,
   "metadata": {},
   "outputs": [
    {
     "data": {
      "text/html": "<div>\n<style scoped>\n    .dataframe tbody tr th:only-of-type {\n        vertical-align: middle;\n    }\n\n    .dataframe tbody tr th {\n        vertical-align: top;\n    }\n\n    .dataframe thead th {\n        text-align: right;\n    }\n</style>\n<table border=\"1\" class=\"dataframe\">\n  <thead>\n    <tr style=\"text-align: right;\">\n      <th></th>\n      <th>neighbourhood_group</th>\n      <th>neighbourhood</th>\n      <th>size</th>\n    </tr>\n  </thead>\n  <tbody>\n    <tr>\n      <th>0</th>\n      <td>Bronx</td>\n      <td>Woodlawn</td>\n      <td>70</td>\n    </tr>\n    <tr>\n      <th>1</th>\n      <td>Brooklyn</td>\n      <td>Windsor Terrace</td>\n      <td>3920</td>\n    </tr>\n    <tr>\n      <th>2</th>\n      <td>Manhattan</td>\n      <td>West Village</td>\n      <td>2658</td>\n    </tr>\n    <tr>\n      <th>3</th>\n      <td>Queens</td>\n      <td>Woodside</td>\n      <td>900</td>\n    </tr>\n    <tr>\n      <th>4</th>\n      <td>Staten Island</td>\n      <td>Woodrow</td>\n      <td>48</td>\n    </tr>\n  </tbody>\n</table>\n</div>",
      "text/plain": "  neighbourhood_group    neighbourhood  size\n0               Bronx         Woodlawn    70\n1            Brooklyn  Windsor Terrace  3920\n2           Manhattan     West Village  2658\n3              Queens         Woodside   900\n4       Staten Island          Woodrow    48"
     },
     "execution_count": 248,
     "metadata": {},
     "output_type": "execute_result"
    }
   ],
   "source": [
    "# neighbourhood_group의 값에 따른 neighbourhood컬럼 값 중 neighbourhood_group그룹의 최댓값들을 출력하라\n",
    "df.groupby(['neighbourhood_group','neighbourhood'],as_index=False).size().groupby('neighbourhood_group',as_index=False).max()"
   ]
  },
  {
   "cell_type": "code",
   "execution_count": 254,
   "metadata": {},
   "outputs": [
    {
     "data": {
      "text/html": "<div>\n<style scoped>\n    .dataframe tbody tr th:only-of-type {\n        vertical-align: middle;\n    }\n\n    .dataframe tbody tr th {\n        vertical-align: top;\n    }\n\n    .dataframe thead tr th {\n        text-align: left;\n    }\n\n    .dataframe thead tr:last-of-type th {\n        text-align: right;\n    }\n</style>\n<table border=\"1\" class=\"dataframe\">\n  <thead>\n    <tr>\n      <th></th>\n      <th colspan=\"4\" halign=\"left\">price</th>\n    </tr>\n    <tr>\n      <th></th>\n      <th>mean</th>\n      <th>var</th>\n      <th>max</th>\n      <th>min</th>\n    </tr>\n    <tr>\n      <th>neighbourhood_group</th>\n      <th></th>\n      <th></th>\n      <th></th>\n      <th></th>\n    </tr>\n  </thead>\n  <tbody>\n    <tr>\n      <th>Bronx</th>\n      <td>87.496792</td>\n      <td>11386.885081</td>\n      <td>2500</td>\n      <td>0</td>\n    </tr>\n    <tr>\n      <th>Brooklyn</th>\n      <td>124.383207</td>\n      <td>34921.719135</td>\n      <td>10000</td>\n      <td>0</td>\n    </tr>\n    <tr>\n      <th>Manhattan</th>\n      <td>196.875814</td>\n      <td>84904.159185</td>\n      <td>10000</td>\n      <td>0</td>\n    </tr>\n    <tr>\n      <th>Queens</th>\n      <td>99.517649</td>\n      <td>27923.130227</td>\n      <td>10000</td>\n      <td>10</td>\n    </tr>\n    <tr>\n      <th>Staten Island</th>\n      <td>114.812332</td>\n      <td>77073.088342</td>\n      <td>5000</td>\n      <td>13</td>\n    </tr>\n  </tbody>\n</table>\n</div>",
      "text/plain": "                          price                         \n                           mean           var    max min\nneighbourhood_group                                     \nBronx                 87.496792  11386.885081   2500   0\nBrooklyn             124.383207  34921.719135  10000   0\nManhattan            196.875814  84904.159185  10000   0\nQueens                99.517649  27923.130227  10000  10\nStaten Island        114.812332  77073.088342   5000  13"
     },
     "execution_count": 254,
     "metadata": {},
     "output_type": "execute_result"
    }
   ],
   "source": [
    "# neighbourhood_group 값에 따른 price값의 평균, 분산, 최대, 최소 값을 구하여라\n",
    "# groupby이후 집계를 하고싶을때는 agg함수 이용. R의 tidyverse패키지 내 group_by함수 이후 summarise를 사용하는 방법과 동일\n",
    "df[['neighbourhood_group','price']].groupby('neighbourhood_group').agg(['mean','var','max','min'])"
   ]
  },
  {
   "cell_type": "code",
   "execution_count": 256,
   "metadata": {},
   "outputs": [
    {
     "data": {
      "text/html": "<div>\n<style scoped>\n    .dataframe tbody tr th:only-of-type {\n        vertical-align: middle;\n    }\n\n    .dataframe tbody tr th {\n        vertical-align: top;\n    }\n\n    .dataframe thead tr th {\n        text-align: left;\n    }\n\n    .dataframe thead tr:last-of-type th {\n        text-align: right;\n    }\n</style>\n<table border=\"1\" class=\"dataframe\">\n  <thead>\n    <tr>\n      <th></th>\n      <th colspan=\"4\" halign=\"left\">reviews_per_month</th>\n    </tr>\n    <tr>\n      <th></th>\n      <th>mean</th>\n      <th>var</th>\n      <th>max</th>\n      <th>min</th>\n    </tr>\n    <tr>\n      <th>neighbourhood_group</th>\n      <th></th>\n      <th></th>\n      <th></th>\n      <th></th>\n    </tr>\n  </thead>\n  <tbody>\n    <tr>\n      <th>Bronx</th>\n      <td>1.837831</td>\n      <td>2.799878</td>\n      <td>10.34</td>\n      <td>0.02</td>\n    </tr>\n    <tr>\n      <th>Brooklyn</th>\n      <td>1.283212</td>\n      <td>2.299040</td>\n      <td>14.00</td>\n      <td>0.01</td>\n    </tr>\n    <tr>\n      <th>Manhattan</th>\n      <td>1.272131</td>\n      <td>2.651206</td>\n      <td>58.50</td>\n      <td>0.01</td>\n    </tr>\n    <tr>\n      <th>Queens</th>\n      <td>1.941200</td>\n      <td>4.897848</td>\n      <td>20.94</td>\n      <td>0.01</td>\n    </tr>\n    <tr>\n      <th>Staten Island</th>\n      <td>1.872580</td>\n      <td>2.840895</td>\n      <td>10.12</td>\n      <td>0.02</td>\n    </tr>\n  </tbody>\n</table>\n</div>",
      "text/plain": "                    reviews_per_month                       \n                                 mean       var    max   min\nneighbourhood_group                                         \nBronx                        1.837831  2.799878  10.34  0.02\nBrooklyn                     1.283212  2.299040  14.00  0.01\nManhattan                    1.272131  2.651206  58.50  0.01\nQueens                       1.941200  4.897848  20.94  0.01\nStaten Island                1.872580  2.840895  10.12  0.02"
     },
     "execution_count": 256,
     "metadata": {},
     "output_type": "execute_result"
    }
   ],
   "source": [
    "# neighbourhood_group 값에 따른 reviews_per_month 평균, 분산, 최대, 최소 값을 구하여라\n",
    "df[['neighbourhood_group','reviews_per_month']].groupby('neighbourhood_group').agg(['mean','var','max','min'])\n"
   ]
  },
  {
   "cell_type": "code",
   "execution_count": 258,
   "metadata": {},
   "outputs": [
    {
     "data": {
      "text/html": "<div>\n<style scoped>\n    .dataframe tbody tr th:only-of-type {\n        vertical-align: middle;\n    }\n\n    .dataframe tbody tr th {\n        vertical-align: top;\n    }\n\n    .dataframe thead th {\n        text-align: right;\n    }\n</style>\n<table border=\"1\" class=\"dataframe\">\n  <thead>\n    <tr style=\"text-align: right;\">\n      <th></th>\n      <th></th>\n      <th>price</th>\n    </tr>\n    <tr>\n      <th>neighbourhood</th>\n      <th>neighbourhood_group</th>\n      <th></th>\n    </tr>\n  </thead>\n  <tbody>\n    <tr>\n      <th>Allerton</th>\n      <th>Bronx</th>\n      <td>87.595238</td>\n    </tr>\n    <tr>\n      <th>Arden Heights</th>\n      <th>Staten Island</th>\n      <td>67.250000</td>\n    </tr>\n    <tr>\n      <th>Arrochar</th>\n      <th>Staten Island</th>\n      <td>115.000000</td>\n    </tr>\n    <tr>\n      <th>Arverne</th>\n      <th>Queens</th>\n      <td>171.779221</td>\n    </tr>\n    <tr>\n      <th>Astoria</th>\n      <th>Queens</th>\n      <td>117.187778</td>\n    </tr>\n  </tbody>\n</table>\n</div>",
      "text/plain": "                                        price\nneighbourhood neighbourhood_group            \nAllerton      Bronx                 87.595238\nArden Heights Staten Island         67.250000\nArrochar      Staten Island        115.000000\nArverne       Queens               171.779221\nAstoria       Queens               117.187778"
     },
     "execution_count": 258,
     "metadata": {},
     "output_type": "execute_result"
    }
   ],
   "source": [
    "# neighbourhood 값과 neighbourhood_group 값에 따른 price 의 평균을 구하라\n",
    "df[['neighbourhood','neighbourhood_group','price']].groupby(['neighbourhood','neighbourhood_group']).agg('mean').head()"
   ]
  },
  {
   "cell_type": "code",
   "execution_count": 260,
   "metadata": {},
   "outputs": [
    {
     "data": {
      "text/html": "<div>\n<style scoped>\n    .dataframe tbody tr th:only-of-type {\n        vertical-align: middle;\n    }\n\n    .dataframe tbody tr th {\n        vertical-align: top;\n    }\n\n    .dataframe thead tr th {\n        text-align: left;\n    }\n\n    .dataframe thead tr:last-of-type th {\n        text-align: right;\n    }\n</style>\n<table border=\"1\" class=\"dataframe\">\n  <thead>\n    <tr>\n      <th></th>\n      <th colspan=\"5\" halign=\"left\">price</th>\n    </tr>\n    <tr>\n      <th>neighbourhood_group</th>\n      <th>Bronx</th>\n      <th>Brooklyn</th>\n      <th>Manhattan</th>\n      <th>Queens</th>\n      <th>Staten Island</th>\n    </tr>\n    <tr>\n      <th>neighbourhood</th>\n      <th></th>\n      <th></th>\n      <th></th>\n      <th></th>\n      <th></th>\n    </tr>\n  </thead>\n  <tbody>\n    <tr>\n      <th>Allerton</th>\n      <td>87.595238</td>\n      <td>NaN</td>\n      <td>NaN</td>\n      <td>NaN</td>\n      <td>NaN</td>\n    </tr>\n    <tr>\n      <th>Arden Heights</th>\n      <td>NaN</td>\n      <td>NaN</td>\n      <td>NaN</td>\n      <td>NaN</td>\n      <td>67.25</td>\n    </tr>\n    <tr>\n      <th>Arrochar</th>\n      <td>NaN</td>\n      <td>NaN</td>\n      <td>NaN</td>\n      <td>NaN</td>\n      <td>115.00</td>\n    </tr>\n    <tr>\n      <th>Arverne</th>\n      <td>NaN</td>\n      <td>NaN</td>\n      <td>NaN</td>\n      <td>171.779221</td>\n      <td>NaN</td>\n    </tr>\n    <tr>\n      <th>Astoria</th>\n      <td>NaN</td>\n      <td>NaN</td>\n      <td>NaN</td>\n      <td>117.187778</td>\n      <td>NaN</td>\n    </tr>\n    <tr>\n      <th>...</th>\n      <td>...</td>\n      <td>...</td>\n      <td>...</td>\n      <td>...</td>\n      <td>...</td>\n    </tr>\n    <tr>\n      <th>Windsor Terrace</th>\n      <td>NaN</td>\n      <td>138.993631</td>\n      <td>NaN</td>\n      <td>NaN</td>\n      <td>NaN</td>\n    </tr>\n    <tr>\n      <th>Woodhaven</th>\n      <td>NaN</td>\n      <td>NaN</td>\n      <td>NaN</td>\n      <td>67.170455</td>\n      <td>NaN</td>\n    </tr>\n    <tr>\n      <th>Woodlawn</th>\n      <td>60.090909</td>\n      <td>NaN</td>\n      <td>NaN</td>\n      <td>NaN</td>\n      <td>NaN</td>\n    </tr>\n    <tr>\n      <th>Woodrow</th>\n      <td>NaN</td>\n      <td>NaN</td>\n      <td>NaN</td>\n      <td>NaN</td>\n      <td>700.00</td>\n    </tr>\n    <tr>\n      <th>Woodside</th>\n      <td>NaN</td>\n      <td>NaN</td>\n      <td>NaN</td>\n      <td>85.097872</td>\n      <td>NaN</td>\n    </tr>\n  </tbody>\n</table>\n<p>221 rows × 5 columns</p>\n</div>",
      "text/plain": "                         price                                                \nneighbourhood_group      Bronx    Brooklyn Manhattan      Queens Staten Island\nneighbourhood                                                                 \nAllerton             87.595238         NaN       NaN         NaN           NaN\nArden Heights              NaN         NaN       NaN         NaN         67.25\nArrochar                   NaN         NaN       NaN         NaN        115.00\nArverne                    NaN         NaN       NaN  171.779221           NaN\nAstoria                    NaN         NaN       NaN  117.187778           NaN\n...                        ...         ...       ...         ...           ...\nWindsor Terrace            NaN  138.993631       NaN         NaN           NaN\nWoodhaven                  NaN         NaN       NaN   67.170455           NaN\nWoodlawn             60.090909         NaN       NaN         NaN           NaN\nWoodrow                    NaN         NaN       NaN         NaN        700.00\nWoodside                   NaN         NaN       NaN   85.097872           NaN\n\n[221 rows x 5 columns]"
     },
     "execution_count": 260,
     "metadata": {},
     "output_type": "execute_result"
    }
   ],
   "source": [
    "# neighbourhood 값과 neighbourhood_group 값에 따른 price 의 평균을 계층적 indexing 없이 구하라\n",
    "# unstack() : \n",
    "df[['neighbourhood','neighbourhood_group','price']].groupby(['neighbourhood','neighbourhood_group']).agg('mean').unstack()"
   ]
  },
  {
   "cell_type": "code",
   "execution_count": 270,
   "metadata": {},
   "outputs": [
    {
     "data": {
      "text/html": "<div>\n<style scoped>\n    .dataframe tbody tr th:only-of-type {\n        vertical-align: middle;\n    }\n\n    .dataframe tbody tr th {\n        vertical-align: top;\n    }\n\n    .dataframe thead tr th {\n        text-align: left;\n    }\n\n    .dataframe thead tr:last-of-type th {\n        text-align: right;\n    }\n</style>\n<table border=\"1\" class=\"dataframe\">\n  <thead>\n    <tr>\n      <th></th>\n      <th colspan=\"5\" halign=\"left\">price</th>\n    </tr>\n    <tr>\n      <th>neighbourhood_group</th>\n      <th>Bronx</th>\n      <th>Brooklyn</th>\n      <th>Manhattan</th>\n      <th>Queens</th>\n      <th>Staten Island</th>\n    </tr>\n    <tr>\n      <th>neighbourhood</th>\n      <th></th>\n      <th></th>\n      <th></th>\n      <th></th>\n      <th></th>\n    </tr>\n  </thead>\n  <tbody>\n    <tr>\n      <th>Allerton</th>\n      <td>87.595238</td>\n      <td>-999.000000</td>\n      <td>-999.0</td>\n      <td>-999.000000</td>\n      <td>-999.00</td>\n    </tr>\n    <tr>\n      <th>Arden Heights</th>\n      <td>-999.000000</td>\n      <td>-999.000000</td>\n      <td>-999.0</td>\n      <td>-999.000000</td>\n      <td>67.25</td>\n    </tr>\n    <tr>\n      <th>Arrochar</th>\n      <td>-999.000000</td>\n      <td>-999.000000</td>\n      <td>-999.0</td>\n      <td>-999.000000</td>\n      <td>115.00</td>\n    </tr>\n    <tr>\n      <th>Arverne</th>\n      <td>-999.000000</td>\n      <td>-999.000000</td>\n      <td>-999.0</td>\n      <td>171.779221</td>\n      <td>-999.00</td>\n    </tr>\n    <tr>\n      <th>Astoria</th>\n      <td>-999.000000</td>\n      <td>-999.000000</td>\n      <td>-999.0</td>\n      <td>117.187778</td>\n      <td>-999.00</td>\n    </tr>\n    <tr>\n      <th>...</th>\n      <td>...</td>\n      <td>...</td>\n      <td>...</td>\n      <td>...</td>\n      <td>...</td>\n    </tr>\n    <tr>\n      <th>Windsor Terrace</th>\n      <td>-999.000000</td>\n      <td>138.993631</td>\n      <td>-999.0</td>\n      <td>-999.000000</td>\n      <td>-999.00</td>\n    </tr>\n    <tr>\n      <th>Woodhaven</th>\n      <td>-999.000000</td>\n      <td>-999.000000</td>\n      <td>-999.0</td>\n      <td>67.170455</td>\n      <td>-999.00</td>\n    </tr>\n    <tr>\n      <th>Woodlawn</th>\n      <td>60.090909</td>\n      <td>-999.000000</td>\n      <td>-999.0</td>\n      <td>-999.000000</td>\n      <td>-999.00</td>\n    </tr>\n    <tr>\n      <th>Woodrow</th>\n      <td>-999.000000</td>\n      <td>-999.000000</td>\n      <td>-999.0</td>\n      <td>-999.000000</td>\n      <td>700.00</td>\n    </tr>\n    <tr>\n      <th>Woodside</th>\n      <td>-999.000000</td>\n      <td>-999.000000</td>\n      <td>-999.0</td>\n      <td>85.097872</td>\n      <td>-999.00</td>\n    </tr>\n  </tbody>\n</table>\n<p>221 rows × 5 columns</p>\n</div>",
      "text/plain": "                          price                                    \\\nneighbourhood_group       Bronx    Brooklyn Manhattan      Queens   \nneighbourhood                                                       \nAllerton              87.595238 -999.000000    -999.0 -999.000000   \nArden Heights       -999.000000 -999.000000    -999.0 -999.000000   \nArrochar            -999.000000 -999.000000    -999.0 -999.000000   \nArverne             -999.000000 -999.000000    -999.0  171.779221   \nAstoria             -999.000000 -999.000000    -999.0  117.187778   \n...                         ...         ...       ...         ...   \nWindsor Terrace     -999.000000  138.993631    -999.0 -999.000000   \nWoodhaven           -999.000000 -999.000000    -999.0   67.170455   \nWoodlawn              60.090909 -999.000000    -999.0 -999.000000   \nWoodrow             -999.000000 -999.000000    -999.0 -999.000000   \nWoodside            -999.000000 -999.000000    -999.0   85.097872   \n\n                                   \nneighbourhood_group Staten Island  \nneighbourhood                      \nAllerton                  -999.00  \nArden Heights               67.25  \nArrochar                   115.00  \nArverne                   -999.00  \nAstoria                   -999.00  \n...                           ...  \nWindsor Terrace           -999.00  \nWoodhaven                 -999.00  \nWoodlawn                  -999.00  \nWoodrow                    700.00  \nWoodside                  -999.00  \n\n[221 rows x 5 columns]"
     },
     "execution_count": 270,
     "metadata": {},
     "output_type": "execute_result"
    }
   ],
   "source": [
    "# neighbourhood 값과 neighbourhood_group 값에 따른 price 의 평균을 계층적 indexing 없이 구하고 nan 값은 -999값으로 채워라\n",
    "# nan 값 채우기 : fillna(value = '값')\n",
    "df[['neighbourhood','neighbourhood_group','price']].groupby(['neighbourhood','neighbourhood_group']).agg('mean').unstack().fillna(value = -999)"
   ]
  },
  {
   "cell_type": "code",
   "execution_count": 280,
   "metadata": {},
   "outputs": [
    {
     "data": {
      "text/html": "<div>\n<style scoped>\n    .dataframe tbody tr th:only-of-type {\n        vertical-align: middle;\n    }\n\n    .dataframe tbody tr th {\n        vertical-align: top;\n    }\n\n    .dataframe thead th {\n        text-align: right;\n    }\n</style>\n<table border=\"1\" class=\"dataframe\">\n  <thead>\n    <tr style=\"text-align: right;\">\n      <th></th>\n      <th>mean</th>\n      <th>var</th>\n      <th>max</th>\n      <th>min</th>\n    </tr>\n    <tr>\n      <th>neighbourhood</th>\n      <th></th>\n      <th></th>\n      <th></th>\n      <th></th>\n    </tr>\n  </thead>\n  <tbody>\n    <tr>\n      <th>Arverne</th>\n      <td>171.779221</td>\n      <td>37383.411141</td>\n      <td>1500</td>\n      <td>35</td>\n    </tr>\n    <tr>\n      <th>Astoria</th>\n      <td>117.187778</td>\n      <td>122428.811196</td>\n      <td>10000</td>\n      <td>25</td>\n    </tr>\n    <tr>\n      <th>Bay Terrace</th>\n      <td>142.000000</td>\n      <td>6816.400000</td>\n      <td>258</td>\n      <td>32</td>\n    </tr>\n    <tr>\n      <th>Bayside</th>\n      <td>157.948718</td>\n      <td>166106.470985</td>\n      <td>2600</td>\n      <td>30</td>\n    </tr>\n    <tr>\n      <th>Bayswater</th>\n      <td>87.470588</td>\n      <td>2330.889706</td>\n      <td>230</td>\n      <td>45</td>\n    </tr>\n  </tbody>\n</table>\n</div>",
      "text/plain": "                     mean            var    max  min\nneighbourhood                                       \nArverne        171.779221   37383.411141   1500   35\nAstoria        117.187778  122428.811196  10000   25\nBay Terrace    142.000000    6816.400000    258   32\nBayside        157.948718  166106.470985   2600   30\nBayswater       87.470588    2330.889706    230   45"
     },
     "execution_count": 280,
     "metadata": {},
     "output_type": "execute_result"
    }
   ],
   "source": [
    "# 데이터중 neighbourhood_group 값이 Queens값을 가지는 데이터들 중 neighbourhood 그룹별로 price값의 평균, 분산, 최대, 최소값을 구하라\n",
    "df.loc[df['neighbourhood_group'] == 'Queens'].groupby('neighbourhood').price.agg(['mean','var','max','min']).head()"
   ]
  },
  {
   "cell_type": "code",
   "execution_count": 337,
   "metadata": {},
   "outputs": [
    {
     "data": {
      "text/html": "<div>\n<style scoped>\n    .dataframe tbody tr th:only-of-type {\n        vertical-align: middle;\n    }\n\n    .dataframe tbody tr th {\n        vertical-align: top;\n    }\n\n    .dataframe thead th {\n        text-align: right;\n    }\n</style>\n<table border=\"1\" class=\"dataframe\">\n  <thead>\n    <tr style=\"text-align: right;\">\n      <th>room_type</th>\n      <th>Entire home/apt</th>\n      <th>Private room</th>\n      <th>Shared room</th>\n    </tr>\n    <tr>\n      <th>neighbourhood_group</th>\n      <th></th>\n      <th></th>\n      <th></th>\n    </tr>\n  </thead>\n  <tbody>\n    <tr>\n      <th>Bronx</th>\n      <td>0.347388</td>\n      <td>0.597617</td>\n      <td>0.054995</td>\n    </tr>\n    <tr>\n      <th>Brooklyn</th>\n      <td>0.475478</td>\n      <td>0.503979</td>\n      <td>0.020543</td>\n    </tr>\n    <tr>\n      <th>Manhattan</th>\n      <td>0.609344</td>\n      <td>0.368496</td>\n      <td>0.022160</td>\n    </tr>\n    <tr>\n      <th>Queens</th>\n      <td>0.369926</td>\n      <td>0.595129</td>\n      <td>0.034945</td>\n    </tr>\n    <tr>\n      <th>Staten Island</th>\n      <td>0.471850</td>\n      <td>0.504021</td>\n      <td>0.024129</td>\n    </tr>\n  </tbody>\n</table>\n</div>",
      "text/plain": "room_type            Entire home/apt  Private room  Shared room\nneighbourhood_group                                            \nBronx                       0.347388      0.597617     0.054995\nBrooklyn                    0.475478      0.503979     0.020543\nManhattan                   0.609344      0.368496     0.022160\nQueens                      0.369926      0.595129     0.034945\nStaten Island               0.471850      0.504021     0.024129"
     },
     "execution_count": 337,
     "metadata": {},
     "output_type": "execute_result"
    }
   ],
   "source": [
    "# 데이터중 neighbourhood_group 값에 따른 room_type 컬럼의 숫자를 구하고 neighbourhood_group 값을 기준으로 각 값의 비율을 구하여라\n",
    "a = df.groupby(['neighbourhood_group','room_type']).size().unstack()\n",
    "# print('집계 : ', a)\n",
    "# print('분자 : ', a.values)\n",
    "# print('분모 : ', a.sum(axis=1).values.reshape(-1,1))\n",
    "# print('최종 : ', (a.values / a.sum(axis=1).values.reshape(-1,1)))\n",
    "a.loc[:,:] = (a.values / a.sum(axis=1).values.reshape(-1,1))\n",
    "a"
   ]
  },
  {
   "cell_type": "code",
   "execution_count": 330,
   "metadata": {},
   "outputs": [
    {
     "data": {
      "text/plain": "array([[0, 1, 2, 3, 4],\n       [5, 6, 7, 8, 9]])"
     },
     "execution_count": 330,
     "metadata": {},
     "output_type": "execute_result"
    }
   ],
   "source": [
    "# reshape 함수 : numpy.darray의 차원과 모양을 바꿔준다.\n",
    "# reshape(d,n,p) : d는 차원, n은 행, p는 열\n",
    "# reshape에서 -1은 알아서 채워줘~ 의 의미인걸로 보임. 예를들어 1~10의 arange에 대해 reshape(-1,5)은 열이 5이고 이고 행은 자동이므로 한 2*5 배열을 생성함.\n",
    "# 단, -1을 행이나 열에 쓸때에는 총 합과 배열의 수가 맞아야함. 예를들어 arange숫자가 10개인데 reshape(-1,4)을 사용하게 되면 오류가 남.\n",
    "np.arange(10).reshape(-1,5)"
   ]
  },
  {
   "cell_type": "code",
   "execution_count": 10,
   "metadata": {},
   "outputs": [],
   "source": [
    "# kaggle 카드 이용 데이터\n",
    "df = pd.read_csv('https://raw.githubusercontent.com/Datamanim/pandas/main/BankChurnersUp.csv',index_col=0)"
   ]
  },
  {
   "cell_type": "code",
   "execution_count": 11,
   "metadata": {},
   "outputs": [
    {
     "name": "stdout",
     "output_type": "stream",
     "text": [
      "행의갯수 :  10127\n",
      "열의갯수 :  18\n"
     ]
    }
   ],
   "source": [
    "print('행의갯수 : ', df.shape[0])\n",
    "print('열의갯수 : ', df.shape[1])"
   ]
  },
  {
   "cell_type": "code",
   "execution_count": 12,
   "metadata": {},
   "outputs": [
    {
     "data": {
      "text/plain": "array(['c', 'a', 'd', 'b', 'e', 'N'], dtype=object)"
     },
     "execution_count": 12,
     "metadata": {},
     "output_type": "execute_result"
    }
   ],
   "source": [
    "# Income_Category의 카테고리를 map 함수를 이용하여 다음과 같이 변경하여 newIncome 컬럼에 매핑하라\n",
    "# Unknown : N\n",
    "# Less than $40K : a\n",
    "# $40K - $60K : b\n",
    "# $60K - $80K : c\n",
    "# $80K - $120K : d\n",
    "# $120K +’ : e\n",
    "\n",
    "dic = {\n",
    "    'Unknown'        : 'N',\n",
    "    'Less than $40K' : 'a',\n",
    "    '$40K - $60K'    : 'b',\n",
    "    '$60K - $80K'    : 'c',\n",
    "    '$80K - $120K'   : 'd',\n",
    "    '$120K +'       : 'e'\n",
    "}\n",
    "df['newIncome'] = df.Income_Category.map(lambda x: dic[x])\n",
    "df.newIncome.unique()"
   ]
  },
  {
   "cell_type": "code",
   "execution_count": 17,
   "metadata": {},
   "outputs": [
    {
     "data": {
      "text/html": "<div>\n<style scoped>\n    .dataframe tbody tr th:only-of-type {\n        vertical-align: middle;\n    }\n\n    .dataframe tbody tr th {\n        vertical-align: top;\n    }\n\n    .dataframe thead th {\n        text-align: right;\n    }\n</style>\n<table border=\"1\" class=\"dataframe\">\n  <thead>\n    <tr style=\"text-align: right;\">\n      <th></th>\n      <th>CLIENTNUM</th>\n      <th>Attrition_Flag</th>\n      <th>Customer_Age</th>\n      <th>Gender</th>\n      <th>Dependent_count</th>\n      <th>Education_Level</th>\n      <th>Marital_Status</th>\n      <th>Income_Category</th>\n      <th>Card_Category</th>\n      <th>Months_on_book</th>\n      <th>Total_Relationship_Count</th>\n      <th>Months_Inactive_12_mon</th>\n      <th>Contacts_Count_12_mon</th>\n      <th>Credit_Limit</th>\n      <th>Total_Revolving_Bal</th>\n      <th>Avg_Open_To_Buy</th>\n      <th>Total_Amt_Chng_Q4_Q1</th>\n      <th>Total_Trans_Amt</th>\n      <th>newIncome</th>\n    </tr>\n  </thead>\n  <tbody>\n    <tr>\n      <th>0</th>\n      <td>768805383</td>\n      <td>Existing Customer</td>\n      <td>45</td>\n      <td>M</td>\n      <td>3</td>\n      <td>High School</td>\n      <td>Married</td>\n      <td>$60K - $80K</td>\n      <td>Blue</td>\n      <td>39</td>\n      <td>5</td>\n      <td>1</td>\n      <td>3</td>\n      <td>12691.0</td>\n      <td>777</td>\n      <td>11914.0</td>\n      <td>1.335</td>\n      <td>1144</td>\n      <td>c</td>\n    </tr>\n    <tr>\n      <th>1</th>\n      <td>818770008</td>\n      <td>Existing Customer</td>\n      <td>49</td>\n      <td>F</td>\n      <td>5</td>\n      <td>Graduate</td>\n      <td>Single</td>\n      <td>Less than $40K</td>\n      <td>Blue</td>\n      <td>44</td>\n      <td>6</td>\n      <td>1</td>\n      <td>2</td>\n      <td>8256.0</td>\n      <td>864</td>\n      <td>7392.0</td>\n      <td>1.541</td>\n      <td>1291</td>\n      <td>a</td>\n    </tr>\n    <tr>\n      <th>2</th>\n      <td>713982108</td>\n      <td>Existing Customer</td>\n      <td>51</td>\n      <td>M</td>\n      <td>3</td>\n      <td>Graduate</td>\n      <td>Married</td>\n      <td>$80K - $120K</td>\n      <td>Blue</td>\n      <td>36</td>\n      <td>4</td>\n      <td>1</td>\n      <td>0</td>\n      <td>3418.0</td>\n      <td>0</td>\n      <td>3418.0</td>\n      <td>2.594</td>\n      <td>1887</td>\n      <td>d</td>\n    </tr>\n    <tr>\n      <th>3</th>\n      <td>769911858</td>\n      <td>Existing Customer</td>\n      <td>40</td>\n      <td>F</td>\n      <td>4</td>\n      <td>High School</td>\n      <td>Unknown</td>\n      <td>Less than $40K</td>\n      <td>Blue</td>\n      <td>34</td>\n      <td>3</td>\n      <td>4</td>\n      <td>1</td>\n      <td>3313.0</td>\n      <td>2517</td>\n      <td>796.0</td>\n      <td>1.405</td>\n      <td>1171</td>\n      <td>a</td>\n    </tr>\n    <tr>\n      <th>4</th>\n      <td>709106358</td>\n      <td>Existing Customer</td>\n      <td>40</td>\n      <td>M</td>\n      <td>3</td>\n      <td>Uneducated</td>\n      <td>Married</td>\n      <td>$60K - $80K</td>\n      <td>Blue</td>\n      <td>21</td>\n      <td>5</td>\n      <td>1</td>\n      <td>0</td>\n      <td>4716.0</td>\n      <td>0</td>\n      <td>4716.0</td>\n      <td>2.175</td>\n      <td>816</td>\n      <td>c</td>\n    </tr>\n  </tbody>\n</table>\n</div>",
      "text/plain": "   CLIENTNUM     Attrition_Flag  Customer_Age Gender  Dependent_count  \\\n0  768805383  Existing Customer            45      M                3   \n1  818770008  Existing Customer            49      F                5   \n2  713982108  Existing Customer            51      M                3   \n3  769911858  Existing Customer            40      F                4   \n4  709106358  Existing Customer            40      M                3   \n\n  Education_Level Marital_Status Income_Category Card_Category  \\\n0     High School        Married     $60K - $80K          Blue   \n1        Graduate         Single  Less than $40K          Blue   \n2        Graduate        Married    $80K - $120K          Blue   \n3     High School        Unknown  Less than $40K          Blue   \n4      Uneducated        Married     $60K - $80K          Blue   \n\n   Months_on_book  Total_Relationship_Count  Months_Inactive_12_mon  \\\n0              39                         5                       1   \n1              44                         6                       1   \n2              36                         4                       1   \n3              34                         3                       4   \n4              21                         5                       1   \n\n   Contacts_Count_12_mon  Credit_Limit  Total_Revolving_Bal  Avg_Open_To_Buy  \\\n0                      3       12691.0                  777          11914.0   \n1                      2        8256.0                  864           7392.0   \n2                      0        3418.0                    0           3418.0   \n3                      1        3313.0                 2517            796.0   \n4                      0        4716.0                    0           4716.0   \n\n   Total_Amt_Chng_Q4_Q1  Total_Trans_Amt newIncome  \n0                 1.335             1144         c  \n1                 1.541             1291         a  \n2                 2.594             1887         d  \n3                 1.405             1171         a  \n4                 2.175              816         c  "
     },
     "execution_count": 17,
     "metadata": {},
     "output_type": "execute_result"
    }
   ],
   "source": [
    "# Income_Category의 카테고리를 apply 함수를 이용하여 다음과 같이 변경하여 newIncome 컬럼에 매핑하라\n",
    "# Unknown : N\n",
    "# Less than $40K : a\n",
    "# $40K - $60K : b\n",
    "# $60K - $80K : c\n",
    "# $80K - $120K : d\n",
    "# $120K + : e\n",
    "\n",
    "def changeCategory(x) : \n",
    "    if x == 'Unknown':\n",
    "        return 'N'\n",
    "    elif x == 'Less than $40K':\n",
    "        return 'a'\n",
    "    elif x == '$40K - $60K':\n",
    "        return 'b'\n",
    "    elif x == '$60K - $80K':\n",
    "        return 'c'\n",
    "    elif x == '$80K - $120K':\n",
    "        return 'd'\n",
    "    elif x == '$120K +':\n",
    "        return 'e'\n",
    "\n",
    "df['newIncome'] = df.Income_Category.apply(changeCategory)\n",
    "df.head()"
   ]
  },
  {
   "cell_type": "code",
   "execution_count": 16,
   "metadata": {},
   "outputs": [
    {
     "data": {
      "text/html": "<div>\n<style scoped>\n    .dataframe tbody tr th:only-of-type {\n        vertical-align: middle;\n    }\n\n    .dataframe tbody tr th {\n        vertical-align: top;\n    }\n\n    .dataframe thead th {\n        text-align: right;\n    }\n</style>\n<table border=\"1\" class=\"dataframe\">\n  <thead>\n    <tr style=\"text-align: right;\">\n      <th></th>\n      <th>CLIENTNUM</th>\n      <th>Attrition_Flag</th>\n      <th>Customer_Age</th>\n      <th>Gender</th>\n      <th>Dependent_count</th>\n      <th>Education_Level</th>\n      <th>Marital_Status</th>\n      <th>Income_Category</th>\n      <th>Card_Category</th>\n      <th>Months_on_book</th>\n      <th>Total_Relationship_Count</th>\n      <th>Months_Inactive_12_mon</th>\n      <th>Contacts_Count_12_mon</th>\n      <th>Credit_Limit</th>\n      <th>Total_Revolving_Bal</th>\n      <th>Avg_Open_To_Buy</th>\n      <th>Total_Amt_Chng_Q4_Q1</th>\n      <th>Total_Trans_Amt</th>\n      <th>newIncome</th>\n    </tr>\n  </thead>\n  <tbody>\n    <tr>\n      <th>0</th>\n      <td>768805383</td>\n      <td>Existing Customer</td>\n      <td>45</td>\n      <td>M</td>\n      <td>3</td>\n      <td>High School</td>\n      <td>Married</td>\n      <td>$60K - $80K</td>\n      <td>Blue</td>\n      <td>39</td>\n      <td>5</td>\n      <td>1</td>\n      <td>3</td>\n      <td>12691.0</td>\n      <td>777</td>\n      <td>11914.0</td>\n      <td>1.335</td>\n      <td>1144</td>\n      <td>c</td>\n    </tr>\n    <tr>\n      <th>1</th>\n      <td>818770008</td>\n      <td>Existing Customer</td>\n      <td>49</td>\n      <td>F</td>\n      <td>5</td>\n      <td>Graduate</td>\n      <td>Single</td>\n      <td>Less than $40K</td>\n      <td>Blue</td>\n      <td>44</td>\n      <td>6</td>\n      <td>1</td>\n      <td>2</td>\n      <td>8256.0</td>\n      <td>864</td>\n      <td>7392.0</td>\n      <td>1.541</td>\n      <td>1291</td>\n      <td>a</td>\n    </tr>\n    <tr>\n      <th>2</th>\n      <td>713982108</td>\n      <td>Existing Customer</td>\n      <td>51</td>\n      <td>M</td>\n      <td>3</td>\n      <td>Graduate</td>\n      <td>Married</td>\n      <td>$80K - $120K</td>\n      <td>Blue</td>\n      <td>36</td>\n      <td>4</td>\n      <td>1</td>\n      <td>0</td>\n      <td>3418.0</td>\n      <td>0</td>\n      <td>3418.0</td>\n      <td>2.594</td>\n      <td>1887</td>\n      <td>d</td>\n    </tr>\n    <tr>\n      <th>3</th>\n      <td>769911858</td>\n      <td>Existing Customer</td>\n      <td>40</td>\n      <td>F</td>\n      <td>4</td>\n      <td>High School</td>\n      <td>Unknown</td>\n      <td>Less than $40K</td>\n      <td>Blue</td>\n      <td>34</td>\n      <td>3</td>\n      <td>4</td>\n      <td>1</td>\n      <td>3313.0</td>\n      <td>2517</td>\n      <td>796.0</td>\n      <td>1.405</td>\n      <td>1171</td>\n      <td>a</td>\n    </tr>\n    <tr>\n      <th>4</th>\n      <td>709106358</td>\n      <td>Existing Customer</td>\n      <td>40</td>\n      <td>M</td>\n      <td>3</td>\n      <td>Uneducated</td>\n      <td>Married</td>\n      <td>$60K - $80K</td>\n      <td>Blue</td>\n      <td>21</td>\n      <td>5</td>\n      <td>1</td>\n      <td>0</td>\n      <td>4716.0</td>\n      <td>0</td>\n      <td>4716.0</td>\n      <td>2.175</td>\n      <td>816</td>\n      <td>c</td>\n    </tr>\n  </tbody>\n</table>\n</div>",
      "text/plain": "   CLIENTNUM     Attrition_Flag  Customer_Age Gender  Dependent_count  \\\n0  768805383  Existing Customer            45      M                3   \n1  818770008  Existing Customer            49      F                5   \n2  713982108  Existing Customer            51      M                3   \n3  769911858  Existing Customer            40      F                4   \n4  709106358  Existing Customer            40      M                3   \n\n  Education_Level Marital_Status Income_Category Card_Category  \\\n0     High School        Married     $60K - $80K          Blue   \n1        Graduate         Single  Less than $40K          Blue   \n2        Graduate        Married    $80K - $120K          Blue   \n3     High School        Unknown  Less than $40K          Blue   \n4      Uneducated        Married     $60K - $80K          Blue   \n\n   Months_on_book  Total_Relationship_Count  Months_Inactive_12_mon  \\\n0              39                         5                       1   \n1              44                         6                       1   \n2              36                         4                       1   \n3              34                         3                       4   \n4              21                         5                       1   \n\n   Contacts_Count_12_mon  Credit_Limit  Total_Revolving_Bal  Avg_Open_To_Buy  \\\n0                      3       12691.0                  777          11914.0   \n1                      2        8256.0                  864           7392.0   \n2                      0        3418.0                    0           3418.0   \n3                      1        3313.0                 2517            796.0   \n4                      0        4716.0                    0           4716.0   \n\n   Total_Amt_Chng_Q4_Q1  Total_Trans_Amt newIncome  \n0                 1.335             1144         c  \n1                 1.541             1291         a  \n2                 2.594             1887         d  \n3                 1.405             1171         a  \n4                 2.175              816         c  "
     },
     "execution_count": 16,
     "metadata": {},
     "output_type": "execute_result"
    }
   ],
   "source": []
  },
  {
   "cell_type": "code",
   "execution_count": null,
   "metadata": {},
   "outputs": [],
   "source": []
  }
 ],
 "metadata": {
  "kernelspec": {
   "display_name": "Python 3 (ipykernel)",
   "language": "python",
   "name": "python3"
  },
  "language_info": {
   "codemirror_mode": {
    "name": "ipython",
    "version": 3
   },
   "file_extension": ".py",
   "mimetype": "text/x-python",
   "name": "python",
   "nbconvert_exporter": "python",
   "pygments_lexer": "ipython3",
   "version": "3.8.12"
  },
  "orig_nbformat": 2
 },
 "nbformat": 4,
 "nbformat_minor": 2
}