{
 "cells": [
  {
   "cell_type": "code",
   "execution_count": 1,
   "metadata": {},
   "outputs": [],
   "source": [
    "import pandas as pd\n",
    "import numpy as np"
   ]
  },
  {
   "cell_type": "code",
   "execution_count": 2,
   "metadata": {},
   "outputs": [],
   "source": [
    "# Q1. 데이터를 로드하라. 데이터는 \\t을 기준으로 구분되어있다.\n",
    "DataUrl = 'https://raw.githubusercontent.com/Datamanim/pandas/main/lol.csv'\n",
    "df = pd.read_csv(DataUrl,sep='\\t')"
   ]
  },
  {
   "cell_type": "code",
   "execution_count": 4,
   "metadata": {},
   "outputs": [
    {
     "data": {
      "text/plain": "pandas.core.frame.DataFrame"
     },
     "execution_count": 4,
     "metadata": {},
     "output_type": "execute_result"
    }
   ],
   "source": [
    "type(df)"
   ]
  },
  {
   "cell_type": "code",
   "execution_count": 5,
   "metadata": {},
   "outputs": [
    {
     "data": {
      "text/html": "<div>\n<style scoped>\n    .dataframe tbody tr th:only-of-type {\n        vertical-align: middle;\n    }\n\n    .dataframe tbody tr th {\n        vertical-align: top;\n    }\n\n    .dataframe thead th {\n        text-align: right;\n    }\n</style>\n<table border=\"1\" class=\"dataframe\">\n  <thead>\n    <tr style=\"text-align: right;\">\n      <th></th>\n      <th>gameId</th>\n      <th>creationTime</th>\n      <th>gameDuration</th>\n      <th>seasonId</th>\n      <th>winner</th>\n      <th>firstBlood</th>\n      <th>firstTower</th>\n      <th>firstInhibitor</th>\n      <th>firstBaron</th>\n      <th>firstDragon</th>\n      <th>...</th>\n      <th>t2_towerKills</th>\n      <th>t2_inhibitorKills</th>\n      <th>t2_baronKills</th>\n      <th>t2_dragonKills</th>\n      <th>t2_riftHeraldKills</th>\n      <th>t2_ban1</th>\n      <th>t2_ban2</th>\n      <th>t2_ban3</th>\n      <th>t2_ban4</th>\n      <th>t2_ban5</th>\n    </tr>\n  </thead>\n  <tbody>\n    <tr>\n      <th>0</th>\n      <td>3326086514</td>\n      <td>1504279457970</td>\n      <td>1949</td>\n      <td>9</td>\n      <td>1</td>\n      <td>2</td>\n      <td>1</td>\n      <td>1</td>\n      <td>1</td>\n      <td>1</td>\n      <td>...</td>\n      <td>5</td>\n      <td>0</td>\n      <td>0</td>\n      <td>1</td>\n      <td>1</td>\n      <td>114</td>\n      <td>67</td>\n      <td>43</td>\n      <td>16</td>\n      <td>51</td>\n    </tr>\n    <tr>\n      <th>1</th>\n      <td>3229566029</td>\n      <td>1497848803862</td>\n      <td>1851</td>\n      <td>9</td>\n      <td>1</td>\n      <td>1</td>\n      <td>1</td>\n      <td>1</td>\n      <td>0</td>\n      <td>1</td>\n      <td>...</td>\n      <td>2</td>\n      <td>0</td>\n      <td>0</td>\n      <td>0</td>\n      <td>0</td>\n      <td>11</td>\n      <td>67</td>\n      <td>238</td>\n      <td>51</td>\n      <td>420</td>\n    </tr>\n    <tr>\n      <th>2</th>\n      <td>3327363504</td>\n      <td>1504360103310</td>\n      <td>1493</td>\n      <td>9</td>\n      <td>1</td>\n      <td>2</td>\n      <td>1</td>\n      <td>1</td>\n      <td>1</td>\n      <td>2</td>\n      <td>...</td>\n      <td>2</td>\n      <td>0</td>\n      <td>0</td>\n      <td>1</td>\n      <td>0</td>\n      <td>157</td>\n      <td>238</td>\n      <td>121</td>\n      <td>57</td>\n      <td>28</td>\n    </tr>\n    <tr>\n      <th>3</th>\n      <td>3326856598</td>\n      <td>1504348503996</td>\n      <td>1758</td>\n      <td>9</td>\n      <td>1</td>\n      <td>1</td>\n      <td>1</td>\n      <td>1</td>\n      <td>1</td>\n      <td>1</td>\n      <td>...</td>\n      <td>0</td>\n      <td>0</td>\n      <td>0</td>\n      <td>0</td>\n      <td>0</td>\n      <td>164</td>\n      <td>18</td>\n      <td>141</td>\n      <td>40</td>\n      <td>51</td>\n    </tr>\n    <tr>\n      <th>4</th>\n      <td>3330080762</td>\n      <td>1504554410899</td>\n      <td>2094</td>\n      <td>9</td>\n      <td>1</td>\n      <td>2</td>\n      <td>1</td>\n      <td>1</td>\n      <td>1</td>\n      <td>1</td>\n      <td>...</td>\n      <td>3</td>\n      <td>0</td>\n      <td>0</td>\n      <td>1</td>\n      <td>0</td>\n      <td>86</td>\n      <td>11</td>\n      <td>201</td>\n      <td>122</td>\n      <td>18</td>\n    </tr>\n  </tbody>\n</table>\n<p>5 rows × 61 columns</p>\n</div>",
      "text/plain": "       gameId   creationTime  gameDuration  seasonId  winner  firstBlood  \\\n0  3326086514  1504279457970          1949         9       1           2   \n1  3229566029  1497848803862          1851         9       1           1   \n2  3327363504  1504360103310          1493         9       1           2   \n3  3326856598  1504348503996          1758         9       1           1   \n4  3330080762  1504554410899          2094         9       1           2   \n\n   firstTower  firstInhibitor  firstBaron  firstDragon  ...  t2_towerKills  \\\n0           1               1           1            1  ...              5   \n1           1               1           0            1  ...              2   \n2           1               1           1            2  ...              2   \n3           1               1           1            1  ...              0   \n4           1               1           1            1  ...              3   \n\n   t2_inhibitorKills  t2_baronKills  t2_dragonKills  t2_riftHeraldKills  \\\n0                  0              0               1                   1   \n1                  0              0               0                   0   \n2                  0              0               1                   0   \n3                  0              0               0                   0   \n4                  0              0               1                   0   \n\n   t2_ban1  t2_ban2  t2_ban3  t2_ban4  t2_ban5  \n0      114       67       43       16       51  \n1       11       67      238       51      420  \n2      157      238      121       57       28  \n3      164       18      141       40       51  \n4       86       11      201      122       18  \n\n[5 rows x 61 columns]"
     },
     "execution_count": 5,
     "metadata": {},
     "output_type": "execute_result"
    }
   ],
   "source": [
    "# Q2. 데이터의 상위 5개 행을 출력하라\n",
    "df.head()"
   ]
  },
  {
   "cell_type": "code",
   "execution_count": 18,
   "metadata": {},
   "outputs": [
    {
     "name": "stdout",
     "output_type": "stream",
     "text": [
      "행 :  51490\n",
      "열 :  61\n"
     ]
    }
   ],
   "source": [
    "# Q3. 데이터의 행과 열의 갯수를 파악하라\n",
    "print('행 : ',df.shape[0])\n",
    "print('열 : ',df.shape[1])"
   ]
  },
  {
   "cell_type": "code",
   "execution_count": 20,
   "metadata": {},
   "outputs": [
    {
     "name": "stdout",
     "output_type": "stream",
     "text": [
      "Index(['gameId', 'creationTime', 'gameDuration', 'seasonId', 'winner',\n",
      "       'firstBlood', 'firstTower', 'firstInhibitor', 'firstBaron',\n",
      "       'firstDragon', 'firstRiftHerald', 't1_champ1id', 't1_champ1_sum1',\n",
      "       't1_champ1_sum2', 't1_champ2id', 't1_champ2_sum1', 't1_champ2_sum2',\n",
      "       't1_champ3id', 't1_champ3_sum1', 't1_champ3_sum2', 't1_champ4id',\n",
      "       't1_champ4_sum1', 't1_champ4_sum2', 't1_champ5id', 't1_champ5_sum1',\n",
      "       't1_champ5_sum2', 't1_towerKills', 't1_inhibitorKills', 't1_baronKills',\n",
      "       't1_dragonKills', 't1_riftHeraldKills', 't1_ban1', 't1_ban2', 't1_ban3',\n",
      "       't1_ban4', 't1_ban5', 't2_champ1id', 't2_champ1_sum1', 't2_champ1_sum2',\n",
      "       't2_champ2id', 't2_champ2_sum1', 't2_champ2_sum2', 't2_champ3id',\n",
      "       't2_champ3_sum1', 't2_champ3_sum2', 't2_champ4id', 't2_champ4_sum1',\n",
      "       't2_champ4_sum2', 't2_champ5id', 't2_champ5_sum1', 't2_champ5_sum2',\n",
      "       't2_towerKills', 't2_inhibitorKills', 't2_baronKills', 't2_dragonKills',\n",
      "       't2_riftHeraldKills', 't2_ban1', 't2_ban2', 't2_ban3', 't2_ban4',\n",
      "       't2_ban5'],\n",
      "      dtype='object')\n"
     ]
    }
   ],
   "source": [
    "# Q4. 전체 컬럼을 출력하라\n",
    "print(df.columns)"
   ]
  },
  {
   "cell_type": "code",
   "execution_count": null,
   "metadata": {},
   "outputs": [],
   "source": []
  }
 ],
 "metadata": {
  "kernelspec": {
   "display_name": "Python 3 (ipykernel)",
   "name": "python3"
  },
  "language_info": {
   "codemirror_mode": {
    "name": "ipython",
    "version": 3
   },
   "file_extension": ".py",
   "mimetype": "text/x-python",
   "name": "python",
   "nbconvert_exporter": "python",
   "pygments_lexer": "ipython3",
   "version": "3.8.12"
  },
  "orig_nbformat": 2
 },
 "nbformat": 4,
 "nbformat_minor": 2
}